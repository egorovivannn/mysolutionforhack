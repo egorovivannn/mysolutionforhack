{
 "cells": [
  {
   "cell_type": "code",
   "execution_count": 1,
   "id": "870c8e4a",
   "metadata": {},
   "outputs": [],
   "source": [
    "import numpy as np\n",
    "import glob\n",
    "import pandas as pd\n",
    "from PIL import Image\n",
    "import cv2\n",
    "from tqdm import tqdm\n",
    "import os\n",
    "import matplotlib.pyplot as plt"
   ]
  },
  {
   "cell_type": "code",
   "execution_count": null,
   "id": "4508e9a1-7c86-4d0e-ab59-9070b4fd4551",
   "metadata": {},
   "outputs": [],
   "source": [
    "PATH2DATASET = '/mnt/SSD/workspace/atomic_hack/Сварные_швы/dataset/'"
   ]
  },
  {
   "cell_type": "code",
   "execution_count": 2,
   "id": "8d0e73ff",
   "metadata": {},
   "outputs": [],
   "source": [
    "images = glob.glob(f'{PATH2DATASET}/*jpg')"
   ]
  },
  {
   "cell_type": "code",
   "execution_count": 4,
   "id": "8c0dd820",
   "metadata": {},
   "outputs": [],
   "source": [
    "idx2label = {\n",
    "    0: 'прилегающие дефекты', \n",
    "    1: 'дефекты целостности',\n",
    "    2: 'дефекты геометрии',\n",
    "    3: 'дефекты постобработки',\n",
    "    4: 'дефекты невыполнения'\n",
    "}"
   ]
  },
  {
   "cell_type": "code",
   "execution_count": 5,
   "id": "5cda06a0",
   "metadata": {},
   "outputs": [
    {
     "data": {
      "text/html": [
       "<div>\n",
       "<style scoped>\n",
       "    .dataframe tbody tr th:only-of-type {\n",
       "        vertical-align: middle;\n",
       "    }\n",
       "\n",
       "    .dataframe tbody tr th {\n",
       "        vertical-align: top;\n",
       "    }\n",
       "\n",
       "    .dataframe thead th {\n",
       "        text-align: right;\n",
       "    }\n",
       "</style>\n",
       "<table border=\"1\" class=\"dataframe\">\n",
       "  <thead>\n",
       "    <tr style=\"text-align: right;\">\n",
       "      <th></th>\n",
       "      <th>fname</th>\n",
       "      <th>x_center</th>\n",
       "      <th>y_center</th>\n",
       "      <th>width</th>\n",
       "      <th>height</th>\n",
       "      <th>x1</th>\n",
       "      <th>y1</th>\n",
       "      <th>x2</th>\n",
       "      <th>y2</th>\n",
       "      <th>label_idx</th>\n",
       "      <th>label</th>\n",
       "    </tr>\n",
       "  </thead>\n",
       "  <tbody>\n",
       "  </tbody>\n",
       "</table>\n",
       "</div>"
      ],
      "text/plain": [
       "Empty DataFrame\n",
       "Columns: [fname, x_center, y_center, width, height, x1, y1, x2, y2, label_idx, label]\n",
       "Index: []"
      ]
     },
     "execution_count": 5,
     "metadata": {},
     "output_type": "execute_result"
    }
   ],
   "source": [
    "df = pd.DataFrame(columns=['fname', 'x_center', 'y_center', 'width', 'height', 'x1', 'y1', 'x2', 'y2', 'label_idx', 'label'])\n",
    "df"
   ]
  },
  {
   "cell_type": "code",
   "execution_count": 6,
   "id": "62e175d7",
   "metadata": {},
   "outputs": [
    {
     "name": "stderr",
     "output_type": "stream",
     "text": [
      "100%|███████████████████████████████████████| 1162/1162 [01:24<00:00, 13.77it/s]\n"
     ]
    }
   ],
   "source": [
    "for image_path in tqdm(images):\n",
    "    fname = os.path.basename(image_path)\n",
    "    img = cv2.imread(image_path)\n",
    "    h, w, _ = img.shape\n",
    "    label_path = image_path.replace('jpg', 'txt')\n",
    "    \n",
    "    with open(label_path) as f:\n",
    "        labels = f.readlines()\n",
    "    \n",
    "    for label_data in labels:\n",
    "        label_idx, x_center, y_center, width, height = [float(i) for i in label_data.split()]\n",
    "        label_idx = int(label_idx)\n",
    "        label = idx2label[label_idx]\n",
    "        x1 = x_center - (width / 2)\n",
    "        y1 = y_center - (height / 2)\n",
    "        x2 = x1 + width\n",
    "        y2 = y1 + height\n",
    "\n",
    "        x1 = int(x1*w)\n",
    "        x2 = int(x2*w)    \n",
    "        y1 = int(y1*h)    \n",
    "        y2 = int(y2*h)  \n",
    "        \n",
    "        df.loc[len(df)] = [fname, x_center, y_center, width, height, x1, y1, x2, y2, label_idx, label]"
   ]
  },
  {
   "cell_type": "code",
   "execution_count": 12,
   "id": "74f04333-76d4-4b10-a3f1-ed11f57b9a44",
   "metadata": {},
   "outputs": [],
   "source": [
    "df['group'] = df['fname'].apply(lambda x: os.path.basename(x).split()[0])\n",
    "# df['fname'] = df['fname'].apply(lambda x: '/mnt/SSD/workspace/atomic_hack/Сварные_швы/dataset/'+x)"
   ]
  },
  {
   "cell_type": "code",
   "execution_count": 14,
   "id": "a505df44-464e-4902-85d0-0b706d5fbf8a",
   "metadata": {},
   "outputs": [],
   "source": [
    "df['frame'] = df['fname'].apply(lambda x: int(os.path.basename(x).split()[1].split(')')[0].replace('(', '')))"
   ]
  },
  {
   "cell_type": "code",
   "execution_count": 12,
   "id": "04bfbe77-e001-4f61-a4c0-8638869971b2",
   "metadata": {},
   "outputs": [
    {
     "name": "stdout",
     "output_type": "stream",
     "text": [
      "group = 8 label_idx\n",
      "2    183\n",
      "3     72\n",
      "Name: count, dtype: int64\n",
      "\n",
      "group = 11 label_idx\n",
      "2    84\n",
      "Name: count, dtype: int64\n",
      "\n",
      "group = 6 label_idx\n",
      "2    97\n",
      "3    19\n",
      "1    11\n",
      "Name: count, dtype: int64\n",
      "\n",
      "group = 4 label_idx\n",
      "0    351\n",
      "2    124\n",
      "1     56\n",
      "3     45\n",
      "4     26\n",
      "Name: count, dtype: int64\n",
      "\n",
      "group = 5 label_idx\n",
      "0    393\n",
      "2    198\n",
      "1     72\n",
      "4     51\n",
      "3     48\n",
      "Name: count, dtype: int64\n",
      "\n",
      "group = 7 label_idx\n",
      "0    568\n",
      "2    299\n",
      "1    134\n",
      "4    104\n",
      "3     68\n",
      "Name: count, dtype: int64\n",
      "\n",
      "group = 9 label_idx\n",
      "2    53\n",
      "3    26\n",
      "1    19\n",
      "Name: count, dtype: int64\n",
      "\n",
      "group = 12 label_idx\n",
      "1    94\n",
      "4    14\n",
      "Name: count, dtype: int64\n",
      "\n",
      "group = 2 label_idx\n",
      "0    62\n",
      "Name: count, dtype: int64\n",
      "\n",
      "group = 3 label_idx\n",
      "0    21\n",
      "2    18\n",
      "4    10\n",
      "3     9\n",
      "Name: count, dtype: int64\n",
      "\n",
      "group = 1 label_idx\n",
      "0    87\n",
      "2     7\n",
      "1     2\n",
      "Name: count, dtype: int64\n",
      "\n"
     ]
    }
   ],
   "source": [
    "for i in df['group'].unique():\n",
    "    print(f'group = {i}', df[df['group']==i].value_counts('label_idx'))\n",
    "    print()"
   ]
  },
  {
   "cell_type": "code",
   "execution_count": 22,
   "id": "243a514f-0b4e-4f67-9eb0-0f7a2326aa6d",
   "metadata": {},
   "outputs": [],
   "source": [
    "val_df = df[df['group']=='5']"
   ]
  },
  {
   "cell_type": "code",
   "execution_count": 23,
   "id": "45f81f5f-d476-4eba-8ba5-6964a6b6d9b2",
   "metadata": {},
   "outputs": [],
   "source": [
    "val_df = val_df[(val_df['frame']>=107) & (val_df['frame']<=223)]"
   ]
  },
  {
   "cell_type": "code",
   "execution_count": 24,
   "id": "0ab0b50a-967e-4e89-b4fc-502f452ecb1f",
   "metadata": {},
   "outputs": [
    {
     "data": {
      "text/plain": [
       "label_idx\n",
       "0    286\n",
       "2    118\n",
       "4     40\n",
       "1     35\n",
       "3     22\n",
       "Name: count, dtype: int64"
      ]
     },
     "execution_count": 24,
     "metadata": {},
     "output_type": "execute_result"
    }
   ],
   "source": [
    "val_df.value_counts('label_idx')"
   ]
  },
  {
   "cell_type": "code",
   "execution_count": 28,
   "id": "8b3f47c2-4221-411f-b21b-8b36476a8060",
   "metadata": {},
   "outputs": [],
   "source": [
    "df['split'] = 'train'"
   ]
  },
  {
   "cell_type": "code",
   "execution_count": 29,
   "id": "0e5624a3-c98e-460d-83e5-6dcb21e17d8a",
   "metadata": {},
   "outputs": [],
   "source": [
    "df.loc[val_df.index, 'split'] = 'val'"
   ]
  },
  {
   "cell_type": "code",
   "execution_count": 30,
   "id": "0c0bec46-59eb-456a-84e6-173fd48c6b48",
   "metadata": {},
   "outputs": [
    {
     "data": {
      "text/plain": [
       "split\n",
       "train    2924\n",
       "val       501\n",
       "Name: count, dtype: int64"
      ]
     },
     "execution_count": 30,
     "metadata": {},
     "output_type": "execute_result"
    }
   ],
   "source": [
    "df.value_counts('split')"
   ]
  },
  {
   "cell_type": "code",
   "execution_count": 31,
   "id": "0f79bae0-7ec3-40d4-b216-b052618ae20b",
   "metadata": {},
   "outputs": [],
   "source": [
    "df.to_csv('/mnt/SSD/workspace/atomic_hack/df.csv', index=False)"
   ]
  }
 ],
 "metadata": {
  "kernelspec": {
   "display_name": "Python 3 (ipykernel)",
   "language": "python",
   "name": "python3"
  },
  "language_info": {
   "codemirror_mode": {
    "name": "ipython",
    "version": 3
   },
   "file_extension": ".py",
   "mimetype": "text/x-python",
   "name": "python",
   "nbconvert_exporter": "python",
   "pygments_lexer": "ipython3",
   "version": "3.12.3"
  }
 },
 "nbformat": 4,
 "nbformat_minor": 5
}
