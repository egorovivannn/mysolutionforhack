{
 "cells": [
  {
   "cell_type": "code",
   "execution_count": 1,
   "id": "b7c3c41d-3982-4d8a-9f00-938d20be04f6",
   "metadata": {},
   "outputs": [],
   "source": [
    "from ultralytics import YOLO\n",
    "import pandas as pd\n",
    "import os"
   ]
  },
  {
   "cell_type": "code",
   "execution_count": 2,
   "id": "63714e81-a84d-46fa-820c-eb4e01e86abb",
   "metadata": {},
   "outputs": [],
   "source": [
    "yolo_model = YOLO('best.pt')"
   ]
  },
  {
   "cell_type": "code",
   "execution_count": 12,
   "id": "4793a016-0fb9-49ec-8ddc-e4acf4a2511b",
   "metadata": {},
   "outputs": [],
   "source": [
    "import albumentations as A\n",
    "import utilities\n",
    "import cv2\n",
    "import torch\n",
    "import torch.nn as nn\n",
    "import transformers\n",
    "from PIL import Image\n",
    "from torchvision import transforms\n",
    "import open_clip\n",
    "import torch.nn.functional as F\n",
    "import glob\n",
    "from tqdm import tqdm"
   ]
  },
  {
   "cell_type": "code",
   "execution_count": 4,
   "id": "bdd5aeac-4dee-48a0-9c9e-40a2b4d6e899",
   "metadata": {},
   "outputs": [],
   "source": [
    "class Head(nn.Module):\n",
    "    def __init__(self, hidden_size):\n",
    "        super(Head, self).__init__()\n",
    "\n",
    "        self.emb = nn.Linear(hidden_size, 512, bias=False)\n",
    "        self.arc = utilities.ArcMarginProduct_subcenter(512, 5)\n",
    "        self.dropout = utilities.Multisample_Dropout()\n",
    "\n",
    "    def forward(self, x):\n",
    "        embeddings = self.dropout(x, self.emb)\n",
    "        \n",
    "        output = self.arc(embeddings)\n",
    "\n",
    "        return output, F.normalize(embeddings)"
   ]
  },
  {
   "cell_type": "code",
   "execution_count": 5,
   "id": "4b0ee4a7-3e8d-4545-8ed8-53930bda3e53",
   "metadata": {},
   "outputs": [],
   "source": [
    "class Model(nn.Module):\n",
    "    def __init__(self, vit_backbone):\n",
    "        super(Model, self).__init__()\n",
    "\n",
    "        self.vit_backbone = vit_backbone\n",
    "        with torch.no_grad():\n",
    "            emb_size = vit_backbone(torch.randn(2, 3, image_size, image_size))[0].shape[1]\n",
    "        self.head = Head(emb_size)\n",
    "\n",
    "    def forward(self, images):\n",
    "        x = self.vit_backbone.encode_image(images)\n",
    "        \n",
    "        return self.head(x)\n"
   ]
  },
  {
   "cell_type": "code",
   "execution_count": 6,
   "id": "637eb021-2390-4d8a-9698-a7bca3c19675",
   "metadata": {},
   "outputs": [],
   "source": [
    "model_name = 'ViT-H-14-378-quickgelu'\n",
    "pretrained = 'dfn5b'\n",
    "device = 'cuda'"
   ]
  },
  {
   "cell_type": "code",
   "execution_count": 7,
   "id": "64584297-448a-4bf5-bcba-f6a4181ad9c4",
   "metadata": {},
   "outputs": [],
   "source": [
    "vit_backbone, model_transforms, _ = open_clip.create_model_and_transforms(model_name, pretrained=False)\n",
    "\n",
    "mean, std = model_transforms.transforms[-1].mean, model_transforms.transforms[-1].std\n",
    "image_size = model_transforms.transforms[0].size[0]\n",
    "\n",
    "model = Model(vit_backbone.cpu()).to(device)"
   ]
  },
  {
   "cell_type": "code",
   "execution_count": 8,
   "id": "90a9ab12-9db5-413d-ade7-9bc023bfdd1c",
   "metadata": {},
   "outputs": [
    {
     "data": {
      "text/plain": [
       "<All keys matched successfully>"
      ]
     },
     "execution_count": 8,
     "metadata": {},
     "output_type": "execute_result"
    }
   ],
   "source": [
    "model.load_state_dict(torch.load('/mnt/SSD/workspace/atomic_hack/ViT-H-14-378-quickgelu_dfn5b_0.7920078574145561.pth'))"
   ]
  },
  {
   "cell_type": "code",
   "execution_count": 9,
   "id": "aaa1d09f-be00-4ece-95cc-c775592df363",
   "metadata": {},
   "outputs": [
    {
     "data": {
      "text/plain": [
       "Model(\n",
       "  (vit_backbone): CLIP(\n",
       "    (visual): VisionTransformer(\n",
       "      (conv1): Conv2d(3, 1280, kernel_size=(14, 14), stride=(14, 14), bias=False)\n",
       "      (patch_dropout): Identity()\n",
       "      (ln_pre): LayerNorm((1280,), eps=1e-05, elementwise_affine=True)\n",
       "      (transformer): Transformer(\n",
       "        (resblocks): ModuleList(\n",
       "          (0-31): 32 x ResidualAttentionBlock(\n",
       "            (ln_1): LayerNorm((1280,), eps=1e-05, elementwise_affine=True)\n",
       "            (attn): MultiheadAttention(\n",
       "              (out_proj): NonDynamicallyQuantizableLinear(in_features=1280, out_features=1280, bias=True)\n",
       "            )\n",
       "            (ls_1): Identity()\n",
       "            (ln_2): LayerNorm((1280,), eps=1e-05, elementwise_affine=True)\n",
       "            (mlp): Sequential(\n",
       "              (c_fc): Linear(in_features=1280, out_features=5120, bias=True)\n",
       "              (gelu): QuickGELU()\n",
       "              (c_proj): Linear(in_features=5120, out_features=1280, bias=True)\n",
       "            )\n",
       "            (ls_2): Identity()\n",
       "          )\n",
       "        )\n",
       "      )\n",
       "      (ln_post): LayerNorm((1280,), eps=1e-05, elementwise_affine=True)\n",
       "    )\n",
       "    (transformer): Transformer(\n",
       "      (resblocks): ModuleList(\n",
       "        (0-23): 24 x ResidualAttentionBlock(\n",
       "          (ln_1): LayerNorm((1024,), eps=1e-05, elementwise_affine=True)\n",
       "          (attn): MultiheadAttention(\n",
       "            (out_proj): NonDynamicallyQuantizableLinear(in_features=1024, out_features=1024, bias=True)\n",
       "          )\n",
       "          (ls_1): Identity()\n",
       "          (ln_2): LayerNorm((1024,), eps=1e-05, elementwise_affine=True)\n",
       "          (mlp): Sequential(\n",
       "            (c_fc): Linear(in_features=1024, out_features=4096, bias=True)\n",
       "            (gelu): QuickGELU()\n",
       "            (c_proj): Linear(in_features=4096, out_features=1024, bias=True)\n",
       "          )\n",
       "          (ls_2): Identity()\n",
       "        )\n",
       "      )\n",
       "    )\n",
       "    (token_embedding): Embedding(49408, 1024)\n",
       "    (ln_final): LayerNorm((1024,), eps=1e-05, elementwise_affine=True)\n",
       "  )\n",
       "  (head): Head(\n",
       "    (emb): Linear(in_features=1024, out_features=512, bias=False)\n",
       "    (arc): ArcMarginProduct_subcenter()\n",
       "    (dropout): Multisample_Dropout(\n",
       "      (dropout): Dropout(p=0.1, inplace=False)\n",
       "      (dropouts): ModuleList(\n",
       "        (0): Dropout(p=0.1, inplace=False)\n",
       "        (1): Dropout(p=0.2, inplace=False)\n",
       "        (2): Dropout(p=0.30000000000000004, inplace=False)\n",
       "        (3): Dropout(p=0.4, inplace=False)\n",
       "        (4): Dropout(p=0.5, inplace=False)\n",
       "      )\n",
       "    )\n",
       "  )\n",
       ")"
      ]
     },
     "execution_count": 9,
     "metadata": {},
     "output_type": "execute_result"
    }
   ],
   "source": [
    "model.eval()"
   ]
  },
  {
   "cell_type": "code",
   "execution_count": 10,
   "id": "d2e7f4e4-7b10-4090-9b47-4467a7e7911a",
   "metadata": {},
   "outputs": [],
   "source": [
    "augs = A.Compose([\n",
    "            A.Resize(image_size, image_size),\n",
    "            A.Normalize(mean=mean, std=std, p=1)\n",
    "        ])"
   ]
  },
  {
   "cell_type": "code",
   "execution_count": 17,
   "id": "ea7d1287-04c6-4322-8d4d-1167be50398d",
   "metadata": {},
   "outputs": [],
   "source": [
    "fname = '/mnt/SSD/workspace/atomic_hack/Сварные_швы/dataset/5 (195).jpg'"
   ]
  },
  {
   "cell_type": "code",
   "execution_count": 18,
   "id": "17c325df-e0b8-40bd-985a-274b99d30830",
   "metadata": {},
   "outputs": [
    {
     "name": "stdout",
     "output_type": "stream",
     "text": [
      "\n",
      "image 1/1 /mnt/SSD/workspace/atomic_hack/Сварные_швы/dataset/5 (195).jpg: 576x1024 5 прилегающие дефектыs, 30.8ms\n",
      "Speed: 14.0ms preprocess, 30.8ms inference, 0.8ms postprocess per image at shape (1, 3, 576, 1024)\n"
     ]
    }
   ],
   "source": [
    "pred_bboxes = yolo_model(fname, conf=0.05, iou=0.3, augment=True)"
   ]
  },
  {
   "cell_type": "code",
   "execution_count": 19,
   "id": "640a1155-4daa-45e4-89a1-b385c7fd7c51",
   "metadata": {},
   "outputs": [],
   "source": [
    "img = pred_bboxes[0].orig_img\n",
    "img = cv2.cvtColor(img, cv2.COLOR_BGR2RGB)\n",
    "h, w, _ = img.shape"
   ]
  },
  {
   "cell_type": "code",
   "execution_count": 36,
   "id": "aec5d73d-a4de-49ba-82af-9f9bd5920708",
   "metadata": {},
   "outputs": [],
   "source": [
    "def plot_one_box(x, image, color=None, label=None, line_thickness=None):\n",
    "    # Plots one bounding box on image img\n",
    "    tl = line_thickness or round(\n",
    "        0.002 * (image.shape[0] + image.shape[1]) / 2) + 1  # line/font thickness\n",
    "    color = color or [random.randint(0, 255) for _ in range(3)]\n",
    "    c1, c2 = (int(x[0]), int(x[1])), (int(x[2]), int(x[3]))\n",
    "    cv2.rectangle(image, c1, c2, color, thickness=tl, lineType=cv2.LINE_AA)\n",
    "    if label:\n",
    "        tf = max(tl - 1, 1)  # font thickness\n",
    "        t_size = cv2.getTextSize(label, 0, fontScale=tl / 3, thickness=tf)[0]\n",
    "        c2 = c1[0] + t_size[0], c1[1] - t_size[1] - 3\n",
    "        cv2.rectangle(image, c1, c2, color, -1, cv2.LINE_AA)  # filled\n",
    "        cv2.putText(image, label, (c1[0], c1[1] - 2), cv2.FONT_HERSHEY_COMPLEX, tl / 3,\n",
    "                    [225, 255, 255], thickness=tf, lineType=cv2.LINE_AA)"
   ]
  },
  {
   "cell_type": "code",
   "execution_count": 37,
   "id": "239c74f1-666c-4512-b8b1-36dbf2790f74",
   "metadata": {},
   "outputs": [],
   "source": [
    "idx2label = {\n",
    "    0: 'прилегающие дефекты', \n",
    "    1: 'дефекты целостности',\n",
    "    2: 'дефекты геометрии',\n",
    "    3: 'дефекты постобработки',\n",
    "    4: 'дефекты невыполнения'\n",
    "}"
   ]
  },
  {
   "cell_type": "code",
   "execution_count": 38,
   "id": "34e69575-9dec-490c-a1a4-b4b898f7d050",
   "metadata": {},
   "outputs": [],
   "source": [
    "if len(pred_bboxes[0].boxes.cls)==0:\n",
    "    print('Нет деффектов')\n",
    "else:\n",
    "    imgs = []\n",
    "    for bbox in pred_bboxes[0].boxes.xyxy:\n",
    "        x1, y1, x2, y2 = bbox.cpu().tolist()\n",
    "        x1_ = int(x1 // 1.2)\n",
    "        y1_ = int(y1 // 1.2)\n",
    "        x2_ = int(x2 * 1.2)\n",
    "        y2_ = int(y2 * 1.2)       \n",
    "        crop = img[y1_:y2_, x1_:x2_, :]\n",
    "        crop = augs(image=crop)['image']\n",
    "        crop = torch.from_numpy(crop).permute(2, 0, 1)\n",
    "        imgs.append(crop)\n",
    "    batch = torch.stack(imgs)\n",
    "    \n",
    "    with torch.no_grad():\n",
    "        preds = model(batch.to(device))[0]\n",
    "        preds = preds.cpu().detach().numpy().argmax(1)\n",
    "\n",
    "    for bbox, pred in zip(pred_bboxes[0].boxes.xyxy, preds):\n",
    "        plot_one_box(bbox.cpu().tolist(), img, color=(255, 0, 0), label=idx2label[pred])\n",
    "\n",
    "    \n",
    "    ans = {}\n",
    "    for idx, bbox in enumerate(pred_bboxes[0].boxes.xywh):\n",
    "        rel_x, rel_y, w_bbox, h_bbox = bbox.cpu().tolist()\n",
    "        ans[idx] = {\n",
    "            'filename': os.path.basename(fname),\n",
    "            'rel_x': rel_x / w,\n",
    "            'rel_y': rel_y / h,\n",
    "            'w': w_bbox / w,\n",
    "            'h': h_bbox / h,\n",
    "            'class_id': preds[idx],\n",
    "            \n",
    "        }\n",
    "    ans['img'] = img"
   ]
  },
  {
   "cell_type": "code",
   "execution_count": null,
   "id": "5beb38b8-3cd5-4632-8518-0d7b84ac7139",
   "metadata": {},
   "outputs": [],
   "source": []
  },
  {
   "cell_type": "code",
   "execution_count": 110,
   "id": "8be87409-bba1-4722-a48f-adf79d628bbf",
   "metadata": {},
   "outputs": [],
   "source": [
    "python3.11 -m venv myvenv\n",
    "source activate myvenv/bin/activate\n",
    "pip install -r requirements.txt\n",
    "python python src/main.py"
   ]
  },
  {
   "cell_type": "code",
   "execution_count": 31,
   "id": "55a5fcac-6ae1-4f1e-b75c-44b91abfc4dc",
   "metadata": {},
   "outputs": [],
   "source": []
  },
  {
   "cell_type": "code",
   "execution_count": 21,
   "id": "1569fddb-0249-4ba0-89d5-ec139cb4a0c7",
   "metadata": {},
   "outputs": [],
   "source": []
  },
  {
   "cell_type": "code",
   "execution_count": 16,
   "id": "f3c02b6f-6faf-4df1-9fc1-9975d42bc312",
   "metadata": {},
   "outputs": [
    {
     "name": "stderr",
     "output_type": "stream",
     "text": [
      "  0%|                                                  | 0/1162 [00:00<?, ?it/s]"
     ]
    },
    {
     "name": "stdout",
     "output_type": "stream",
     "text": [
      "\n",
      "image 1/1 /mnt/SSD/workspace/atomic_hack/Сварные_швы/dataset/8 (63).jpg: 1024x576 2 прилегающие дефектыs, 28.7ms\n",
      "Speed: 16.8ms preprocess, 28.7ms inference, 0.8ms postprocess per image at shape (1, 3, 1024, 576)\n"
     ]
    },
    {
     "name": "stderr",
     "output_type": "stream",
     "text": [
      "  0%|                                          | 1/1162 [00:00<04:53,  3.95it/s]"
     ]
    },
    {
     "name": "stdout",
     "output_type": "stream",
     "text": [
      "\n",
      "image 1/1 /mnt/SSD/workspace/atomic_hack/Сварные_швы/dataset/11 (79).jpg: 1024x576 1 прилегающие дефекты, 24.5ms\n",
      "Speed: 3.4ms preprocess, 24.5ms inference, 1.4ms postprocess per image at shape (1, 3, 1024, 576)\n"
     ]
    },
    {
     "name": "stderr",
     "output_type": "stream",
     "text": [
      "  0%|                                          | 2/1162 [00:00<03:42,  5.21it/s]"
     ]
    },
    {
     "name": "stdout",
     "output_type": "stream",
     "text": [
      "\n",
      "image 1/1 /mnt/SSD/workspace/atomic_hack/Сварные_швы/dataset/6 (94).jpg: 1024x576 2 прилегающие дефектыs, 21.5ms\n",
      "Speed: 2.9ms preprocess, 21.5ms inference, 0.7ms postprocess per image at shape (1, 3, 1024, 576)\n"
     ]
    },
    {
     "name": "stderr",
     "output_type": "stream",
     "text": [
      "  0%|                                          | 3/1162 [00:00<04:13,  4.57it/s]"
     ]
    },
    {
     "name": "stdout",
     "output_type": "stream",
     "text": [
      "\n",
      "image 1/1 /mnt/SSD/workspace/atomic_hack/Сварные_швы/dataset/4 (133).jpg: 576x1024 8 прилегающие дефектыs, 21.3ms\n",
      "Speed: 2.7ms preprocess, 21.3ms inference, 0.7ms postprocess per image at shape (1, 3, 576, 1024)\n"
     ]
    },
    {
     "name": "stderr",
     "output_type": "stream",
     "text": [
      "  0%|▏                                         | 4/1162 [00:01<06:49,  2.83it/s]"
     ]
    },
    {
     "name": "stdout",
     "output_type": "stream",
     "text": [
      "\n",
      "image 1/1 /mnt/SSD/workspace/atomic_hack/Сварные_швы/dataset/5 (195).jpg: 576x1024 5 прилегающие дефектыs, 21.4ms\n",
      "Speed: 2.8ms preprocess, 21.4ms inference, 0.7ms postprocess per image at shape (1, 3, 576, 1024)\n"
     ]
    },
    {
     "name": "stderr",
     "output_type": "stream",
     "text": [
      "  0%|▏                                         | 5/1162 [00:01<07:03,  2.73it/s]"
     ]
    },
    {
     "name": "stdout",
     "output_type": "stream",
     "text": [
      "\n",
      "image 1/1 /mnt/SSD/workspace/atomic_hack/Сварные_швы/dataset/5 (216).jpg: 576x1024 7 прилегающие дефектыs, 21.2ms\n",
      "Speed: 2.7ms preprocess, 21.2ms inference, 0.7ms postprocess per image at shape (1, 3, 576, 1024)\n"
     ]
    },
    {
     "name": "stderr",
     "output_type": "stream",
     "text": [
      "  1%|▏                                         | 6/1162 [00:02<08:15,  2.33it/s]"
     ]
    },
    {
     "name": "stdout",
     "output_type": "stream",
     "text": [
      "\n",
      "image 1/1 /mnt/SSD/workspace/atomic_hack/Сварные_швы/dataset/7 (182).jpg: 1024x576 6 прилегающие дефектыs, 19.9ms\n",
      "Speed: 3.0ms preprocess, 19.9ms inference, 0.7ms postprocess per image at shape (1, 3, 1024, 576)\n"
     ]
    },
    {
     "name": "stderr",
     "output_type": "stream",
     "text": [
      "  1%|▎                                         | 7/1162 [00:02<08:20,  2.31it/s]"
     ]
    },
    {
     "name": "stdout",
     "output_type": "stream",
     "text": [
      "\n",
      "image 1/1 /mnt/SSD/workspace/atomic_hack/Сварные_швы/dataset/7 (32).jpg: 1024x576 13 прилегающие дефектыs, 19.9ms\n",
      "Speed: 2.7ms preprocess, 19.9ms inference, 0.7ms postprocess per image at shape (1, 3, 1024, 576)\n"
     ]
    },
    {
     "name": "stderr",
     "output_type": "stream",
     "text": [
      "  1%|▎                                         | 8/1162 [00:03<10:55,  1.76it/s]"
     ]
    },
    {
     "name": "stdout",
     "output_type": "stream",
     "text": [
      "\n",
      "image 1/1 /mnt/SSD/workspace/atomic_hack/Сварные_швы/dataset/5 (87).jpg: 576x1024 3 прилегающие дефектыs, 69.7ms\n",
      "Speed: 2.9ms preprocess, 69.7ms inference, 0.7ms postprocess per image at shape (1, 3, 576, 1024)\n"
     ]
    },
    {
     "name": "stderr",
     "output_type": "stream",
     "text": [
      "  1%|▎                                         | 9/1162 [00:03<09:24,  2.04it/s]"
     ]
    },
    {
     "name": "stdout",
     "output_type": "stream",
     "text": [
      "\n",
      "image 1/1 /mnt/SSD/workspace/atomic_hack/Сварные_швы/dataset/9 (45).jpg: 1024x576 1 прилегающие дефекты, 20.6ms\n",
      "Speed: 2.8ms preprocess, 20.6ms inference, 0.7ms postprocess per image at shape (1, 3, 1024, 576)\n"
     ]
    },
    {
     "name": "stderr",
     "output_type": "stream",
     "text": [
      "  1%|▎                                        | 10/1162 [00:03<07:16,  2.64it/s]"
     ]
    },
    {
     "name": "stdout",
     "output_type": "stream",
     "text": [
      "\n",
      "image 1/1 /mnt/SSD/workspace/atomic_hack/Сварные_швы/dataset/12 (3).jpg: 1024x576 2 прилегающие дефектыs, 20.6ms\n",
      "Speed: 2.8ms preprocess, 20.6ms inference, 0.7ms postprocess per image at shape (1, 3, 1024, 576)\n"
     ]
    },
    {
     "name": "stderr",
     "output_type": "stream",
     "text": [
      "  1%|▍                                        | 11/1162 [00:04<06:14,  3.07it/s]"
     ]
    },
    {
     "name": "stdout",
     "output_type": "stream",
     "text": [
      "\n",
      "image 1/1 /mnt/SSD/workspace/atomic_hack/Сварные_швы/dataset/4 (51).jpg: 576x1024 2 прилегающие дефектыs, 25.1ms\n",
      "Speed: 6.1ms preprocess, 25.1ms inference, 0.8ms postprocess per image at shape (1, 3, 576, 1024)\n"
     ]
    },
    {
     "name": "stderr",
     "output_type": "stream",
     "text": [
      "  1%|▍                                        | 12/1162 [00:04<05:33,  3.45it/s]"
     ]
    },
    {
     "name": "stdout",
     "output_type": "stream",
     "text": [
      "\n",
      "image 1/1 /mnt/SSD/workspace/atomic_hack/Сварные_швы/dataset/8 (70).jpg: 1024x576 3 прилегающие дефектыs, 21.0ms\n",
      "Speed: 2.9ms preprocess, 21.0ms inference, 0.7ms postprocess per image at shape (1, 3, 1024, 576)\n"
     ]
    },
    {
     "name": "stderr",
     "output_type": "stream",
     "text": [
      "  1%|▍                                        | 13/1162 [00:04<05:24,  3.54it/s]"
     ]
    },
    {
     "name": "stdout",
     "output_type": "stream",
     "text": [
      "\n",
      "image 1/1 /mnt/SSD/workspace/atomic_hack/Сварные_швы/dataset/5 (131).jpg: 576x1024 6 прилегающие дефектыs, 22.0ms\n",
      "Speed: 2.8ms preprocess, 22.0ms inference, 0.7ms postprocess per image at shape (1, 3, 576, 1024)\n"
     ]
    },
    {
     "name": "stderr",
     "output_type": "stream",
     "text": [
      "  1%|▍                                        | 14/1162 [00:05<06:39,  2.88it/s]"
     ]
    },
    {
     "name": "stdout",
     "output_type": "stream",
     "text": [
      "\n",
      "image 1/1 /mnt/SSD/workspace/atomic_hack/Сварные_швы/dataset/5 (224).jpg: 576x1024 5 прилегающие дефектыs, 21.3ms\n",
      "Speed: 2.9ms preprocess, 21.3ms inference, 0.7ms postprocess per image at shape (1, 3, 576, 1024)\n"
     ]
    },
    {
     "name": "stderr",
     "output_type": "stream",
     "text": [
      "  1%|▌                                        | 15/1162 [00:05<06:52,  2.78it/s]"
     ]
    },
    {
     "name": "stdout",
     "output_type": "stream",
     "text": [
      "\n",
      "image 1/1 /mnt/SSD/workspace/atomic_hack/Сварные_швы/dataset/5 (193).jpg: 576x1024 5 прилегающие дефектыs, 21.8ms\n",
      "Speed: 2.7ms preprocess, 21.8ms inference, 0.7ms postprocess per image at shape (1, 3, 576, 1024)\n"
     ]
    },
    {
     "name": "stderr",
     "output_type": "stream",
     "text": [
      "  1%|▌                                        | 16/1162 [00:05<07:02,  2.71it/s]"
     ]
    },
    {
     "name": "stdout",
     "output_type": "stream",
     "text": [
      "\n",
      "image 1/1 /mnt/SSD/workspace/atomic_hack/Сварные_швы/dataset/5 (28).jpg: 576x1024 7 прилегающие дефектыs, 71.1ms\n",
      "Speed: 3.0ms preprocess, 71.1ms inference, 0.7ms postprocess per image at shape (1, 3, 576, 1024)\n"
     ]
    },
    {
     "name": "stderr",
     "output_type": "stream",
     "text": [
      "  1%|▌                                        | 17/1162 [00:06<08:04,  2.36it/s]"
     ]
    },
    {
     "name": "stdout",
     "output_type": "stream",
     "text": [
      "\n",
      "image 1/1 /mnt/SSD/workspace/atomic_hack/Сварные_швы/dataset/4 (34).jpg: 576x1024 7 прилегающие дефектыs, 22.2ms\n",
      "Speed: 2.7ms preprocess, 22.2ms inference, 0.7ms postprocess per image at shape (1, 3, 576, 1024)\n"
     ]
    },
    {
     "name": "stderr",
     "output_type": "stream",
     "text": [
      "  2%|▋                                        | 18/1162 [00:06<08:47,  2.17it/s]"
     ]
    },
    {
     "name": "stdout",
     "output_type": "stream",
     "text": [
      "\n",
      "image 1/1 /mnt/SSD/workspace/atomic_hack/Сварные_швы/dataset/7 (93).jpg: 1024x576 10 прилегающие дефектыs, 20.9ms\n",
      "Speed: 2.9ms preprocess, 20.9ms inference, 0.7ms postprocess per image at shape (1, 3, 1024, 576)\n"
     ]
    },
    {
     "name": "stderr",
     "output_type": "stream",
     "text": [
      "  2%|▋                                        | 19/1162 [00:07<10:05,  1.89it/s]"
     ]
    },
    {
     "name": "stdout",
     "output_type": "stream",
     "text": [
      "\n",
      "image 1/1 /mnt/SSD/workspace/atomic_hack/Сварные_швы/dataset/4 (123).jpg: 576x1024 11 прилегающие дефектыs, 67.5ms\n",
      "Speed: 2.9ms preprocess, 67.5ms inference, 0.7ms postprocess per image at shape (1, 3, 576, 1024)\n"
     ]
    },
    {
     "name": "stderr",
     "output_type": "stream",
     "text": [
      "  2%|▋                                        | 20/1162 [00:08<11:33,  1.65it/s]"
     ]
    },
    {
     "name": "stdout",
     "output_type": "stream",
     "text": [
      "\n",
      "image 1/1 /mnt/SSD/workspace/atomic_hack/Сварные_швы/dataset/4 (149).jpg: 576x1024 2 прилегающие дефектыs, 21.2ms\n",
      "Speed: 2.7ms preprocess, 21.2ms inference, 0.8ms postprocess per image at shape (1, 3, 576, 1024)\n"
     ]
    },
    {
     "name": "stderr",
     "output_type": "stream",
     "text": [
      "  2%|▋                                        | 21/1162 [00:08<09:12,  2.06it/s]"
     ]
    },
    {
     "name": "stdout",
     "output_type": "stream",
     "text": [
      "\n",
      "image 1/1 /mnt/SSD/workspace/atomic_hack/Сварные_швы/dataset/5 (12).jpg: 576x1024 5 прилегающие дефектыs, 22.0ms\n",
      "Speed: 2.8ms preprocess, 22.0ms inference, 0.7ms postprocess per image at shape (1, 3, 576, 1024)\n"
     ]
    },
    {
     "name": "stderr",
     "output_type": "stream",
     "text": [
      "  2%|▊                                        | 22/1162 [00:09<08:37,  2.20it/s]"
     ]
    },
    {
     "name": "stdout",
     "output_type": "stream",
     "text": [
      "\n",
      "image 1/1 /mnt/SSD/workspace/atomic_hack/Сварные_швы/dataset/4 (13).jpg: 576x1024 3 прилегающие дефектыs, 22.9ms\n",
      "Speed: 2.9ms preprocess, 22.9ms inference, 0.7ms postprocess per image at shape (1, 3, 576, 1024)\n"
     ]
    },
    {
     "name": "stderr",
     "output_type": "stream",
     "text": [
      "  2%|▊                                        | 23/1162 [00:09<07:34,  2.51it/s]"
     ]
    },
    {
     "name": "stdout",
     "output_type": "stream",
     "text": [
      "\n",
      "image 1/1 /mnt/SSD/workspace/atomic_hack/Сварные_швы/dataset/8 (35).jpg: 1024x576 1 прилегающие дефекты, 20.8ms\n",
      "Speed: 2.9ms preprocess, 20.8ms inference, 0.7ms postprocess per image at shape (1, 3, 1024, 576)\n"
     ]
    },
    {
     "name": "stderr",
     "output_type": "stream",
     "text": [
      "  2%|▊                                        | 24/1162 [00:09<06:03,  3.13it/s]"
     ]
    },
    {
     "name": "stdout",
     "output_type": "stream",
     "text": [
      "\n",
      "image 1/1 /mnt/SSD/workspace/atomic_hack/Сварные_швы/dataset/7 (105).jpg: 1024x576 7 прилегающие дефектыs, 19.9ms\n",
      "Speed: 2.9ms preprocess, 19.9ms inference, 1.1ms postprocess per image at shape (1, 3, 1024, 576)\n"
     ]
    },
    {
     "name": "stderr",
     "output_type": "stream",
     "text": [
      "  2%|▉                                        | 25/1162 [00:10<07:41,  2.46it/s]"
     ]
    },
    {
     "name": "stdout",
     "output_type": "stream",
     "text": [
      "\n",
      "image 1/1 /mnt/SSD/workspace/atomic_hack/Сварные_швы/dataset/7 (91).jpg: 1024x576 6 прилегающие дефектыs, 20.0ms\n",
      "Speed: 2.9ms preprocess, 20.0ms inference, 0.7ms postprocess per image at shape (1, 3, 1024, 576)\n"
     ]
    },
    {
     "name": "stderr",
     "output_type": "stream",
     "text": [
      "  2%|▉                                        | 26/1162 [00:10<08:08,  2.32it/s]"
     ]
    },
    {
     "name": "stdout",
     "output_type": "stream",
     "text": [
      "\n",
      "image 1/1 /mnt/SSD/workspace/atomic_hack/Сварные_швы/dataset/7 (20).jpg: 1024x576 20 прилегающие дефектыs, 23.1ms\n",
      "Speed: 3.4ms preprocess, 23.1ms inference, 0.8ms postprocess per image at shape (1, 3, 1024, 576)\n"
     ]
    },
    {
     "name": "stderr",
     "output_type": "stream",
     "text": [
      "  2%|▉                                        | 27/1162 [00:12<14:18,  1.32it/s]"
     ]
    },
    {
     "name": "stdout",
     "output_type": "stream",
     "text": [
      "\n",
      "image 1/1 /mnt/SSD/workspace/atomic_hack/Сварные_швы/dataset/11 (64).jpg: 1024x576 2 прилегающие дефектыs, 23.4ms\n",
      "Speed: 2.8ms preprocess, 23.4ms inference, 1.4ms postprocess per image at shape (1, 3, 1024, 576)\n"
     ]
    },
    {
     "name": "stderr",
     "output_type": "stream",
     "text": [
      "  2%|▉                                        | 28/1162 [00:12<11:16,  1.68it/s]"
     ]
    },
    {
     "name": "stdout",
     "output_type": "stream",
     "text": [
      "\n",
      "image 1/1 /mnt/SSD/workspace/atomic_hack/Сварные_швы/dataset/7 (202).jpg: 1024x576 5 прилегающие дефектыs, 24.0ms\n",
      "Speed: 3.0ms preprocess, 24.0ms inference, 0.8ms postprocess per image at shape (1, 3, 1024, 576)\n"
     ]
    },
    {
     "name": "stderr",
     "output_type": "stream",
     "text": [
      "  2%|█                                        | 29/1162 [00:12<10:11,  1.85it/s]"
     ]
    },
    {
     "name": "stdout",
     "output_type": "stream",
     "text": [
      "\n",
      "image 1/1 /mnt/SSD/workspace/atomic_hack/Сварные_швы/dataset/6 (65).jpg: 1024x576 1 прилегающие дефекты, 20.2ms\n",
      "Speed: 2.7ms preprocess, 20.2ms inference, 0.7ms postprocess per image at shape (1, 3, 1024, 576)\n"
     ]
    },
    {
     "name": "stderr",
     "output_type": "stream",
     "text": [
      "  3%|█                                        | 30/1162 [00:12<07:52,  2.40it/s]"
     ]
    },
    {
     "name": "stdout",
     "output_type": "stream",
     "text": [
      "\n",
      "image 1/1 /mnt/SSD/workspace/atomic_hack/Сварные_швы/dataset/5 (76).jpg: 576x1024 3 прилегающие дефектыs, 21.9ms\n",
      "Speed: 2.8ms preprocess, 21.9ms inference, 1.0ms postprocess per image at shape (1, 3, 576, 1024)\n"
     ]
    },
    {
     "name": "stderr",
     "output_type": "stream",
     "text": [
      "  3%|█                                        | 31/1162 [00:13<06:59,  2.69it/s]"
     ]
    },
    {
     "name": "stdout",
     "output_type": "stream",
     "text": [
      "\n",
      "image 1/1 /mnt/SSD/workspace/atomic_hack/Сварные_швы/dataset/7 (51).jpg: 1024x576 3 прилегающие дефектыs, 21.1ms\n",
      "Speed: 37.0ms preprocess, 21.1ms inference, 1.1ms postprocess per image at shape (1, 3, 1024, 576)\n"
     ]
    },
    {
     "name": "stderr",
     "output_type": "stream",
     "text": [
      "  3%|█▏                                       | 32/1162 [00:13<06:34,  2.86it/s]"
     ]
    },
    {
     "name": "stdout",
     "output_type": "stream",
     "text": [
      "\n",
      "image 1/1 /mnt/SSD/workspace/atomic_hack/Сварные_швы/dataset/9 (2).jpg: 1024x576 5 прилегающие дефектыs, 20.0ms\n",
      "Speed: 2.9ms preprocess, 20.0ms inference, 0.7ms postprocess per image at shape (1, 3, 1024, 576)\n"
     ]
    },
    {
     "name": "stderr",
     "output_type": "stream",
     "text": [
      "  3%|█▏                                       | 33/1162 [00:13<06:47,  2.77it/s]"
     ]
    },
    {
     "name": "stdout",
     "output_type": "stream",
     "text": [
      "\n",
      "image 1/1 /mnt/SSD/workspace/atomic_hack/Сварные_швы/dataset/5 (44).jpg: 576x1024 1 прилегающие дефекты, 21.1ms\n",
      "Speed: 2.8ms preprocess, 21.1ms inference, 0.7ms postprocess per image at shape (1, 3, 576, 1024)\n"
     ]
    },
    {
     "name": "stderr",
     "output_type": "stream",
     "text": [
      "  3%|█▏                                       | 34/1162 [00:13<05:30,  3.41it/s]"
     ]
    },
    {
     "name": "stdout",
     "output_type": "stream",
     "text": [
      "\n",
      "image 1/1 /mnt/SSD/workspace/atomic_hack/Сварные_швы/dataset/4 (118).jpg: 576x1024 6 прилегающие дефектыs, 21.2ms\n",
      "Speed: 2.7ms preprocess, 21.2ms inference, 0.7ms postprocess per image at shape (1, 3, 576, 1024)\n"
     ]
    },
    {
     "name": "stderr",
     "output_type": "stream",
     "text": [
      "  3%|█▏                                       | 35/1162 [00:14<06:20,  2.96it/s]"
     ]
    },
    {
     "name": "stdout",
     "output_type": "stream",
     "text": [
      "\n",
      "image 1/1 /mnt/SSD/workspace/atomic_hack/Сварные_швы/dataset/5 (113).jpg: 576x1024 2 прилегающие дефектыs, 21.2ms\n",
      "Speed: 2.7ms preprocess, 21.2ms inference, 0.7ms postprocess per image at shape (1, 3, 576, 1024)\n"
     ]
    },
    {
     "name": "stderr",
     "output_type": "stream",
     "text": [
      "  3%|█▎                                       | 36/1162 [00:14<05:32,  3.38it/s]"
     ]
    },
    {
     "name": "stdout",
     "output_type": "stream",
     "text": [
      "\n",
      "image 1/1 /mnt/SSD/workspace/atomic_hack/Сварные_швы/dataset/7 (92).jpg: 1024x576 10 прилегающие дефектыs, 20.1ms\n",
      "Speed: 3.1ms preprocess, 20.1ms inference, 0.7ms postprocess per image at shape (1, 3, 1024, 576)\n"
     ]
    },
    {
     "name": "stderr",
     "output_type": "stream",
     "text": [
      "  3%|█▎                                       | 37/1162 [00:15<07:44,  2.42it/s]"
     ]
    },
    {
     "name": "stdout",
     "output_type": "stream",
     "text": [
      "\n",
      "image 1/1 /mnt/SSD/workspace/atomic_hack/Сварные_швы/dataset/12 (81).jpg: 1024x576 3 прилегающие дефектыs, 20.4ms\n",
      "Speed: 2.8ms preprocess, 20.4ms inference, 0.7ms postprocess per image at shape (1, 3, 1024, 576)\n"
     ]
    },
    {
     "name": "stderr",
     "output_type": "stream",
     "text": [
      "  3%|█▎                                       | 38/1162 [00:15<06:51,  2.73it/s]"
     ]
    },
    {
     "name": "stdout",
     "output_type": "stream",
     "text": [
      "\n",
      "image 1/1 /mnt/SSD/workspace/atomic_hack/Сварные_швы/dataset/5 (21).jpg: 576x1024 3 прилегающие дефектыs, 21.7ms\n",
      "Speed: 39.1ms preprocess, 21.7ms inference, 0.7ms postprocess per image at shape (1, 3, 576, 1024)\n"
     ]
    },
    {
     "name": "stderr",
     "output_type": "stream",
     "text": [
      "  3%|█▍                                       | 39/1162 [00:15<06:27,  2.90it/s]"
     ]
    },
    {
     "name": "stdout",
     "output_type": "stream",
     "text": [
      "\n",
      "image 1/1 /mnt/SSD/workspace/atomic_hack/Сварные_швы/dataset/8 (47).jpg: 1024x576 4 прилегающие дефектыs, 20.2ms\n",
      "Speed: 2.7ms preprocess, 20.2ms inference, 0.7ms postprocess per image at shape (1, 3, 1024, 576)\n"
     ]
    },
    {
     "name": "stderr",
     "output_type": "stream",
     "text": [
      "  3%|█▍                                       | 40/1162 [00:16<06:20,  2.95it/s]"
     ]
    },
    {
     "name": "stdout",
     "output_type": "stream",
     "text": [
      "\n",
      "image 1/1 /mnt/SSD/workspace/atomic_hack/Сварные_швы/dataset/5 (10).jpg: 576x1024 3 прилегающие дефектыs, 23.1ms\n",
      "Speed: 18.1ms preprocess, 23.1ms inference, 0.7ms postprocess per image at shape (1, 3, 576, 1024)\n"
     ]
    },
    {
     "name": "stderr",
     "output_type": "stream",
     "text": [
      "  4%|█▍                                       | 41/1162 [00:16<05:58,  3.13it/s]"
     ]
    },
    {
     "name": "stdout",
     "output_type": "stream",
     "text": [
      "\n",
      "image 1/1 /mnt/SSD/workspace/atomic_hack/Сварные_швы/dataset/5 (85).jpg: 576x1024 2 прилегающие дефектыs, 21.4ms\n",
      "Speed: 2.6ms preprocess, 21.4ms inference, 0.7ms postprocess per image at shape (1, 3, 576, 1024)\n"
     ]
    },
    {
     "name": "stderr",
     "output_type": "stream",
     "text": [
      "  4%|█▍                                       | 42/1162 [00:16<05:18,  3.52it/s]"
     ]
    },
    {
     "name": "stdout",
     "output_type": "stream",
     "text": [
      "\n",
      "image 1/1 /mnt/SSD/workspace/atomic_hack/Сварные_швы/dataset/7 (54).jpg: 1024x576 2 прилегающие дефектыs, 20.0ms\n",
      "Speed: 2.9ms preprocess, 20.0ms inference, 0.7ms postprocess per image at shape (1, 3, 1024, 576)\n"
     ]
    },
    {
     "name": "stderr",
     "output_type": "stream",
     "text": [
      "  4%|█▌                                       | 43/1162 [00:16<04:48,  3.88it/s]"
     ]
    },
    {
     "name": "stdout",
     "output_type": "stream",
     "text": [
      "\n",
      "image 1/1 /mnt/SSD/workspace/atomic_hack/Сварные_швы/dataset/4 (97).jpg: 576x1024 10 прилегающие дефектыs, 21.3ms\n",
      "Speed: 2.7ms preprocess, 21.3ms inference, 0.8ms postprocess per image at shape (1, 3, 576, 1024)\n"
     ]
    },
    {
     "name": "stderr",
     "output_type": "stream",
     "text": [
      "  4%|█▌                                       | 44/1162 [00:17<07:11,  2.59it/s]"
     ]
    },
    {
     "name": "stdout",
     "output_type": "stream",
     "text": [
      "\n",
      "image 1/1 /mnt/SSD/workspace/atomic_hack/Сварные_швы/dataset/4 (9).jpg: 576x1024 1 прилегающие дефекты, 21.1ms\n",
      "Speed: 2.8ms preprocess, 21.1ms inference, 0.7ms postprocess per image at shape (1, 3, 576, 1024)\n"
     ]
    },
    {
     "name": "stderr",
     "output_type": "stream",
     "text": [
      "  4%|█▌                                       | 45/1162 [00:17<05:46,  3.22it/s]"
     ]
    },
    {
     "name": "stdout",
     "output_type": "stream",
     "text": [
      "\n",
      "image 1/1 /mnt/SSD/workspace/atomic_hack/Сварные_швы/dataset/11 (71).jpg: 1024x576 1 прилегающие дефекты, 20.4ms\n",
      "Speed: 2.8ms preprocess, 20.4ms inference, 0.8ms postprocess per image at shape (1, 3, 1024, 576)\n"
     ]
    },
    {
     "name": "stderr",
     "output_type": "stream",
     "text": [
      "  4%|█▌                                       | 46/1162 [00:17<04:45,  3.91it/s]"
     ]
    },
    {
     "name": "stdout",
     "output_type": "stream",
     "text": [
      "\n",
      "image 1/1 /mnt/SSD/workspace/atomic_hack/Сварные_швы/dataset/7 (133).jpg: 1024x576 8 прилегающие дефектыs, 20.2ms\n",
      "Speed: 2.9ms preprocess, 20.2ms inference, 0.7ms postprocess per image at shape (1, 3, 1024, 576)\n"
     ]
    },
    {
     "name": "stderr",
     "output_type": "stream",
     "text": [
      "  4%|█▋                                       | 47/1162 [00:18<06:27,  2.88it/s]"
     ]
    },
    {
     "name": "stdout",
     "output_type": "stream",
     "text": [
      "\n",
      "image 1/1 /mnt/SSD/workspace/atomic_hack/Сварные_швы/dataset/4 (49).jpg: 576x1024 3 прилегающие дефектыs, 21.2ms\n",
      "Speed: 2.7ms preprocess, 21.2ms inference, 0.8ms postprocess per image at shape (1, 3, 576, 1024)\n"
     ]
    },
    {
     "name": "stderr",
     "output_type": "stream",
     "text": [
      "  4%|█▋                                       | 48/1162 [00:18<05:57,  3.11it/s]"
     ]
    },
    {
     "name": "stdout",
     "output_type": "stream",
     "text": [
      "\n",
      "image 1/1 /mnt/SSD/workspace/atomic_hack/Сварные_швы/dataset/2 (9).jpg: 576x1024 8 прилегающие дефектыs, 23.5ms\n",
      "Speed: 3.1ms preprocess, 23.5ms inference, 0.8ms postprocess per image at shape (1, 3, 576, 1024)\n"
     ]
    },
    {
     "name": "stderr",
     "output_type": "stream",
     "text": [
      "  4%|█▋                                       | 49/1162 [00:19<07:11,  2.58it/s]"
     ]
    },
    {
     "name": "stdout",
     "output_type": "stream",
     "text": [
      "\n",
      "image 1/1 /mnt/SSD/workspace/atomic_hack/Сварные_швы/dataset/3 (5).jpg: 576x1024 6 прилегающие дефектыs, 22.8ms\n",
      "Speed: 25.5ms preprocess, 22.8ms inference, 0.8ms postprocess per image at shape (1, 3, 576, 1024)\n"
     ]
    },
    {
     "name": "stderr",
     "output_type": "stream",
     "text": [
      "  4%|█▊                                       | 50/1162 [00:19<07:39,  2.42it/s]"
     ]
    },
    {
     "name": "stdout",
     "output_type": "stream",
     "text": [
      "\n",
      "image 1/1 /mnt/SSD/workspace/atomic_hack/Сварные_швы/dataset/8 (108).jpg: 1024x576 2 прилегающие дефектыs, 20.4ms\n",
      "Speed: 2.7ms preprocess, 20.4ms inference, 0.7ms postprocess per image at shape (1, 3, 1024, 576)\n"
     ]
    },
    {
     "name": "stderr",
     "output_type": "stream",
     "text": [
      "  4%|█▊                                       | 51/1162 [00:19<06:24,  2.89it/s]"
     ]
    },
    {
     "name": "stdout",
     "output_type": "stream",
     "text": [
      "\n",
      "image 1/1 /mnt/SSD/workspace/atomic_hack/Сварные_швы/dataset/9 (66).jpg: 1024x576 2 прилегающие дефектыs, 20.0ms\n",
      "Speed: 2.9ms preprocess, 20.0ms inference, 0.8ms postprocess per image at shape (1, 3, 1024, 576)\n"
     ]
    },
    {
     "name": "stderr",
     "output_type": "stream",
     "text": [
      "  4%|█▊                                       | 52/1162 [00:19<05:33,  3.33it/s]"
     ]
    },
    {
     "name": "stdout",
     "output_type": "stream",
     "text": [
      "\n",
      "image 1/1 /mnt/SSD/workspace/atomic_hack/Сварные_швы/dataset/11 (68).jpg: 1024x576 1 прилегающие дефекты, 20.2ms\n",
      "Speed: 2.8ms preprocess, 20.2ms inference, 0.8ms postprocess per image at shape (1, 3, 1024, 576)\n"
     ]
    },
    {
     "name": "stderr",
     "output_type": "stream",
     "text": [
      "  5%|█▊                                       | 53/1162 [00:20<04:36,  4.02it/s]"
     ]
    },
    {
     "name": "stdout",
     "output_type": "stream",
     "text": [
      "\n",
      "image 1/1 /mnt/SSD/workspace/atomic_hack/Сварные_швы/dataset/7 (190).jpg: 1024x576 2 прилегающие дефектыs, 21.8ms\n",
      "Speed: 3.0ms preprocess, 21.8ms inference, 0.7ms postprocess per image at shape (1, 3, 1024, 576)\n"
     ]
    },
    {
     "name": "stderr",
     "output_type": "stream",
     "text": [
      "  5%|█▉                                       | 54/1162 [00:20<04:20,  4.26it/s]"
     ]
    },
    {
     "name": "stdout",
     "output_type": "stream",
     "text": [
      "\n",
      "image 1/1 /mnt/SSD/workspace/atomic_hack/Сварные_швы/dataset/8 (59).jpg: 1024x576 3 прилегающие дефектыs, 20.6ms\n",
      "Speed: 42.0ms preprocess, 20.6ms inference, 0.7ms postprocess per image at shape (1, 3, 1024, 576)\n"
     ]
    },
    {
     "name": "stderr",
     "output_type": "stream",
     "text": [
      "  5%|█▉                                       | 55/1162 [00:20<04:41,  3.93it/s]"
     ]
    },
    {
     "name": "stdout",
     "output_type": "stream",
     "text": [
      "\n",
      "image 1/1 /mnt/SSD/workspace/atomic_hack/Сварные_швы/dataset/6 (15).jpg: 1024x576 3 прилегающие дефектыs, 20.0ms\n",
      "Speed: 2.9ms preprocess, 20.0ms inference, 0.7ms postprocess per image at shape (1, 3, 1024, 576)\n"
     ]
    },
    {
     "name": "stderr",
     "output_type": "stream",
     "text": [
      "  5%|█▉                                       | 56/1162 [00:20<04:46,  3.87it/s]"
     ]
    },
    {
     "name": "stdout",
     "output_type": "stream",
     "text": [
      "\n",
      "image 1/1 /mnt/SSD/workspace/atomic_hack/Сварные_швы/dataset/9 (16).jpg: 1024x576 5 прилегающие дефектыs, 20.0ms\n",
      "Speed: 2.8ms preprocess, 20.0ms inference, 0.7ms postprocess per image at shape (1, 3, 1024, 576)\n"
     ]
    },
    {
     "name": "stderr",
     "output_type": "stream",
     "text": [
      "  5%|██                                       | 57/1162 [00:21<05:39,  3.26it/s]"
     ]
    },
    {
     "name": "stdout",
     "output_type": "stream",
     "text": [
      "\n",
      "image 1/1 /mnt/SSD/workspace/atomic_hack/Сварные_швы/dataset/4 (86).jpg: 576x1024 11 прилегающие дефектыs, 21.1ms\n",
      "Speed: 2.8ms preprocess, 21.1ms inference, 0.7ms postprocess per image at shape (1, 3, 576, 1024)\n"
     ]
    },
    {
     "name": "stderr",
     "output_type": "stream",
     "text": [
      "  5%|██                                       | 58/1162 [00:21<08:03,  2.28it/s]"
     ]
    },
    {
     "name": "stdout",
     "output_type": "stream",
     "text": [
      "\n",
      "image 1/1 /mnt/SSD/workspace/atomic_hack/Сварные_швы/dataset/9 (49).jpg: 1024x576 1 прилегающие дефекты, 20.3ms\n",
      "Speed: 2.7ms preprocess, 20.3ms inference, 0.7ms postprocess per image at shape (1, 3, 1024, 576)\n"
     ]
    },
    {
     "name": "stderr",
     "output_type": "stream",
     "text": [
      "  5%|██                                       | 59/1162 [00:22<06:39,  2.76it/s]"
     ]
    },
    {
     "name": "stdout",
     "output_type": "stream",
     "text": [
      "\n",
      "image 1/1 /mnt/SSD/workspace/atomic_hack/Сварные_швы/dataset/7 (70).jpg: 1024x576 8 прилегающие дефектыs, 19.9ms\n",
      "Speed: 2.8ms preprocess, 19.9ms inference, 1.1ms postprocess per image at shape (1, 3, 1024, 576)\n"
     ]
    },
    {
     "name": "stderr",
     "output_type": "stream",
     "text": [
      "  5%|██                                       | 60/1162 [00:22<07:44,  2.37it/s]"
     ]
    },
    {
     "name": "stdout",
     "output_type": "stream",
     "text": [
      "\n",
      "image 1/1 /mnt/SSD/workspace/atomic_hack/Сварные_швы/dataset/12 (1).jpg: 1024x576 1 прилегающие дефекты, 19.8ms\n",
      "Speed: 2.9ms preprocess, 19.8ms inference, 1.0ms postprocess per image at shape (1, 3, 1024, 576)\n"
     ]
    },
    {
     "name": "stderr",
     "output_type": "stream",
     "text": [
      "  5%|██▏                                      | 61/1162 [00:22<06:07,  3.00it/s]"
     ]
    },
    {
     "name": "stdout",
     "output_type": "stream",
     "text": [
      "\n",
      "image 1/1 /mnt/SSD/workspace/atomic_hack/Сварные_швы/dataset/7 (73).jpg: 1024x576 6 прилегающие дефектыs, 20.0ms\n",
      "Speed: 2.8ms preprocess, 20.0ms inference, 0.8ms postprocess per image at shape (1, 3, 1024, 576)\n"
     ]
    },
    {
     "name": "stderr",
     "output_type": "stream",
     "text": [
      "  5%|██▏                                      | 62/1162 [00:23<06:44,  2.72it/s]"
     ]
    },
    {
     "name": "stdout",
     "output_type": "stream",
     "text": [
      "\n",
      "image 1/1 /mnt/SSD/workspace/atomic_hack/Сварные_швы/dataset/3 (12).jpg: 576x1024 2 прилегающие дефектыs, 21.3ms\n",
      "Speed: 2.9ms preprocess, 21.3ms inference, 0.8ms postprocess per image at shape (1, 3, 576, 1024)\n"
     ]
    },
    {
     "name": "stderr",
     "output_type": "stream",
     "text": [
      "  5%|██▏                                      | 63/1162 [00:23<05:49,  3.15it/s]"
     ]
    },
    {
     "name": "stdout",
     "output_type": "stream",
     "text": [
      "\n",
      "image 1/1 /mnt/SSD/workspace/atomic_hack/Сварные_швы/dataset/11 (52).jpg: 1024x576 4 прилегающие дефектыs, 20.2ms\n",
      "Speed: 3.0ms preprocess, 20.2ms inference, 0.8ms postprocess per image at shape (1, 3, 1024, 576)\n"
     ]
    },
    {
     "name": "stderr",
     "output_type": "stream",
     "text": [
      "  6%|██▎                                      | 64/1162 [00:23<05:51,  3.13it/s]"
     ]
    },
    {
     "name": "stdout",
     "output_type": "stream",
     "text": [
      "\n",
      "image 1/1 /mnt/SSD/workspace/atomic_hack/Сварные_швы/dataset/5 (108).jpg: 576x1024 2 прилегающие дефектыs, 19.9ms\n",
      "Speed: 2.8ms preprocess, 19.9ms inference, 0.7ms postprocess per image at shape (1, 3, 576, 1024)\n"
     ]
    },
    {
     "name": "stderr",
     "output_type": "stream",
     "text": [
      "  6%|██▎                                      | 65/1162 [00:24<05:17,  3.46it/s]"
     ]
    },
    {
     "name": "stdout",
     "output_type": "stream",
     "text": [
      "\n",
      "image 1/1 /mnt/SSD/workspace/atomic_hack/Сварные_швы/dataset/11 (78).jpg: 1024x576 2 прилегающие дефектыs, 21.0ms\n",
      "Speed: 3.0ms preprocess, 21.0ms inference, 0.7ms postprocess per image at shape (1, 3, 1024, 576)\n"
     ]
    },
    {
     "name": "stderr",
     "output_type": "stream",
     "text": [
      "  6%|██▎                                      | 66/1162 [00:24<04:47,  3.81it/s]"
     ]
    },
    {
     "name": "stdout",
     "output_type": "stream",
     "text": [
      "\n",
      "image 1/1 /mnt/SSD/workspace/atomic_hack/Сварные_швы/dataset/7 (146).jpg: 1024x576 8 прилегающие дефектыs, 19.9ms\n",
      "Speed: 2.9ms preprocess, 19.9ms inference, 0.9ms postprocess per image at shape (1, 3, 1024, 576)\n"
     ]
    },
    {
     "name": "stderr",
     "output_type": "stream",
     "text": [
      "  6%|██▎                                      | 67/1162 [00:24<06:24,  2.85it/s]"
     ]
    },
    {
     "name": "stdout",
     "output_type": "stream",
     "text": [
      "\n",
      "image 1/1 /mnt/SSD/workspace/atomic_hack/Сварные_швы/dataset/4 (15).jpg: 576x1024 1 прилегающие дефекты, 20.8ms\n",
      "Speed: 3.0ms preprocess, 20.8ms inference, 0.7ms postprocess per image at shape (1, 3, 576, 1024)\n"
     ]
    },
    {
     "name": "stderr",
     "output_type": "stream",
     "text": [
      "  6%|██▍                                      | 68/1162 [00:24<05:13,  3.49it/s]"
     ]
    },
    {
     "name": "stdout",
     "output_type": "stream",
     "text": [
      "\n",
      "image 1/1 /mnt/SSD/workspace/atomic_hack/Сварные_швы/dataset/4 (4).jpg: 576x1024 3 прилегающие дефектыs, 21.8ms\n",
      "Speed: 2.7ms preprocess, 21.8ms inference, 0.8ms postprocess per image at shape (1, 3, 576, 1024)\n"
     ]
    },
    {
     "name": "stderr",
     "output_type": "stream",
     "text": [
      "  6%|██▍                                      | 69/1162 [00:25<05:05,  3.58it/s]"
     ]
    },
    {
     "name": "stdout",
     "output_type": "stream",
     "text": [
      "\n",
      "image 1/1 /mnt/SSD/workspace/atomic_hack/Сварные_швы/dataset/6 (97).jpg: 1024x576 3 прилегающие дефектыs, 20.0ms\n",
      "Speed: 2.9ms preprocess, 20.0ms inference, 0.7ms postprocess per image at shape (1, 3, 1024, 576)\n"
     ]
    },
    {
     "name": "stderr",
     "output_type": "stream",
     "text": [
      "  6%|██▍                                      | 70/1162 [00:25<05:00,  3.63it/s]"
     ]
    },
    {
     "name": "stdout",
     "output_type": "stream",
     "text": [
      "\n",
      "image 1/1 /mnt/SSD/workspace/atomic_hack/Сварные_швы/dataset/6 (40).jpg: 1024x576 2 прилегающие дефектыs, 20.1ms\n",
      "Speed: 2.8ms preprocess, 20.1ms inference, 0.7ms postprocess per image at shape (1, 3, 1024, 576)\n"
     ]
    },
    {
     "name": "stderr",
     "output_type": "stream",
     "text": [
      "  6%|██▌                                      | 71/1162 [00:25<04:34,  3.97it/s]"
     ]
    },
    {
     "name": "stdout",
     "output_type": "stream",
     "text": [
      "\n",
      "image 1/1 /mnt/SSD/workspace/atomic_hack/Сварные_швы/dataset/5 (207).jpg: 576x1024 10 прилегающие дефектыs, 22.5ms\n",
      "Speed: 24.7ms preprocess, 22.5ms inference, 0.7ms postprocess per image at shape (1, 3, 576, 1024)\n"
     ]
    },
    {
     "name": "stderr",
     "output_type": "stream",
     "text": [
      "  6%|██▌                                      | 72/1162 [00:26<07:04,  2.57it/s]"
     ]
    },
    {
     "name": "stdout",
     "output_type": "stream",
     "text": [
      "\n",
      "image 1/1 /mnt/SSD/workspace/atomic_hack/Сварные_швы/dataset/5 (84).jpg: 576x1024 (no detections), 20.8ms\n",
      "Speed: 2.8ms preprocess, 20.8ms inference, 0.3ms postprocess per image at shape (1, 3, 576, 1024)\n",
      "\n",
      "image 1/1 /mnt/SSD/workspace/atomic_hack/Сварные_швы/dataset/12 (42).jpg: 1024x576 (no detections), 20.2ms\n",
      "Speed: 2.9ms preprocess, 20.2ms inference, 0.3ms postprocess per image at shape (1, 3, 1024, 576)\n"
     ]
    },
    {
     "name": "stderr",
     "output_type": "stream",
     "text": [
      "  6%|██▌                                      | 74/1162 [00:26<04:19,  4.20it/s]"
     ]
    },
    {
     "name": "stdout",
     "output_type": "stream",
     "text": [
      "\n",
      "image 1/1 /mnt/SSD/workspace/atomic_hack/Сварные_швы/dataset/4 (150).jpg: 576x1024 4 прилегающие дефектыs, 21.6ms\n",
      "Speed: 2.8ms preprocess, 21.6ms inference, 0.7ms postprocess per image at shape (1, 3, 576, 1024)\n"
     ]
    },
    {
     "name": "stderr",
     "output_type": "stream",
     "text": [
      "  6%|██▋                                      | 75/1162 [00:26<04:41,  3.87it/s]"
     ]
    },
    {
     "name": "stdout",
     "output_type": "stream",
     "text": [
      "\n",
      "image 1/1 /mnt/SSD/workspace/atomic_hack/Сварные_швы/dataset/5 (94).jpg: 576x1024 2 прилегающие дефектыs, 20.2ms\n",
      "Speed: 2.9ms preprocess, 20.2ms inference, 0.7ms postprocess per image at shape (1, 3, 576, 1024)\n"
     ]
    },
    {
     "name": "stderr",
     "output_type": "stream",
     "text": [
      "  7%|██▋                                      | 76/1162 [00:27<04:30,  4.01it/s]"
     ]
    },
    {
     "name": "stdout",
     "output_type": "stream",
     "text": [
      "\n",
      "image 1/1 /mnt/SSD/workspace/atomic_hack/Сварные_швы/dataset/4 (53).jpg: 576x1024 2 прилегающие дефектыs, 21.1ms\n",
      "Speed: 2.9ms preprocess, 21.1ms inference, 0.7ms postprocess per image at shape (1, 3, 576, 1024)\n"
     ]
    },
    {
     "name": "stderr",
     "output_type": "stream",
     "text": [
      "  7%|██▋                                      | 77/1162 [00:27<04:15,  4.25it/s]"
     ]
    },
    {
     "name": "stdout",
     "output_type": "stream",
     "text": [
      "\n",
      "image 1/1 /mnt/SSD/workspace/atomic_hack/Сварные_швы/dataset/9 (61).jpg: 1024x576 2 прилегающие дефектыs, 20.0ms\n",
      "Speed: 2.9ms preprocess, 20.0ms inference, 0.7ms postprocess per image at shape (1, 3, 1024, 576)\n"
     ]
    },
    {
     "name": "stderr",
     "output_type": "stream",
     "text": [
      "  7%|██▊                                      | 78/1162 [00:27<04:05,  4.41it/s]"
     ]
    },
    {
     "name": "stdout",
     "output_type": "stream",
     "text": [
      "\n",
      "image 1/1 /mnt/SSD/workspace/atomic_hack/Сварные_швы/dataset/8 (34).jpg: 1024x576 2 прилегающие дефектыs, 20.2ms\n",
      "Speed: 45.9ms preprocess, 20.2ms inference, 0.7ms postprocess per image at shape (1, 3, 1024, 576)\n"
     ]
    },
    {
     "name": "stderr",
     "output_type": "stream",
     "text": [
      "  7%|██▊                                      | 79/1162 [00:27<04:08,  4.36it/s]"
     ]
    },
    {
     "name": "stdout",
     "output_type": "stream",
     "text": [
      "\n",
      "image 1/1 /mnt/SSD/workspace/atomic_hack/Сварные_швы/dataset/7 (257).jpg: 1024x576 7 прилегающие дефектыs, 19.7ms\n",
      "Speed: 2.9ms preprocess, 19.7ms inference, 1.0ms postprocess per image at shape (1, 3, 1024, 576)\n"
     ]
    },
    {
     "name": "stderr",
     "output_type": "stream",
     "text": [
      "  7%|██▊                                      | 80/1162 [00:28<05:48,  3.11it/s]"
     ]
    },
    {
     "name": "stdout",
     "output_type": "stream",
     "text": [
      "\n",
      "image 1/1 /mnt/SSD/workspace/atomic_hack/Сварные_швы/dataset/12 (60).jpg: 1024x576 3 прилегающие дефектыs, 20.2ms\n",
      "Speed: 2.9ms preprocess, 20.2ms inference, 0.7ms postprocess per image at shape (1, 3, 1024, 576)\n"
     ]
    },
    {
     "name": "stderr",
     "output_type": "stream",
     "text": [
      "  7%|██▊                                      | 81/1162 [00:28<05:26,  3.31it/s]"
     ]
    },
    {
     "name": "stdout",
     "output_type": "stream",
     "text": [
      "\n",
      "image 1/1 /mnt/SSD/workspace/atomic_hack/Сварные_швы/dataset/9 (51).jpg: 1024x576 1 прилегающие дефекты, 20.0ms\n",
      "Speed: 2.8ms preprocess, 20.0ms inference, 0.7ms postprocess per image at shape (1, 3, 1024, 576)\n"
     ]
    },
    {
     "name": "stderr",
     "output_type": "stream",
     "text": [
      "  7%|██▉                                      | 82/1162 [00:28<04:35,  3.92it/s]"
     ]
    },
    {
     "name": "stdout",
     "output_type": "stream",
     "text": [
      "\n",
      "image 1/1 /mnt/SSD/workspace/atomic_hack/Сварные_швы/dataset/7 (122).jpg: 1024x576 9 прилегающие дефектыs, 19.5ms\n",
      "Speed: 2.9ms preprocess, 19.5ms inference, 0.7ms postprocess per image at shape (1, 3, 1024, 576)\n"
     ]
    },
    {
     "name": "stderr",
     "output_type": "stream",
     "text": [
      "  7%|██▉                                      | 83/1162 [00:29<06:42,  2.68it/s]"
     ]
    },
    {
     "name": "stdout",
     "output_type": "stream",
     "text": [
      "\n",
      "image 1/1 /mnt/SSD/workspace/atomic_hack/Сварные_швы/dataset/7 (141).jpg: 1024x576 9 прилегающие дефектыs, 21.9ms\n",
      "Speed: 7.9ms preprocess, 21.9ms inference, 0.7ms postprocess per image at shape (1, 3, 1024, 576)\n"
     ]
    },
    {
     "name": "stderr",
     "output_type": "stream",
     "text": [
      "  7%|██▉                                      | 84/1162 [00:29<08:06,  2.21it/s]"
     ]
    },
    {
     "name": "stdout",
     "output_type": "stream",
     "text": [
      "\n",
      "image 1/1 /mnt/SSD/workspace/atomic_hack/Сварные_швы/dataset/11 (27).jpg: 1024x576 2 прилегающие дефектыs, 20.0ms\n",
      "Speed: 2.9ms preprocess, 20.0ms inference, 1.0ms postprocess per image at shape (1, 3, 1024, 576)\n"
     ]
    },
    {
     "name": "stderr",
     "output_type": "stream",
     "text": [
      "  7%|██▉                                      | 85/1162 [00:30<06:44,  2.66it/s]"
     ]
    },
    {
     "name": "stdout",
     "output_type": "stream",
     "text": [
      "\n",
      "image 1/1 /mnt/SSD/workspace/atomic_hack/Сварные_швы/dataset/11 (70).jpg: 1024x576 1 прилегающие дефекты, 21.6ms\n",
      "Speed: 3.1ms preprocess, 21.6ms inference, 0.7ms postprocess per image at shape (1, 3, 1024, 576)\n"
     ]
    },
    {
     "name": "stderr",
     "output_type": "stream",
     "text": [
      "  7%|███                                      | 86/1162 [00:30<05:26,  3.30it/s]"
     ]
    },
    {
     "name": "stdout",
     "output_type": "stream",
     "text": [
      "\n",
      "image 1/1 /mnt/SSD/workspace/atomic_hack/Сварные_швы/dataset/7 (28).jpg: 1024x576 15 прилегающие дефектыs, 20.2ms\n",
      "Speed: 2.8ms preprocess, 20.2ms inference, 0.7ms postprocess per image at shape (1, 3, 1024, 576)\n"
     ]
    },
    {
     "name": "stderr",
     "output_type": "stream",
     "text": [
      "  7%|███                                      | 87/1162 [00:31<09:22,  1.91it/s]"
     ]
    },
    {
     "name": "stdout",
     "output_type": "stream",
     "text": [
      "\n",
      "image 1/1 /mnt/SSD/workspace/atomic_hack/Сварные_швы/dataset/7 (144).jpg: 1024x576 10 прилегающие дефектыs, 20.1ms\n",
      "Speed: 3.1ms preprocess, 20.1ms inference, 0.7ms postprocess per image at shape (1, 3, 1024, 576)\n"
     ]
    },
    {
     "name": "stderr",
     "output_type": "stream",
     "text": [
      "  8%|███                                      | 88/1162 [00:31<10:14,  1.75it/s]"
     ]
    },
    {
     "name": "stdout",
     "output_type": "stream",
     "text": [
      "\n",
      "image 1/1 /mnt/SSD/workspace/atomic_hack/Сварные_швы/dataset/5 (107).jpg: 576x1024 1 прилегающие дефекты, 21.2ms\n",
      "Speed: 2.9ms preprocess, 21.2ms inference, 0.7ms postprocess per image at shape (1, 3, 576, 1024)\n"
     ]
    },
    {
     "name": "stderr",
     "output_type": "stream",
     "text": [
      "  8%|███▏                                     | 89/1162 [00:32<07:54,  2.26it/s]"
     ]
    },
    {
     "name": "stdout",
     "output_type": "stream",
     "text": [
      "\n",
      "image 1/1 /mnt/SSD/workspace/atomic_hack/Сварные_швы/dataset/11 (3).jpg: 1024x576 2 прилегающие дефектыs, 20.5ms\n",
      "Speed: 3.0ms preprocess, 20.5ms inference, 1.6ms postprocess per image at shape (1, 3, 1024, 576)\n"
     ]
    },
    {
     "name": "stderr",
     "output_type": "stream",
     "text": [
      "  8%|███▏                                     | 90/1162 [00:32<06:34,  2.72it/s]"
     ]
    },
    {
     "name": "stdout",
     "output_type": "stream",
     "text": [
      "\n",
      "image 1/1 /mnt/SSD/workspace/atomic_hack/Сварные_швы/dataset/8 (44).jpg: 1024x576 3 прилегающие дефектыs, 20.2ms\n",
      "Speed: 3.0ms preprocess, 20.2ms inference, 0.7ms postprocess per image at shape (1, 3, 1024, 576)\n"
     ]
    },
    {
     "name": "stderr",
     "output_type": "stream",
     "text": [
      "  8%|███▏                                     | 91/1162 [00:32<05:59,  2.98it/s]"
     ]
    },
    {
     "name": "stdout",
     "output_type": "stream",
     "text": [
      "\n",
      "image 1/1 /mnt/SSD/workspace/atomic_hack/Сварные_швы/dataset/7 (116).jpg: 1024x576 7 прилегающие дефектыs, 20.0ms\n",
      "Speed: 2.8ms preprocess, 20.0ms inference, 0.7ms postprocess per image at shape (1, 3, 1024, 576)\n"
     ]
    },
    {
     "name": "stderr",
     "output_type": "stream",
     "text": [
      "  8%|███▏                                     | 92/1162 [00:33<06:50,  2.61it/s]"
     ]
    },
    {
     "name": "stdout",
     "output_type": "stream",
     "text": [
      "\n",
      "image 1/1 /mnt/SSD/workspace/atomic_hack/Сварные_швы/dataset/5 (74).jpg: 576x1024 3 прилегающие дефектыs, 21.3ms\n",
      "Speed: 2.8ms preprocess, 21.3ms inference, 0.8ms postprocess per image at shape (1, 3, 576, 1024)\n"
     ]
    },
    {
     "name": "stderr",
     "output_type": "stream",
     "text": [
      "  8%|███▎                                     | 93/1162 [00:33<06:12,  2.87it/s]"
     ]
    },
    {
     "name": "stdout",
     "output_type": "stream",
     "text": [
      "\n",
      "image 1/1 /mnt/SSD/workspace/atomic_hack/Сварные_швы/dataset/5 (126).jpg: 576x1024 6 прилегающие дефектыs, 21.2ms\n",
      "Speed: 2.8ms preprocess, 21.2ms inference, 0.7ms postprocess per image at shape (1, 3, 576, 1024)\n"
     ]
    },
    {
     "name": "stderr",
     "output_type": "stream",
     "text": [
      "  8%|███▎                                     | 94/1162 [00:33<06:41,  2.66it/s]"
     ]
    },
    {
     "name": "stdout",
     "output_type": "stream",
     "text": [
      "\n",
      "image 1/1 /mnt/SSD/workspace/atomic_hack/Сварные_швы/dataset/4 (122).jpg: 576x1024 7 прилегающие дефектыs, 21.4ms\n",
      "Speed: 2.8ms preprocess, 21.4ms inference, 0.7ms postprocess per image at shape (1, 3, 576, 1024)\n"
     ]
    },
    {
     "name": "stderr",
     "output_type": "stream",
     "text": [
      "  8%|███▎                                     | 95/1162 [00:34<07:30,  2.37it/s]"
     ]
    },
    {
     "name": "stdout",
     "output_type": "stream",
     "text": [
      "\n",
      "image 1/1 /mnt/SSD/workspace/atomic_hack/Сварные_швы/dataset/7 (128).jpg: 1024x576 7 прилегающие дефектыs, 19.7ms\n",
      "Speed: 2.8ms preprocess, 19.7ms inference, 0.7ms postprocess per image at shape (1, 3, 1024, 576)\n"
     ]
    },
    {
     "name": "stderr",
     "output_type": "stream",
     "text": [
      "  8%|███▍                                     | 96/1162 [00:34<07:53,  2.25it/s]"
     ]
    },
    {
     "name": "stdout",
     "output_type": "stream",
     "text": [
      "\n",
      "image 1/1 /mnt/SSD/workspace/atomic_hack/Сварные_швы/dataset/7 (2).jpg: 1024x576 9 прилегающие дефектыs, 20.1ms\n",
      "Speed: 2.9ms preprocess, 20.1ms inference, 0.7ms postprocess per image at shape (1, 3, 1024, 576)\n"
     ]
    },
    {
     "name": "stderr",
     "output_type": "stream",
     "text": [
      "  8%|███▍                                     | 97/1162 [00:35<08:56,  1.98it/s]"
     ]
    },
    {
     "name": "stdout",
     "output_type": "stream",
     "text": [
      "\n",
      "image 1/1 /mnt/SSD/workspace/atomic_hack/Сварные_швы/dataset/1 (6).jpg: 576x1024 11 прилегающие дефектыs, 24.4ms\n",
      "Speed: 2.4ms preprocess, 24.4ms inference, 0.7ms postprocess per image at shape (1, 3, 576, 1024)\n"
     ]
    },
    {
     "name": "stderr",
     "output_type": "stream",
     "text": [
      "  8%|███▍                                     | 98/1162 [00:36<10:06,  1.76it/s]"
     ]
    },
    {
     "name": "stdout",
     "output_type": "stream",
     "text": [
      "\n",
      "image 1/1 /mnt/SSD/workspace/atomic_hack/Сварные_швы/dataset/12 (23).jpg: 1024x576 (no detections), 20.1ms\n",
      "Speed: 2.8ms preprocess, 20.1ms inference, 0.3ms postprocess per image at shape (1, 3, 1024, 576)\n",
      "\n",
      "image 1/1 /mnt/SSD/workspace/atomic_hack/Сварные_швы/dataset/8 (107).jpg: 1024x576 2 прилегающие дефектыs, 20.2ms\n",
      "Speed: 2.9ms preprocess, 20.2ms inference, 0.7ms postprocess per image at shape (1, 3, 1024, 576)\n"
     ]
    },
    {
     "name": "stderr",
     "output_type": "stream",
     "text": [
      "  9%|███▍                                    | 100/1162 [00:36<06:28,  2.73it/s]"
     ]
    },
    {
     "name": "stdout",
     "output_type": "stream",
     "text": [
      "\n",
      "image 1/1 /mnt/SSD/workspace/atomic_hack/Сварные_швы/dataset/8 (115).jpg: 1024x576 3 прилегающие дефектыs, 18.9ms\n",
      "Speed: 3.1ms preprocess, 18.9ms inference, 0.7ms postprocess per image at shape (1, 3, 1024, 576)\n"
     ]
    },
    {
     "name": "stderr",
     "output_type": "stream",
     "text": [
      "  9%|███▍                                    | 101/1162 [00:36<06:07,  2.89it/s]"
     ]
    },
    {
     "name": "stdout",
     "output_type": "stream",
     "text": [
      "\n",
      "image 1/1 /mnt/SSD/workspace/atomic_hack/Сварные_швы/dataset/7 (173).jpg: 1024x576 3 прилегающие дефектыs, 20.2ms\n",
      "Speed: 2.8ms preprocess, 20.2ms inference, 0.7ms postprocess per image at shape (1, 3, 1024, 576)\n"
     ]
    },
    {
     "name": "stderr",
     "output_type": "stream",
     "text": [
      "  9%|███▌                                    | 102/1162 [00:36<05:44,  3.08it/s]"
     ]
    },
    {
     "name": "stdout",
     "output_type": "stream",
     "text": [
      "\n",
      "image 1/1 /mnt/SSD/workspace/atomic_hack/Сварные_швы/dataset/7 (157).jpg: 1024x576 12 прилегающие дефектыs, 19.5ms\n",
      "Speed: 2.9ms preprocess, 19.5ms inference, 1.0ms postprocess per image at shape (1, 3, 1024, 576)\n"
     ]
    },
    {
     "name": "stderr",
     "output_type": "stream",
     "text": [
      "  9%|███▌                                    | 103/1162 [00:37<08:30,  2.08it/s]"
     ]
    },
    {
     "name": "stdout",
     "output_type": "stream",
     "text": [
      "\n",
      "image 1/1 /mnt/SSD/workspace/atomic_hack/Сварные_швы/dataset/1 (5).jpg: 576x1024 11 прилегающие дефектыs, 25.3ms\n",
      "Speed: 2.3ms preprocess, 25.3ms inference, 0.8ms postprocess per image at shape (1, 3, 576, 1024)\n"
     ]
    },
    {
     "name": "stderr",
     "output_type": "stream",
     "text": [
      "  9%|███▌                                    | 104/1162 [00:38<09:41,  1.82it/s]"
     ]
    },
    {
     "name": "stdout",
     "output_type": "stream",
     "text": [
      "\n",
      "image 1/1 /mnt/SSD/workspace/atomic_hack/Сварные_швы/dataset/3 (43).jpg: 576x1024 2 прилегающие дефектыs, 21.1ms\n",
      "Speed: 2.7ms preprocess, 21.1ms inference, 0.7ms postprocess per image at shape (1, 3, 576, 1024)\n"
     ]
    },
    {
     "name": "stderr",
     "output_type": "stream",
     "text": [
      "  9%|███▌                                    | 105/1162 [00:38<07:54,  2.23it/s]"
     ]
    },
    {
     "name": "stdout",
     "output_type": "stream",
     "text": [
      "\n",
      "image 1/1 /mnt/SSD/workspace/atomic_hack/Сварные_швы/dataset/6 (47).jpg: 1024x576 1 прилегающие дефекты, 19.8ms\n",
      "Speed: 2.9ms preprocess, 19.8ms inference, 0.7ms postprocess per image at shape (1, 3, 1024, 576)\n"
     ]
    },
    {
     "name": "stderr",
     "output_type": "stream",
     "text": [
      "  9%|███▋                                    | 106/1162 [00:38<06:32,  2.69it/s]"
     ]
    },
    {
     "name": "stdout",
     "output_type": "stream",
     "text": [
      "\n",
      "image 1/1 /mnt/SSD/workspace/atomic_hack/Сварные_швы/dataset/3 (19).jpg: 576x1024 (no detections), 20.7ms\n",
      "Speed: 2.7ms preprocess, 20.7ms inference, 0.3ms postprocess per image at shape (1, 3, 576, 1024)\n",
      "\n",
      "image 1/1 /mnt/SSD/workspace/atomic_hack/Сварные_швы/dataset/12 (17).jpg: 1024x576 7 прилегающие дефектыs, 21.6ms\n",
      "Speed: 2.8ms preprocess, 21.6ms inference, 0.8ms postprocess per image at shape (1, 3, 1024, 576)\n"
     ]
    },
    {
     "name": "stderr",
     "output_type": "stream",
     "text": [
      "  9%|███▋                                    | 108/1162 [00:39<05:48,  3.03it/s]"
     ]
    },
    {
     "name": "stdout",
     "output_type": "stream",
     "text": [
      "\n",
      "image 1/1 /mnt/SSD/workspace/atomic_hack/Сварные_швы/dataset/6 (58).jpg: 1024x576 3 прилегающие дефектыs, 20.2ms\n",
      "Speed: 2.9ms preprocess, 20.2ms inference, 0.7ms postprocess per image at shape (1, 3, 1024, 576)\n"
     ]
    },
    {
     "name": "stderr",
     "output_type": "stream",
     "text": [
      "  9%|███▊                                    | 109/1162 [00:39<05:30,  3.19it/s]"
     ]
    },
    {
     "name": "stdout",
     "output_type": "stream",
     "text": [
      "\n",
      "image 1/1 /mnt/SSD/workspace/atomic_hack/Сварные_швы/dataset/9 (29).jpg: 1024x576 1 прилегающие дефекты, 20.0ms\n",
      "Speed: 2.8ms preprocess, 20.0ms inference, 0.7ms postprocess per image at shape (1, 3, 1024, 576)\n"
     ]
    },
    {
     "name": "stderr",
     "output_type": "stream",
     "text": [
      "  9%|███▊                                    | 110/1162 [00:39<04:42,  3.73it/s]"
     ]
    },
    {
     "name": "stdout",
     "output_type": "stream",
     "text": [
      "\n",
      "image 1/1 /mnt/SSD/workspace/atomic_hack/Сварные_швы/dataset/7 (64).jpg: 1024x576 6 прилегающие дефектыs, 20.0ms\n",
      "Speed: 2.9ms preprocess, 20.0ms inference, 0.8ms postprocess per image at shape (1, 3, 1024, 576)\n"
     ]
    },
    {
     "name": "stderr",
     "output_type": "stream",
     "text": [
      " 10%|███▊                                    | 111/1162 [00:40<05:40,  3.09it/s]"
     ]
    },
    {
     "name": "stdout",
     "output_type": "stream",
     "text": [
      "\n",
      "image 1/1 /mnt/SSD/workspace/atomic_hack/Сварные_швы/dataset/7 (255).jpg: 1024x576 7 прилегающие дефектыs, 19.9ms\n",
      "Speed: 2.8ms preprocess, 19.9ms inference, 0.7ms postprocess per image at shape (1, 3, 1024, 576)\n"
     ]
    },
    {
     "name": "stderr",
     "output_type": "stream",
     "text": [
      " 10%|███▊                                    | 112/1162 [00:40<06:30,  2.69it/s]"
     ]
    },
    {
     "name": "stdout",
     "output_type": "stream",
     "text": [
      "\n",
      "image 1/1 /mnt/SSD/workspace/atomic_hack/Сварные_швы/dataset/4 (27).jpg: 576x1024 (no detections), 21.1ms\n",
      "Speed: 2.8ms preprocess, 21.1ms inference, 0.3ms postprocess per image at shape (1, 3, 576, 1024)\n",
      "\n",
      "image 1/1 /mnt/SSD/workspace/atomic_hack/Сварные_швы/dataset/8 (106).jpg: 1024x576 2 прилегающие дефектыs, 20.7ms\n",
      "Speed: 2.9ms preprocess, 20.7ms inference, 0.7ms postprocess per image at shape (1, 3, 1024, 576)\n"
     ]
    },
    {
     "name": "stderr",
     "output_type": "stream",
     "text": [
      " 10%|███▉                                    | 114/1162 [00:41<04:38,  3.76it/s]"
     ]
    },
    {
     "name": "stdout",
     "output_type": "stream",
     "text": [
      "\n",
      "image 1/1 /mnt/SSD/workspace/atomic_hack/Сварные_швы/dataset/7 (147).jpg: 1024x576 12 прилегающие дефектыs, 20.1ms\n",
      "Speed: 2.9ms preprocess, 20.1ms inference, 0.7ms postprocess per image at shape (1, 3, 1024, 576)\n"
     ]
    },
    {
     "name": "stderr",
     "output_type": "stream",
     "text": [
      " 10%|███▉                                    | 115/1162 [00:42<07:09,  2.44it/s]"
     ]
    },
    {
     "name": "stdout",
     "output_type": "stream",
     "text": [
      "\n",
      "image 1/1 /mnt/SSD/workspace/atomic_hack/Сварные_швы/dataset/7 (248).jpg: 1024x576 10 прилегающие дефектыs, 20.9ms\n",
      "Speed: 2.9ms preprocess, 20.9ms inference, 1.4ms postprocess per image at shape (1, 3, 1024, 576)\n"
     ]
    },
    {
     "name": "stderr",
     "output_type": "stream",
     "text": [
      " 10%|███▉                                    | 116/1162 [00:42<08:24,  2.07it/s]"
     ]
    },
    {
     "name": "stdout",
     "output_type": "stream",
     "text": [
      "\n",
      "image 1/1 /mnt/SSD/workspace/atomic_hack/Сварные_швы/dataset/7 (7).jpg: 1024x576 12 прилегающие дефектыs, 19.9ms\n",
      "Speed: 2.9ms preprocess, 19.9ms inference, 0.7ms postprocess per image at shape (1, 3, 1024, 576)\n"
     ]
    },
    {
     "name": "stderr",
     "output_type": "stream",
     "text": [
      " 10%|████                                    | 117/1162 [00:43<10:05,  1.73it/s]"
     ]
    },
    {
     "name": "stdout",
     "output_type": "stream",
     "text": [
      "\n",
      "image 1/1 /mnt/SSD/workspace/atomic_hack/Сварные_швы/dataset/9 (24).jpg: 1024x576 3 прилегающие дефектыs, 20.7ms\n",
      "Speed: 2.9ms preprocess, 20.7ms inference, 0.8ms postprocess per image at shape (1, 3, 1024, 576)\n"
     ]
    },
    {
     "name": "stderr",
     "output_type": "stream",
     "text": [
      " 10%|████                                    | 118/1162 [00:43<08:49,  1.97it/s]"
     ]
    },
    {
     "name": "stdout",
     "output_type": "stream",
     "text": [
      "\n",
      "image 1/1 /mnt/SSD/workspace/atomic_hack/Сварные_швы/dataset/3 (35).jpg: 576x1024 2 прилегающие дефектыs, 21.3ms\n",
      "Speed: 2.7ms preprocess, 21.3ms inference, 0.7ms postprocess per image at shape (1, 3, 576, 1024)\n"
     ]
    },
    {
     "name": "stderr",
     "output_type": "stream",
     "text": [
      " 10%|████                                    | 119/1162 [00:44<07:20,  2.37it/s]"
     ]
    },
    {
     "name": "stdout",
     "output_type": "stream",
     "text": [
      "\n",
      "image 1/1 /mnt/SSD/workspace/atomic_hack/Сварные_швы/dataset/5 (144).jpg: 576x1024 1 прилегающие дефекты, 21.5ms\n",
      "Speed: 2.8ms preprocess, 21.5ms inference, 0.7ms postprocess per image at shape (1, 3, 576, 1024)\n"
     ]
    },
    {
     "name": "stderr",
     "output_type": "stream",
     "text": [
      " 10%|████▏                                   | 120/1162 [00:44<05:54,  2.94it/s]"
     ]
    },
    {
     "name": "stdout",
     "output_type": "stream",
     "text": [
      "\n",
      "image 1/1 /mnt/SSD/workspace/atomic_hack/Сварные_швы/dataset/7 (81).jpg: 1024x576 4 прилегающие дефектыs, 20.0ms\n",
      "Speed: 46.1ms preprocess, 20.0ms inference, 1.0ms postprocess per image at shape (1, 3, 1024, 576)\n"
     ]
    },
    {
     "name": "stderr",
     "output_type": "stream",
     "text": [
      " 10%|████▏                                   | 121/1162 [00:44<06:02,  2.87it/s]"
     ]
    },
    {
     "name": "stdout",
     "output_type": "stream",
     "text": [
      "\n",
      "image 1/1 /mnt/SSD/workspace/atomic_hack/Сварные_швы/dataset/4 (79).jpg: 576x1024 10 прилегающие дефектыs, 21.6ms\n",
      "Speed: 2.8ms preprocess, 21.6ms inference, 0.7ms postprocess per image at shape (1, 3, 576, 1024)\n"
     ]
    },
    {
     "name": "stderr",
     "output_type": "stream",
     "text": [
      " 10%|████▏                                   | 122/1162 [00:45<07:46,  2.23it/s]"
     ]
    },
    {
     "name": "stdout",
     "output_type": "stream",
     "text": [
      "\n",
      "image 1/1 /mnt/SSD/workspace/atomic_hack/Сварные_швы/dataset/7 (139).jpg: 1024x576 5 прилегающие дефектыs, 19.8ms\n",
      "Speed: 2.9ms preprocess, 19.8ms inference, 0.9ms postprocess per image at shape (1, 3, 1024, 576)\n"
     ]
    },
    {
     "name": "stderr",
     "output_type": "stream",
     "text": [
      " 11%|████▏                                   | 123/1162 [00:45<07:25,  2.33it/s]"
     ]
    },
    {
     "name": "stdout",
     "output_type": "stream",
     "text": [
      "\n",
      "image 1/1 /mnt/SSD/workspace/atomic_hack/Сварные_швы/dataset/4 (14).jpg: 576x1024 1 прилегающие дефекты, 21.2ms\n",
      "Speed: 2.8ms preprocess, 21.2ms inference, 0.7ms postprocess per image at shape (1, 3, 576, 1024)\n"
     ]
    },
    {
     "name": "stderr",
     "output_type": "stream",
     "text": [
      " 11%|████▎                                   | 124/1162 [00:45<05:54,  2.93it/s]"
     ]
    },
    {
     "name": "stdout",
     "output_type": "stream",
     "text": [
      "\n",
      "image 1/1 /mnt/SSD/workspace/atomic_hack/Сварные_швы/dataset/3 (1).jpg: 576x1024 8 прилегающие дефектыs, 21.4ms\n",
      "Speed: 2.8ms preprocess, 21.4ms inference, 0.7ms postprocess per image at shape (1, 3, 576, 1024)\n"
     ]
    },
    {
     "name": "stderr",
     "output_type": "stream",
     "text": [
      " 11%|████▎                                   | 125/1162 [00:46<07:19,  2.36it/s]"
     ]
    },
    {
     "name": "stdout",
     "output_type": "stream",
     "text": [
      "\n",
      "image 1/1 /mnt/SSD/workspace/atomic_hack/Сварные_швы/dataset/4 (92).jpg: 576x1024 11 прилегающие дефектыs, 21.3ms\n",
      "Speed: 2.9ms preprocess, 21.3ms inference, 0.8ms postprocess per image at shape (1, 3, 576, 1024)\n"
     ]
    },
    {
     "name": "stderr",
     "output_type": "stream",
     "text": [
      " 11%|████▎                                   | 126/1162 [00:47<08:59,  1.92it/s]"
     ]
    },
    {
     "name": "stdout",
     "output_type": "stream",
     "text": [
      "\n",
      "image 1/1 /mnt/SSD/workspace/atomic_hack/Сварные_швы/dataset/7 (85).jpg: 1024x576 4 прилегающие дефектыs, 19.7ms\n",
      "Speed: 2.8ms preprocess, 19.7ms inference, 1.1ms postprocess per image at shape (1, 3, 1024, 576)\n"
     ]
    },
    {
     "name": "stderr",
     "output_type": "stream",
     "text": [
      " 11%|████▎                                   | 127/1162 [00:47<07:58,  2.16it/s]"
     ]
    },
    {
     "name": "stdout",
     "output_type": "stream",
     "text": [
      "\n",
      "image 1/1 /mnt/SSD/workspace/atomic_hack/Сварные_швы/dataset/4 (114).jpg: 576x1024 7 прилегающие дефектыs, 21.3ms\n",
      "Speed: 2.8ms preprocess, 21.3ms inference, 0.7ms postprocess per image at shape (1, 3, 576, 1024)\n"
     ]
    },
    {
     "name": "stderr",
     "output_type": "stream",
     "text": [
      " 11%|████▍                                   | 128/1162 [00:48<08:09,  2.11it/s]"
     ]
    },
    {
     "name": "stdout",
     "output_type": "stream",
     "text": [
      "\n",
      "image 1/1 /mnt/SSD/workspace/atomic_hack/Сварные_швы/dataset/5 (115).jpg: 576x1024 1 прилегающие дефекты, 21.6ms\n",
      "Speed: 2.7ms preprocess, 21.6ms inference, 0.7ms postprocess per image at shape (1, 3, 576, 1024)\n"
     ]
    },
    {
     "name": "stderr",
     "output_type": "stream",
     "text": [
      " 11%|████▍                                   | 129/1162 [00:48<06:25,  2.68it/s]"
     ]
    },
    {
     "name": "stdout",
     "output_type": "stream",
     "text": [
      "\n",
      "image 1/1 /mnt/SSD/workspace/atomic_hack/Сварные_швы/dataset/7 (82).jpg: 1024x576 6 прилегающие дефектыs, 20.4ms\n",
      "Speed: 3.1ms preprocess, 20.4ms inference, 0.7ms postprocess per image at shape (1, 3, 1024, 576)\n"
     ]
    },
    {
     "name": "stderr",
     "output_type": "stream",
     "text": [
      " 11%|████▍                                   | 130/1162 [00:48<06:46,  2.54it/s]"
     ]
    },
    {
     "name": "stdout",
     "output_type": "stream",
     "text": [
      "\n",
      "image 1/1 /mnt/SSD/workspace/atomic_hack/Сварные_швы/dataset/11 (30).jpg: 1024x576 1 прилегающие дефекты, 20.3ms\n",
      "Speed: 2.8ms preprocess, 20.3ms inference, 0.7ms postprocess per image at shape (1, 3, 1024, 576)\n"
     ]
    },
    {
     "name": "stderr",
     "output_type": "stream",
     "text": [
      " 11%|████▌                                   | 131/1162 [00:48<05:24,  3.18it/s]"
     ]
    },
    {
     "name": "stdout",
     "output_type": "stream",
     "text": [
      "\n",
      "image 1/1 /mnt/SSD/workspace/atomic_hack/Сварные_швы/dataset/7 (217).jpg: 1024x576 4 прилегающие дефектыs, 20.2ms\n",
      "Speed: 2.8ms preprocess, 20.2ms inference, 0.8ms postprocess per image at shape (1, 3, 1024, 576)\n"
     ]
    },
    {
     "name": "stderr",
     "output_type": "stream",
     "text": [
      " 11%|████▌                                   | 132/1162 [00:49<05:28,  3.14it/s]"
     ]
    },
    {
     "name": "stdout",
     "output_type": "stream",
     "text": [
      "\n",
      "image 1/1 /mnt/SSD/workspace/atomic_hack/Сварные_швы/dataset/7 (130).jpg: 1024x576 6 прилегающие дефектыs, 22.7ms\n",
      "Speed: 41.9ms preprocess, 22.7ms inference, 0.8ms postprocess per image at shape (1, 3, 1024, 576)\n"
     ]
    },
    {
     "name": "stderr",
     "output_type": "stream",
     "text": [
      " 11%|████▌                                   | 133/1162 [00:49<06:20,  2.70it/s]"
     ]
    },
    {
     "name": "stdout",
     "output_type": "stream",
     "text": [
      "\n",
      "image 1/1 /mnt/SSD/workspace/atomic_hack/Сварные_швы/dataset/5 (218).jpg: 576x1024 6 прилегающие дефектыs, 21.5ms\n",
      "Speed: 2.8ms preprocess, 21.5ms inference, 0.7ms postprocess per image at shape (1, 3, 576, 1024)\n"
     ]
    },
    {
     "name": "stderr",
     "output_type": "stream",
     "text": [
      " 12%|████▌                                   | 134/1162 [00:49<06:42,  2.56it/s]"
     ]
    },
    {
     "name": "stdout",
     "output_type": "stream",
     "text": [
      "\n",
      "image 1/1 /mnt/SSD/workspace/atomic_hack/Сварные_швы/dataset/7 (228).jpg: 1024x576 6 прилегающие дефектыs, 20.1ms\n",
      "Speed: 2.7ms preprocess, 20.1ms inference, 0.7ms postprocess per image at shape (1, 3, 1024, 576)\n"
     ]
    },
    {
     "name": "stderr",
     "output_type": "stream",
     "text": [
      " 12%|████▋                                   | 135/1162 [00:50<06:59,  2.45it/s]"
     ]
    },
    {
     "name": "stdout",
     "output_type": "stream",
     "text": [
      "\n",
      "image 1/1 /mnt/SSD/workspace/atomic_hack/Сварные_швы/dataset/7 (175).jpg: 1024x576 4 прилегающие дефектыs, 20.4ms\n",
      "Speed: 2.9ms preprocess, 20.4ms inference, 0.7ms postprocess per image at shape (1, 3, 1024, 576)\n"
     ]
    },
    {
     "name": "stderr",
     "output_type": "stream",
     "text": [
      " 12%|████▋                                   | 136/1162 [00:50<06:33,  2.61it/s]"
     ]
    },
    {
     "name": "stdout",
     "output_type": "stream",
     "text": [
      "\n",
      "image 1/1 /mnt/SSD/workspace/atomic_hack/Сварные_швы/dataset/11 (36).jpg: 1024x576 1 прилегающие дефекты, 20.3ms\n",
      "Speed: 2.8ms preprocess, 20.3ms inference, 0.7ms postprocess per image at shape (1, 3, 1024, 576)\n"
     ]
    },
    {
     "name": "stderr",
     "output_type": "stream",
     "text": [
      " 12%|████▋                                   | 137/1162 [00:50<05:15,  3.25it/s]"
     ]
    },
    {
     "name": "stdout",
     "output_type": "stream",
     "text": [
      "\n",
      "image 1/1 /mnt/SSD/workspace/atomic_hack/Сварные_швы/dataset/4 (142).jpg: 576x1024 4 прилегающие дефектыs, 22.9ms\n",
      "Speed: 13.2ms preprocess, 22.9ms inference, 0.7ms postprocess per image at shape (1, 3, 576, 1024)\n"
     ]
    },
    {
     "name": "stderr",
     "output_type": "stream",
     "text": [
      " 12%|████▊                                   | 138/1162 [00:51<05:23,  3.17it/s]"
     ]
    },
    {
     "name": "stdout",
     "output_type": "stream",
     "text": [
      "\n",
      "image 1/1 /mnt/SSD/workspace/atomic_hack/Сварные_швы/dataset/11 (17).jpg: 1024x576 1 прилегающие дефекты, 20.2ms\n",
      "Speed: 2.7ms preprocess, 20.2ms inference, 0.7ms postprocess per image at shape (1, 3, 1024, 576)\n"
     ]
    },
    {
     "name": "stderr",
     "output_type": "stream",
     "text": [
      " 12%|████▊                                   | 139/1162 [00:51<04:25,  3.85it/s]"
     ]
    },
    {
     "name": "stdout",
     "output_type": "stream",
     "text": [
      "\n",
      "image 1/1 /mnt/SSD/workspace/atomic_hack/Сварные_швы/dataset/5 (55).jpg: 576x1024 3 прилегающие дефектыs, 21.4ms\n",
      "Speed: 2.8ms preprocess, 21.4ms inference, 1.0ms postprocess per image at shape (1, 3, 576, 1024)\n"
     ]
    },
    {
     "name": "stderr",
     "output_type": "stream",
     "text": [
      " 12%|████▊                                   | 140/1162 [00:51<04:26,  3.83it/s]"
     ]
    },
    {
     "name": "stdout",
     "output_type": "stream",
     "text": [
      "\n",
      "image 1/1 /mnt/SSD/workspace/atomic_hack/Сварные_швы/dataset/7 (149).jpg: 1024x576 16 прилегающие дефектыs, 20.3ms\n",
      "Speed: 2.9ms preprocess, 20.3ms inference, 0.7ms postprocess per image at shape (1, 3, 1024, 576)\n"
     ]
    },
    {
     "name": "stderr",
     "output_type": "stream",
     "text": [
      " 12%|████▊                                   | 141/1162 [00:52<08:35,  1.98it/s]"
     ]
    },
    {
     "name": "stdout",
     "output_type": "stream",
     "text": [
      "\n",
      "image 1/1 /mnt/SSD/workspace/atomic_hack/Сварные_швы/dataset/8 (109).jpg: 1024x576 3 прилегающие дефектыs, 24.1ms\n",
      "Speed: 6.8ms preprocess, 24.1ms inference, 0.7ms postprocess per image at shape (1, 3, 1024, 576)\n"
     ]
    },
    {
     "name": "stderr",
     "output_type": "stream",
     "text": [
      " 12%|████▉                                   | 142/1162 [00:52<07:22,  2.30it/s]"
     ]
    },
    {
     "name": "stdout",
     "output_type": "stream",
     "text": [
      "\n",
      "image 1/1 /mnt/SSD/workspace/atomic_hack/Сварные_швы/dataset/7 (6).jpg: 1024x576 14 прилегающие дефектыs, 20.1ms\n",
      "Speed: 2.9ms preprocess, 20.1ms inference, 0.7ms postprocess per image at shape (1, 3, 1024, 576)\n"
     ]
    },
    {
     "name": "stderr",
     "output_type": "stream",
     "text": [
      " 12%|████▉                                   | 143/1162 [00:53<09:54,  1.71it/s]"
     ]
    },
    {
     "name": "stdout",
     "output_type": "stream",
     "text": [
      "\n",
      "image 1/1 /mnt/SSD/workspace/atomic_hack/Сварные_швы/dataset/4 (35).jpg: 576x1024 6 прилегающие дефектыs, 22.6ms\n",
      "Speed: 3.7ms preprocess, 22.6ms inference, 0.7ms postprocess per image at shape (1, 3, 576, 1024)\n"
     ]
    },
    {
     "name": "stderr",
     "output_type": "stream",
     "text": [
      " 12%|████▉                                   | 144/1162 [00:54<09:14,  1.84it/s]"
     ]
    },
    {
     "name": "stdout",
     "output_type": "stream",
     "text": [
      "\n",
      "image 1/1 /mnt/SSD/workspace/atomic_hack/Сварные_швы/dataset/4 (63).jpg: 576x1024 3 прилегающие дефектыs, 21.2ms\n",
      "Speed: 2.8ms preprocess, 21.2ms inference, 0.7ms postprocess per image at shape (1, 3, 576, 1024)\n"
     ]
    },
    {
     "name": "stderr",
     "output_type": "stream",
     "text": [
      " 12%|████▉                                   | 145/1162 [00:54<07:47,  2.17it/s]"
     ]
    },
    {
     "name": "stdout",
     "output_type": "stream",
     "text": [
      "\n",
      "image 1/1 /mnt/SSD/workspace/atomic_hack/Сварные_швы/dataset/4 (115).jpg: 576x1024 6 прилегающие дефектыs, 21.1ms\n",
      "Speed: 2.8ms preprocess, 21.1ms inference, 0.7ms postprocess per image at shape (1, 3, 576, 1024)\n"
     ]
    },
    {
     "name": "stderr",
     "output_type": "stream",
     "text": [
      " 13%|█████                                   | 146/1162 [00:55<07:42,  2.20it/s]"
     ]
    },
    {
     "name": "stdout",
     "output_type": "stream",
     "text": [
      "\n",
      "image 1/1 /mnt/SSD/workspace/atomic_hack/Сварные_швы/dataset/4 (103).jpg: 576x1024 12 прилегающие дефектыs, 22.9ms\n",
      "Speed: 44.0ms preprocess, 22.9ms inference, 0.7ms postprocess per image at shape (1, 3, 576, 1024)\n"
     ]
    },
    {
     "name": "stderr",
     "output_type": "stream",
     "text": [
      " 13%|█████                                   | 147/1162 [00:55<09:46,  1.73it/s]"
     ]
    },
    {
     "name": "stdout",
     "output_type": "stream",
     "text": [
      "\n",
      "image 1/1 /mnt/SSD/workspace/atomic_hack/Сварные_швы/dataset/6 (13).jpg: 1024x576 3 прилегающие дефектыs, 20.2ms\n",
      "Speed: 3.2ms preprocess, 20.2ms inference, 0.8ms postprocess per image at shape (1, 3, 1024, 576)\n"
     ]
    },
    {
     "name": "stderr",
     "output_type": "stream",
     "text": [
      " 13%|█████                                   | 148/1162 [00:56<08:09,  2.07it/s]"
     ]
    },
    {
     "name": "stdout",
     "output_type": "stream",
     "text": [
      "\n",
      "image 1/1 /mnt/SSD/workspace/atomic_hack/Сварные_швы/dataset/7 (89).jpg: 1024x576 2 прилегающие дефектыs, 20.3ms\n",
      "Speed: 3.1ms preprocess, 20.3ms inference, 0.7ms postprocess per image at shape (1, 3, 1024, 576)\n"
     ]
    },
    {
     "name": "stderr",
     "output_type": "stream",
     "text": [
      " 13%|█████▏                                  | 149/1162 [00:56<06:59,  2.41it/s]"
     ]
    },
    {
     "name": "stdout",
     "output_type": "stream",
     "text": [
      "\n",
      "image 1/1 /mnt/SSD/workspace/atomic_hack/Сварные_швы/dataset/11 (5).jpg: 1024x576 1 прилегающие дефекты, 20.4ms\n",
      "Speed: 3.1ms preprocess, 20.4ms inference, 0.7ms postprocess per image at shape (1, 3, 1024, 576)\n"
     ]
    },
    {
     "name": "stderr",
     "output_type": "stream",
     "text": [
      " 13%|█████▏                                  | 150/1162 [00:56<05:33,  3.04it/s]"
     ]
    },
    {
     "name": "stdout",
     "output_type": "stream",
     "text": [
      "\n",
      "image 1/1 /mnt/SSD/workspace/atomic_hack/Сварные_швы/dataset/9 (73).jpg: 1024x576 1 прилегающие дефекты, 20.4ms\n",
      "Speed: 3.0ms preprocess, 20.4ms inference, 0.7ms postprocess per image at shape (1, 3, 1024, 576)\n"
     ]
    },
    {
     "name": "stderr",
     "output_type": "stream",
     "text": [
      " 13%|█████▏                                  | 151/1162 [00:56<04:32,  3.71it/s]"
     ]
    },
    {
     "name": "stdout",
     "output_type": "stream",
     "text": [
      "\n",
      "image 1/1 /mnt/SSD/workspace/atomic_hack/Сварные_швы/dataset/4 (110).jpg: 576x1024 8 прилегающие дефектыs, 21.6ms\n",
      "Speed: 2.8ms preprocess, 21.6ms inference, 0.7ms postprocess per image at shape (1, 3, 576, 1024)\n"
     ]
    },
    {
     "name": "stderr",
     "output_type": "stream",
     "text": [
      " 13%|█████▏                                  | 152/1162 [00:57<06:10,  2.73it/s]"
     ]
    },
    {
     "name": "stdout",
     "output_type": "stream",
     "text": [
      "\n",
      "image 1/1 /mnt/SSD/workspace/atomic_hack/Сварные_швы/dataset/11 (61).jpg: 1024x576 2 прилегающие дефектыs, 25.1ms\n",
      "Speed: 3.1ms preprocess, 25.1ms inference, 0.7ms postprocess per image at shape (1, 3, 1024, 576)\n"
     ]
    },
    {
     "name": "stderr",
     "output_type": "stream",
     "text": [
      " 13%|█████▎                                  | 153/1162 [00:57<05:42,  2.94it/s]"
     ]
    },
    {
     "name": "stdout",
     "output_type": "stream",
     "text": [
      "\n",
      "image 1/1 /mnt/SSD/workspace/atomic_hack/Сварные_швы/dataset/5 (146).jpg: 576x1024 4 прилегающие дефектыs, 22.6ms\n",
      "Speed: 2.8ms preprocess, 22.6ms inference, 0.7ms postprocess per image at shape (1, 3, 576, 1024)\n"
     ]
    },
    {
     "name": "stderr",
     "output_type": "stream",
     "text": [
      " 13%|█████▎                                  | 154/1162 [00:57<05:40,  2.96it/s]"
     ]
    },
    {
     "name": "stdout",
     "output_type": "stream",
     "text": [
      "\n",
      "image 1/1 /mnt/SSD/workspace/atomic_hack/Сварные_швы/dataset/2 (5).jpg: 576x1024 11 прилегающие дефектыs, 24.9ms\n",
      "Speed: 2.5ms preprocess, 24.9ms inference, 1.0ms postprocess per image at shape (1, 3, 576, 1024)\n"
     ]
    },
    {
     "name": "stderr",
     "output_type": "stream",
     "text": [
      " 13%|█████▎                                  | 155/1162 [00:58<08:03,  2.08it/s]"
     ]
    },
    {
     "name": "stdout",
     "output_type": "stream",
     "text": [
      "\n",
      "image 1/1 /mnt/SSD/workspace/atomic_hack/Сварные_швы/dataset/5 (88).jpg: 576x1024 1 прилегающие дефекты, 21.1ms\n",
      "Speed: 2.7ms preprocess, 21.1ms inference, 0.7ms postprocess per image at shape (1, 3, 576, 1024)\n"
     ]
    },
    {
     "name": "stderr",
     "output_type": "stream",
     "text": [
      " 13%|█████▎                                  | 156/1162 [00:58<06:18,  2.66it/s]"
     ]
    },
    {
     "name": "stdout",
     "output_type": "stream",
     "text": [
      "\n",
      "image 1/1 /mnt/SSD/workspace/atomic_hack/Сварные_швы/dataset/8 (39).jpg: 1024x576 3 прилегающие дефектыs, 21.1ms\n",
      "Speed: 3.5ms preprocess, 21.1ms inference, 0.8ms postprocess per image at shape (1, 3, 1024, 576)\n"
     ]
    },
    {
     "name": "stderr",
     "output_type": "stream",
     "text": [
      " 14%|█████▍                                  | 157/1162 [00:59<05:57,  2.81it/s]"
     ]
    },
    {
     "name": "stdout",
     "output_type": "stream",
     "text": [
      "\n",
      "image 1/1 /mnt/SSD/workspace/atomic_hack/Сварные_швы/dataset/6 (70).jpg: 1024x576 (no detections), 20.1ms\n",
      "Speed: 3.0ms preprocess, 20.1ms inference, 0.3ms postprocess per image at shape (1, 3, 1024, 576)\n",
      "\n",
      "image 1/1 /mnt/SSD/workspace/atomic_hack/Сварные_швы/dataset/6 (12).jpg: 1024x576 3 прилегающие дефектыs, 20.1ms\n",
      "Speed: 3.2ms preprocess, 20.1ms inference, 0.8ms postprocess per image at shape (1, 3, 1024, 576)\n"
     ]
    },
    {
     "name": "stderr",
     "output_type": "stream",
     "text": [
      " 14%|█████▍                                  | 159/1162 [00:59<04:27,  3.76it/s]"
     ]
    },
    {
     "name": "stdout",
     "output_type": "stream",
     "text": [
      "\n",
      "image 1/1 /mnt/SSD/workspace/atomic_hack/Сварные_швы/dataset/12 (69).jpg: 1024x576 5 прилегающие дефектыs, 20.2ms\n",
      "Speed: 3.0ms preprocess, 20.2ms inference, 0.8ms postprocess per image at shape (1, 3, 1024, 576)\n"
     ]
    },
    {
     "name": "stderr",
     "output_type": "stream",
     "text": [
      " 14%|█████▌                                  | 160/1162 [00:59<04:55,  3.39it/s]"
     ]
    },
    {
     "name": "stdout",
     "output_type": "stream",
     "text": [
      "\n",
      "image 1/1 /mnt/SSD/workspace/atomic_hack/Сварные_швы/dataset/3 (20).jpg: 576x1024 1 прилегающие дефекты, 20.5ms\n",
      "Speed: 2.8ms preprocess, 20.5ms inference, 0.7ms postprocess per image at shape (1, 3, 576, 1024)\n"
     ]
    },
    {
     "name": "stderr",
     "output_type": "stream",
     "text": [
      " 14%|█████▌                                  | 161/1162 [00:59<04:15,  3.91it/s]"
     ]
    },
    {
     "name": "stdout",
     "output_type": "stream",
     "text": [
      "\n",
      "image 1/1 /mnt/SSD/workspace/atomic_hack/Сварные_швы/dataset/9 (13).jpg: 1024x576 7 прилегающие дефектыs, 20.0ms\n",
      "Speed: 3.0ms preprocess, 20.0ms inference, 0.8ms postprocess per image at shape (1, 3, 1024, 576)\n"
     ]
    },
    {
     "name": "stderr",
     "output_type": "stream",
     "text": [
      " 14%|█████▌                                  | 162/1162 [01:00<05:23,  3.09it/s]"
     ]
    },
    {
     "name": "stdout",
     "output_type": "stream",
     "text": [
      "\n",
      "image 1/1 /mnt/SSD/workspace/atomic_hack/Сварные_швы/dataset/5 (99).jpg: 576x1024 1 прилегающие дефекты, 24.0ms\n",
      "Speed: 2.8ms preprocess, 24.0ms inference, 1.2ms postprocess per image at shape (1, 3, 576, 1024)\n"
     ]
    },
    {
     "name": "stderr",
     "output_type": "stream",
     "text": [
      " 14%|█████▌                                  | 163/1162 [01:00<04:37,  3.60it/s]"
     ]
    },
    {
     "name": "stdout",
     "output_type": "stream",
     "text": [
      "\n",
      "image 1/1 /mnt/SSD/workspace/atomic_hack/Сварные_швы/dataset/4 (112).jpg: 576x1024 8 прилегающие дефектыs, 25.1ms\n",
      "Speed: 3.0ms preprocess, 25.1ms inference, 0.9ms postprocess per image at shape (1, 3, 576, 1024)\n"
     ]
    },
    {
     "name": "stderr",
     "output_type": "stream",
     "text": [
      " 14%|█████▋                                  | 164/1162 [01:01<06:28,  2.57it/s]"
     ]
    },
    {
     "name": "stdout",
     "output_type": "stream",
     "text": [
      "\n",
      "image 1/1 /mnt/SSD/workspace/atomic_hack/Сварные_швы/dataset/8 (31).jpg: 1024x576 1 прилегающие дефекты, 21.9ms\n",
      "Speed: 3.1ms preprocess, 21.9ms inference, 0.7ms postprocess per image at shape (1, 3, 1024, 576)\n"
     ]
    },
    {
     "name": "stderr",
     "output_type": "stream",
     "text": [
      " 14%|█████▋                                  | 165/1162 [01:01<05:16,  3.15it/s]"
     ]
    },
    {
     "name": "stdout",
     "output_type": "stream",
     "text": [
      "\n",
      "image 1/1 /mnt/SSD/workspace/atomic_hack/Сварные_швы/dataset/7 (171).jpg: 1024x576 3 прилегающие дефектыs, 23.6ms\n",
      "Speed: 3.2ms preprocess, 23.6ms inference, 0.9ms postprocess per image at shape (1, 3, 1024, 576)\n"
     ]
    },
    {
     "name": "stderr",
     "output_type": "stream",
     "text": [
      " 14%|█████▋                                  | 166/1162 [01:01<05:18,  3.12it/s]"
     ]
    },
    {
     "name": "stdout",
     "output_type": "stream",
     "text": [
      "\n",
      "image 1/1 /mnt/SSD/workspace/atomic_hack/Сварные_швы/dataset/7 (213).jpg: 1024x576 5 прилегающие дефектыs, 20.3ms\n",
      "Speed: 3.1ms preprocess, 20.3ms inference, 0.7ms postprocess per image at shape (1, 3, 1024, 576)\n"
     ]
    },
    {
     "name": "stderr",
     "output_type": "stream",
     "text": [
      " 14%|█████▋                                  | 167/1162 [01:02<05:46,  2.87it/s]"
     ]
    },
    {
     "name": "stdout",
     "output_type": "stream",
     "text": [
      "\n",
      "image 1/1 /mnt/SSD/workspace/atomic_hack/Сварные_швы/dataset/9 (32).jpg: 1024x576 1 прилегающие дефекты, 20.2ms\n",
      "Speed: 3.2ms preprocess, 20.2ms inference, 0.8ms postprocess per image at shape (1, 3, 1024, 576)\n"
     ]
    },
    {
     "name": "stderr",
     "output_type": "stream",
     "text": [
      " 14%|█████▊                                  | 168/1162 [01:02<04:54,  3.38it/s]"
     ]
    },
    {
     "name": "stdout",
     "output_type": "stream",
     "text": [
      "\n",
      "image 1/1 /mnt/SSD/workspace/atomic_hack/Сварные_швы/dataset/7 (42).jpg: 1024x576 12 прилегающие дефектыs, 22.0ms\n",
      "Speed: 4.0ms preprocess, 22.0ms inference, 1.1ms postprocess per image at shape (1, 3, 1024, 576)\n"
     ]
    },
    {
     "name": "stderr",
     "output_type": "stream",
     "text": [
      " 15%|█████▊                                  | 169/1162 [01:03<07:51,  2.10it/s]"
     ]
    },
    {
     "name": "stdout",
     "output_type": "stream",
     "text": [
      "\n",
      "image 1/1 /mnt/SSD/workspace/atomic_hack/Сварные_швы/dataset/6 (55).jpg: 1024x576 3 прилегающие дефектыs, 23.7ms\n",
      "Speed: 3.4ms preprocess, 23.7ms inference, 0.8ms postprocess per image at shape (1, 3, 1024, 576)\n"
     ]
    },
    {
     "name": "stderr",
     "output_type": "stream",
     "text": [
      " 15%|█████▊                                  | 170/1162 [01:03<07:07,  2.32it/s]"
     ]
    },
    {
     "name": "stdout",
     "output_type": "stream",
     "text": [
      "\n",
      "image 1/1 /mnt/SSD/workspace/atomic_hack/Сварные_швы/dataset/8 (23).jpg: 1024x576 3 прилегающие дефектыs, 24.6ms\n",
      "Speed: 3.2ms preprocess, 24.6ms inference, 0.9ms postprocess per image at shape (1, 3, 1024, 576)\n"
     ]
    },
    {
     "name": "stderr",
     "output_type": "stream",
     "text": [
      " 15%|█████▉                                  | 171/1162 [01:03<06:29,  2.55it/s]"
     ]
    },
    {
     "name": "stdout",
     "output_type": "stream",
     "text": [
      "\n",
      "image 1/1 /mnt/SSD/workspace/atomic_hack/Сварные_швы/dataset/6 (35).jpg: 1024x576 2 прилегающие дефектыs, 20.4ms\n",
      "Speed: 3.1ms preprocess, 20.4ms inference, 0.9ms postprocess per image at shape (1, 3, 1024, 576)\n"
     ]
    },
    {
     "name": "stderr",
     "output_type": "stream",
     "text": [
      " 15%|█████▉                                  | 172/1162 [01:04<05:51,  2.82it/s]"
     ]
    },
    {
     "name": "stdout",
     "output_type": "stream",
     "text": [
      "\n",
      "image 1/1 /mnt/SSD/workspace/atomic_hack/Сварные_швы/dataset/7 (216).jpg: 1024x576 3 прилегающие дефектыs, 24.2ms\n",
      "Speed: 3.4ms preprocess, 24.2ms inference, 0.8ms postprocess per image at shape (1, 3, 1024, 576)\n"
     ]
    },
    {
     "name": "stderr",
     "output_type": "stream",
     "text": [
      " 15%|█████▉                                  | 173/1162 [01:04<05:39,  2.92it/s]"
     ]
    },
    {
     "name": "stdout",
     "output_type": "stream",
     "text": [
      "\n",
      "image 1/1 /mnt/SSD/workspace/atomic_hack/Сварные_швы/dataset/2 (4).jpg: 576x1024 11 прилегающие дефектыs, 23.8ms\n",
      "Speed: 3.0ms preprocess, 23.8ms inference, 1.6ms postprocess per image at shape (1, 3, 576, 1024)\n"
     ]
    },
    {
     "name": "stderr",
     "output_type": "stream",
     "text": [
      " 15%|█████▉                                  | 174/1162 [01:05<08:28,  1.94it/s]"
     ]
    },
    {
     "name": "stdout",
     "output_type": "stream",
     "text": [
      "\n",
      "image 1/1 /mnt/SSD/workspace/atomic_hack/Сварные_швы/dataset/11 (67).jpg: 1024x576 2 прилегающие дефектыs, 22.0ms\n",
      "Speed: 3.3ms preprocess, 22.0ms inference, 0.8ms postprocess per image at shape (1, 3, 1024, 576)\n"
     ]
    },
    {
     "name": "stderr",
     "output_type": "stream",
     "text": [
      " 15%|██████                                  | 175/1162 [01:05<07:02,  2.34it/s]"
     ]
    },
    {
     "name": "stdout",
     "output_type": "stream",
     "text": [
      "\n",
      "image 1/1 /mnt/SSD/workspace/atomic_hack/Сварные_швы/dataset/4 (84).jpg: 576x1024 14 прилегающие дефектыs, 23.1ms\n",
      "Speed: 2.8ms preprocess, 23.1ms inference, 0.8ms postprocess per image at shape (1, 3, 576, 1024)\n"
     ]
    },
    {
     "name": "stderr",
     "output_type": "stream",
     "text": [
      " 15%|██████                                  | 176/1162 [01:06<10:37,  1.55it/s]"
     ]
    },
    {
     "name": "stdout",
     "output_type": "stream",
     "text": [
      "\n",
      "image 1/1 /mnt/SSD/workspace/atomic_hack/Сварные_швы/dataset/5 (211).jpg: 576x1024 10 прилегающие дефектыs, 21.6ms\n",
      "Speed: 3.1ms preprocess, 21.6ms inference, 0.8ms postprocess per image at shape (1, 3, 576, 1024)\n"
     ]
    },
    {
     "name": "stderr",
     "output_type": "stream",
     "text": [
      " 15%|██████                                  | 177/1162 [01:07<11:36,  1.41it/s]"
     ]
    },
    {
     "name": "stdout",
     "output_type": "stream",
     "text": [
      "\n",
      "image 1/1 /mnt/SSD/workspace/atomic_hack/Сварные_швы/dataset/12 (43).jpg: 1024x576 3 прилегающие дефектыs, 74.7ms\n",
      "Speed: 3.4ms preprocess, 74.7ms inference, 0.8ms postprocess per image at shape (1, 3, 1024, 576)\n"
     ]
    },
    {
     "name": "stderr",
     "output_type": "stream",
     "text": [
      " 15%|██████▏                                 | 178/1162 [01:08<09:57,  1.65it/s]"
     ]
    },
    {
     "name": "stdout",
     "output_type": "stream",
     "text": [
      "\n",
      "image 1/1 /mnt/SSD/workspace/atomic_hack/Сварные_швы/dataset/6 (50).jpg: 1024x576 1 прилегающие дефекты, 25.6ms\n",
      "Speed: 3.3ms preprocess, 25.6ms inference, 1.6ms postprocess per image at shape (1, 3, 1024, 576)\n"
     ]
    },
    {
     "name": "stderr",
     "output_type": "stream",
     "text": [
      " 15%|██████▏                                 | 179/1162 [01:08<07:44,  2.12it/s]"
     ]
    },
    {
     "name": "stdout",
     "output_type": "stream",
     "text": [
      "\n",
      "image 1/1 /mnt/SSD/workspace/atomic_hack/Сварные_швы/dataset/7 (17).jpg: 1024x576 21 прилегающие дефектыs, 28.8ms\n",
      "Speed: 3.9ms preprocess, 28.8ms inference, 1.4ms postprocess per image at shape (1, 3, 1024, 576)\n"
     ]
    },
    {
     "name": "stderr",
     "output_type": "stream",
     "text": [
      " 15%|██████▏                                 | 180/1162 [01:09<13:16,  1.23it/s]"
     ]
    },
    {
     "name": "stdout",
     "output_type": "stream",
     "text": [
      "\n",
      "image 1/1 /mnt/SSD/workspace/atomic_hack/Сварные_швы/dataset/8 (7).jpg: 1024x576 3 прилегающие дефектыs, 26.2ms\n",
      "Speed: 3.3ms preprocess, 26.2ms inference, 1.5ms postprocess per image at shape (1, 3, 1024, 576)\n"
     ]
    },
    {
     "name": "stderr",
     "output_type": "stream",
     "text": [
      " 16%|██████▏                                 | 181/1162 [01:10<10:42,  1.53it/s]"
     ]
    },
    {
     "name": "stdout",
     "output_type": "stream",
     "text": [
      "\n",
      "image 1/1 /mnt/SSD/workspace/atomic_hack/Сварные_швы/dataset/8 (111).jpg: 1024x576 2 прилегающие дефектыs, 24.0ms\n",
      "Speed: 21.7ms preprocess, 24.0ms inference, 0.8ms postprocess per image at shape (1, 3, 1024, 576)\n"
     ]
    },
    {
     "name": "stderr",
     "output_type": "stream",
     "text": [
      " 16%|██████▎                                 | 182/1162 [01:10<08:42,  1.88it/s]"
     ]
    },
    {
     "name": "stdout",
     "output_type": "stream",
     "text": [
      "\n",
      "image 1/1 /mnt/SSD/workspace/atomic_hack/Сварные_швы/dataset/4 (124).jpg: 576x1024 8 прилегающие дефектыs, 23.6ms\n",
      "Speed: 3.0ms preprocess, 23.6ms inference, 1.4ms postprocess per image at shape (1, 3, 576, 1024)\n"
     ]
    },
    {
     "name": "stderr",
     "output_type": "stream",
     "text": [
      " 16%|██████▎                                 | 183/1162 [01:10<09:22,  1.74it/s]"
     ]
    },
    {
     "name": "stdout",
     "output_type": "stream",
     "text": [
      "\n",
      "image 1/1 /mnt/SSD/workspace/atomic_hack/Сварные_швы/dataset/7 (140).jpg: 1024x576 5 прилегающие дефектыs, 33.5ms\n",
      "Speed: 4.3ms preprocess, 33.5ms inference, 1.9ms postprocess per image at shape (1, 3, 1024, 576)\n"
     ]
    },
    {
     "name": "stderr",
     "output_type": "stream",
     "text": [
      " 16%|██████▎                                 | 184/1162 [01:11<08:42,  1.87it/s]"
     ]
    },
    {
     "name": "stdout",
     "output_type": "stream",
     "text": [
      "\n",
      "image 1/1 /mnt/SSD/workspace/atomic_hack/Сварные_швы/dataset/5 (156).jpg: 576x1024 6 прилегающие дефектыs, 23.5ms\n",
      "Speed: 2.9ms preprocess, 23.5ms inference, 1.0ms postprocess per image at shape (1, 3, 576, 1024)\n"
     ]
    },
    {
     "name": "stderr",
     "output_type": "stream",
     "text": [
      " 16%|██████▎                                 | 185/1162 [01:11<08:53,  1.83it/s]"
     ]
    },
    {
     "name": "stdout",
     "output_type": "stream",
     "text": [
      "\n",
      "image 1/1 /mnt/SSD/workspace/atomic_hack/Сварные_швы/dataset/7 (30).jpg: 1024x576 11 прилегающие дефектыs, 25.2ms\n",
      "Speed: 3.3ms preprocess, 25.2ms inference, 1.3ms postprocess per image at shape (1, 3, 1024, 576)\n"
     ]
    },
    {
     "name": "stderr",
     "output_type": "stream",
     "text": [
      " 16%|██████▍                                 | 186/1162 [01:12<10:27,  1.55it/s]"
     ]
    },
    {
     "name": "stdout",
     "output_type": "stream",
     "text": [
      "\n",
      "image 1/1 /mnt/SSD/workspace/atomic_hack/Сварные_швы/dataset/6 (105).jpg: 1024x576 2 прилегающие дефектыs, 25.7ms\n",
      "Speed: 2.9ms preprocess, 25.7ms inference, 0.8ms postprocess per image at shape (1, 3, 1024, 576)\n"
     ]
    },
    {
     "name": "stderr",
     "output_type": "stream",
     "text": [
      " 16%|██████▍                                 | 187/1162 [01:13<08:43,  1.86it/s]"
     ]
    },
    {
     "name": "stdout",
     "output_type": "stream",
     "text": [
      "\n",
      "image 1/1 /mnt/SSD/workspace/atomic_hack/Сварные_швы/dataset/9 (37).jpg: 1024x576 1 прилегающие дефекты, 25.2ms\n",
      "Speed: 3.4ms preprocess, 25.2ms inference, 1.4ms postprocess per image at shape (1, 3, 1024, 576)\n"
     ]
    },
    {
     "name": "stderr",
     "output_type": "stream",
     "text": [
      " 16%|██████▍                                 | 188/1162 [01:13<06:51,  2.36it/s]"
     ]
    },
    {
     "name": "stdout",
     "output_type": "stream",
     "text": [
      "\n",
      "image 1/1 /mnt/SSD/workspace/atomic_hack/Сварные_швы/dataset/7 (229).jpg: 1024x576 7 прилегающие дефектыs, 25.5ms\n",
      "Speed: 3.3ms preprocess, 25.5ms inference, 0.8ms postprocess per image at shape (1, 3, 1024, 576)\n"
     ]
    },
    {
     "name": "stderr",
     "output_type": "stream",
     "text": [
      " 16%|██████▌                                 | 189/1162 [01:13<08:00,  2.03it/s]"
     ]
    },
    {
     "name": "stdout",
     "output_type": "stream",
     "text": [
      "\n",
      "image 1/1 /mnt/SSD/workspace/atomic_hack/Сварные_швы/dataset/11 (60).jpg: 1024x576 2 прилегающие дефектыs, 25.0ms\n",
      "Speed: 2.8ms preprocess, 25.0ms inference, 0.8ms postprocess per image at shape (1, 3, 1024, 576)\n"
     ]
    },
    {
     "name": "stderr",
     "output_type": "stream",
     "text": [
      " 16%|██████▌                                 | 190/1162 [01:14<06:42,  2.41it/s]"
     ]
    },
    {
     "name": "stdout",
     "output_type": "stream",
     "text": [
      "\n",
      "image 1/1 /mnt/SSD/workspace/atomic_hack/Сварные_швы/dataset/5 (223).jpg: 576x1024 3 прилегающие дефектыs, 26.8ms\n",
      "Speed: 2.9ms preprocess, 26.8ms inference, 0.8ms postprocess per image at shape (1, 3, 576, 1024)\n"
     ]
    },
    {
     "name": "stderr",
     "output_type": "stream",
     "text": [
      " 16%|██████▌                                 | 191/1162 [01:14<06:11,  2.62it/s]"
     ]
    },
    {
     "name": "stdout",
     "output_type": "stream",
     "text": [
      "\n",
      "image 1/1 /mnt/SSD/workspace/atomic_hack/Сварные_швы/dataset/6 (22).jpg: 1024x576 1 прилегающие дефекты, 24.6ms\n",
      "Speed: 2.8ms preprocess, 24.6ms inference, 1.0ms postprocess per image at shape (1, 3, 1024, 576)\n"
     ]
    },
    {
     "name": "stderr",
     "output_type": "stream",
     "text": [
      " 17%|██████▌                                 | 192/1162 [01:14<05:05,  3.18it/s]"
     ]
    },
    {
     "name": "stdout",
     "output_type": "stream",
     "text": [
      "\n",
      "image 1/1 /mnt/SSD/workspace/atomic_hack/Сварные_швы/dataset/9 (57).jpg: 1024x576 1 прилегающие дефекты, 25.1ms\n",
      "Speed: 3.0ms preprocess, 25.1ms inference, 0.8ms postprocess per image at shape (1, 3, 1024, 576)\n"
     ]
    },
    {
     "name": "stderr",
     "output_type": "stream",
     "text": [
      " 17%|██████▋                                 | 193/1162 [01:14<04:20,  3.72it/s]"
     ]
    },
    {
     "name": "stdout",
     "output_type": "stream",
     "text": [
      "\n",
      "image 1/1 /mnt/SSD/workspace/atomic_hack/Сварные_швы/dataset/4 (96).jpg: 576x1024 11 прилегающие дефектыs, 75.8ms\n",
      "Speed: 2.9ms preprocess, 75.8ms inference, 0.8ms postprocess per image at shape (1, 3, 576, 1024)\n"
     ]
    },
    {
     "name": "stderr",
     "output_type": "stream",
     "text": [
      " 17%|██████▋                                 | 194/1162 [01:15<07:58,  2.02it/s]"
     ]
    },
    {
     "name": "stdout",
     "output_type": "stream",
     "text": [
      "\n",
      "image 1/1 /mnt/SSD/workspace/atomic_hack/Сварные_швы/dataset/7 (62).jpg: 1024x576 4 прилегающие дефектыs, 24.7ms\n",
      "Speed: 3.2ms preprocess, 24.7ms inference, 0.8ms postprocess per image at shape (1, 3, 1024, 576)\n"
     ]
    },
    {
     "name": "stderr",
     "output_type": "stream",
     "text": [
      " 17%|██████▋                                 | 195/1162 [01:16<07:43,  2.09it/s]"
     ]
    },
    {
     "name": "stdout",
     "output_type": "stream",
     "text": [
      "\n",
      "image 1/1 /mnt/SSD/workspace/atomic_hack/Сварные_швы/dataset/4 (146).jpg: 576x1024 3 прилегающие дефектыs, 26.8ms\n",
      "Speed: 3.1ms preprocess, 26.8ms inference, 1.6ms postprocess per image at shape (1, 3, 576, 1024)\n"
     ]
    },
    {
     "name": "stderr",
     "output_type": "stream",
     "text": [
      " 17%|██████▋                                 | 196/1162 [01:16<06:55,  2.32it/s]"
     ]
    },
    {
     "name": "stdout",
     "output_type": "stream",
     "text": [
      "\n",
      "image 1/1 /mnt/SSD/workspace/atomic_hack/Сварные_швы/dataset/7 (69).jpg: 1024x576 5 прилегающие дефектыs, 73.9ms\n",
      "Speed: 3.1ms preprocess, 73.9ms inference, 1.1ms postprocess per image at shape (1, 3, 1024, 576)\n"
     ]
    },
    {
     "name": "stderr",
     "output_type": "stream",
     "text": [
      " 17%|██████▊                                 | 197/1162 [01:17<07:25,  2.17it/s]"
     ]
    },
    {
     "name": "stdout",
     "output_type": "stream",
     "text": [
      "\n",
      "image 1/1 /mnt/SSD/workspace/atomic_hack/Сварные_швы/dataset/5 (49).jpg: 576x1024 2 прилегающие дефектыs, 26.6ms\n",
      "Speed: 2.8ms preprocess, 26.6ms inference, 0.8ms postprocess per image at shape (1, 3, 576, 1024)\n"
     ]
    },
    {
     "name": "stderr",
     "output_type": "stream",
     "text": [
      " 17%|██████▊                                 | 198/1162 [01:17<06:34,  2.44it/s]"
     ]
    },
    {
     "name": "stdout",
     "output_type": "stream",
     "text": [
      "\n",
      "image 1/1 /mnt/SSD/workspace/atomic_hack/Сварные_швы/dataset/7 (98).jpg: 1024x576 8 прилегающие дефектыs, 26.3ms\n",
      "Speed: 3.2ms preprocess, 26.3ms inference, 0.8ms postprocess per image at shape (1, 3, 1024, 576)\n"
     ]
    },
    {
     "name": "stderr",
     "output_type": "stream",
     "text": [
      " 17%|██████▊                                 | 199/1162 [01:18<08:06,  1.98it/s]"
     ]
    },
    {
     "name": "stdout",
     "output_type": "stream",
     "text": [
      "\n",
      "image 1/1 /mnt/SSD/workspace/atomic_hack/Сварные_швы/dataset/6 (110).jpg: 1024x576 (no detections), 20.3ms\n",
      "Speed: 3.0ms preprocess, 20.3ms inference, 0.4ms postprocess per image at shape (1, 3, 1024, 576)\n",
      "\n",
      "image 1/1 /mnt/SSD/workspace/atomic_hack/Сварные_швы/dataset/7 (179).jpg: 1024x576 4 прилегающие дефектыs, 20.1ms\n",
      "Speed: 3.1ms preprocess, 20.1ms inference, 0.8ms postprocess per image at shape (1, 3, 1024, 576)\n"
     ]
    },
    {
     "name": "stderr",
     "output_type": "stream",
     "text": [
      " 17%|██████▉                                 | 201/1162 [01:18<06:19,  2.53it/s]"
     ]
    },
    {
     "name": "stdout",
     "output_type": "stream",
     "text": [
      "\n",
      "image 1/1 /mnt/SSD/workspace/atomic_hack/Сварные_швы/dataset/6 (79).jpg: 1024x576 2 прилегающие дефектыs, 20.4ms\n",
      "Speed: 3.0ms preprocess, 20.4ms inference, 0.8ms postprocess per image at shape (1, 3, 1024, 576)\n"
     ]
    },
    {
     "name": "stderr",
     "output_type": "stream",
     "text": [
      " 17%|██████▉                                 | 202/1162 [01:18<05:30,  2.90it/s]"
     ]
    },
    {
     "name": "stdout",
     "output_type": "stream",
     "text": [
      "\n",
      "image 1/1 /mnt/SSD/workspace/atomic_hack/Сварные_швы/dataset/4 (98).jpg: 576x1024 7 прилегающие дефектыs, 21.4ms\n",
      "Speed: 2.8ms preprocess, 21.4ms inference, 0.8ms postprocess per image at shape (1, 3, 576, 1024)\n"
     ]
    },
    {
     "name": "stderr",
     "output_type": "stream",
     "text": [
      " 17%|██████▉                                 | 203/1162 [01:19<06:15,  2.55it/s]"
     ]
    },
    {
     "name": "stdout",
     "output_type": "stream",
     "text": [
      "\n",
      "image 1/1 /mnt/SSD/workspace/atomic_hack/Сварные_швы/dataset/7 (165).jpg: 1024x576 6 прилегающие дефектыs, 30.0ms\n",
      "Speed: 2.9ms preprocess, 30.0ms inference, 2.0ms postprocess per image at shape (1, 3, 1024, 576)\n"
     ]
    },
    {
     "name": "stderr",
     "output_type": "stream",
     "text": [
      " 18%|███████                                 | 204/1162 [01:20<07:14,  2.20it/s]"
     ]
    },
    {
     "name": "stdout",
     "output_type": "stream",
     "text": [
      "\n",
      "image 1/1 /mnt/SSD/workspace/atomic_hack/Сварные_швы/dataset/7 (260).jpg: 1024x576 5 прилегающие дефектыs, 24.3ms\n",
      "Speed: 3.1ms preprocess, 24.3ms inference, 0.8ms postprocess per image at shape (1, 3, 1024, 576)\n"
     ]
    },
    {
     "name": "stderr",
     "output_type": "stream",
     "text": [
      " 18%|███████                                 | 205/1162 [01:20<07:33,  2.11it/s]"
     ]
    },
    {
     "name": "stdout",
     "output_type": "stream",
     "text": [
      "\n",
      "image 1/1 /mnt/SSD/workspace/atomic_hack/Сварные_швы/dataset/7 (41).jpg: 1024x576 14 прилегающие дефектыs, 24.3ms\n",
      "Speed: 3.1ms preprocess, 24.3ms inference, 1.8ms postprocess per image at shape (1, 3, 1024, 576)\n"
     ]
    },
    {
     "name": "stderr",
     "output_type": "stream",
     "text": [
      " 18%|███████                                 | 206/1162 [01:21<11:06,  1.43it/s]"
     ]
    },
    {
     "name": "stdout",
     "output_type": "stream",
     "text": [
      "\n",
      "image 1/1 /mnt/SSD/workspace/atomic_hack/Сварные_швы/dataset/9 (70).jpg: 1024x576 4 прилегающие дефектыs, 27.2ms\n",
      "Speed: 3.2ms preprocess, 27.2ms inference, 1.2ms postprocess per image at shape (1, 3, 1024, 576)\n"
     ]
    },
    {
     "name": "stderr",
     "output_type": "stream",
     "text": [
      " 18%|███████▏                                | 207/1162 [01:22<09:32,  1.67it/s]"
     ]
    },
    {
     "name": "stdout",
     "output_type": "stream",
     "text": [
      "\n",
      "image 1/1 /mnt/SSD/workspace/atomic_hack/Сварные_швы/dataset/7 (129).jpg: 1024x576 8 прилегающие дефектыs, 20.2ms\n",
      "Speed: 3.0ms preprocess, 20.2ms inference, 0.8ms postprocess per image at shape (1, 3, 1024, 576)\n"
     ]
    },
    {
     "name": "stderr",
     "output_type": "stream",
     "text": [
      " 18%|███████▏                                | 208/1162 [01:22<10:06,  1.57it/s]"
     ]
    },
    {
     "name": "stdout",
     "output_type": "stream",
     "text": [
      "\n",
      "image 1/1 /mnt/SSD/workspace/atomic_hack/Сварные_швы/dataset/5 (137).jpg: 576x1024 6 прилегающие дефектыs, 25.2ms\n",
      "Speed: 3.0ms preprocess, 25.2ms inference, 1.2ms postprocess per image at shape (1, 3, 576, 1024)\n"
     ]
    },
    {
     "name": "stderr",
     "output_type": "stream",
     "text": [
      " 18%|███████▏                                | 209/1162 [01:23<09:52,  1.61it/s]"
     ]
    },
    {
     "name": "stdout",
     "output_type": "stream",
     "text": [
      "\n",
      "image 1/1 /mnt/SSD/workspace/atomic_hack/Сварные_швы/dataset/5 (61).jpg: 576x1024 9 прилегающие дефектыs, 25.5ms\n",
      "Speed: 2.8ms preprocess, 25.5ms inference, 1.6ms postprocess per image at shape (1, 3, 576, 1024)\n"
     ]
    },
    {
     "name": "stderr",
     "output_type": "stream",
     "text": [
      " 18%|███████▏                                | 210/1162 [01:24<09:59,  1.59it/s]"
     ]
    },
    {
     "name": "stdout",
     "output_type": "stream",
     "text": [
      "\n",
      "image 1/1 /mnt/SSD/workspace/atomic_hack/Сварные_швы/dataset/6 (42).jpg: 1024x576 (no detections), 26.4ms\n",
      "Speed: 3.2ms preprocess, 26.4ms inference, 0.7ms postprocess per image at shape (1, 3, 1024, 576)\n",
      "\n",
      "image 1/1 /mnt/SSD/workspace/atomic_hack/Сварные_швы/dataset/5 (120).jpg: 576x1024 2 прилегающие дефектыs, 26.8ms\n",
      "Speed: 2.8ms preprocess, 26.8ms inference, 0.8ms postprocess per image at shape (1, 3, 576, 1024)\n"
     ]
    },
    {
     "name": "stderr",
     "output_type": "stream",
     "text": [
      " 18%|███████▎                                | 212/1162 [01:24<06:34,  2.41it/s]"
     ]
    },
    {
     "name": "stdout",
     "output_type": "stream",
     "text": [
      "\n",
      "image 1/1 /mnt/SSD/workspace/atomic_hack/Сварные_швы/dataset/5 (4).jpg: 576x1024 5 прилегающие дефектыs, 27.7ms\n",
      "Speed: 27.4ms preprocess, 27.7ms inference, 1.9ms postprocess per image at shape (1, 3, 576, 1024)\n"
     ]
    },
    {
     "name": "stderr",
     "output_type": "stream",
     "text": [
      " 18%|███████▎                                | 213/1162 [01:24<06:54,  2.29it/s]"
     ]
    },
    {
     "name": "stdout",
     "output_type": "stream",
     "text": [
      "\n",
      "image 1/1 /mnt/SSD/workspace/atomic_hack/Сварные_швы/dataset/7 (254).jpg: 1024x576 6 прилегающие дефектыs, 24.1ms\n",
      "Speed: 3.0ms preprocess, 24.1ms inference, 1.4ms postprocess per image at shape (1, 3, 1024, 576)\n"
     ]
    },
    {
     "name": "stderr",
     "output_type": "stream",
     "text": [
      " 18%|███████▎                                | 214/1162 [01:25<07:33,  2.09it/s]"
     ]
    },
    {
     "name": "stdout",
     "output_type": "stream",
     "text": [
      "\n",
      "image 1/1 /mnt/SSD/workspace/atomic_hack/Сварные_швы/dataset/4 (140).jpg: 576x1024 3 прилегающие дефектыs, 23.8ms\n",
      "Speed: 2.7ms preprocess, 23.8ms inference, 1.0ms postprocess per image at shape (1, 3, 576, 1024)\n"
     ]
    },
    {
     "name": "stderr",
     "output_type": "stream",
     "text": [
      " 19%|███████▍                                | 215/1162 [01:25<06:37,  2.38it/s]"
     ]
    },
    {
     "name": "stdout",
     "output_type": "stream",
     "text": [
      "\n",
      "image 1/1 /mnt/SSD/workspace/atomic_hack/Сварные_швы/dataset/6 (102).jpg: 1024x576 1 прилегающие дефекты, 20.6ms\n",
      "Speed: 2.8ms preprocess, 20.6ms inference, 0.7ms postprocess per image at shape (1, 3, 1024, 576)\n"
     ]
    },
    {
     "name": "stderr",
     "output_type": "stream",
     "text": [
      " 19%|███████▍                                | 216/1162 [01:25<05:19,  2.96it/s]"
     ]
    },
    {
     "name": "stdout",
     "output_type": "stream",
     "text": [
      "\n",
      "image 1/1 /mnt/SSD/workspace/atomic_hack/Сварные_швы/dataset/7 (75).jpg: 1024x576 4 прилегающие дефектыs, 19.8ms\n",
      "Speed: 2.9ms preprocess, 19.8ms inference, 0.7ms postprocess per image at shape (1, 3, 1024, 576)\n"
     ]
    },
    {
     "name": "stderr",
     "output_type": "stream",
     "text": [
      " 19%|███████▍                                | 217/1162 [01:26<05:15,  3.00it/s]"
     ]
    },
    {
     "name": "stdout",
     "output_type": "stream",
     "text": [
      "\n",
      "image 1/1 /mnt/SSD/workspace/atomic_hack/Сварные_швы/dataset/9 (56).jpg: 1024x576 1 прилегающие дефекты, 20.2ms\n",
      "Speed: 2.9ms preprocess, 20.2ms inference, 0.7ms postprocess per image at shape (1, 3, 1024, 576)\n"
     ]
    },
    {
     "name": "stderr",
     "output_type": "stream",
     "text": [
      " 19%|███████▌                                | 218/1162 [01:26<04:21,  3.61it/s]"
     ]
    },
    {
     "name": "stdout",
     "output_type": "stream",
     "text": [
      "\n",
      "image 1/1 /mnt/SSD/workspace/atomic_hack/Сварные_швы/dataset/5 (91).jpg: 576x1024 2 прилегающие дефектыs, 21.4ms\n",
      "Speed: 2.7ms preprocess, 21.4ms inference, 0.8ms postprocess per image at shape (1, 3, 576, 1024)\n"
     ]
    },
    {
     "name": "stderr",
     "output_type": "stream",
     "text": [
      " 19%|███████▌                                | 219/1162 [01:26<03:58,  3.95it/s]"
     ]
    },
    {
     "name": "stdout",
     "output_type": "stream",
     "text": [
      "\n",
      "image 1/1 /mnt/SSD/workspace/atomic_hack/Сварные_швы/dataset/7 (31).jpg: 1024x576 10 прилегающие дефектыs, 20.1ms\n",
      "Speed: 2.9ms preprocess, 20.1ms inference, 0.7ms postprocess per image at shape (1, 3, 1024, 576)\n"
     ]
    },
    {
     "name": "stderr",
     "output_type": "stream",
     "text": [
      " 19%|███████▌                                | 220/1162 [01:27<05:59,  2.62it/s]"
     ]
    },
    {
     "name": "stdout",
     "output_type": "stream",
     "text": [
      "\n",
      "image 1/1 /mnt/SSD/workspace/atomic_hack/Сварные_швы/dataset/11 (56).jpg: 1024x576 3 прилегающие дефектыs, 20.1ms\n",
      "Speed: 3.0ms preprocess, 20.1ms inference, 0.7ms postprocess per image at shape (1, 3, 1024, 576)\n"
     ]
    },
    {
     "name": "stderr",
     "output_type": "stream",
     "text": [
      " 19%|███████▌                                | 221/1162 [01:27<05:23,  2.91it/s]"
     ]
    },
    {
     "name": "stdout",
     "output_type": "stream",
     "text": [
      "\n",
      "image 1/1 /mnt/SSD/workspace/atomic_hack/Сварные_швы/dataset/7 (197).jpg: 1024x576 4 прилегающие дефектыs, 20.7ms\n",
      "Speed: 2.8ms preprocess, 20.7ms inference, 0.7ms postprocess per image at shape (1, 3, 1024, 576)\n"
     ]
    },
    {
     "name": "stderr",
     "output_type": "stream",
     "text": [
      " 19%|███████▋                                | 222/1162 [01:27<05:18,  2.95it/s]"
     ]
    },
    {
     "name": "stdout",
     "output_type": "stream",
     "text": [
      "\n",
      "image 1/1 /mnt/SSD/workspace/atomic_hack/Сварные_швы/dataset/7 (191).jpg: 1024x576 3 прилегающие дефектыs, 20.0ms\n",
      "Speed: 3.0ms preprocess, 20.0ms inference, 0.7ms postprocess per image at shape (1, 3, 1024, 576)\n"
     ]
    },
    {
     "name": "stderr",
     "output_type": "stream",
     "text": [
      " 19%|███████▋                                | 223/1162 [01:28<04:55,  3.17it/s]"
     ]
    },
    {
     "name": "stdout",
     "output_type": "stream",
     "text": [
      "\n",
      "image 1/1 /mnt/SSD/workspace/atomic_hack/Сварные_швы/dataset/8 (54).jpg: 1024x576 4 прилегающие дефектыs, 24.8ms\n",
      "Speed: 2.7ms preprocess, 24.8ms inference, 0.8ms postprocess per image at shape (1, 3, 1024, 576)\n"
     ]
    },
    {
     "name": "stderr",
     "output_type": "stream",
     "text": [
      " 19%|███████▋                                | 224/1162 [01:28<05:16,  2.96it/s]"
     ]
    },
    {
     "name": "stdout",
     "output_type": "stream",
     "text": [
      "\n",
      "image 1/1 /mnt/SSD/workspace/atomic_hack/Сварные_швы/dataset/8 (64).jpg: 1024x576 3 прилегающие дефектыs, 24.6ms\n",
      "Speed: 3.1ms preprocess, 24.6ms inference, 1.3ms postprocess per image at shape (1, 3, 1024, 576)\n"
     ]
    },
    {
     "name": "stderr",
     "output_type": "stream",
     "text": [
      " 19%|███████▋                                | 225/1162 [01:28<05:26,  2.87it/s]"
     ]
    },
    {
     "name": "stdout",
     "output_type": "stream",
     "text": [
      "\n",
      "image 1/1 /mnt/SSD/workspace/atomic_hack/Сварные_швы/dataset/12 (22).jpg: 1024x576 3 прилегающие дефектыs, 24.7ms\n",
      "Speed: 3.0ms preprocess, 24.7ms inference, 0.8ms postprocess per image at shape (1, 3, 1024, 576)\n"
     ]
    },
    {
     "name": "stderr",
     "output_type": "stream",
     "text": [
      " 19%|███████▊                                | 226/1162 [01:29<05:16,  2.96it/s]"
     ]
    },
    {
     "name": "stdout",
     "output_type": "stream",
     "text": [
      "\n",
      "image 1/1 /mnt/SSD/workspace/atomic_hack/Сварные_швы/dataset/7 (86).jpg: 1024x576 4 прилегающие дефектыs, 68.3ms\n",
      "Speed: 3.4ms preprocess, 68.3ms inference, 1.8ms postprocess per image at shape (1, 3, 1024, 576)\n"
     ]
    },
    {
     "name": "stderr",
     "output_type": "stream",
     "text": [
      " 20%|███████▊                                | 227/1162 [01:29<05:41,  2.74it/s]"
     ]
    },
    {
     "name": "stdout",
     "output_type": "stream",
     "text": [
      "\n",
      "image 1/1 /mnt/SSD/workspace/atomic_hack/Сварные_швы/dataset/12 (4).jpg: 1024x576 (no detections), 20.2ms\n",
      "Speed: 2.9ms preprocess, 20.2ms inference, 0.3ms postprocess per image at shape (1, 3, 1024, 576)\n",
      "\n",
      "image 1/1 /mnt/SSD/workspace/atomic_hack/Сварные_швы/dataset/1 (1).jpg: 576x1024 19 прилегающие дефектыs, 21.2ms\n",
      "Speed: 2.6ms preprocess, 21.2ms inference, 0.9ms postprocess per image at shape (1, 3, 576, 1024)\n"
     ]
    },
    {
     "name": "stderr",
     "output_type": "stream",
     "text": [
      " 20%|███████▉                                | 229/1162 [01:30<07:38,  2.03it/s]"
     ]
    },
    {
     "name": "stdout",
     "output_type": "stream",
     "text": [
      "\n",
      "image 1/1 /mnt/SSD/workspace/atomic_hack/Сварные_швы/dataset/7 (176).jpg: 1024x576 4 прилегающие дефектыs, 19.8ms\n",
      "Speed: 2.9ms preprocess, 19.8ms inference, 1.0ms postprocess per image at shape (1, 3, 1024, 576)\n"
     ]
    },
    {
     "name": "stderr",
     "output_type": "stream",
     "text": [
      " 20%|███████▉                                | 230/1162 [01:31<06:58,  2.22it/s]"
     ]
    },
    {
     "name": "stdout",
     "output_type": "stream",
     "text": [
      "\n",
      "image 1/1 /mnt/SSD/workspace/atomic_hack/Сварные_швы/dataset/7 (118).jpg: 1024x576 10 прилегающие дефектыs, 20.2ms\n",
      "Speed: 2.9ms preprocess, 20.2ms inference, 0.7ms postprocess per image at shape (1, 3, 1024, 576)\n"
     ]
    },
    {
     "name": "stderr",
     "output_type": "stream",
     "text": [
      " 20%|███████▉                                | 231/1162 [01:32<08:25,  1.84it/s]"
     ]
    },
    {
     "name": "stdout",
     "output_type": "stream",
     "text": [
      "\n",
      "image 1/1 /mnt/SSD/workspace/atomic_hack/Сварные_швы/dataset/7 (244).jpg: 1024x576 11 прилегающие дефектыs, 21.8ms\n",
      "Speed: 4.3ms preprocess, 21.8ms inference, 0.8ms postprocess per image at shape (1, 3, 1024, 576)\n"
     ]
    },
    {
     "name": "stderr",
     "output_type": "stream",
     "text": [
      " 20%|███████▉                                | 232/1162 [01:32<09:57,  1.56it/s]"
     ]
    },
    {
     "name": "stdout",
     "output_type": "stream",
     "text": [
      "\n",
      "image 1/1 /mnt/SSD/workspace/atomic_hack/Сварные_швы/dataset/5 (46).jpg: 576x1024 1 прилегающие дефекты, 25.8ms\n",
      "Speed: 2.9ms preprocess, 25.8ms inference, 1.1ms postprocess per image at shape (1, 3, 576, 1024)\n"
     ]
    },
    {
     "name": "stderr",
     "output_type": "stream",
     "text": [
      " 20%|████████                                | 233/1162 [01:33<07:49,  1.98it/s]"
     ]
    },
    {
     "name": "stdout",
     "output_type": "stream",
     "text": [
      "\n",
      "image 1/1 /mnt/SSD/workspace/atomic_hack/Сварные_швы/dataset/3 (47).jpg: 576x1024 3 прилегающие дефектыs, 26.0ms\n",
      "Speed: 3.0ms preprocess, 26.0ms inference, 1.7ms postprocess per image at shape (1, 3, 576, 1024)\n"
     ]
    },
    {
     "name": "stderr",
     "output_type": "stream",
     "text": [
      " 20%|████████                                | 234/1162 [01:33<06:57,  2.23it/s]"
     ]
    },
    {
     "name": "stdout",
     "output_type": "stream",
     "text": [
      "\n",
      "image 1/1 /mnt/SSD/workspace/atomic_hack/Сварные_швы/dataset/8 (88).jpg: 1024x576 3 прилегающие дефектыs, 66.4ms\n",
      "Speed: 3.3ms preprocess, 66.4ms inference, 1.1ms postprocess per image at shape (1, 3, 1024, 576)\n"
     ]
    },
    {
     "name": "stderr",
     "output_type": "stream",
     "text": [
      " 20%|████████                                | 235/1162 [01:33<06:28,  2.39it/s]"
     ]
    },
    {
     "name": "stdout",
     "output_type": "stream",
     "text": [
      "\n",
      "image 1/1 /mnt/SSD/workspace/atomic_hack/Сварные_швы/dataset/3 (25).jpg: 576x1024 1 прилегающие дефекты, 21.3ms\n",
      "Speed: 2.7ms preprocess, 21.3ms inference, 0.7ms postprocess per image at shape (1, 3, 576, 1024)\n"
     ]
    },
    {
     "name": "stderr",
     "output_type": "stream",
     "text": [
      " 20%|████████                                | 236/1162 [01:33<05:09,  2.99it/s]"
     ]
    },
    {
     "name": "stdout",
     "output_type": "stream",
     "text": [
      "\n",
      "image 1/1 /mnt/SSD/workspace/atomic_hack/Сварные_швы/dataset/1 (13).jpg: 576x1024 9 прилегающие дефектыs, 23.0ms\n",
      "Speed: 2.6ms preprocess, 23.0ms inference, 0.8ms postprocess per image at shape (1, 3, 576, 1024)\n"
     ]
    },
    {
     "name": "stderr",
     "output_type": "stream",
     "text": [
      " 20%|████████▏                               | 237/1162 [01:34<06:41,  2.30it/s]"
     ]
    },
    {
     "name": "stdout",
     "output_type": "stream",
     "text": [
      "\n",
      "image 1/1 /mnt/SSD/workspace/atomic_hack/Сварные_швы/dataset/11 (16).jpg: 1024x576 1 прилегающие дефекты, 23.8ms\n",
      "Speed: 2.9ms preprocess, 23.8ms inference, 0.7ms postprocess per image at shape (1, 3, 1024, 576)\n"
     ]
    },
    {
     "name": "stderr",
     "output_type": "stream",
     "text": [
      " 20%|████████▏                               | 238/1162 [01:34<05:36,  2.75it/s]"
     ]
    },
    {
     "name": "stdout",
     "output_type": "stream",
     "text": [
      "\n",
      "image 1/1 /mnt/SSD/workspace/atomic_hack/Сварные_швы/dataset/12 (9).jpg: 1024x576 2 прилегающие дефектыs, 24.4ms\n",
      "Speed: 2.9ms preprocess, 24.4ms inference, 0.7ms postprocess per image at shape (1, 3, 1024, 576)\n"
     ]
    },
    {
     "name": "stderr",
     "output_type": "stream",
     "text": [
      " 21%|████████▏                               | 239/1162 [01:34<04:58,  3.09it/s]"
     ]
    },
    {
     "name": "stdout",
     "output_type": "stream",
     "text": [
      "\n",
      "image 1/1 /mnt/SSD/workspace/atomic_hack/Сварные_швы/dataset/7 (148).jpg: 1024x576 10 прилегающие дефектыs, 24.2ms\n",
      "Speed: 2.9ms preprocess, 24.2ms inference, 0.8ms postprocess per image at shape (1, 3, 1024, 576)\n"
     ]
    },
    {
     "name": "stderr",
     "output_type": "stream",
     "text": [
      " 21%|████████▎                               | 240/1162 [01:35<07:02,  2.18it/s]"
     ]
    },
    {
     "name": "stdout",
     "output_type": "stream",
     "text": [
      "\n",
      "image 1/1 /mnt/SSD/workspace/atomic_hack/Сварные_швы/dataset/4 (85).jpg: 576x1024 14 прилегающие дефектыs, 21.1ms\n",
      "Speed: 2.7ms preprocess, 21.1ms inference, 0.7ms postprocess per image at shape (1, 3, 576, 1024)\n"
     ]
    },
    {
     "name": "stderr",
     "output_type": "stream",
     "text": [
      " 21%|████████▎                               | 241/1162 [01:36<10:04,  1.52it/s]"
     ]
    },
    {
     "name": "stdout",
     "output_type": "stream",
     "text": [
      "\n",
      "image 1/1 /mnt/SSD/workspace/atomic_hack/Сварные_швы/dataset/9 (4).jpg: 1024x576 2 прилегающие дефектыs, 25.2ms\n",
      "Speed: 3.0ms preprocess, 25.2ms inference, 0.7ms postprocess per image at shape (1, 3, 1024, 576)\n"
     ]
    },
    {
     "name": "stderr",
     "output_type": "stream",
     "text": [
      " 21%|████████▎                               | 242/1162 [01:37<08:21,  1.84it/s]"
     ]
    },
    {
     "name": "stdout",
     "output_type": "stream",
     "text": [
      "\n",
      "image 1/1 /mnt/SSD/workspace/atomic_hack/Сварные_швы/dataset/6 (32).jpg: 1024x576 2 прилегающие дефектыs, 25.0ms\n",
      "Speed: 3.1ms preprocess, 25.0ms inference, 1.1ms postprocess per image at shape (1, 3, 1024, 576)\n"
     ]
    },
    {
     "name": "stderr",
     "output_type": "stream",
     "text": [
      " 21%|████████▎                               | 243/1162 [01:37<06:55,  2.21it/s]"
     ]
    },
    {
     "name": "stdout",
     "output_type": "stream",
     "text": [
      "\n",
      "image 1/1 /mnt/SSD/workspace/atomic_hack/Сварные_швы/dataset/9 (46).jpg: 1024x576 1 прилегающие дефекты, 24.9ms\n",
      "Speed: 3.5ms preprocess, 24.9ms inference, 0.8ms postprocess per image at shape (1, 3, 1024, 576)\n"
     ]
    },
    {
     "name": "stderr",
     "output_type": "stream",
     "text": [
      " 21%|████████▍                               | 244/1162 [01:37<05:32,  2.76it/s]"
     ]
    },
    {
     "name": "stdout",
     "output_type": "stream",
     "text": [
      "\n",
      "image 1/1 /mnt/SSD/workspace/atomic_hack/Сварные_швы/dataset/5 (8).jpg: 576x1024 3 прилегающие дефектыs, 21.7ms\n",
      "Speed: 2.9ms preprocess, 21.7ms inference, 0.8ms postprocess per image at shape (1, 3, 576, 1024)\n"
     ]
    },
    {
     "name": "stderr",
     "output_type": "stream",
     "text": [
      " 21%|████████▍                               | 245/1162 [01:37<05:28,  2.79it/s]"
     ]
    },
    {
     "name": "stdout",
     "output_type": "stream",
     "text": [
      "\n",
      "image 1/1 /mnt/SSD/workspace/atomic_hack/Сварные_швы/dataset/4 (139).jpg: 576x1024 4 прилегающие дефектыs, 26.7ms\n",
      "Speed: 2.8ms preprocess, 26.7ms inference, 0.8ms postprocess per image at shape (1, 3, 576, 1024)\n"
     ]
    },
    {
     "name": "stderr",
     "output_type": "stream",
     "text": [
      " 21%|████████▍                               | 246/1162 [01:38<05:48,  2.63it/s]"
     ]
    },
    {
     "name": "stdout",
     "output_type": "stream",
     "text": [
      "\n",
      "image 1/1 /mnt/SSD/workspace/atomic_hack/Сварные_швы/dataset/7 (25).jpg: 1024x576 20 прилегающие дефектыs, 23.1ms\n",
      "Speed: 3.1ms preprocess, 23.1ms inference, 1.4ms postprocess per image at shape (1, 3, 1024, 576)\n"
     ]
    },
    {
     "name": "stderr",
     "output_type": "stream",
     "text": [
      " 21%|████████▌                               | 247/1162 [01:39<10:31,  1.45it/s]"
     ]
    },
    {
     "name": "stdout",
     "output_type": "stream",
     "text": [
      "\n",
      "image 1/1 /mnt/SSD/workspace/atomic_hack/Сварные_швы/dataset/5 (98).jpg: 576x1024 3 прилегающие дефектыs, 25.9ms\n",
      "Speed: 2.7ms preprocess, 25.9ms inference, 0.8ms postprocess per image at shape (1, 3, 576, 1024)\n"
     ]
    },
    {
     "name": "stderr",
     "output_type": "stream",
     "text": [
      " 21%|████████▌                               | 248/1162 [01:40<08:47,  1.73it/s]"
     ]
    },
    {
     "name": "stdout",
     "output_type": "stream",
     "text": [
      "\n",
      "image 1/1 /mnt/SSD/workspace/atomic_hack/Сварные_швы/dataset/7 (204).jpg: 1024x576 5 прилегающие дефектыs, 25.1ms\n",
      "Speed: 34.4ms preprocess, 25.1ms inference, 1.2ms postprocess per image at shape (1, 3, 1024, 576)\n"
     ]
    },
    {
     "name": "stderr",
     "output_type": "stream",
     "text": [
      " 21%|████████▌                               | 249/1162 [01:40<08:29,  1.79it/s]"
     ]
    },
    {
     "name": "stdout",
     "output_type": "stream",
     "text": [
      "\n",
      "image 1/1 /mnt/SSD/workspace/atomic_hack/Сварные_швы/dataset/8 (92).jpg: 1024x576 2 прилегающие дефектыs, 25.8ms\n",
      "Speed: 2.9ms preprocess, 25.8ms inference, 0.7ms postprocess per image at shape (1, 3, 1024, 576)\n"
     ]
    },
    {
     "name": "stderr",
     "output_type": "stream",
     "text": [
      " 22%|████████▌                               | 250/1162 [01:40<07:13,  2.11it/s]"
     ]
    },
    {
     "name": "stdout",
     "output_type": "stream",
     "text": [
      "\n",
      "image 1/1 /mnt/SSD/workspace/atomic_hack/Сварные_швы/dataset/4 (43).jpg: 576x1024 1 прилегающие дефекты, 25.7ms\n",
      "Speed: 2.9ms preprocess, 25.7ms inference, 0.9ms postprocess per image at shape (1, 3, 576, 1024)\n"
     ]
    },
    {
     "name": "stderr",
     "output_type": "stream",
     "text": [
      " 22%|████████▋                               | 251/1162 [01:41<05:45,  2.63it/s]"
     ]
    },
    {
     "name": "stdout",
     "output_type": "stream",
     "text": [
      "\n",
      "image 1/1 /mnt/SSD/workspace/atomic_hack/Сварные_швы/dataset/3 (11).jpg: 576x1024 1 прилегающие дефекты, 27.0ms\n",
      "Speed: 2.7ms preprocess, 27.0ms inference, 0.7ms postprocess per image at shape (1, 3, 576, 1024)\n"
     ]
    },
    {
     "name": "stderr",
     "output_type": "stream",
     "text": [
      " 22%|████████▋                               | 252/1162 [01:41<04:43,  3.21it/s]"
     ]
    },
    {
     "name": "stdout",
     "output_type": "stream",
     "text": [
      "\n",
      "image 1/1 /mnt/SSD/workspace/atomic_hack/Сварные_швы/dataset/5 (175).jpg: 576x1024 6 прилегающие дефектыs, 26.5ms\n",
      "Speed: 2.8ms preprocess, 26.5ms inference, 1.0ms postprocess per image at shape (1, 3, 576, 1024)\n"
     ]
    },
    {
     "name": "stderr",
     "output_type": "stream",
     "text": [
      " 22%|████████▋                               | 253/1162 [01:41<05:50,  2.59it/s]"
     ]
    },
    {
     "name": "stdout",
     "output_type": "stream",
     "text": [
      "\n",
      "image 1/1 /mnt/SSD/workspace/atomic_hack/Сварные_швы/dataset/7 (45).jpg: 1024x576 10 прилегающие дефектыs, 20.0ms\n",
      "Speed: 2.7ms preprocess, 20.0ms inference, 0.7ms postprocess per image at shape (1, 3, 1024, 576)\n"
     ]
    },
    {
     "name": "stderr",
     "output_type": "stream",
     "text": [
      " 22%|████████▋                               | 254/1162 [01:42<07:13,  2.09it/s]"
     ]
    },
    {
     "name": "stdout",
     "output_type": "stream",
     "text": [
      "\n",
      "image 1/1 /mnt/SSD/workspace/atomic_hack/Сварные_швы/dataset/8 (81).jpg: 1024x576 5 прилегающие дефектыs, 20.2ms\n",
      "Speed: 3.0ms preprocess, 20.2ms inference, 0.8ms postprocess per image at shape (1, 3, 1024, 576)\n"
     ]
    },
    {
     "name": "stderr",
     "output_type": "stream",
     "text": [
      " 22%|████████▊                               | 255/1162 [01:42<06:46,  2.23it/s]"
     ]
    },
    {
     "name": "stdout",
     "output_type": "stream",
     "text": [
      "\n",
      "image 1/1 /mnt/SSD/workspace/atomic_hack/Сварные_швы/dataset/4 (99).jpg: 576x1024 9 прилегающие дефектыs, 21.4ms\n",
      "Speed: 2.7ms preprocess, 21.4ms inference, 1.1ms postprocess per image at shape (1, 3, 576, 1024)\n"
     ]
    },
    {
     "name": "stderr",
     "output_type": "stream",
     "text": [
      " 22%|████████▊                               | 256/1162 [01:43<08:28,  1.78it/s]"
     ]
    },
    {
     "name": "stdout",
     "output_type": "stream",
     "text": [
      "\n",
      "image 1/1 /mnt/SSD/workspace/atomic_hack/Сварные_швы/dataset/3 (45).jpg: 576x1024 2 прилегающие дефектыs, 21.3ms\n",
      "Speed: 2.9ms preprocess, 21.3ms inference, 0.8ms postprocess per image at shape (1, 3, 576, 1024)\n"
     ]
    },
    {
     "name": "stderr",
     "output_type": "stream",
     "text": [
      " 22%|████████▊                               | 257/1162 [01:43<06:48,  2.22it/s]"
     ]
    },
    {
     "name": "stdout",
     "output_type": "stream",
     "text": [
      "\n",
      "image 1/1 /mnt/SSD/workspace/atomic_hack/Сварные_швы/dataset/12 (5).jpg: 1024x576 1 прилегающие дефекты, 20.3ms\n",
      "Speed: 2.9ms preprocess, 20.3ms inference, 0.8ms postprocess per image at shape (1, 3, 1024, 576)\n"
     ]
    },
    {
     "name": "stderr",
     "output_type": "stream",
     "text": [
      " 22%|████████▉                               | 258/1162 [01:43<05:20,  2.82it/s]"
     ]
    },
    {
     "name": "stdout",
     "output_type": "stream",
     "text": [
      "\n",
      "image 1/1 /mnt/SSD/workspace/atomic_hack/Сварные_швы/dataset/7 (43).jpg: 1024x576 15 прилегающие дефектыs, 20.1ms\n",
      "Speed: 2.9ms preprocess, 20.1ms inference, 0.7ms postprocess per image at shape (1, 3, 1024, 576)\n"
     ]
    },
    {
     "name": "stderr",
     "output_type": "stream",
     "text": [
      " 22%|████████▉                               | 259/1162 [01:45<10:03,  1.50it/s]"
     ]
    },
    {
     "name": "stdout",
     "output_type": "stream",
     "text": [
      "\n",
      "image 1/1 /mnt/SSD/workspace/atomic_hack/Сварные_швы/dataset/4 (25).jpg: 576x1024 (no detections), 31.6ms\n",
      "Speed: 2.8ms preprocess, 31.6ms inference, 1.1ms postprocess per image at shape (1, 3, 576, 1024)\n",
      "\n",
      "image 1/1 /mnt/SSD/workspace/atomic_hack/Сварные_швы/dataset/8 (49).jpg: 1024x576 4 прилегающие дефектыs, 75.7ms\n",
      "Speed: 3.3ms preprocess, 75.7ms inference, 0.8ms postprocess per image at shape (1, 3, 1024, 576)\n"
     ]
    },
    {
     "name": "stderr",
     "output_type": "stream",
     "text": [
      " 22%|████████▉                               | 261/1162 [01:45<07:02,  2.13it/s]"
     ]
    },
    {
     "name": "stdout",
     "output_type": "stream",
     "text": [
      "\n",
      "image 1/1 /mnt/SSD/workspace/atomic_hack/Сварные_швы/dataset/4 (21).jpg: 576x1024 1 прилегающие дефекты, 21.1ms\n",
      "Speed: 2.8ms preprocess, 21.1ms inference, 0.9ms postprocess per image at shape (1, 3, 576, 1024)\n"
     ]
    },
    {
     "name": "stderr",
     "output_type": "stream",
     "text": [
      " 23%|█████████                               | 262/1162 [01:45<05:48,  2.58it/s]"
     ]
    },
    {
     "name": "stdout",
     "output_type": "stream",
     "text": [
      "\n",
      "image 1/1 /mnt/SSD/workspace/atomic_hack/Сварные_швы/dataset/7 (162).jpg: 1024x576 7 прилегающие дефектыs, 19.9ms\n",
      "Speed: 2.8ms preprocess, 19.9ms inference, 0.7ms postprocess per image at shape (1, 3, 1024, 576)\n"
     ]
    },
    {
     "name": "stderr",
     "output_type": "stream",
     "text": [
      " 23%|█████████                               | 263/1162 [01:46<06:22,  2.35it/s]"
     ]
    },
    {
     "name": "stdout",
     "output_type": "stream",
     "text": [
      "\n",
      "image 1/1 /mnt/SSD/workspace/atomic_hack/Сварные_швы/dataset/1 (2).jpg: 576x1024 11 прилегающие дефектыs, 26.3ms\n",
      "Speed: 2.6ms preprocess, 26.3ms inference, 0.8ms postprocess per image at shape (1, 3, 576, 1024)\n"
     ]
    },
    {
     "name": "stderr",
     "output_type": "stream",
     "text": [
      " 23%|█████████                               | 264/1162 [01:47<08:12,  1.82it/s]"
     ]
    },
    {
     "name": "stdout",
     "output_type": "stream",
     "text": [
      "\n",
      "image 1/1 /mnt/SSD/workspace/atomic_hack/Сварные_швы/dataset/6 (57).jpg: 1024x576 3 прилегающие дефектыs, 25.4ms\n",
      "Speed: 3.2ms preprocess, 25.4ms inference, 1.1ms postprocess per image at shape (1, 3, 1024, 576)\n"
     ]
    },
    {
     "name": "stderr",
     "output_type": "stream",
     "text": [
      " 23%|█████████                               | 265/1162 [01:47<07:13,  2.07it/s]"
     ]
    },
    {
     "name": "stdout",
     "output_type": "stream",
     "text": [
      "\n",
      "image 1/1 /mnt/SSD/workspace/atomic_hack/Сварные_швы/dataset/5 (188).jpg: 576x1024 5 прилегающие дефектыs, 21.0ms\n",
      "Speed: 2.7ms preprocess, 21.0ms inference, 0.9ms postprocess per image at shape (1, 3, 576, 1024)\n"
     ]
    },
    {
     "name": "stderr",
     "output_type": "stream",
     "text": [
      " 23%|█████████▏                              | 266/1162 [01:48<07:10,  2.08it/s]"
     ]
    },
    {
     "name": "stdout",
     "output_type": "stream",
     "text": [
      "\n",
      "image 1/1 /mnt/SSD/workspace/atomic_hack/Сварные_швы/dataset/5 (30).jpg: 576x1024 13 прилегающие дефектыs, 22.8ms\n",
      "Speed: 2.8ms preprocess, 22.8ms inference, 0.8ms postprocess per image at shape (1, 3, 576, 1024)\n"
     ]
    },
    {
     "name": "stderr",
     "output_type": "stream",
     "text": [
      " 23%|█████████▏                              | 267/1162 [01:49<10:08,  1.47it/s]"
     ]
    },
    {
     "name": "stdout",
     "output_type": "stream",
     "text": [
      "\n",
      "image 1/1 /mnt/SSD/workspace/atomic_hack/Сварные_швы/dataset/5 (129).jpg: 576x1024 7 прилегающие дефектыs, 27.0ms\n",
      "Speed: 2.8ms preprocess, 27.0ms inference, 0.8ms postprocess per image at shape (1, 3, 576, 1024)\n"
     ]
    },
    {
     "name": "stderr",
     "output_type": "stream",
     "text": [
      " 23%|█████████▏                              | 268/1162 [01:49<09:33,  1.56it/s]"
     ]
    },
    {
     "name": "stdout",
     "output_type": "stream",
     "text": [
      "\n",
      "image 1/1 /mnt/SSD/workspace/atomic_hack/Сварные_швы/dataset/7 (164).jpg: 1024x576 3 прилегающие дефектыs, 21.7ms\n",
      "Speed: 2.8ms preprocess, 21.7ms inference, 1.1ms postprocess per image at shape (1, 3, 1024, 576)\n"
     ]
    },
    {
     "name": "stderr",
     "output_type": "stream",
     "text": [
      " 23%|█████████▎                              | 269/1162 [01:50<07:55,  1.88it/s]"
     ]
    },
    {
     "name": "stdout",
     "output_type": "stream",
     "text": [
      "\n",
      "image 1/1 /mnt/SSD/workspace/atomic_hack/Сварные_швы/dataset/7 (238).jpg: 1024x576 9 прилегающие дефектыs, 33.5ms\n",
      "Speed: 3.0ms preprocess, 33.5ms inference, 1.0ms postprocess per image at shape (1, 3, 1024, 576)\n"
     ]
    },
    {
     "name": "stderr",
     "output_type": "stream",
     "text": [
      " 23%|█████████▎                              | 270/1162 [01:50<08:34,  1.73it/s]"
     ]
    },
    {
     "name": "stdout",
     "output_type": "stream",
     "text": [
      "\n",
      "image 1/1 /mnt/SSD/workspace/atomic_hack/Сварные_швы/dataset/3 (37).jpg: 576x1024 2 прилегающие дефектыs, 21.3ms\n",
      "Speed: 2.6ms preprocess, 21.3ms inference, 0.7ms postprocess per image at shape (1, 3, 576, 1024)\n"
     ]
    },
    {
     "name": "stderr",
     "output_type": "stream",
     "text": [
      " 23%|█████████▎                              | 271/1162 [01:51<06:54,  2.15it/s]"
     ]
    },
    {
     "name": "stdout",
     "output_type": "stream",
     "text": [
      "\n",
      "image 1/1 /mnt/SSD/workspace/atomic_hack/Сварные_швы/dataset/3 (44).jpg: 576x1024 8 прилегающие дефектыs, 21.3ms\n",
      "Speed: 2.8ms preprocess, 21.3ms inference, 0.7ms postprocess per image at shape (1, 3, 576, 1024)\n"
     ]
    },
    {
     "name": "stderr",
     "output_type": "stream",
     "text": [
      " 23%|█████████▎                              | 272/1162 [01:51<07:32,  1.97it/s]"
     ]
    },
    {
     "name": "stdout",
     "output_type": "stream",
     "text": [
      "\n",
      "image 1/1 /mnt/SSD/workspace/atomic_hack/Сварные_швы/dataset/12 (6).jpg: 1024x576 1 прилегающие дефекты, 20.2ms\n",
      "Speed: 2.8ms preprocess, 20.2ms inference, 0.7ms postprocess per image at shape (1, 3, 1024, 576)\n"
     ]
    },
    {
     "name": "stderr",
     "output_type": "stream",
     "text": [
      " 23%|█████████▍                              | 273/1162 [01:51<05:50,  2.54it/s]"
     ]
    },
    {
     "name": "stdout",
     "output_type": "stream",
     "text": [
      "\n",
      "image 1/1 /mnt/SSD/workspace/atomic_hack/Сварные_швы/dataset/12 (72).jpg: 1024x576 4 прилегающие дефектыs, 20.0ms\n",
      "Speed: 2.9ms preprocess, 20.0ms inference, 0.7ms postprocess per image at shape (1, 3, 1024, 576)\n"
     ]
    },
    {
     "name": "stderr",
     "output_type": "stream",
     "text": [
      " 24%|█████████▍                              | 274/1162 [01:52<05:31,  2.68it/s]"
     ]
    },
    {
     "name": "stdout",
     "output_type": "stream",
     "text": [
      "\n",
      "image 1/1 /mnt/SSD/workspace/atomic_hack/Сварные_швы/dataset/5 (116).jpg: 576x1024 4 прилегающие дефектыs, 20.0ms\n",
      "Speed: 2.8ms preprocess, 20.0ms inference, 0.8ms postprocess per image at shape (1, 3, 576, 1024)\n"
     ]
    },
    {
     "name": "stderr",
     "output_type": "stream",
     "text": [
      " 24%|█████████▍                              | 275/1162 [01:52<05:18,  2.79it/s]"
     ]
    },
    {
     "name": "stdout",
     "output_type": "stream",
     "text": [
      "\n",
      "image 1/1 /mnt/SSD/workspace/atomic_hack/Сварные_швы/dataset/7 (46).jpg: 1024x576 9 прилегающие дефектыs, 20.1ms\n",
      "Speed: 2.9ms preprocess, 20.1ms inference, 0.7ms postprocess per image at shape (1, 3, 1024, 576)\n"
     ]
    },
    {
     "name": "stderr",
     "output_type": "stream",
     "text": [
      " 24%|█████████▌                              | 276/1162 [01:53<06:30,  2.27it/s]"
     ]
    },
    {
     "name": "stdout",
     "output_type": "stream",
     "text": [
      "\n",
      "image 1/1 /mnt/SSD/workspace/atomic_hack/Сварные_швы/dataset/8 (105).jpg: 1024x576 2 прилегающие дефектыs, 19.8ms\n",
      "Speed: 2.8ms preprocess, 19.8ms inference, 0.7ms postprocess per image at shape (1, 3, 1024, 576)\n"
     ]
    },
    {
     "name": "stderr",
     "output_type": "stream",
     "text": [
      " 24%|█████████▌                              | 277/1162 [01:53<05:23,  2.74it/s]"
     ]
    },
    {
     "name": "stdout",
     "output_type": "stream",
     "text": [
      "\n",
      "image 1/1 /mnt/SSD/workspace/atomic_hack/Сварные_швы/dataset/5 (140).jpg: 576x1024 3 прилегающие дефектыs, 21.1ms\n",
      "Speed: 3.0ms preprocess, 21.1ms inference, 0.7ms postprocess per image at shape (1, 3, 576, 1024)\n"
     ]
    },
    {
     "name": "stderr",
     "output_type": "stream",
     "text": [
      " 24%|█████████▌                              | 278/1162 [01:53<04:55,  2.99it/s]"
     ]
    },
    {
     "name": "stdout",
     "output_type": "stream",
     "text": [
      "\n",
      "image 1/1 /mnt/SSD/workspace/atomic_hack/Сварные_швы/dataset/8 (119).jpg: 1024x576 3 прилегающие дефектыs, 20.1ms\n",
      "Speed: 2.8ms preprocess, 20.1ms inference, 0.7ms postprocess per image at shape (1, 3, 1024, 576)\n"
     ]
    },
    {
     "name": "stderr",
     "output_type": "stream",
     "text": [
      " 24%|█████████▌                              | 279/1162 [01:53<04:34,  3.22it/s]"
     ]
    },
    {
     "name": "stdout",
     "output_type": "stream",
     "text": [
      "\n",
      "image 1/1 /mnt/SSD/workspace/atomic_hack/Сварные_швы/dataset/3 (3).jpg: 576x1024 6 прилегающие дефектыs, 21.3ms\n",
      "Speed: 2.8ms preprocess, 21.3ms inference, 0.7ms postprocess per image at shape (1, 3, 576, 1024)\n"
     ]
    },
    {
     "name": "stderr",
     "output_type": "stream",
     "text": [
      " 24%|█████████▋                              | 280/1162 [01:54<05:09,  2.85it/s]"
     ]
    },
    {
     "name": "stdout",
     "output_type": "stream",
     "text": [
      "\n",
      "image 1/1 /mnt/SSD/workspace/atomic_hack/Сварные_швы/dataset/5 (17).jpg: 576x1024 10 прилегающие дефектыs, 21.3ms\n",
      "Speed: 2.8ms preprocess, 21.3ms inference, 1.0ms postprocess per image at shape (1, 3, 576, 1024)\n"
     ]
    },
    {
     "name": "stderr",
     "output_type": "stream",
     "text": [
      " 24%|█████████▋                              | 281/1162 [01:54<06:57,  2.11it/s]"
     ]
    },
    {
     "name": "stdout",
     "output_type": "stream",
     "text": [
      "\n",
      "image 1/1 /mnt/SSD/workspace/atomic_hack/Сварные_швы/dataset/8 (12).jpg: 1024x576 3 прилегающие дефектыs, 21.0ms\n",
      "Speed: 3.0ms preprocess, 21.0ms inference, 0.7ms postprocess per image at shape (1, 3, 1024, 576)\n"
     ]
    },
    {
     "name": "stderr",
     "output_type": "stream",
     "text": [
      " 24%|█████████▋                              | 282/1162 [01:55<06:01,  2.44it/s]"
     ]
    },
    {
     "name": "stdout",
     "output_type": "stream",
     "text": [
      "\n",
      "image 1/1 /mnt/SSD/workspace/atomic_hack/Сварные_швы/dataset/9 (59).jpg: 1024x576 3 прилегающие дефектыs, 21.4ms\n",
      "Speed: 2.9ms preprocess, 21.4ms inference, 1.0ms postprocess per image at shape (1, 3, 1024, 576)\n"
     ]
    },
    {
     "name": "stderr",
     "output_type": "stream",
     "text": [
      " 24%|█████████▋                              | 283/1162 [01:55<05:26,  2.69it/s]"
     ]
    },
    {
     "name": "stdout",
     "output_type": "stream",
     "text": [
      "\n",
      "image 1/1 /mnt/SSD/workspace/atomic_hack/Сварные_швы/dataset/6 (45).jpg: 1024x576 (no detections), 25.7ms\n",
      "Speed: 2.8ms preprocess, 25.7ms inference, 0.4ms postprocess per image at shape (1, 3, 1024, 576)\n",
      "\n",
      "image 1/1 /mnt/SSD/workspace/atomic_hack/Сварные_швы/dataset/7 (119).jpg: 1024x576 8 прилегающие дефектыs, 21.7ms\n",
      "Speed: 2.7ms preprocess, 21.7ms inference, 0.7ms postprocess per image at shape (1, 3, 1024, 576)\n"
     ]
    },
    {
     "name": "stderr",
     "output_type": "stream",
     "text": [
      " 25%|█████████▊                              | 285/1162 [01:56<05:19,  2.75it/s]"
     ]
    },
    {
     "name": "stdout",
     "output_type": "stream",
     "text": [
      "\n",
      "image 1/1 /mnt/SSD/workspace/atomic_hack/Сварные_швы/dataset/8 (91).jpg: 1024x576 3 прилегающие дефектыs, 20.6ms\n",
      "Speed: 2.9ms preprocess, 20.6ms inference, 0.7ms postprocess per image at shape (1, 3, 1024, 576)\n"
     ]
    },
    {
     "name": "stderr",
     "output_type": "stream",
     "text": [
      " 25%|█████████▊                              | 286/1162 [01:56<05:08,  2.84it/s]"
     ]
    },
    {
     "name": "stdout",
     "output_type": "stream",
     "text": [
      "\n",
      "image 1/1 /mnt/SSD/workspace/atomic_hack/Сварные_швы/dataset/8 (110).jpg: 1024x576 4 прилегающие дефектыs, 20.8ms\n",
      "Speed: 2.7ms preprocess, 20.8ms inference, 0.7ms postprocess per image at shape (1, 3, 1024, 576)\n"
     ]
    },
    {
     "name": "stderr",
     "output_type": "stream",
     "text": [
      " 25%|█████████▉                              | 287/1162 [01:56<05:02,  2.89it/s]"
     ]
    },
    {
     "name": "stdout",
     "output_type": "stream",
     "text": [
      "\n",
      "image 1/1 /mnt/SSD/workspace/atomic_hack/Сварные_швы/dataset/8 (30).jpg: 1024x576 2 прилегающие дефектыs, 67.5ms\n",
      "Speed: 2.9ms preprocess, 67.5ms inference, 0.7ms postprocess per image at shape (1, 3, 1024, 576)\n"
     ]
    },
    {
     "name": "stderr",
     "output_type": "stream",
     "text": [
      " 25%|█████████▉                              | 288/1162 [01:57<04:37,  3.15it/s]"
     ]
    },
    {
     "name": "stdout",
     "output_type": "stream",
     "text": [
      "\n",
      "image 1/1 /mnt/SSD/workspace/atomic_hack/Сварные_швы/dataset/5 (106).jpg: 576x1024 9 прилегающие дефектыs, 22.1ms\n",
      "Speed: 2.8ms preprocess, 22.1ms inference, 0.7ms postprocess per image at shape (1, 3, 576, 1024)\n"
     ]
    },
    {
     "name": "stderr",
     "output_type": "stream",
     "text": [
      " 25%|█████████▉                              | 289/1162 [01:57<06:17,  2.31it/s]"
     ]
    },
    {
     "name": "stdout",
     "output_type": "stream",
     "text": [
      "\n",
      "image 1/1 /mnt/SSD/workspace/atomic_hack/Сварные_швы/dataset/8 (82).jpg: 1024x576 6 прилегающие дефектыs, 21.3ms\n",
      "Speed: 2.9ms preprocess, 21.3ms inference, 0.7ms postprocess per image at shape (1, 3, 1024, 576)\n"
     ]
    },
    {
     "name": "stderr",
     "output_type": "stream",
     "text": [
      " 25%|█████████▉                              | 290/1162 [01:58<06:22,  2.28it/s]"
     ]
    },
    {
     "name": "stdout",
     "output_type": "stream",
     "text": [
      "\n",
      "image 1/1 /mnt/SSD/workspace/atomic_hack/Сварные_швы/dataset/6 (41).jpg: 1024x576 1 прилегающие дефекты, 20.0ms\n",
      "Speed: 2.8ms preprocess, 20.0ms inference, 0.7ms postprocess per image at shape (1, 3, 1024, 576)\n"
     ]
    },
    {
     "name": "stderr",
     "output_type": "stream",
     "text": [
      " 25%|██████████                              | 291/1162 [01:58<05:05,  2.85it/s]"
     ]
    },
    {
     "name": "stdout",
     "output_type": "stream",
     "text": [
      "\n",
      "image 1/1 /mnt/SSD/workspace/atomic_hack/Сварные_швы/dataset/11 (75).jpg: 1024x576 2 прилегающие дефектыs, 20.8ms\n",
      "Speed: 2.9ms preprocess, 20.8ms inference, 0.7ms postprocess per image at shape (1, 3, 1024, 576)\n"
     ]
    },
    {
     "name": "stderr",
     "output_type": "stream",
     "text": [
      " 25%|██████████                              | 292/1162 [01:58<04:25,  3.27it/s]"
     ]
    },
    {
     "name": "stdout",
     "output_type": "stream",
     "text": [
      "\n",
      "image 1/1 /mnt/SSD/workspace/atomic_hack/Сварные_швы/dataset/6 (36).jpg: 1024x576 2 прилегающие дефектыs, 23.6ms\n",
      "Speed: 2.9ms preprocess, 23.6ms inference, 0.8ms postprocess per image at shape (1, 3, 1024, 576)\n"
     ]
    },
    {
     "name": "stderr",
     "output_type": "stream",
     "text": [
      " 25%|██████████                              | 293/1162 [01:58<04:11,  3.45it/s]"
     ]
    },
    {
     "name": "stdout",
     "output_type": "stream",
     "text": [
      "\n",
      "image 1/1 /mnt/SSD/workspace/atomic_hack/Сварные_швы/dataset/4 (125).jpg: 576x1024 8 прилегающие дефектыs, 22.5ms\n",
      "Speed: 2.8ms preprocess, 22.5ms inference, 0.7ms postprocess per image at shape (1, 3, 576, 1024)\n"
     ]
    },
    {
     "name": "stderr",
     "output_type": "stream",
     "text": [
      " 25%|██████████                              | 294/1162 [01:59<05:28,  2.64it/s]"
     ]
    },
    {
     "name": "stdout",
     "output_type": "stream",
     "text": [
      "\n",
      "image 1/1 /mnt/SSD/workspace/atomic_hack/Сварные_швы/dataset/3 (2).jpg: 576x1024 5 прилегающие дефектыs, 23.1ms\n",
      "Speed: 2.8ms preprocess, 23.1ms inference, 0.8ms postprocess per image at shape (1, 3, 576, 1024)\n"
     ]
    },
    {
     "name": "stderr",
     "output_type": "stream",
     "text": [
      " 25%|██████████▏                             | 295/1162 [01:59<05:33,  2.60it/s]"
     ]
    },
    {
     "name": "stdout",
     "output_type": "stream",
     "text": [
      "\n",
      "image 1/1 /mnt/SSD/workspace/atomic_hack/Сварные_швы/dataset/11 (28).jpg: 1024x576 2 прилегающие дефектыs, 19.5ms\n",
      "Speed: 3.1ms preprocess, 19.5ms inference, 0.7ms postprocess per image at shape (1, 3, 1024, 576)\n"
     ]
    },
    {
     "name": "stderr",
     "output_type": "stream",
     "text": [
      " 25%|██████████▏                             | 296/1162 [02:00<04:45,  3.04it/s]"
     ]
    },
    {
     "name": "stdout",
     "output_type": "stream",
     "text": [
      "\n",
      "image 1/1 /mnt/SSD/workspace/atomic_hack/Сварные_швы/dataset/11 (25).jpg: 1024x576 5 прилегающие дефектыs, 22.8ms\n",
      "Speed: 3.1ms preprocess, 22.8ms inference, 0.8ms postprocess per image at shape (1, 3, 1024, 576)\n"
     ]
    },
    {
     "name": "stderr",
     "output_type": "stream",
     "text": [
      " 26%|██████████▏                             | 297/1162 [02:00<04:59,  2.88it/s]"
     ]
    },
    {
     "name": "stdout",
     "output_type": "stream",
     "text": [
      "\n",
      "image 1/1 /mnt/SSD/workspace/atomic_hack/Сварные_швы/dataset/5 (172).jpg: 576x1024 7 прилегающие дефектыs, 21.2ms\n",
      "Speed: 3.0ms preprocess, 21.2ms inference, 0.7ms postprocess per image at shape (1, 3, 576, 1024)\n"
     ]
    },
    {
     "name": "stderr",
     "output_type": "stream",
     "text": [
      " 26%|██████████▎                             | 298/1162 [02:00<05:49,  2.47it/s]"
     ]
    },
    {
     "name": "stdout",
     "output_type": "stream",
     "text": [
      "\n",
      "image 1/1 /mnt/SSD/workspace/atomic_hack/Сварные_швы/dataset/11 (11).jpg: 1024x576 2 прилегающие дефектыs, 20.9ms\n",
      "Speed: 2.8ms preprocess, 20.9ms inference, 0.7ms postprocess per image at shape (1, 3, 1024, 576)\n"
     ]
    },
    {
     "name": "stderr",
     "output_type": "stream",
     "text": [
      " 26%|██████████▎                             | 299/1162 [02:01<04:55,  2.92it/s]"
     ]
    },
    {
     "name": "stdout",
     "output_type": "stream",
     "text": [
      "\n",
      "image 1/1 /mnt/SSD/workspace/atomic_hack/Сварные_швы/dataset/6 (54).jpg: 1024x576 2 прилегающие дефектыs, 19.7ms\n",
      "Speed: 3.0ms preprocess, 19.7ms inference, 1.1ms postprocess per image at shape (1, 3, 1024, 576)\n"
     ]
    },
    {
     "name": "stderr",
     "output_type": "stream",
     "text": [
      " 26%|██████████▎                             | 300/1162 [02:01<04:18,  3.34it/s]"
     ]
    },
    {
     "name": "stdout",
     "output_type": "stream",
     "text": [
      "\n",
      "image 1/1 /mnt/SSD/workspace/atomic_hack/Сварные_швы/dataset/5 (89).jpg: 576x1024 1 прилегающие дефекты, 21.1ms\n",
      "Speed: 2.8ms preprocess, 21.1ms inference, 0.9ms postprocess per image at shape (1, 3, 576, 1024)\n"
     ]
    },
    {
     "name": "stderr",
     "output_type": "stream",
     "text": [
      " 26%|██████████▎                             | 301/1162 [02:01<03:35,  3.99it/s]"
     ]
    },
    {
     "name": "stdout",
     "output_type": "stream",
     "text": [
      "\n",
      "image 1/1 /mnt/SSD/workspace/atomic_hack/Сварные_швы/dataset/4 (39).jpg: 576x1024 5 прилегающие дефектыs, 21.0ms\n",
      "Speed: 2.8ms preprocess, 21.0ms inference, 1.0ms postprocess per image at shape (1, 3, 576, 1024)\n"
     ]
    },
    {
     "name": "stderr",
     "output_type": "stream",
     "text": [
      " 26%|██████████▍                             | 302/1162 [02:01<04:09,  3.45it/s]"
     ]
    },
    {
     "name": "stdout",
     "output_type": "stream",
     "text": [
      "\n",
      "image 1/1 /mnt/SSD/workspace/atomic_hack/Сварные_швы/dataset/5 (111).jpg: 576x1024 (no detections), 21.3ms\n",
      "Speed: 2.7ms preprocess, 21.3ms inference, 0.3ms postprocess per image at shape (1, 3, 576, 1024)\n",
      "\n",
      "image 1/1 /mnt/SSD/workspace/atomic_hack/Сварные_швы/dataset/5 (136).jpg: 576x1024 7 прилегающие дефектыs, 21.3ms\n",
      "Speed: 2.7ms preprocess, 21.3ms inference, 0.7ms postprocess per image at shape (1, 3, 576, 1024)\n"
     ]
    },
    {
     "name": "stderr",
     "output_type": "stream",
     "text": [
      " 26%|██████████▍                             | 304/1162 [02:02<04:04,  3.50it/s]"
     ]
    },
    {
     "name": "stdout",
     "output_type": "stream",
     "text": [
      "\n",
      "image 1/1 /mnt/SSD/workspace/atomic_hack/Сварные_швы/dataset/4 (83).jpg: 576x1024 13 прилегающие дефектыs, 21.0ms\n",
      "Speed: 2.6ms preprocess, 21.0ms inference, 0.7ms postprocess per image at shape (1, 3, 576, 1024)\n"
     ]
    },
    {
     "name": "stderr",
     "output_type": "stream",
     "text": [
      " 26%|██████████▍                             | 305/1162 [02:03<06:08,  2.32it/s]"
     ]
    },
    {
     "name": "stdout",
     "output_type": "stream",
     "text": [
      "\n",
      "image 1/1 /mnt/SSD/workspace/atomic_hack/Сварные_швы/dataset/8 (90).jpg: 1024x576 4 прилегающие дефектыs, 20.2ms\n",
      "Speed: 3.0ms preprocess, 20.2ms inference, 0.7ms postprocess per image at shape (1, 3, 1024, 576)\n"
     ]
    },
    {
     "name": "stderr",
     "output_type": "stream",
     "text": [
      " 26%|██████████▌                             | 306/1162 [02:03<05:42,  2.50it/s]"
     ]
    },
    {
     "name": "stdout",
     "output_type": "stream",
     "text": [
      "\n",
      "image 1/1 /mnt/SSD/workspace/atomic_hack/Сварные_швы/dataset/6 (37).jpg: 1024x576 2 прилегающие дефектыs, 20.0ms\n",
      "Speed: 2.9ms preprocess, 20.0ms inference, 0.7ms postprocess per image at shape (1, 3, 1024, 576)\n"
     ]
    },
    {
     "name": "stderr",
     "output_type": "stream",
     "text": [
      " 26%|██████████▌                             | 307/1162 [02:03<04:53,  2.91it/s]"
     ]
    },
    {
     "name": "stdout",
     "output_type": "stream",
     "text": [
      "\n",
      "image 1/1 /mnt/SSD/workspace/atomic_hack/Сварные_швы/dataset/7 (125).jpg: 1024x576 10 прилегающие дефектыs, 20.0ms\n",
      "Speed: 3.0ms preprocess, 20.0ms inference, 0.7ms postprocess per image at shape (1, 3, 1024, 576)\n"
     ]
    },
    {
     "name": "stderr",
     "output_type": "stream",
     "text": [
      " 27%|██████████▌                             | 308/1162 [02:04<06:16,  2.27it/s]"
     ]
    },
    {
     "name": "stdout",
     "output_type": "stream",
     "text": [
      "\n",
      "image 1/1 /mnt/SSD/workspace/atomic_hack/Сварные_швы/dataset/3 (40).jpg: 576x1024 1 прилегающие дефекты, 21.3ms\n",
      "Speed: 2.7ms preprocess, 21.3ms inference, 0.7ms postprocess per image at shape (1, 3, 576, 1024)\n"
     ]
    },
    {
     "name": "stderr",
     "output_type": "stream",
     "text": [
      " 27%|██████████▋                             | 309/1162 [02:04<05:01,  2.83it/s]"
     ]
    },
    {
     "name": "stdout",
     "output_type": "stream",
     "text": [
      "\n",
      "image 1/1 /mnt/SSD/workspace/atomic_hack/Сварные_швы/dataset/11 (83).jpg: 1024x576 1 прилегающие дефекты, 18.8ms\n",
      "Speed: 3.0ms preprocess, 18.8ms inference, 0.7ms postprocess per image at shape (1, 3, 1024, 576)\n"
     ]
    },
    {
     "name": "stderr",
     "output_type": "stream",
     "text": [
      " 27%|██████████▋                             | 310/1162 [02:04<04:04,  3.48it/s]"
     ]
    },
    {
     "name": "stdout",
     "output_type": "stream",
     "text": [
      "\n",
      "image 1/1 /mnt/SSD/workspace/atomic_hack/Сварные_швы/dataset/5 (95).jpg: 576x1024 2 прилегающие дефектыs, 20.8ms\n",
      "Speed: 2.7ms preprocess, 20.8ms inference, 0.9ms postprocess per image at shape (1, 3, 576, 1024)\n"
     ]
    },
    {
     "name": "stderr",
     "output_type": "stream",
     "text": [
      " 27%|██████████▋                             | 311/1162 [02:04<03:41,  3.84it/s]"
     ]
    },
    {
     "name": "stdout",
     "output_type": "stream",
     "text": [
      "\n",
      "image 1/1 /mnt/SSD/workspace/atomic_hack/Сварные_швы/dataset/7 (109).jpg: 1024x576 11 прилегающие дефектыs, 19.7ms\n",
      "Speed: 3.2ms preprocess, 19.7ms inference, 0.8ms postprocess per image at shape (1, 3, 1024, 576)\n"
     ]
    },
    {
     "name": "stderr",
     "output_type": "stream",
     "text": [
      " 27%|██████████▋                             | 312/1162 [02:05<05:43,  2.48it/s]"
     ]
    },
    {
     "name": "stdout",
     "output_type": "stream",
     "text": [
      "\n",
      "image 1/1 /mnt/SSD/workspace/atomic_hack/Сварные_швы/dataset/5 (40).jpg: 576x1024 2 прилегающие дефектыs, 21.1ms\n",
      "Speed: 2.8ms preprocess, 21.1ms inference, 0.7ms postprocess per image at shape (1, 3, 576, 1024)\n"
     ]
    },
    {
     "name": "stderr",
     "output_type": "stream",
     "text": [
      " 27%|██████████▊                             | 313/1162 [02:05<05:02,  2.80it/s]"
     ]
    },
    {
     "name": "stdout",
     "output_type": "stream",
     "text": [
      "\n",
      "image 1/1 /mnt/SSD/workspace/atomic_hack/Сварные_швы/dataset/9 (5).jpg: 1024x576 2 прилегающие дефектыs, 22.5ms\n",
      "Speed: 3.0ms preprocess, 22.5ms inference, 0.7ms postprocess per image at shape (1, 3, 1024, 576)\n"
     ]
    },
    {
     "name": "stderr",
     "output_type": "stream",
     "text": [
      " 27%|██████████▊                             | 314/1162 [02:06<04:26,  3.18it/s]"
     ]
    },
    {
     "name": "stdout",
     "output_type": "stream",
     "text": [
      "\n",
      "image 1/1 /mnt/SSD/workspace/atomic_hack/Сварные_швы/dataset/6 (3).jpg: 1024x576 1 прилегающие дефекты, 21.8ms\n",
      "Speed: 2.9ms preprocess, 21.8ms inference, 0.7ms postprocess per image at shape (1, 3, 1024, 576)\n"
     ]
    },
    {
     "name": "stderr",
     "output_type": "stream",
     "text": [
      " 27%|██████████▊                             | 315/1162 [02:06<03:42,  3.80it/s]"
     ]
    },
    {
     "name": "stdout",
     "output_type": "stream",
     "text": [
      "\n",
      "image 1/1 /mnt/SSD/workspace/atomic_hack/Сварные_швы/dataset/9 (47).jpg: 1024x576 1 прилегающие дефекты, 20.1ms\n",
      "Speed: 3.0ms preprocess, 20.1ms inference, 0.7ms postprocess per image at shape (1, 3, 1024, 576)\n"
     ]
    },
    {
     "name": "stderr",
     "output_type": "stream",
     "text": [
      " 27%|██████████▉                             | 316/1162 [02:06<03:08,  4.48it/s]"
     ]
    },
    {
     "name": "stdout",
     "output_type": "stream",
     "text": [
      "\n",
      "image 1/1 /mnt/SSD/workspace/atomic_hack/Сварные_швы/dataset/9 (18).jpg: 1024x576 7 прилегающие дефектыs, 18.9ms\n",
      "Speed: 2.8ms preprocess, 18.9ms inference, 0.7ms postprocess per image at shape (1, 3, 1024, 576)\n"
     ]
    },
    {
     "name": "stderr",
     "output_type": "stream",
     "text": [
      " 27%|██████████▉                             | 317/1162 [02:06<04:19,  3.26it/s]"
     ]
    },
    {
     "name": "stdout",
     "output_type": "stream",
     "text": [
      "\n",
      "image 1/1 /mnt/SSD/workspace/atomic_hack/Сварные_швы/dataset/5 (132).jpg: 576x1024 4 прилегающие дефектыs, 21.4ms\n",
      "Speed: 2.7ms preprocess, 21.4ms inference, 0.7ms postprocess per image at shape (1, 3, 576, 1024)\n"
     ]
    },
    {
     "name": "stderr",
     "output_type": "stream",
     "text": [
      " 27%|██████████▉                             | 318/1162 [02:07<04:21,  3.22it/s]"
     ]
    },
    {
     "name": "stdout",
     "output_type": "stream",
     "text": [
      "\n",
      "image 1/1 /mnt/SSD/workspace/atomic_hack/Сварные_швы/dataset/4 (48).jpg: 576x1024 1 прилегающие дефекты, 21.3ms\n",
      "Speed: 2.7ms preprocess, 21.3ms inference, 0.7ms postprocess per image at shape (1, 3, 576, 1024)\n"
     ]
    },
    {
     "name": "stderr",
     "output_type": "stream",
     "text": [
      " 27%|██████████▉                             | 319/1162 [02:07<03:36,  3.89it/s]"
     ]
    },
    {
     "name": "stdout",
     "output_type": "stream",
     "text": [
      "\n",
      "image 1/1 /mnt/SSD/workspace/atomic_hack/Сварные_швы/dataset/7 (114).jpg: 1024x576 10 прилегающие дефектыs, 20.1ms\n",
      "Speed: 2.8ms preprocess, 20.1ms inference, 0.7ms postprocess per image at shape (1, 3, 1024, 576)\n"
     ]
    },
    {
     "name": "stderr",
     "output_type": "stream",
     "text": [
      " 28%|███████████                             | 320/1162 [02:08<05:27,  2.57it/s]"
     ]
    },
    {
     "name": "stdout",
     "output_type": "stream",
     "text": [
      "\n",
      "image 1/1 /mnt/SSD/workspace/atomic_hack/Сварные_швы/dataset/2 (10).jpg: 576x1024 7 прилегающие дефектыs, 22.0ms\n",
      "Speed: 2.5ms preprocess, 22.0ms inference, 0.7ms postprocess per image at shape (1, 3, 576, 1024)\n"
     ]
    },
    {
     "name": "stderr",
     "output_type": "stream",
     "text": [
      " 28%|███████████                             | 321/1162 [02:08<05:58,  2.35it/s]"
     ]
    },
    {
     "name": "stdout",
     "output_type": "stream",
     "text": [
      "\n",
      "image 1/1 /mnt/SSD/workspace/atomic_hack/Сварные_швы/dataset/8 (41).jpg: 1024x576 2 прилегающие дефектыs, 20.5ms\n",
      "Speed: 3.0ms preprocess, 20.5ms inference, 0.9ms postprocess per image at shape (1, 3, 1024, 576)\n"
     ]
    },
    {
     "name": "stderr",
     "output_type": "stream",
     "text": [
      " 28%|███████████                             | 322/1162 [02:08<04:58,  2.81it/s]"
     ]
    },
    {
     "name": "stdout",
     "output_type": "stream",
     "text": [
      "\n",
      "image 1/1 /mnt/SSD/workspace/atomic_hack/Сварные_швы/dataset/5 (13).jpg: 576x1024 10 прилегающие дефектыs, 22.6ms\n",
      "Speed: 2.7ms preprocess, 22.6ms inference, 0.7ms postprocess per image at shape (1, 3, 576, 1024)\n"
     ]
    },
    {
     "name": "stderr",
     "output_type": "stream",
     "text": [
      " 28%|███████████                             | 323/1162 [02:09<06:23,  2.19it/s]"
     ]
    },
    {
     "name": "stdout",
     "output_type": "stream",
     "text": [
      "\n",
      "image 1/1 /mnt/SSD/workspace/atomic_hack/Сварные_швы/dataset/7 (168).jpg: 1024x576 3 прилегающие дефектыs, 20.3ms\n",
      "Speed: 3.0ms preprocess, 20.3ms inference, 0.7ms postprocess per image at shape (1, 3, 1024, 576)\n"
     ]
    },
    {
     "name": "stderr",
     "output_type": "stream",
     "text": [
      " 28%|███████████▏                            | 324/1162 [02:09<05:34,  2.50it/s]"
     ]
    },
    {
     "name": "stdout",
     "output_type": "stream",
     "text": [
      "\n",
      "image 1/1 /mnt/SSD/workspace/atomic_hack/Сварные_швы/dataset/4 (77).jpg: 576x1024 11 прилегающие дефектыs, 21.1ms\n",
      "Speed: 2.7ms preprocess, 21.1ms inference, 0.7ms postprocess per image at shape (1, 3, 576, 1024)\n"
     ]
    },
    {
     "name": "stderr",
     "output_type": "stream",
     "text": [
      " 28%|███████████▏                            | 325/1162 [02:10<07:03,  1.98it/s]"
     ]
    },
    {
     "name": "stdout",
     "output_type": "stream",
     "text": [
      "\n",
      "image 1/1 /mnt/SSD/workspace/atomic_hack/Сварные_швы/dataset/8 (94).jpg: 1024x576 1 прилегающие дефекты, 20.9ms\n",
      "Speed: 2.9ms preprocess, 20.9ms inference, 0.7ms postprocess per image at shape (1, 3, 1024, 576)\n"
     ]
    },
    {
     "name": "stderr",
     "output_type": "stream",
     "text": [
      " 28%|███████████▏                            | 326/1162 [02:10<05:28,  2.54it/s]"
     ]
    },
    {
     "name": "stdout",
     "output_type": "stream",
     "text": [
      "\n",
      "image 1/1 /mnt/SSD/workspace/atomic_hack/Сварные_швы/dataset/4 (127).jpg: 576x1024 8 прилегающие дефектыs, 20.1ms\n",
      "Speed: 2.7ms preprocess, 20.1ms inference, 0.7ms postprocess per image at shape (1, 3, 576, 1024)\n"
     ]
    },
    {
     "name": "stderr",
     "output_type": "stream",
     "text": [
      " 28%|███████████▎                            | 327/1162 [02:11<06:14,  2.23it/s]"
     ]
    },
    {
     "name": "stdout",
     "output_type": "stream",
     "text": [
      "\n",
      "image 1/1 /mnt/SSD/workspace/atomic_hack/Сварные_швы/dataset/12 (18).jpg: 1024x576 3 прилегающие дефектыs, 20.2ms\n",
      "Speed: 3.2ms preprocess, 20.2ms inference, 0.8ms postprocess per image at shape (1, 3, 1024, 576)\n"
     ]
    },
    {
     "name": "stderr",
     "output_type": "stream",
     "text": [
      " 28%|███████████▎                            | 328/1162 [02:11<05:32,  2.51it/s]"
     ]
    },
    {
     "name": "stdout",
     "output_type": "stream",
     "text": [
      "\n",
      "image 1/1 /mnt/SSD/workspace/atomic_hack/Сварные_швы/dataset/6 (49).jpg: 1024x576 2 прилегающие дефектыs, 20.0ms\n",
      "Speed: 2.7ms preprocess, 20.0ms inference, 0.7ms postprocess per image at shape (1, 3, 1024, 576)\n"
     ]
    },
    {
     "name": "stderr",
     "output_type": "stream",
     "text": [
      " 28%|███████████▎                            | 329/1162 [02:11<04:40,  2.97it/s]"
     ]
    },
    {
     "name": "stdout",
     "output_type": "stream",
     "text": [
      "\n",
      "image 1/1 /mnt/SSD/workspace/atomic_hack/Сварные_швы/dataset/12 (21).jpg: 1024x576 5 прилегающие дефектыs, 20.2ms\n",
      "Speed: 3.0ms preprocess, 20.2ms inference, 0.7ms postprocess per image at shape (1, 3, 1024, 576)\n"
     ]
    },
    {
     "name": "stderr",
     "output_type": "stream",
     "text": [
      " 28%|███████████▎                            | 330/1162 [02:12<04:52,  2.85it/s]"
     ]
    },
    {
     "name": "stdout",
     "output_type": "stream",
     "text": [
      "\n",
      "image 1/1 /mnt/SSD/workspace/atomic_hack/Сварные_швы/dataset/5 (15).jpg: 576x1024 6 прилегающие дефектыs, 21.6ms\n",
      "Speed: 2.9ms preprocess, 21.6ms inference, 0.7ms postprocess per image at shape (1, 3, 576, 1024)\n"
     ]
    },
    {
     "name": "stderr",
     "output_type": "stream",
     "text": [
      " 28%|███████████▍                            | 331/1162 [02:12<05:13,  2.65it/s]"
     ]
    },
    {
     "name": "stdout",
     "output_type": "stream",
     "text": [
      "\n",
      "image 1/1 /mnt/SSD/workspace/atomic_hack/Сварные_швы/dataset/7 (138).jpg: 1024x576 8 прилегающие дефектыs, 22.0ms\n",
      "Speed: 2.9ms preprocess, 22.0ms inference, 1.4ms postprocess per image at shape (1, 3, 1024, 576)\n"
     ]
    },
    {
     "name": "stderr",
     "output_type": "stream",
     "text": [
      " 29%|███████████▍                            | 332/1162 [02:13<06:31,  2.12it/s]"
     ]
    },
    {
     "name": "stdout",
     "output_type": "stream",
     "text": [
      "\n",
      "image 1/1 /mnt/SSD/workspace/atomic_hack/Сварные_швы/dataset/4 (12).jpg: 576x1024 1 прилегающие дефекты, 21.8ms\n",
      "Speed: 2.8ms preprocess, 21.8ms inference, 0.7ms postprocess per image at shape (1, 3, 576, 1024)\n"
     ]
    },
    {
     "name": "stderr",
     "output_type": "stream",
     "text": [
      " 29%|███████████▍                            | 333/1162 [02:13<05:06,  2.70it/s]"
     ]
    },
    {
     "name": "stdout",
     "output_type": "stream",
     "text": [
      "\n",
      "image 1/1 /mnt/SSD/workspace/atomic_hack/Сварные_швы/dataset/7 (47).jpg: 1024x576 11 прилегающие дефектыs, 20.6ms\n",
      "Speed: 3.0ms preprocess, 20.6ms inference, 0.7ms postprocess per image at shape (1, 3, 1024, 576)\n"
     ]
    },
    {
     "name": "stderr",
     "output_type": "stream",
     "text": [
      " 29%|███████████▍                            | 334/1162 [02:14<06:43,  2.05it/s]"
     ]
    },
    {
     "name": "stdout",
     "output_type": "stream",
     "text": [
      "\n",
      "image 1/1 /mnt/SSD/workspace/atomic_hack/Сварные_швы/dataset/4 (138).jpg: 576x1024 4 прилегающие дефектыs, 24.3ms\n",
      "Speed: 2.7ms preprocess, 24.3ms inference, 1.3ms postprocess per image at shape (1, 3, 576, 1024)\n"
     ]
    },
    {
     "name": "stderr",
     "output_type": "stream",
     "text": [
      " 29%|███████████▌                            | 335/1162 [02:14<06:25,  2.14it/s]"
     ]
    },
    {
     "name": "stdout",
     "output_type": "stream",
     "text": [
      "\n",
      "image 1/1 /mnt/SSD/workspace/atomic_hack/Сварные_швы/dataset/7 (112).jpg: 1024x576 9 прилегающие дефектыs, 21.7ms\n",
      "Speed: 3.0ms preprocess, 21.7ms inference, 0.7ms postprocess per image at shape (1, 3, 1024, 576)\n"
     ]
    },
    {
     "name": "stderr",
     "output_type": "stream",
     "text": [
      " 29%|███████████▌                            | 336/1162 [02:15<07:35,  1.82it/s]"
     ]
    },
    {
     "name": "stdout",
     "output_type": "stream",
     "text": [
      "\n",
      "image 1/1 /mnt/SSD/workspace/atomic_hack/Сварные_швы/dataset/11 (13).jpg: 1024x576 2 прилегающие дефектыs, 20.1ms\n",
      "Speed: 2.8ms preprocess, 20.1ms inference, 0.7ms postprocess per image at shape (1, 3, 1024, 576)\n"
     ]
    },
    {
     "name": "stderr",
     "output_type": "stream",
     "text": [
      " 29%|███████████▌                            | 337/1162 [02:15<06:06,  2.25it/s]"
     ]
    },
    {
     "name": "stdout",
     "output_type": "stream",
     "text": [
      "\n",
      "image 1/1 /mnt/SSD/workspace/atomic_hack/Сварные_швы/dataset/5 (157).jpg: 576x1024 4 прилегающие дефектыs, 20.1ms\n",
      "Speed: 2.8ms preprocess, 20.1ms inference, 0.7ms postprocess per image at shape (1, 3, 576, 1024)\n"
     ]
    },
    {
     "name": "stderr",
     "output_type": "stream",
     "text": [
      " 29%|███████████▋                            | 338/1162 [02:15<05:35,  2.46it/s]"
     ]
    },
    {
     "name": "stdout",
     "output_type": "stream",
     "text": [
      "\n",
      "image 1/1 /mnt/SSD/workspace/atomic_hack/Сварные_швы/dataset/6 (21).jpg: 1024x576 1 прилегающие дефекты, 20.1ms\n",
      "Speed: 2.8ms preprocess, 20.1ms inference, 0.7ms postprocess per image at shape (1, 3, 1024, 576)\n"
     ]
    },
    {
     "name": "stderr",
     "output_type": "stream",
     "text": [
      " 29%|███████████▋                            | 339/1162 [02:15<04:25,  3.09it/s]"
     ]
    },
    {
     "name": "stdout",
     "output_type": "stream",
     "text": [
      "\n",
      "image 1/1 /mnt/SSD/workspace/atomic_hack/Сварные_швы/dataset/7 (37).jpg: 1024x576 16 прилегающие дефектыs, 20.3ms\n",
      "Speed: 2.9ms preprocess, 20.3ms inference, 0.8ms postprocess per image at shape (1, 3, 1024, 576)\n"
     ]
    },
    {
     "name": "stderr",
     "output_type": "stream",
     "text": [
      " 29%|███████████▋                            | 340/1162 [02:16<07:26,  1.84it/s]"
     ]
    },
    {
     "name": "stdout",
     "output_type": "stream",
     "text": [
      "\n",
      "image 1/1 /mnt/SSD/workspace/atomic_hack/Сварные_швы/dataset/6 (29).jpg: 1024x576 2 прилегающие дефектыs, 20.1ms\n",
      "Speed: 3.0ms preprocess, 20.1ms inference, 1.1ms postprocess per image at shape (1, 3, 1024, 576)\n"
     ]
    },
    {
     "name": "stderr",
     "output_type": "stream",
     "text": [
      " 29%|███████████▋                            | 341/1162 [02:17<06:01,  2.27it/s]"
     ]
    },
    {
     "name": "stdout",
     "output_type": "stream",
     "text": [
      "\n",
      "image 1/1 /mnt/SSD/workspace/atomic_hack/Сварные_швы/dataset/7 (40).jpg: 1024x576 19 прилегающие дефектыs, 20.2ms\n",
      "Speed: 2.9ms preprocess, 20.2ms inference, 1.6ms postprocess per image at shape (1, 3, 1024, 576)\n"
     ]
    },
    {
     "name": "stderr",
     "output_type": "stream",
     "text": [
      " 29%|███████████▊                            | 342/1162 [02:18<09:17,  1.47it/s]"
     ]
    },
    {
     "name": "stdout",
     "output_type": "stream",
     "text": [
      "\n",
      "image 1/1 /mnt/SSD/workspace/atomic_hack/Сварные_швы/dataset/5 (149).jpg: 576x1024 1 прилегающие дефекты, 21.3ms\n",
      "Speed: 2.7ms preprocess, 21.3ms inference, 0.7ms postprocess per image at shape (1, 3, 576, 1024)\n"
     ]
    },
    {
     "name": "stderr",
     "output_type": "stream",
     "text": [
      " 30%|███████████▊                            | 343/1162 [02:18<07:01,  1.94it/s]"
     ]
    },
    {
     "name": "stdout",
     "output_type": "stream",
     "text": [
      "\n",
      "image 1/1 /mnt/SSD/workspace/atomic_hack/Сварные_швы/dataset/8 (71).jpg: 1024x576 3 прилегающие дефектыs, 19.9ms\n",
      "Speed: 2.9ms preprocess, 19.9ms inference, 1.1ms postprocess per image at shape (1, 3, 1024, 576)\n"
     ]
    },
    {
     "name": "stderr",
     "output_type": "stream",
     "text": [
      " 30%|███████████▊                            | 344/1162 [02:18<05:58,  2.28it/s]"
     ]
    },
    {
     "name": "stdout",
     "output_type": "stream",
     "text": [
      "\n",
      "image 1/1 /mnt/SSD/workspace/atomic_hack/Сварные_швы/dataset/6 (86).jpg: 1024x576 (no detections), 20.2ms\n",
      "Speed: 2.8ms preprocess, 20.2ms inference, 0.3ms postprocess per image at shape (1, 3, 1024, 576)\n",
      "\n",
      "image 1/1 /mnt/SSD/workspace/atomic_hack/Сварные_швы/dataset/7 (3).jpg: 1024x576 11 прилегающие дефектыs, 20.3ms\n",
      "Speed: 3.0ms preprocess, 20.3ms inference, 0.7ms postprocess per image at shape (1, 3, 1024, 576)\n"
     ]
    },
    {
     "name": "stderr",
     "output_type": "stream",
     "text": [
      " 30%|███████████▉                            | 346/1162 [02:19<05:46,  2.36it/s]"
     ]
    },
    {
     "name": "stdout",
     "output_type": "stream",
     "text": [
      "\n",
      "image 1/1 /mnt/SSD/workspace/atomic_hack/Сварные_швы/dataset/12 (55).jpg: 1024x576 2 прилегающие дефектыs, 20.2ms\n",
      "Speed: 2.8ms preprocess, 20.2ms inference, 0.7ms postprocess per image at shape (1, 3, 1024, 576)\n"
     ]
    },
    {
     "name": "stderr",
     "output_type": "stream",
     "text": [
      " 30%|███████████▉                            | 347/1162 [02:19<04:57,  2.74it/s]"
     ]
    },
    {
     "name": "stdout",
     "output_type": "stream",
     "text": [
      "\n",
      "image 1/1 /mnt/SSD/workspace/atomic_hack/Сварные_швы/dataset/11 (80).jpg: 1024x576 1 прилегающие дефекты, 20.1ms\n",
      "Speed: 3.0ms preprocess, 20.1ms inference, 0.7ms postprocess per image at shape (1, 3, 1024, 576)\n"
     ]
    },
    {
     "name": "stderr",
     "output_type": "stream",
     "text": [
      " 30%|███████████▉                            | 348/1162 [02:19<04:06,  3.30it/s]"
     ]
    },
    {
     "name": "stdout",
     "output_type": "stream",
     "text": [
      "\n",
      "image 1/1 /mnt/SSD/workspace/atomic_hack/Сварные_швы/dataset/7 (4).jpg: 1024x576 13 прилегающие дефектыs, 20.0ms\n",
      "Speed: 2.7ms preprocess, 20.0ms inference, 0.7ms postprocess per image at shape (1, 3, 1024, 576)\n"
     ]
    },
    {
     "name": "stderr",
     "output_type": "stream",
     "text": [
      " 30%|████████████                            | 349/1162 [02:20<06:14,  2.17it/s]"
     ]
    },
    {
     "name": "stdout",
     "output_type": "stream",
     "text": [
      "\n",
      "image 1/1 /mnt/SSD/workspace/atomic_hack/Сварные_швы/dataset/4 (126).jpg: 576x1024 10 прилегающие дефектыs, 21.3ms\n",
      "Speed: 2.9ms preprocess, 21.3ms inference, 1.0ms postprocess per image at shape (1, 3, 576, 1024)\n"
     ]
    },
    {
     "name": "stderr",
     "output_type": "stream",
     "text": [
      " 30%|████████████                            | 350/1162 [02:21<07:05,  1.91it/s]"
     ]
    },
    {
     "name": "stdout",
     "output_type": "stream",
     "text": [
      "\n",
      "image 1/1 /mnt/SSD/workspace/atomic_hack/Сварные_швы/dataset/12 (27).jpg: 1024x576 4 прилегающие дефектыs, 19.2ms\n",
      "Speed: 2.9ms preprocess, 19.2ms inference, 0.7ms postprocess per image at shape (1, 3, 1024, 576)\n"
     ]
    },
    {
     "name": "stderr",
     "output_type": "stream",
     "text": [
      " 30%|████████████                            | 351/1162 [02:21<06:17,  2.15it/s]"
     ]
    },
    {
     "name": "stdout",
     "output_type": "stream",
     "text": [
      "\n",
      "image 1/1 /mnt/SSD/workspace/atomic_hack/Сварные_швы/dataset/5 (18).jpg: 576x1024 15 прилегающие дефектыs, 21.6ms\n",
      "Speed: 2.9ms preprocess, 21.6ms inference, 1.0ms postprocess per image at shape (1, 3, 576, 1024)\n"
     ]
    },
    {
     "name": "stderr",
     "output_type": "stream",
     "text": [
      " 30%|████████████                            | 352/1162 [02:22<08:52,  1.52it/s]"
     ]
    },
    {
     "name": "stdout",
     "output_type": "stream",
     "text": [
      "\n",
      "image 1/1 /mnt/SSD/workspace/atomic_hack/Сварные_швы/dataset/5 (219).jpg: 576x1024 8 прилегающие дефектыs, 21.4ms\n",
      "Speed: 3.2ms preprocess, 21.4ms inference, 0.8ms postprocess per image at shape (1, 3, 576, 1024)\n"
     ]
    },
    {
     "name": "stderr",
     "output_type": "stream",
     "text": [
      " 30%|████████████▏                           | 353/1162 [02:23<08:53,  1.52it/s]"
     ]
    },
    {
     "name": "stdout",
     "output_type": "stream",
     "text": [
      "\n",
      "image 1/1 /mnt/SSD/workspace/atomic_hack/Сварные_швы/dataset/12 (50).jpg: 1024x576 (no detections), 19.6ms\n",
      "Speed: 3.0ms preprocess, 19.6ms inference, 0.3ms postprocess per image at shape (1, 3, 1024, 576)\n",
      "\n",
      "image 1/1 /mnt/SSD/workspace/atomic_hack/Сварные_швы/dataset/4 (74).jpg: 576x1024 10 прилегающие дефектыs, 21.3ms\n",
      "Speed: 2.8ms preprocess, 21.3ms inference, 0.7ms postprocess per image at shape (1, 3, 576, 1024)\n"
     ]
    },
    {
     "name": "stderr",
     "output_type": "stream",
     "text": [
      " 31%|████████████▏                           | 355/1162 [02:24<07:14,  1.86it/s]"
     ]
    },
    {
     "name": "stdout",
     "output_type": "stream",
     "text": [
      "\n",
      "image 1/1 /mnt/SSD/workspace/atomic_hack/Сварные_швы/dataset/7 (177).jpg: 1024x576 3 прилегающие дефектыs, 20.3ms\n",
      "Speed: 3.0ms preprocess, 20.3ms inference, 0.8ms postprocess per image at shape (1, 3, 1024, 576)\n"
     ]
    },
    {
     "name": "stderr",
     "output_type": "stream",
     "text": [
      " 31%|████████████▎                           | 356/1162 [02:24<06:24,  2.10it/s]"
     ]
    },
    {
     "name": "stdout",
     "output_type": "stream",
     "text": [
      "\n",
      "image 1/1 /mnt/SSD/workspace/atomic_hack/Сварные_швы/dataset/8 (62).jpg: 1024x576 2 прилегающие дефектыs, 21.6ms\n",
      "Speed: 3.0ms preprocess, 21.6ms inference, 0.8ms postprocess per image at shape (1, 3, 1024, 576)\n"
     ]
    },
    {
     "name": "stderr",
     "output_type": "stream",
     "text": [
      " 31%|████████████▎                           | 357/1162 [02:24<05:26,  2.47it/s]"
     ]
    },
    {
     "name": "stdout",
     "output_type": "stream",
     "text": [
      "\n",
      "image 1/1 /mnt/SSD/workspace/atomic_hack/Сварные_швы/dataset/5 (138).jpg: 576x1024 1 прилегающие дефекты, 21.7ms\n",
      "Speed: 2.8ms preprocess, 21.7ms inference, 0.7ms postprocess per image at shape (1, 3, 576, 1024)\n"
     ]
    },
    {
     "name": "stderr",
     "output_type": "stream",
     "text": [
      " 31%|████████████▎                           | 358/1162 [02:25<04:27,  3.01it/s]"
     ]
    },
    {
     "name": "stdout",
     "output_type": "stream",
     "text": [
      "\n",
      "image 1/1 /mnt/SSD/workspace/atomic_hack/Сварные_швы/dataset/4 (108).jpg: 576x1024 8 прилегающие дефектыs, 21.3ms\n",
      "Speed: 2.7ms preprocess, 21.3ms inference, 0.7ms postprocess per image at shape (1, 3, 576, 1024)\n"
     ]
    },
    {
     "name": "stderr",
     "output_type": "stream",
     "text": [
      " 31%|████████████▎                           | 359/1162 [02:25<05:22,  2.49it/s]"
     ]
    },
    {
     "name": "stdout",
     "output_type": "stream",
     "text": [
      "\n",
      "image 1/1 /mnt/SSD/workspace/atomic_hack/Сварные_швы/dataset/9 (26).jpg: 1024x576 2 прилегающие дефектыs, 36.3ms\n",
      "Speed: 3.0ms preprocess, 36.3ms inference, 1.5ms postprocess per image at shape (1, 3, 1024, 576)\n"
     ]
    },
    {
     "name": "stderr",
     "output_type": "stream",
     "text": [
      " 31%|████████████▍                           | 360/1162 [02:25<04:57,  2.70it/s]"
     ]
    },
    {
     "name": "stdout",
     "output_type": "stream",
     "text": [
      "\n",
      "image 1/1 /mnt/SSD/workspace/atomic_hack/Сварные_швы/dataset/12 (26).jpg: 1024x576 10 прилегающие дефектыs, 21.4ms\n",
      "Speed: 3.5ms preprocess, 21.4ms inference, 0.8ms postprocess per image at shape (1, 3, 1024, 576)\n"
     ]
    },
    {
     "name": "stderr",
     "output_type": "stream",
     "text": [
      " 31%|████████████▍                           | 361/1162 [02:26<07:05,  1.88it/s]"
     ]
    },
    {
     "name": "stdout",
     "output_type": "stream",
     "text": [
      "\n",
      "image 1/1 /mnt/SSD/workspace/atomic_hack/Сварные_швы/dataset/12 (41).jpg: 1024x576 1 прилегающие дефекты, 20.5ms\n",
      "Speed: 2.9ms preprocess, 20.5ms inference, 0.7ms postprocess per image at shape (1, 3, 1024, 576)\n"
     ]
    },
    {
     "name": "stderr",
     "output_type": "stream",
     "text": [
      " 31%|████████████▍                           | 362/1162 [02:26<05:32,  2.41it/s]"
     ]
    },
    {
     "name": "stdout",
     "output_type": "stream",
     "text": [
      "\n",
      "image 1/1 /mnt/SSD/workspace/atomic_hack/Сварные_швы/dataset/8 (13).jpg: 1024x576 3 прилегающие дефектыs, 20.6ms\n",
      "Speed: 3.1ms preprocess, 20.6ms inference, 0.8ms postprocess per image at shape (1, 3, 1024, 576)\n"
     ]
    },
    {
     "name": "stderr",
     "output_type": "stream",
     "text": [
      " 31%|████████████▍                           | 363/1162 [02:27<04:56,  2.70it/s]"
     ]
    },
    {
     "name": "stdout",
     "output_type": "stream",
     "text": [
      "\n",
      "image 1/1 /mnt/SSD/workspace/atomic_hack/Сварные_швы/dataset/4 (64).jpg: 576x1024 5 прилегающие дефектыs, 21.6ms\n",
      "Speed: 2.7ms preprocess, 21.6ms inference, 0.8ms postprocess per image at shape (1, 3, 576, 1024)\n"
     ]
    },
    {
     "name": "stderr",
     "output_type": "stream",
     "text": [
      " 31%|████████████▌                           | 364/1162 [02:27<04:59,  2.67it/s]"
     ]
    },
    {
     "name": "stdout",
     "output_type": "stream",
     "text": [
      "\n",
      "image 1/1 /mnt/SSD/workspace/atomic_hack/Сварные_швы/dataset/5 (208).jpg: 576x1024 10 прилегающие дефектыs, 21.5ms\n",
      "Speed: 2.8ms preprocess, 21.5ms inference, 0.8ms postprocess per image at shape (1, 3, 576, 1024)\n"
     ]
    },
    {
     "name": "stderr",
     "output_type": "stream",
     "text": [
      " 31%|████████████▌                           | 365/1162 [02:28<06:13,  2.14it/s]"
     ]
    },
    {
     "name": "stdout",
     "output_type": "stream",
     "text": [
      "\n",
      "image 1/1 /mnt/SSD/workspace/atomic_hack/Сварные_швы/dataset/7 (68).jpg: 1024x576 5 прилегающие дефектыs, 20.3ms\n",
      "Speed: 2.9ms preprocess, 20.3ms inference, 0.7ms postprocess per image at shape (1, 3, 1024, 576)\n"
     ]
    },
    {
     "name": "stderr",
     "output_type": "stream",
     "text": [
      " 31%|████████████▌                           | 366/1162 [02:28<05:52,  2.26it/s]"
     ]
    },
    {
     "name": "stdout",
     "output_type": "stream",
     "text": [
      "\n",
      "image 1/1 /mnt/SSD/workspace/atomic_hack/Сварные_швы/dataset/3 (15).jpg: 576x1024 (no detections), 72.0ms\n",
      "Speed: 3.2ms preprocess, 72.0ms inference, 2.3ms postprocess per image at shape (1, 3, 576, 1024)\n"
     ]
    },
    {
     "name": "stderr",
     "output_type": "stream",
     "text": [
      " 32%|████████████▋                           | 367/1162 [02:28<04:37,  2.87it/s]"
     ]
    },
    {
     "name": "stdout",
     "output_type": "stream",
     "text": [
      "\n",
      "image 1/1 /mnt/SSD/workspace/atomic_hack/Сварные_швы/dataset/12 (11).jpg: 1024x576 1 прилегающие дефекты, 26.9ms\n",
      "Speed: 3.3ms preprocess, 26.9ms inference, 1.5ms postprocess per image at shape (1, 3, 1024, 576)\n"
     ]
    },
    {
     "name": "stderr",
     "output_type": "stream",
     "text": [
      " 32%|████████████▋                           | 368/1162 [02:28<03:54,  3.39it/s]"
     ]
    },
    {
     "name": "stdout",
     "output_type": "stream",
     "text": [
      "\n",
      "image 1/1 /mnt/SSD/workspace/atomic_hack/Сварные_швы/dataset/4 (73).jpg: 576x1024 11 прилегающие дефектыs, 34.3ms\n",
      "Speed: 3.0ms preprocess, 34.3ms inference, 0.9ms postprocess per image at shape (1, 3, 576, 1024)\n"
     ]
    },
    {
     "name": "stderr",
     "output_type": "stream",
     "text": [
      " 32%|████████████▋                           | 369/1162 [02:29<06:06,  2.17it/s]"
     ]
    },
    {
     "name": "stdout",
     "output_type": "stream",
     "text": [
      "\n",
      "image 1/1 /mnt/SSD/workspace/atomic_hack/Сварные_швы/dataset/5 (59).jpg: 576x1024 5 прилегающие дефектыs, 21.3ms\n",
      "Speed: 2.7ms preprocess, 21.3ms inference, 0.7ms postprocess per image at shape (1, 3, 576, 1024)\n"
     ]
    },
    {
     "name": "stderr",
     "output_type": "stream",
     "text": [
      " 32%|████████████▋                           | 370/1162 [02:30<06:05,  2.17it/s]"
     ]
    },
    {
     "name": "stdout",
     "output_type": "stream",
     "text": [
      "\n",
      "image 1/1 /mnt/SSD/workspace/atomic_hack/Сварные_швы/dataset/4 (80).jpg: 576x1024 16 прилегающие дефектыs, 32.4ms\n",
      "Speed: 3.2ms preprocess, 32.4ms inference, 1.9ms postprocess per image at shape (1, 3, 576, 1024)\n"
     ]
    },
    {
     "name": "stderr",
     "output_type": "stream",
     "text": [
      " 32%|████████████▊                           | 371/1162 [02:31<09:44,  1.35it/s]"
     ]
    },
    {
     "name": "stdout",
     "output_type": "stream",
     "text": [
      "\n",
      "image 1/1 /mnt/SSD/workspace/atomic_hack/Сварные_швы/dataset/4 (117).jpg: 576x1024 9 прилегающие дефектыs, 23.5ms\n",
      "Speed: 4.1ms preprocess, 23.5ms inference, 0.8ms postprocess per image at shape (1, 3, 576, 1024)\n"
     ]
    },
    {
     "name": "stderr",
     "output_type": "stream",
     "text": [
      " 32%|████████████▊                           | 372/1162 [02:32<09:28,  1.39it/s]"
     ]
    },
    {
     "name": "stdout",
     "output_type": "stream",
     "text": [
      "\n",
      "image 1/1 /mnt/SSD/workspace/atomic_hack/Сварные_швы/dataset/5 (185).jpg: 576x1024 4 прилегающие дефектыs, 21.6ms\n",
      "Speed: 2.8ms preprocess, 21.6ms inference, 0.7ms postprocess per image at shape (1, 3, 576, 1024)\n"
     ]
    },
    {
     "name": "stderr",
     "output_type": "stream",
     "text": [
      " 32%|████████████▊                           | 373/1162 [02:32<07:53,  1.67it/s]"
     ]
    },
    {
     "name": "stdout",
     "output_type": "stream",
     "text": [
      "\n",
      "image 1/1 /mnt/SSD/workspace/atomic_hack/Сварные_швы/dataset/4 (28).jpg: 576x1024 (no detections), 21.3ms\n",
      "Speed: 2.8ms preprocess, 21.3ms inference, 0.3ms postprocess per image at shape (1, 3, 576, 1024)\n",
      "\n",
      "image 1/1 /mnt/SSD/workspace/atomic_hack/Сварные_швы/dataset/9 (62).jpg: 1024x576 2 прилегающие дефектыs, 19.7ms\n",
      "Speed: 3.1ms preprocess, 19.7ms inference, 0.7ms postprocess per image at shape (1, 3, 1024, 576)\n"
     ]
    },
    {
     "name": "stderr",
     "output_type": "stream",
     "text": [
      " 32%|████████████▉                           | 375/1162 [02:32<05:02,  2.60it/s]"
     ]
    },
    {
     "name": "stdout",
     "output_type": "stream",
     "text": [
      "\n",
      "image 1/1 /mnt/SSD/workspace/atomic_hack/Сварные_швы/dataset/7 (153).jpg: 1024x576 14 прилегающие дефектыs, 20.1ms\n",
      "Speed: 3.1ms preprocess, 20.1ms inference, 0.8ms postprocess per image at shape (1, 3, 1024, 576)\n"
     ]
    },
    {
     "name": "stderr",
     "output_type": "stream",
     "text": [
      " 32%|████████████▉                           | 376/1162 [02:33<06:52,  1.91it/s]"
     ]
    },
    {
     "name": "stdout",
     "output_type": "stream",
     "text": [
      "\n",
      "image 1/1 /mnt/SSD/workspace/atomic_hack/Сварные_швы/dataset/5 (42).jpg: 576x1024 1 прилегающие дефекты, 21.3ms\n",
      "Speed: 2.8ms preprocess, 21.3ms inference, 0.7ms postprocess per image at shape (1, 3, 576, 1024)\n"
     ]
    },
    {
     "name": "stderr",
     "output_type": "stream",
     "text": [
      " 32%|████████████▉                           | 377/1162 [02:34<05:33,  2.35it/s]"
     ]
    },
    {
     "name": "stdout",
     "output_type": "stream",
     "text": [
      "\n",
      "image 1/1 /mnt/SSD/workspace/atomic_hack/Сварные_швы/dataset/1 (9).jpg: 576x1024 10 прилегающие дефектыs, 21.6ms\n",
      "Speed: 2.4ms preprocess, 21.6ms inference, 0.7ms postprocess per image at shape (1, 3, 576, 1024)\n"
     ]
    },
    {
     "name": "stderr",
     "output_type": "stream",
     "text": [
      " 33%|█████████████                           | 378/1162 [02:34<06:25,  2.04it/s]"
     ]
    },
    {
     "name": "stdout",
     "output_type": "stream",
     "text": [
      "\n",
      "image 1/1 /mnt/SSD/workspace/atomic_hack/Сварные_швы/dataset/6 (39).jpg: 1024x576 2 прилегающие дефектыs, 25.2ms\n",
      "Speed: 3.5ms preprocess, 25.2ms inference, 0.7ms postprocess per image at shape (1, 3, 1024, 576)\n"
     ]
    },
    {
     "name": "stderr",
     "output_type": "stream",
     "text": [
      " 33%|█████████████                           | 379/1162 [02:34<05:21,  2.44it/s]"
     ]
    },
    {
     "name": "stdout",
     "output_type": "stream",
     "text": [
      "\n",
      "image 1/1 /mnt/SSD/workspace/atomic_hack/Сварные_швы/dataset/5 (171).jpg: 576x1024 3 прилегающие дефектыs, 21.2ms\n",
      "Speed: 2.7ms preprocess, 21.2ms inference, 1.0ms postprocess per image at shape (1, 3, 576, 1024)\n"
     ]
    },
    {
     "name": "stderr",
     "output_type": "stream",
     "text": [
      " 33%|█████████████                           | 380/1162 [02:35<04:47,  2.72it/s]"
     ]
    },
    {
     "name": "stdout",
     "output_type": "stream",
     "text": [
      "\n",
      "image 1/1 /mnt/SSD/workspace/atomic_hack/Сварные_швы/dataset/8 (95).jpg: 1024x576 2 прилегающие дефектыs, 20.2ms\n",
      "Speed: 2.9ms preprocess, 20.2ms inference, 0.8ms postprocess per image at shape (1, 3, 1024, 576)\n"
     ]
    },
    {
     "name": "stderr",
     "output_type": "stream",
     "text": [
      " 33%|█████████████                           | 381/1162 [02:35<04:08,  3.14it/s]"
     ]
    },
    {
     "name": "stdout",
     "output_type": "stream",
     "text": [
      "\n",
      "image 1/1 /mnt/SSD/workspace/atomic_hack/Сварные_швы/dataset/12 (70).jpg: 1024x576 2 прилегающие дефектыs, 20.4ms\n",
      "Speed: 2.8ms preprocess, 20.4ms inference, 0.8ms postprocess per image at shape (1, 3, 1024, 576)\n"
     ]
    },
    {
     "name": "stderr",
     "output_type": "stream",
     "text": [
      " 33%|█████████████▏                          | 382/1162 [02:35<03:38,  3.57it/s]"
     ]
    },
    {
     "name": "stdout",
     "output_type": "stream",
     "text": [
      "\n",
      "image 1/1 /mnt/SSD/workspace/atomic_hack/Сварные_швы/dataset/2 (13).jpg: 576x1024 19 прилегающие дефектыs, 22.0ms\n",
      "Speed: 2.6ms preprocess, 22.0ms inference, 0.8ms postprocess per image at shape (1, 3, 576, 1024)\n"
     ]
    },
    {
     "name": "stderr",
     "output_type": "stream",
     "text": [
      " 33%|█████████████▏                          | 383/1162 [02:36<07:14,  1.79it/s]"
     ]
    },
    {
     "name": "stdout",
     "output_type": "stream",
     "text": [
      "\n",
      "image 1/1 /mnt/SSD/workspace/atomic_hack/Сварные_швы/dataset/1 (3).jpg: 576x1024 13 прилегающие дефектыs, 21.9ms\n",
      "Speed: 2.5ms preprocess, 21.9ms inference, 0.7ms postprocess per image at shape (1, 3, 576, 1024)\n"
     ]
    },
    {
     "name": "stderr",
     "output_type": "stream",
     "text": [
      " 33%|█████████████▏                          | 384/1162 [02:37<08:21,  1.55it/s]"
     ]
    },
    {
     "name": "stdout",
     "output_type": "stream",
     "text": [
      "\n",
      "image 1/1 /mnt/SSD/workspace/atomic_hack/Сварные_швы/dataset/1 (8).jpg: 576x1024 9 прилегающие дефектыs, 21.4ms\n",
      "Speed: 2.5ms preprocess, 21.4ms inference, 0.7ms postprocess per image at shape (1, 3, 576, 1024)\n"
     ]
    },
    {
     "name": "stderr",
     "output_type": "stream",
     "text": [
      " 33%|█████████████▎                          | 385/1162 [02:38<08:12,  1.58it/s]"
     ]
    },
    {
     "name": "stdout",
     "output_type": "stream",
     "text": [
      "\n",
      "image 1/1 /mnt/SSD/workspace/atomic_hack/Сварные_швы/dataset/6 (26).jpg: 1024x576 1 прилегающие дефекты, 20.0ms\n",
      "Speed: 2.8ms preprocess, 20.0ms inference, 0.7ms postprocess per image at shape (1, 3, 1024, 576)\n"
     ]
    },
    {
     "name": "stderr",
     "output_type": "stream",
     "text": [
      " 33%|█████████████▎                          | 386/1162 [02:38<06:15,  2.07it/s]"
     ]
    },
    {
     "name": "stdout",
     "output_type": "stream",
     "text": [
      "\n",
      "image 1/1 /mnt/SSD/workspace/atomic_hack/Сварные_швы/dataset/9 (40).jpg: 1024x576 1 прилегающие дефекты, 20.0ms\n",
      "Speed: 2.9ms preprocess, 20.0ms inference, 0.9ms postprocess per image at shape (1, 3, 1024, 576)\n"
     ]
    },
    {
     "name": "stderr",
     "output_type": "stream",
     "text": [
      " 33%|█████████████▎                          | 387/1162 [02:38<04:53,  2.64it/s]"
     ]
    },
    {
     "name": "stdout",
     "output_type": "stream",
     "text": [
      "\n",
      "image 1/1 /mnt/SSD/workspace/atomic_hack/Сварные_швы/dataset/5 (102).jpg: 576x1024 2 прилегающие дефектыs, 20.9ms\n",
      "Speed: 2.8ms preprocess, 20.9ms inference, 0.7ms postprocess per image at shape (1, 3, 576, 1024)\n"
     ]
    },
    {
     "name": "stderr",
     "output_type": "stream",
     "text": [
      " 33%|█████████████▎                          | 388/1162 [02:38<04:12,  3.07it/s]"
     ]
    },
    {
     "name": "stdout",
     "output_type": "stream",
     "text": [
      "\n",
      "image 1/1 /mnt/SSD/workspace/atomic_hack/Сварные_швы/dataset/4 (70).jpg: 576x1024 9 прилегающие дефектыs, 21.4ms\n",
      "Speed: 2.8ms preprocess, 21.4ms inference, 0.7ms postprocess per image at shape (1, 3, 576, 1024)\n"
     ]
    },
    {
     "name": "stderr",
     "output_type": "stream",
     "text": [
      " 33%|█████████████▍                          | 389/1162 [02:39<05:24,  2.38it/s]"
     ]
    },
    {
     "name": "stdout",
     "output_type": "stream",
     "text": [
      "\n",
      "image 1/1 /mnt/SSD/workspace/atomic_hack/Сварные_швы/dataset/11 (1).jpg: 1024x576 1 прилегающие дефекты, 20.3ms\n",
      "Speed: 3.0ms preprocess, 20.3ms inference, 0.8ms postprocess per image at shape (1, 3, 1024, 576)\n"
     ]
    },
    {
     "name": "stderr",
     "output_type": "stream",
     "text": [
      " 34%|█████████████▍                          | 390/1162 [02:39<04:15,  3.02it/s]"
     ]
    },
    {
     "name": "stdout",
     "output_type": "stream",
     "text": [
      "\n",
      "image 1/1 /mnt/SSD/workspace/atomic_hack/Сварные_швы/dataset/11 (65).jpg: 1024x576 1 прилегающие дефекты, 22.2ms\n",
      "Speed: 3.0ms preprocess, 22.2ms inference, 0.8ms postprocess per image at shape (1, 3, 1024, 576)\n"
     ]
    },
    {
     "name": "stderr",
     "output_type": "stream",
     "text": [
      " 34%|█████████████▍                          | 391/1162 [02:39<03:28,  3.70it/s]"
     ]
    },
    {
     "name": "stdout",
     "output_type": "stream",
     "text": [
      "\n",
      "image 1/1 /mnt/SSD/workspace/atomic_hack/Сварные_швы/dataset/4 (32).jpg: 576x1024 6 прилегающие дефектыs, 21.6ms\n",
      "Speed: 2.8ms preprocess, 21.6ms inference, 0.7ms postprocess per image at shape (1, 3, 576, 1024)\n"
     ]
    },
    {
     "name": "stderr",
     "output_type": "stream",
     "text": [
      " 34%|█████████████▍                          | 392/1162 [02:40<04:09,  3.09it/s]"
     ]
    },
    {
     "name": "stdout",
     "output_type": "stream",
     "text": [
      "\n",
      "image 1/1 /mnt/SSD/workspace/atomic_hack/Сварные_швы/dataset/7 (198).jpg: 1024x576 5 прилегающие дефектыs, 23.4ms\n",
      "Speed: 3.1ms preprocess, 23.4ms inference, 1.0ms postprocess per image at shape (1, 3, 1024, 576)\n"
     ]
    },
    {
     "name": "stderr",
     "output_type": "stream",
     "text": [
      " 34%|█████████████▌                          | 393/1162 [02:40<04:24,  2.90it/s]"
     ]
    },
    {
     "name": "stdout",
     "output_type": "stream",
     "text": [
      "\n",
      "image 1/1 /mnt/SSD/workspace/atomic_hack/Сварные_швы/dataset/4 (101).jpg: 576x1024 9 прилегающие дефектыs, 21.6ms\n",
      "Speed: 2.7ms preprocess, 21.6ms inference, 0.8ms postprocess per image at shape (1, 3, 576, 1024)\n"
     ]
    },
    {
     "name": "stderr",
     "output_type": "stream",
     "text": [
      " 34%|█████████████▌                          | 394/1162 [02:41<05:38,  2.27it/s]"
     ]
    },
    {
     "name": "stdout",
     "output_type": "stream",
     "text": [
      "\n",
      "image 1/1 /mnt/SSD/workspace/atomic_hack/Сварные_швы/dataset/7 (19).jpg: 1024x576 21 прилегающие дефектыs, 23.9ms\n",
      "Speed: 4.4ms preprocess, 23.9ms inference, 0.8ms postprocess per image at shape (1, 3, 1024, 576)\n"
     ]
    },
    {
     "name": "stderr",
     "output_type": "stream",
     "text": [
      " 34%|█████████████▌                          | 395/1162 [02:42<09:31,  1.34it/s]"
     ]
    },
    {
     "name": "stdout",
     "output_type": "stream",
     "text": [
      "\n",
      "image 1/1 /mnt/SSD/workspace/atomic_hack/Сварные_швы/dataset/7 (225).jpg: 1024x576 4 прилегающие дефектыs, 20.4ms\n",
      "Speed: 2.8ms preprocess, 20.4ms inference, 0.7ms postprocess per image at shape (1, 3, 1024, 576)\n"
     ]
    },
    {
     "name": "stderr",
     "output_type": "stream",
     "text": [
      " 34%|█████████████▋                          | 396/1162 [02:42<07:58,  1.60it/s]"
     ]
    },
    {
     "name": "stdout",
     "output_type": "stream",
     "text": [
      "\n",
      "image 1/1 /mnt/SSD/workspace/atomic_hack/Сварные_швы/dataset/11 (41).jpg: 1024x576 2 прилегающие дефектыs, 22.4ms\n",
      "Speed: 3.0ms preprocess, 22.4ms inference, 0.7ms postprocess per image at shape (1, 3, 1024, 576)\n"
     ]
    },
    {
     "name": "stderr",
     "output_type": "stream",
     "text": [
      " 34%|█████████████▋                          | 397/1162 [02:43<06:19,  2.01it/s]"
     ]
    },
    {
     "name": "stdout",
     "output_type": "stream",
     "text": [
      "\n",
      "image 1/1 /mnt/SSD/workspace/atomic_hack/Сварные_швы/dataset/5 (135).jpg: 576x1024 3 прилегающие дефектыs, 20.9ms\n",
      "Speed: 2.9ms preprocess, 20.9ms inference, 0.8ms postprocess per image at shape (1, 3, 576, 1024)\n"
     ]
    },
    {
     "name": "stderr",
     "output_type": "stream",
     "text": [
      " 34%|█████████████▋                          | 398/1162 [02:43<05:25,  2.35it/s]"
     ]
    },
    {
     "name": "stdout",
     "output_type": "stream",
     "text": [
      "\n",
      "image 1/1 /mnt/SSD/workspace/atomic_hack/Сварные_швы/dataset/5 (96).jpg: 576x1024 3 прилегающие дефектыs, 21.3ms\n",
      "Speed: 2.9ms preprocess, 21.3ms inference, 0.8ms postprocess per image at shape (1, 3, 576, 1024)\n"
     ]
    },
    {
     "name": "stderr",
     "output_type": "stream",
     "text": [
      " 34%|█████████████▋                          | 399/1162 [02:43<04:51,  2.61it/s]"
     ]
    },
    {
     "name": "stdout",
     "output_type": "stream",
     "text": [
      "\n",
      "image 1/1 /mnt/SSD/workspace/atomic_hack/Сварные_швы/dataset/11 (34).jpg: 1024x576 1 прилегающие дефекты, 24.6ms\n",
      "Speed: 3.0ms preprocess, 24.6ms inference, 2.0ms postprocess per image at shape (1, 3, 1024, 576)\n"
     ]
    },
    {
     "name": "stderr",
     "output_type": "stream",
     "text": [
      " 34%|█████████████▊                          | 400/1162 [02:43<04:05,  3.10it/s]"
     ]
    },
    {
     "name": "stdout",
     "output_type": "stream",
     "text": [
      "\n",
      "image 1/1 /mnt/SSD/workspace/atomic_hack/Сварные_швы/dataset/5 (150).jpg: 576x1024 5 прилегающие дефектыs, 21.6ms\n",
      "Speed: 2.8ms preprocess, 21.6ms inference, 0.8ms postprocess per image at shape (1, 3, 576, 1024)\n"
     ]
    },
    {
     "name": "stderr",
     "output_type": "stream",
     "text": [
      " 35%|█████████████▊                          | 401/1162 [02:44<04:27,  2.85it/s]"
     ]
    },
    {
     "name": "stdout",
     "output_type": "stream",
     "text": [
      "\n",
      "image 1/1 /mnt/SSD/workspace/atomic_hack/Сварные_швы/dataset/7 (96).jpg: 1024x576 8 прилегающие дефектыs, 28.4ms\n",
      "Speed: 2.9ms preprocess, 28.4ms inference, 1.4ms postprocess per image at shape (1, 3, 1024, 576)\n"
     ]
    },
    {
     "name": "stderr",
     "output_type": "stream",
     "text": [
      " 35%|█████████████▊                          | 402/1162 [02:44<05:18,  2.39it/s]"
     ]
    },
    {
     "name": "stdout",
     "output_type": "stream",
     "text": [
      "\n",
      "image 1/1 /mnt/SSD/workspace/atomic_hack/Сварные_швы/dataset/4 (82).jpg: 576x1024 14 прилегающие дефектыs, 22.3ms\n",
      "Speed: 2.9ms preprocess, 22.3ms inference, 0.8ms postprocess per image at shape (1, 3, 576, 1024)\n"
     ]
    },
    {
     "name": "stderr",
     "output_type": "stream",
     "text": [
      " 35%|█████████████▊                          | 403/1162 [02:45<07:15,  1.74it/s]"
     ]
    },
    {
     "name": "stdout",
     "output_type": "stream",
     "text": [
      "\n",
      "image 1/1 /mnt/SSD/workspace/atomic_hack/Сварные_швы/dataset/5 (158).jpg: 576x1024 11 прилегающие дефектыs, 21.9ms\n",
      "Speed: 3.1ms preprocess, 21.9ms inference, 0.9ms postprocess per image at shape (1, 3, 576, 1024)\n"
     ]
    },
    {
     "name": "stderr",
     "output_type": "stream",
     "text": [
      " 35%|█████████████▉                          | 404/1162 [02:46<07:57,  1.59it/s]"
     ]
    },
    {
     "name": "stdout",
     "output_type": "stream",
     "text": [
      "\n",
      "image 1/1 /mnt/SSD/workspace/atomic_hack/Сварные_швы/dataset/6 (46).jpg: 1024x576 1 прилегающие дефекты, 21.6ms\n",
      "Speed: 2.9ms preprocess, 21.6ms inference, 0.8ms postprocess per image at shape (1, 3, 1024, 576)\n"
     ]
    },
    {
     "name": "stderr",
     "output_type": "stream",
     "text": [
      " 35%|█████████████▉                          | 405/1162 [02:46<06:05,  2.07it/s]"
     ]
    },
    {
     "name": "stdout",
     "output_type": "stream",
     "text": [
      "\n",
      "image 1/1 /mnt/SSD/workspace/atomic_hack/Сварные_швы/dataset/11 (9).jpg: 1024x576 2 прилегающие дефектыs, 20.6ms\n",
      "Speed: 3.1ms preprocess, 20.6ms inference, 0.8ms postprocess per image at shape (1, 3, 1024, 576)\n"
     ]
    },
    {
     "name": "stderr",
     "output_type": "stream",
     "text": [
      " 35%|█████████████▉                          | 406/1162 [02:46<04:59,  2.52it/s]"
     ]
    },
    {
     "name": "stdout",
     "output_type": "stream",
     "text": [
      "\n",
      "image 1/1 /mnt/SSD/workspace/atomic_hack/Сварные_швы/dataset/12 (71).jpg: 1024x576 3 прилегающие дефектыs, 28.7ms\n",
      "Speed: 3.2ms preprocess, 28.7ms inference, 5.3ms postprocess per image at shape (1, 3, 1024, 576)\n"
     ]
    },
    {
     "name": "stderr",
     "output_type": "stream",
     "text": [
      " 35%|██████████████                          | 407/1162 [02:47<04:30,  2.79it/s]"
     ]
    },
    {
     "name": "stdout",
     "output_type": "stream",
     "text": [
      "\n",
      "image 1/1 /mnt/SSD/workspace/atomic_hack/Сварные_швы/dataset/7 (56).jpg: 1024x576 5 прилегающие дефектыs, 20.2ms\n",
      "Speed: 2.8ms preprocess, 20.2ms inference, 0.7ms postprocess per image at shape (1, 3, 1024, 576)\n"
     ]
    },
    {
     "name": "stderr",
     "output_type": "stream",
     "text": [
      " 35%|██████████████                          | 408/1162 [02:47<04:36,  2.72it/s]"
     ]
    },
    {
     "name": "stdout",
     "output_type": "stream",
     "text": [
      "\n",
      "image 1/1 /mnt/SSD/workspace/atomic_hack/Сварные_швы/dataset/5 (86).jpg: 576x1024 1 прилегающие дефекты, 21.4ms\n",
      "Speed: 2.8ms preprocess, 21.4ms inference, 0.7ms postprocess per image at shape (1, 3, 576, 1024)\n"
     ]
    },
    {
     "name": "stderr",
     "output_type": "stream",
     "text": [
      " 35%|██████████████                          | 409/1162 [02:47<03:43,  3.37it/s]"
     ]
    },
    {
     "name": "stdout",
     "output_type": "stream",
     "text": [
      "\n",
      "image 1/1 /mnt/SSD/workspace/atomic_hack/Сварные_швы/dataset/4 (67).jpg: 576x1024 9 прилегающие дефектыs, 21.4ms\n",
      "Speed: 2.9ms preprocess, 21.4ms inference, 1.1ms postprocess per image at shape (1, 3, 576, 1024)\n"
     ]
    },
    {
     "name": "stderr",
     "output_type": "stream",
     "text": [
      " 35%|██████████████                          | 410/1162 [02:48<04:59,  2.51it/s]"
     ]
    },
    {
     "name": "stdout",
     "output_type": "stream",
     "text": [
      "\n",
      "image 1/1 /mnt/SSD/workspace/atomic_hack/Сварные_швы/dataset/6 (27).jpg: 1024x576 1 прилегающие дефекты, 20.3ms\n",
      "Speed: 3.0ms preprocess, 20.3ms inference, 0.7ms postprocess per image at shape (1, 3, 1024, 576)\n"
     ]
    },
    {
     "name": "stderr",
     "output_type": "stream",
     "text": [
      " 35%|██████████████▏                         | 411/1162 [02:48<03:58,  3.15it/s]"
     ]
    },
    {
     "name": "stdout",
     "output_type": "stream",
     "text": [
      "\n",
      "image 1/1 /mnt/SSD/workspace/atomic_hack/Сварные_швы/dataset/8 (18).jpg: 1024x576 2 прилегающие дефектыs, 19.7ms\n",
      "Speed: 2.8ms preprocess, 19.7ms inference, 1.0ms postprocess per image at shape (1, 3, 1024, 576)\n"
     ]
    },
    {
     "name": "stderr",
     "output_type": "stream",
     "text": [
      " 35%|██████████████▏                         | 412/1162 [02:48<03:30,  3.57it/s]"
     ]
    },
    {
     "name": "stdout",
     "output_type": "stream",
     "text": [
      "\n",
      "image 1/1 /mnt/SSD/workspace/atomic_hack/Сварные_швы/dataset/8 (5).jpg: 1024x576 3 прилегающие дефектыs, 34.4ms\n",
      "Speed: 4.1ms preprocess, 34.4ms inference, 1.2ms postprocess per image at shape (1, 3, 1024, 576)\n"
     ]
    },
    {
     "name": "stderr",
     "output_type": "stream",
     "text": [
      " 36%|██████████████▏                         | 413/1162 [02:48<03:36,  3.46it/s]"
     ]
    },
    {
     "name": "stdout",
     "output_type": "stream",
     "text": [
      "\n",
      "image 1/1 /mnt/SSD/workspace/atomic_hack/Сварные_швы/dataset/9 (27).jpg: 1024x576 3 прилегающие дефектыs, 20.2ms\n",
      "Speed: 2.7ms preprocess, 20.2ms inference, 0.7ms postprocess per image at shape (1, 3, 1024, 576)\n"
     ]
    },
    {
     "name": "stderr",
     "output_type": "stream",
     "text": [
      " 36%|██████████████▎                         | 414/1162 [02:49<03:32,  3.53it/s]"
     ]
    },
    {
     "name": "stdout",
     "output_type": "stream",
     "text": [
      "\n",
      "image 1/1 /mnt/SSD/workspace/atomic_hack/Сварные_швы/dataset/3 (7).jpg: 576x1024 5 прилегающие дефектыs, 24.9ms\n",
      "Speed: 2.8ms preprocess, 24.9ms inference, 0.8ms postprocess per image at shape (1, 3, 576, 1024)\n"
     ]
    },
    {
     "name": "stderr",
     "output_type": "stream",
     "text": [
      " 36%|██████████████▎                         | 415/1162 [02:49<04:03,  3.06it/s]"
     ]
    },
    {
     "name": "stdout",
     "output_type": "stream",
     "text": [
      "\n",
      "image 1/1 /mnt/SSD/workspace/atomic_hack/Сварные_швы/dataset/7 (189).jpg: 1024x576 4 прилегающие дефектыs, 21.9ms\n",
      "Speed: 2.9ms preprocess, 21.9ms inference, 0.7ms postprocess per image at shape (1, 3, 1024, 576)\n"
     ]
    },
    {
     "name": "stderr",
     "output_type": "stream",
     "text": [
      " 36%|██████████████▎                         | 416/1162 [02:49<04:19,  2.87it/s]"
     ]
    },
    {
     "name": "stdout",
     "output_type": "stream",
     "text": [
      "\n",
      "image 1/1 /mnt/SSD/workspace/atomic_hack/Сварные_швы/dataset/5 (190).jpg: 576x1024 1 прилегающие дефекты, 27.0ms\n",
      "Speed: 2.9ms preprocess, 27.0ms inference, 1.4ms postprocess per image at shape (1, 3, 576, 1024)\n"
     ]
    },
    {
     "name": "stderr",
     "output_type": "stream",
     "text": [
      " 36%|██████████████▎                         | 417/1162 [02:50<03:32,  3.50it/s]"
     ]
    },
    {
     "name": "stdout",
     "output_type": "stream",
     "text": [
      "\n",
      "image 1/1 /mnt/SSD/workspace/atomic_hack/Сварные_швы/dataset/4 (11).jpg: 576x1024 2 прилегающие дефектыs, 21.4ms\n",
      "Speed: 2.7ms preprocess, 21.4ms inference, 0.7ms postprocess per image at shape (1, 3, 576, 1024)\n"
     ]
    },
    {
     "name": "stderr",
     "output_type": "stream",
     "text": [
      " 36%|██████████████▍                         | 418/1162 [02:50<03:13,  3.84it/s]"
     ]
    },
    {
     "name": "stdout",
     "output_type": "stream",
     "text": [
      "\n",
      "image 1/1 /mnt/SSD/workspace/atomic_hack/Сварные_швы/dataset/5 (177).jpg: 576x1024 7 прилегающие дефектыs, 21.0ms\n",
      "Speed: 2.8ms preprocess, 21.0ms inference, 0.8ms postprocess per image at shape (1, 3, 576, 1024)\n"
     ]
    },
    {
     "name": "stderr",
     "output_type": "stream",
     "text": [
      " 36%|██████████████▍                         | 419/1162 [02:50<04:17,  2.89it/s]"
     ]
    },
    {
     "name": "stdout",
     "output_type": "stream",
     "text": [
      "\n",
      "image 1/1 /mnt/SSD/workspace/atomic_hack/Сварные_швы/dataset/5 (5).jpg: 576x1024 6 прилегающие дефектыs, 74.6ms\n",
      "Speed: 2.8ms preprocess, 74.6ms inference, 0.8ms postprocess per image at shape (1, 3, 576, 1024)\n"
     ]
    },
    {
     "name": "stderr",
     "output_type": "stream",
     "text": [
      " 36%|██████████████▍                         | 420/1162 [02:51<04:52,  2.53it/s]"
     ]
    },
    {
     "name": "stdout",
     "output_type": "stream",
     "text": [
      "\n",
      "image 1/1 /mnt/SSD/workspace/atomic_hack/Сварные_швы/dataset/8 (6).jpg: 1024x576 3 прилегающие дефектыs, 19.8ms\n",
      "Speed: 2.9ms preprocess, 19.8ms inference, 0.9ms postprocess per image at shape (1, 3, 1024, 576)\n"
     ]
    },
    {
     "name": "stderr",
     "output_type": "stream",
     "text": [
      " 36%|██████████████▍                         | 421/1162 [02:51<04:30,  2.74it/s]"
     ]
    },
    {
     "name": "stdout",
     "output_type": "stream",
     "text": [
      "\n",
      "image 1/1 /mnt/SSD/workspace/atomic_hack/Сварные_швы/dataset/5 (63).jpg: 576x1024 4 прилегающие дефектыs, 21.3ms\n",
      "Speed: 2.7ms preprocess, 21.3ms inference, 0.7ms postprocess per image at shape (1, 3, 576, 1024)\n"
     ]
    },
    {
     "name": "stderr",
     "output_type": "stream",
     "text": [
      " 36%|██████████████▌                         | 422/1162 [02:52<04:23,  2.81it/s]"
     ]
    },
    {
     "name": "stdout",
     "output_type": "stream",
     "text": [
      "\n",
      "image 1/1 /mnt/SSD/workspace/atomic_hack/Сварные_швы/dataset/5 (155).jpg: 576x1024 3 прилегающие дефектыs, 21.5ms\n",
      "Speed: 2.9ms preprocess, 21.5ms inference, 1.1ms postprocess per image at shape (1, 3, 576, 1024)\n"
     ]
    },
    {
     "name": "stderr",
     "output_type": "stream",
     "text": [
      " 36%|██████████████▌                         | 423/1162 [02:52<04:15,  2.89it/s]"
     ]
    },
    {
     "name": "stdout",
     "output_type": "stream",
     "text": [
      "\n",
      "image 1/1 /mnt/SSD/workspace/atomic_hack/Сварные_швы/dataset/5 (93).jpg: 576x1024 3 прилегающие дефектыs, 21.4ms\n",
      "Speed: 2.8ms preprocess, 21.4ms inference, 0.8ms postprocess per image at shape (1, 3, 576, 1024)\n"
     ]
    },
    {
     "name": "stderr",
     "output_type": "stream",
     "text": [
      " 36%|██████████████▌                         | 424/1162 [02:52<03:59,  3.08it/s]"
     ]
    },
    {
     "name": "stdout",
     "output_type": "stream",
     "text": [
      "\n",
      "image 1/1 /mnt/SSD/workspace/atomic_hack/Сварные_швы/dataset/4 (1).jpg: 576x1024 5 прилегающие дефектыs, 23.5ms\n",
      "Speed: 3.0ms preprocess, 23.5ms inference, 0.8ms postprocess per image at shape (1, 3, 576, 1024)\n"
     ]
    },
    {
     "name": "stderr",
     "output_type": "stream",
     "text": [
      " 37%|██████████████▋                         | 425/1162 [02:53<04:14,  2.90it/s]"
     ]
    },
    {
     "name": "stdout",
     "output_type": "stream",
     "text": [
      "\n",
      "image 1/1 /mnt/SSD/workspace/atomic_hack/Сварные_швы/dataset/11 (7).jpg: 1024x576 1 прилегающие дефекты, 20.3ms\n",
      "Speed: 2.9ms preprocess, 20.3ms inference, 0.7ms postprocess per image at shape (1, 3, 1024, 576)\n"
     ]
    },
    {
     "name": "stderr",
     "output_type": "stream",
     "text": [
      " 37%|██████████████▋                         | 426/1162 [02:53<03:26,  3.56it/s]"
     ]
    },
    {
     "name": "stdout",
     "output_type": "stream",
     "text": [
      "\n",
      "image 1/1 /mnt/SSD/workspace/atomic_hack/Сварные_швы/dataset/4 (106).jpg: 576x1024 9 прилегающие дефектыs, 21.4ms\n",
      "Speed: 2.8ms preprocess, 21.4ms inference, 0.7ms postprocess per image at shape (1, 3, 576, 1024)\n"
     ]
    },
    {
     "name": "stderr",
     "output_type": "stream",
     "text": [
      " 37%|██████████████▋                         | 427/1162 [02:53<04:45,  2.58it/s]"
     ]
    },
    {
     "name": "stdout",
     "output_type": "stream",
     "text": [
      "\n",
      "image 1/1 /mnt/SSD/workspace/atomic_hack/Сварные_швы/dataset/7 (71).jpg: 1024x576 10 прилегающие дефектыs, 20.1ms\n",
      "Speed: 2.8ms preprocess, 20.1ms inference, 0.7ms postprocess per image at shape (1, 3, 1024, 576)\n"
     ]
    },
    {
     "name": "stderr",
     "output_type": "stream",
     "text": [
      " 37%|██████████████▋                         | 428/1162 [02:54<06:29,  1.89it/s]"
     ]
    },
    {
     "name": "stdout",
     "output_type": "stream",
     "text": [
      "\n",
      "image 1/1 /mnt/SSD/workspace/atomic_hack/Сварные_швы/dataset/7 (150).jpg: 1024x576 14 прилегающие дефектыs, 25.7ms\n",
      "Speed: 3.1ms preprocess, 25.7ms inference, 0.8ms postprocess per image at shape (1, 3, 1024, 576)\n"
     ]
    },
    {
     "name": "stderr",
     "output_type": "stream",
     "text": [
      " 37%|██████████████▊                         | 429/1162 [02:55<08:26,  1.45it/s]"
     ]
    },
    {
     "name": "stdout",
     "output_type": "stream",
     "text": [
      "\n",
      "image 1/1 /mnt/SSD/workspace/atomic_hack/Сварные_швы/dataset/4 (6).jpg: 576x1024 (no detections), 71.5ms\n",
      "Speed: 3.1ms preprocess, 71.5ms inference, 0.3ms postprocess per image at shape (1, 3, 576, 1024)\n"
     ]
    },
    {
     "name": "stderr",
     "output_type": "stream",
     "text": [
      " 37%|██████████████▊                         | 430/1162 [02:55<06:20,  1.92it/s]"
     ]
    },
    {
     "name": "stdout",
     "output_type": "stream",
     "text": [
      "\n",
      "image 1/1 /mnt/SSD/workspace/atomic_hack/Сварные_швы/dataset/8 (25).jpg: 1024x576 2 прилегающие дефектыs, 22.7ms\n",
      "Speed: 3.1ms preprocess, 22.7ms inference, 0.8ms postprocess per image at shape (1, 3, 1024, 576)\n"
     ]
    },
    {
     "name": "stderr",
     "output_type": "stream",
     "text": [
      " 37%|██████████████▊                         | 431/1162 [02:56<05:12,  2.34it/s]"
     ]
    },
    {
     "name": "stdout",
     "output_type": "stream",
     "text": [
      "\n",
      "image 1/1 /mnt/SSD/workspace/atomic_hack/Сварные_швы/dataset/4 (66).jpg: 576x1024 7 прилегающие дефектыs, 25.9ms\n",
      "Speed: 2.8ms preprocess, 25.9ms inference, 0.8ms postprocess per image at shape (1, 3, 576, 1024)\n"
     ]
    },
    {
     "name": "stderr",
     "output_type": "stream",
     "text": [
      " 37%|██████████████▊                         | 432/1162 [02:56<05:54,  2.06it/s]"
     ]
    },
    {
     "name": "stdout",
     "output_type": "stream",
     "text": [
      "\n",
      "image 1/1 /mnt/SSD/workspace/atomic_hack/Сварные_швы/dataset/11 (32).jpg: 1024x576 1 прилегающие дефекты, 20.7ms\n",
      "Speed: 3.8ms preprocess, 20.7ms inference, 0.8ms postprocess per image at shape (1, 3, 1024, 576)\n"
     ]
    },
    {
     "name": "stderr",
     "output_type": "stream",
     "text": [
      " 37%|██████████████▉                         | 433/1162 [02:56<04:37,  2.63it/s]"
     ]
    },
    {
     "name": "stdout",
     "output_type": "stream",
     "text": [
      "\n",
      "image 1/1 /mnt/SSD/workspace/atomic_hack/Сварные_швы/dataset/4 (36).jpg: 576x1024 7 прилегающие дефектыs, 22.5ms\n",
      "Speed: 2.8ms preprocess, 22.5ms inference, 0.8ms postprocess per image at shape (1, 3, 576, 1024)\n"
     ]
    },
    {
     "name": "stderr",
     "output_type": "stream",
     "text": [
      " 37%|██████████████▉                         | 434/1162 [02:57<05:03,  2.40it/s]"
     ]
    },
    {
     "name": "stdout",
     "output_type": "stream",
     "text": [
      "\n",
      "image 1/1 /mnt/SSD/workspace/atomic_hack/Сварные_швы/dataset/5 (100).jpg: 576x1024 (no detections), 21.1ms\n",
      "Speed: 2.8ms preprocess, 21.1ms inference, 0.3ms postprocess per image at shape (1, 3, 576, 1024)\n",
      "\n",
      "image 1/1 /mnt/SSD/workspace/atomic_hack/Сварные_швы/dataset/7 (87).jpg: 1024x576 5 прилегающие дефектыs, 20.2ms\n",
      "Speed: 3.1ms preprocess, 20.2ms inference, 0.8ms postprocess per image at shape (1, 3, 1024, 576)\n"
     ]
    },
    {
     "name": "stderr",
     "output_type": "stream",
     "text": [
      " 38%|███████████████                         | 436/1162 [02:57<04:07,  2.93it/s]"
     ]
    },
    {
     "name": "stdout",
     "output_type": "stream",
     "text": [
      "\n",
      "image 1/1 /mnt/SSD/workspace/atomic_hack/Сварные_швы/dataset/7 (53).jpg: 1024x576 3 прилегающие дефектыs, 20.9ms\n",
      "Speed: 2.9ms preprocess, 20.9ms inference, 0.7ms postprocess per image at shape (1, 3, 1024, 576)\n"
     ]
    },
    {
     "name": "stderr",
     "output_type": "stream",
     "text": [
      " 38%|███████████████                         | 437/1162 [02:58<03:53,  3.11it/s]"
     ]
    },
    {
     "name": "stdout",
     "output_type": "stream",
     "text": [
      "\n",
      "image 1/1 /mnt/SSD/workspace/atomic_hack/Сварные_швы/dataset/7 (215).jpg: 1024x576 6 прилегающие дефектыs, 19.8ms\n",
      "Speed: 2.8ms preprocess, 19.8ms inference, 1.1ms postprocess per image at shape (1, 3, 1024, 576)\n"
     ]
    },
    {
     "name": "stderr",
     "output_type": "stream",
     "text": [
      " 38%|███████████████                         | 438/1162 [02:58<04:31,  2.66it/s]"
     ]
    },
    {
     "name": "stdout",
     "output_type": "stream",
     "text": [
      "\n",
      "image 1/1 /mnt/SSD/workspace/atomic_hack/Сварные_швы/dataset/4 (76).jpg: 576x1024 10 прилегающие дефектыs, 25.1ms\n",
      "Speed: 4.0ms preprocess, 25.1ms inference, 1.4ms postprocess per image at shape (1, 3, 576, 1024)\n"
     ]
    },
    {
     "name": "stderr",
     "output_type": "stream",
     "text": [
      " 38%|███████████████                         | 439/1162 [02:59<06:16,  1.92it/s]"
     ]
    },
    {
     "name": "stdout",
     "output_type": "stream",
     "text": [
      "\n",
      "image 1/1 /mnt/SSD/workspace/atomic_hack/Сварные_швы/dataset/4 (16).jpg: 576x1024 1 прилегающие дефекты, 26.7ms\n",
      "Speed: 3.1ms preprocess, 26.7ms inference, 1.2ms postprocess per image at shape (1, 3, 576, 1024)\n"
     ]
    },
    {
     "name": "stderr",
     "output_type": "stream",
     "text": [
      " 38%|███████████████▏                        | 440/1162 [02:59<05:03,  2.38it/s]"
     ]
    },
    {
     "name": "stdout",
     "output_type": "stream",
     "text": [
      "\n",
      "image 1/1 /mnt/SSD/workspace/atomic_hack/Сварные_швы/dataset/6 (30).jpg: 1024x576 1 прилегающие дефекты, 24.8ms\n",
      "Speed: 3.9ms preprocess, 24.8ms inference, 0.8ms postprocess per image at shape (1, 3, 1024, 576)\n"
     ]
    },
    {
     "name": "stderr",
     "output_type": "stream",
     "text": [
      " 38%|███████████████▏                        | 441/1162 [02:59<04:08,  2.91it/s]"
     ]
    },
    {
     "name": "stdout",
     "output_type": "stream",
     "text": [
      "\n",
      "image 1/1 /mnt/SSD/workspace/atomic_hack/Сварные_швы/dataset/4 (19).jpg: 576x1024 2 прилегающие дефектыs, 26.0ms\n",
      "Speed: 3.0ms preprocess, 26.0ms inference, 1.1ms postprocess per image at shape (1, 3, 576, 1024)\n"
     ]
    },
    {
     "name": "stderr",
     "output_type": "stream",
     "text": [
      " 38%|███████████████▏                        | 442/1162 [03:00<03:38,  3.29it/s]"
     ]
    },
    {
     "name": "stdout",
     "output_type": "stream",
     "text": [
      "\n",
      "image 1/1 /mnt/SSD/workspace/atomic_hack/Сварные_швы/dataset/11 (21).jpg: 1024x576 1 прилегающие дефекты, 20.3ms\n",
      "Speed: 3.1ms preprocess, 20.3ms inference, 0.7ms postprocess per image at shape (1, 3, 1024, 576)\n"
     ]
    },
    {
     "name": "stderr",
     "output_type": "stream",
     "text": [
      " 38%|███████████████▏                        | 443/1162 [03:00<03:01,  3.95it/s]"
     ]
    },
    {
     "name": "stdout",
     "output_type": "stream",
     "text": [
      "\n",
      "image 1/1 /mnt/SSD/workspace/atomic_hack/Сварные_швы/dataset/7 (180).jpg: 1024x576 4 прилегающие дефектыs, 21.8ms\n",
      "Speed: 3.1ms preprocess, 21.8ms inference, 0.8ms postprocess per image at shape (1, 3, 1024, 576)\n"
     ]
    },
    {
     "name": "stderr",
     "output_type": "stream",
     "text": [
      " 38%|███████████████▎                        | 444/1162 [03:00<03:18,  3.63it/s]"
     ]
    },
    {
     "name": "stdout",
     "output_type": "stream",
     "text": [
      "\n",
      "image 1/1 /mnt/SSD/workspace/atomic_hack/Сварные_швы/dataset/7 (104).jpg: 1024x576 8 прилегающие дефектыs, 20.9ms\n",
      "Speed: 2.9ms preprocess, 20.9ms inference, 1.0ms postprocess per image at shape (1, 3, 1024, 576)\n"
     ]
    },
    {
     "name": "stderr",
     "output_type": "stream",
     "text": [
      " 38%|███████████████▎                        | 445/1162 [03:01<04:52,  2.45it/s]"
     ]
    },
    {
     "name": "stdout",
     "output_type": "stream",
     "text": [
      "\n",
      "image 1/1 /mnt/SSD/workspace/atomic_hack/Сварные_швы/dataset/5 (198).jpg: 576x1024 4 прилегающие дефектыs, 25.8ms\n",
      "Speed: 3.3ms preprocess, 25.8ms inference, 2.3ms postprocess per image at shape (1, 3, 576, 1024)\n"
     ]
    },
    {
     "name": "stderr",
     "output_type": "stream",
     "text": [
      " 38%|███████████████▎                        | 446/1162 [03:01<04:47,  2.49it/s]"
     ]
    },
    {
     "name": "stdout",
     "output_type": "stream",
     "text": [
      "\n",
      "image 1/1 /mnt/SSD/workspace/atomic_hack/Сварные_швы/dataset/9 (7).jpg: 1024x576 3 прилегающие дефектыs, 24.9ms\n",
      "Speed: 3.1ms preprocess, 24.9ms inference, 1.3ms postprocess per image at shape (1, 3, 1024, 576)\n"
     ]
    },
    {
     "name": "stderr",
     "output_type": "stream",
     "text": [
      " 38%|███████████████▍                        | 447/1162 [03:01<04:43,  2.52it/s]"
     ]
    },
    {
     "name": "stdout",
     "output_type": "stream",
     "text": [
      "\n",
      "image 1/1 /mnt/SSD/workspace/atomic_hack/Сварные_швы/dataset/8 (50).jpg: 1024x576 4 прилегающие дефектыs, 27.0ms\n",
      "Speed: 3.0ms preprocess, 27.0ms inference, 0.8ms postprocess per image at shape (1, 3, 1024, 576)\n"
     ]
    },
    {
     "name": "stderr",
     "output_type": "stream",
     "text": [
      " 39%|███████████████▍                        | 448/1162 [03:02<04:54,  2.43it/s]"
     ]
    },
    {
     "name": "stdout",
     "output_type": "stream",
     "text": [
      "\n",
      "image 1/1 /mnt/SSD/workspace/atomic_hack/Сварные_швы/dataset/12 (32).jpg: 1024x576 2 прилегающие дефектыs, 24.8ms\n",
      "Speed: 3.0ms preprocess, 24.8ms inference, 0.8ms postprocess per image at shape (1, 3, 1024, 576)\n"
     ]
    },
    {
     "name": "stderr",
     "output_type": "stream",
     "text": [
      " 39%|███████████████▍                        | 449/1162 [03:02<04:10,  2.84it/s]"
     ]
    },
    {
     "name": "stdout",
     "output_type": "stream",
     "text": [
      "\n",
      "image 1/1 /mnt/SSD/workspace/atomic_hack/Сварные_швы/dataset/5 (50).jpg: 576x1024 2 прилегающие дефектыs, 20.9ms\n",
      "Speed: 2.8ms preprocess, 20.9ms inference, 0.8ms postprocess per image at shape (1, 3, 576, 1024)\n"
     ]
    },
    {
     "name": "stderr",
     "output_type": "stream",
     "text": [
      " 39%|███████████████▍                        | 450/1162 [03:02<03:37,  3.27it/s]"
     ]
    },
    {
     "name": "stdout",
     "output_type": "stream",
     "text": [
      "\n",
      "image 1/1 /mnt/SSD/workspace/atomic_hack/Сварные_швы/dataset/7 (196).jpg: 1024x576 3 прилегающие дефектыs, 20.5ms\n",
      "Speed: 2.9ms preprocess, 20.5ms inference, 0.8ms postprocess per image at shape (1, 3, 1024, 576)\n"
     ]
    },
    {
     "name": "stderr",
     "output_type": "stream",
     "text": [
      " 39%|███████████████▌                        | 451/1162 [03:03<03:30,  3.37it/s]"
     ]
    },
    {
     "name": "stdout",
     "output_type": "stream",
     "text": [
      "\n",
      "image 1/1 /mnt/SSD/workspace/atomic_hack/Сварные_швы/dataset/6 (14).jpg: 1024x576 4 прилегающие дефектыs, 20.4ms\n",
      "Speed: 2.8ms preprocess, 20.4ms inference, 0.8ms postprocess per image at shape (1, 3, 1024, 576)\n"
     ]
    },
    {
     "name": "stderr",
     "output_type": "stream",
     "text": [
      " 39%|███████████████▌                        | 452/1162 [03:03<03:40,  3.22it/s]"
     ]
    },
    {
     "name": "stdout",
     "output_type": "stream",
     "text": [
      "\n",
      "image 1/1 /mnt/SSD/workspace/atomic_hack/Сварные_швы/dataset/6 (91).jpg: 1024x576 (no detections), 20.2ms\n",
      "Speed: 3.0ms preprocess, 20.2ms inference, 0.3ms postprocess per image at shape (1, 3, 1024, 576)\n",
      "\n",
      "image 1/1 /mnt/SSD/workspace/atomic_hack/Сварные_швы/dataset/7 (35).jpg: 1024x576 12 прилегающие дефектыs, 19.1ms\n",
      "Speed: 3.0ms preprocess, 19.1ms inference, 0.7ms postprocess per image at shape (1, 3, 1024, 576)\n"
     ]
    },
    {
     "name": "stderr",
     "output_type": "stream",
     "text": [
      " 39%|███████████████▋                        | 454/1162 [03:04<04:37,  2.55it/s]"
     ]
    },
    {
     "name": "stdout",
     "output_type": "stream",
     "text": [
      "\n",
      "image 1/1 /mnt/SSD/workspace/atomic_hack/Сварные_швы/dataset/4 (44).jpg: 576x1024 2 прилегающие дефектыs, 26.9ms\n",
      "Speed: 3.1ms preprocess, 26.9ms inference, 1.7ms postprocess per image at shape (1, 3, 576, 1024)\n"
     ]
    },
    {
     "name": "stderr",
     "output_type": "stream",
     "text": [
      " 39%|███████████████▋                        | 455/1162 [03:04<04:09,  2.84it/s]"
     ]
    },
    {
     "name": "stdout",
     "output_type": "stream",
     "text": [
      "\n",
      "image 1/1 /mnt/SSD/workspace/atomic_hack/Сварные_швы/dataset/11 (31).jpg: 1024x576 2 прилегающие дефектыs, 20.1ms\n",
      "Speed: 3.0ms preprocess, 20.1ms inference, 0.7ms postprocess per image at shape (1, 3, 1024, 576)\n"
     ]
    },
    {
     "name": "stderr",
     "output_type": "stream",
     "text": [
      " 39%|███████████████▋                        | 456/1162 [03:04<03:39,  3.21it/s]"
     ]
    },
    {
     "name": "stdout",
     "output_type": "stream",
     "text": [
      "\n",
      "image 1/1 /mnt/SSD/workspace/atomic_hack/Сварные_швы/dataset/9 (8).jpg: 1024x576 2 прилегающие дефектыs, 23.4ms\n",
      "Speed: 3.1ms preprocess, 23.4ms inference, 1.1ms postprocess per image at shape (1, 3, 1024, 576)\n"
     ]
    },
    {
     "name": "stderr",
     "output_type": "stream",
     "text": [
      " 39%|███████████████▋                        | 457/1162 [03:05<03:21,  3.50it/s]"
     ]
    },
    {
     "name": "stdout",
     "output_type": "stream",
     "text": [
      "\n",
      "image 1/1 /mnt/SSD/workspace/atomic_hack/Сварные_швы/dataset/9 (48).jpg: 1024x576 2 прилегающие дефектыs, 20.3ms\n",
      "Speed: 2.9ms preprocess, 20.3ms inference, 0.8ms postprocess per image at shape (1, 3, 1024, 576)\n"
     ]
    },
    {
     "name": "stderr",
     "output_type": "stream",
     "text": [
      " 39%|███████████████▊                        | 458/1162 [03:05<03:06,  3.77it/s]"
     ]
    },
    {
     "name": "stdout",
     "output_type": "stream",
     "text": [
      "\n",
      "image 1/1 /mnt/SSD/workspace/atomic_hack/Сварные_швы/dataset/3 (21).jpg: 576x1024 1 прилегающие дефекты, 72.1ms\n",
      "Speed: 3.1ms preprocess, 72.1ms inference, 1.1ms postprocess per image at shape (1, 3, 576, 1024)\n"
     ]
    },
    {
     "name": "stderr",
     "output_type": "stream",
     "text": [
      " 40%|███████████████▊                        | 459/1162 [03:05<02:56,  3.99it/s]"
     ]
    },
    {
     "name": "stdout",
     "output_type": "stream",
     "text": [
      "\n",
      "image 1/1 /mnt/SSD/workspace/atomic_hack/Сварные_швы/dataset/12 (68).jpg: 1024x576 5 прилегающие дефектыs, 26.0ms\n",
      "Speed: 3.1ms preprocess, 26.0ms inference, 1.7ms postprocess per image at shape (1, 3, 1024, 576)\n"
     ]
    },
    {
     "name": "stderr",
     "output_type": "stream",
     "text": [
      " 40%|███████████████▊                        | 460/1162 [03:05<03:30,  3.34it/s]"
     ]
    },
    {
     "name": "stdout",
     "output_type": "stream",
     "text": [
      "\n",
      "image 1/1 /mnt/SSD/workspace/atomic_hack/Сварные_швы/dataset/7 (211).jpg: 1024x576 4 прилегающие дефектыs, 48.7ms\n",
      "Speed: 3.1ms preprocess, 48.7ms inference, 0.8ms postprocess per image at shape (1, 3, 1024, 576)\n"
     ]
    },
    {
     "name": "stderr",
     "output_type": "stream",
     "text": [
      " 40%|███████████████▊                        | 461/1162 [03:06<03:44,  3.13it/s]"
     ]
    },
    {
     "name": "stdout",
     "output_type": "stream",
     "text": [
      "\n",
      "image 1/1 /mnt/SSD/workspace/atomic_hack/Сварные_швы/dataset/12 (16).jpg: 1024x576 7 прилегающие дефектыs, 21.6ms\n",
      "Speed: 3.1ms preprocess, 21.6ms inference, 1.0ms postprocess per image at shape (1, 3, 1024, 576)\n"
     ]
    },
    {
     "name": "stderr",
     "output_type": "stream",
     "text": [
      " 40%|███████████████▉                        | 462/1162 [03:06<04:29,  2.60it/s]"
     ]
    },
    {
     "name": "stdout",
     "output_type": "stream",
     "text": [
      "\n",
      "image 1/1 /mnt/SSD/workspace/atomic_hack/Сварные_швы/dataset/5 (143).jpg: 576x1024 3 прилегающие дефектыs, 23.3ms\n",
      "Speed: 2.9ms preprocess, 23.3ms inference, 0.7ms postprocess per image at shape (1, 3, 576, 1024)\n"
     ]
    },
    {
     "name": "stderr",
     "output_type": "stream",
     "text": [
      " 40%|███████████████▉                        | 463/1162 [03:07<04:05,  2.85it/s]"
     ]
    },
    {
     "name": "stdout",
     "output_type": "stream",
     "text": [
      "\n",
      "image 1/1 /mnt/SSD/workspace/atomic_hack/Сварные_швы/dataset/8 (53).jpg: 1024x576 4 прилегающие дефектыs, 20.1ms\n",
      "Speed: 3.0ms preprocess, 20.1ms inference, 0.7ms postprocess per image at shape (1, 3, 1024, 576)\n"
     ]
    },
    {
     "name": "stderr",
     "output_type": "stream",
     "text": [
      " 40%|███████████████▉                        | 464/1162 [03:07<03:59,  2.91it/s]"
     ]
    },
    {
     "name": "stdout",
     "output_type": "stream",
     "text": [
      "\n",
      "image 1/1 /mnt/SSD/workspace/atomic_hack/Сварные_швы/dataset/7 (58).jpg: 1024x576 2 прилегающие дефектыs, 22.8ms\n",
      "Speed: 3.0ms preprocess, 22.8ms inference, 1.4ms postprocess per image at shape (1, 3, 1024, 576)\n"
     ]
    },
    {
     "name": "stderr",
     "output_type": "stream",
     "text": [
      " 40%|████████████████                        | 465/1162 [03:07<03:30,  3.31it/s]"
     ]
    },
    {
     "name": "stdout",
     "output_type": "stream",
     "text": [
      "\n",
      "image 1/1 /mnt/SSD/workspace/atomic_hack/Сварные_швы/dataset/5 (151).jpg: 576x1024 2 прилегающие дефектыs, 27.2ms\n",
      "Speed: 2.9ms preprocess, 27.2ms inference, 0.9ms postprocess per image at shape (1, 3, 576, 1024)\n"
     ]
    },
    {
     "name": "stderr",
     "output_type": "stream",
     "text": [
      " 40%|████████████████                        | 466/1162 [03:07<03:26,  3.37it/s]"
     ]
    },
    {
     "name": "stdout",
     "output_type": "stream",
     "text": [
      "\n",
      "image 1/1 /mnt/SSD/workspace/atomic_hack/Сварные_швы/dataset/7 (99).jpg: 1024x576 9 прилегающие дефектыs, 25.8ms\n",
      "Speed: 3.3ms preprocess, 25.8ms inference, 0.9ms postprocess per image at shape (1, 3, 1024, 576)\n"
     ]
    },
    {
     "name": "stderr",
     "output_type": "stream",
     "text": [
      " 40%|████████████████                        | 467/1162 [03:08<04:40,  2.48it/s]"
     ]
    },
    {
     "name": "stdout",
     "output_type": "stream",
     "text": [
      "\n",
      "image 1/1 /mnt/SSD/workspace/atomic_hack/Сварные_швы/dataset/5 (83).jpg: 576x1024 (no detections), 21.3ms\n",
      "Speed: 2.7ms preprocess, 21.3ms inference, 0.3ms postprocess per image at shape (1, 3, 576, 1024)\n",
      "\n",
      "image 1/1 /mnt/SSD/workspace/atomic_hack/Сварные_швы/dataset/5 (189).jpg: 576x1024 9 прилегающие дефектыs, 21.6ms\n",
      "Speed: 2.9ms preprocess, 21.6ms inference, 0.7ms postprocess per image at shape (1, 3, 576, 1024)\n"
     ]
    },
    {
     "name": "stderr",
     "output_type": "stream",
     "text": [
      " 40%|████████████████▏                       | 469/1162 [03:09<04:24,  2.62it/s]"
     ]
    },
    {
     "name": "stdout",
     "output_type": "stream",
     "text": [
      "\n",
      "image 1/1 /mnt/SSD/workspace/atomic_hack/Сварные_швы/dataset/11 (18).jpg: 1024x576 1 прилегающие дефекты, 20.4ms\n",
      "Speed: 2.9ms preprocess, 20.4ms inference, 0.7ms postprocess per image at shape (1, 3, 1024, 576)\n"
     ]
    },
    {
     "name": "stderr",
     "output_type": "stream",
     "text": [
      " 40%|████████████████▏                       | 470/1162 [03:09<03:40,  3.13it/s]"
     ]
    },
    {
     "name": "stdout",
     "output_type": "stream",
     "text": [
      "\n",
      "image 1/1 /mnt/SSD/workspace/atomic_hack/Сварные_швы/dataset/5 (153).jpg: 576x1024 6 прилегающие дефектыs, 21.4ms\n",
      "Speed: 2.8ms preprocess, 21.4ms inference, 0.7ms postprocess per image at shape (1, 3, 576, 1024)\n"
     ]
    },
    {
     "name": "stderr",
     "output_type": "stream",
     "text": [
      " 41%|████████████████▏                       | 471/1162 [03:09<04:03,  2.84it/s]"
     ]
    },
    {
     "name": "stdout",
     "output_type": "stream",
     "text": [
      "\n",
      "image 1/1 /mnt/SSD/workspace/atomic_hack/Сварные_швы/dataset/5 (47).jpg: 576x1024 2 прилегающие дефектыs, 21.2ms\n",
      "Speed: 2.8ms preprocess, 21.2ms inference, 1.0ms postprocess per image at shape (1, 3, 576, 1024)\n"
     ]
    },
    {
     "name": "stderr",
     "output_type": "stream",
     "text": [
      " 41%|████████████████▏                       | 472/1162 [03:10<03:33,  3.23it/s]"
     ]
    },
    {
     "name": "stdout",
     "output_type": "stream",
     "text": [
      "\n",
      "image 1/1 /mnt/SSD/workspace/atomic_hack/Сварные_швы/dataset/6 (31).jpg: 1024x576 2 прилегающие дефектыs, 20.0ms\n",
      "Speed: 2.9ms preprocess, 20.0ms inference, 0.7ms postprocess per image at shape (1, 3, 1024, 576)\n"
     ]
    },
    {
     "name": "stderr",
     "output_type": "stream",
     "text": [
      " 41%|████████████████▎                       | 473/1162 [03:10<03:22,  3.41it/s]"
     ]
    },
    {
     "name": "stdout",
     "output_type": "stream",
     "text": [
      "\n",
      "image 1/1 /mnt/SSD/workspace/atomic_hack/Сварные_швы/dataset/12 (13).jpg: 1024x576 5 прилегающие дефектыs, 20.4ms\n",
      "Speed: 3.0ms preprocess, 20.4ms inference, 0.7ms postprocess per image at shape (1, 3, 1024, 576)\n"
     ]
    },
    {
     "name": "stderr",
     "output_type": "stream",
     "text": [
      " 41%|████████████████▎                       | 474/1162 [03:10<03:38,  3.14it/s]"
     ]
    },
    {
     "name": "stdout",
     "output_type": "stream",
     "text": [
      "\n",
      "image 1/1 /mnt/SSD/workspace/atomic_hack/Сварные_швы/dataset/7 (136).jpg: 1024x576 5 прилегающие дефектыs, 19.8ms\n",
      "Speed: 2.9ms preprocess, 19.8ms inference, 0.9ms postprocess per image at shape (1, 3, 1024, 576)\n"
     ]
    },
    {
     "name": "stderr",
     "output_type": "stream",
     "text": [
      " 41%|████████████████▎                       | 475/1162 [03:11<03:58,  2.88it/s]"
     ]
    },
    {
     "name": "stdout",
     "output_type": "stream",
     "text": [
      "\n",
      "image 1/1 /mnt/SSD/workspace/atomic_hack/Сварные_швы/dataset/9 (44).jpg: 1024x576 1 прилегающие дефекты, 25.6ms\n",
      "Speed: 3.2ms preprocess, 25.6ms inference, 0.8ms postprocess per image at shape (1, 3, 1024, 576)\n"
     ]
    },
    {
     "name": "stderr",
     "output_type": "stream",
     "text": [
      " 41%|████████████████▍                       | 476/1162 [03:11<03:18,  3.45it/s]"
     ]
    },
    {
     "name": "stdout",
     "output_type": "stream",
     "text": [
      "\n",
      "image 1/1 /mnt/SSD/workspace/atomic_hack/Сварные_швы/dataset/7 (199).jpg: 1024x576 7 прилегающие дефектыs, 25.7ms\n",
      "Speed: 3.0ms preprocess, 25.7ms inference, 0.8ms postprocess per image at shape (1, 3, 1024, 576)\n"
     ]
    },
    {
     "name": "stderr",
     "output_type": "stream",
     "text": [
      " 41%|████████████████▍                       | 477/1162 [03:11<04:11,  2.72it/s]"
     ]
    },
    {
     "name": "stdout",
     "output_type": "stream",
     "text": [
      "\n",
      "image 1/1 /mnt/SSD/workspace/atomic_hack/Сварные_швы/dataset/5 (56).jpg: 576x1024 4 прилегающие дефектыs, 21.5ms\n",
      "Speed: 2.8ms preprocess, 21.5ms inference, 0.8ms postprocess per image at shape (1, 3, 576, 1024)\n"
     ]
    },
    {
     "name": "stderr",
     "output_type": "stream",
     "text": [
      " 41%|████████████████▍                       | 478/1162 [03:12<04:24,  2.59it/s]"
     ]
    },
    {
     "name": "stdout",
     "output_type": "stream",
     "text": [
      "\n",
      "image 1/1 /mnt/SSD/workspace/atomic_hack/Сварные_швы/dataset/8 (40).jpg: 1024x576 2 прилегающие дефектыs, 26.2ms\n",
      "Speed: 3.1ms preprocess, 26.2ms inference, 0.8ms postprocess per image at shape (1, 3, 1024, 576)\n"
     ]
    },
    {
     "name": "stderr",
     "output_type": "stream",
     "text": [
      " 41%|████████████████▍                       | 479/1162 [03:12<03:52,  2.94it/s]"
     ]
    },
    {
     "name": "stdout",
     "output_type": "stream",
     "text": [
      "\n",
      "image 1/1 /mnt/SSD/workspace/atomic_hack/Сварные_швы/dataset/6 (67).jpg: 1024x576 (no detections), 19.6ms\n",
      "Speed: 3.0ms preprocess, 19.6ms inference, 0.3ms postprocess per image at shape (1, 3, 1024, 576)\n",
      "\n",
      "image 1/1 /mnt/SSD/workspace/atomic_hack/Сварные_швы/dataset/2 (3).jpg: 576x1024 15 прилегающие дефектыs, 21.4ms\n",
      "Speed: 2.6ms preprocess, 21.4ms inference, 0.8ms postprocess per image at shape (1, 3, 576, 1024)\n"
     ]
    },
    {
     "name": "stderr",
     "output_type": "stream",
     "text": [
      " 41%|████████████████▌                       | 481/1162 [03:13<04:49,  2.35it/s]"
     ]
    },
    {
     "name": "stdout",
     "output_type": "stream",
     "text": [
      "\n",
      "image 1/1 /mnt/SSD/workspace/atomic_hack/Сварные_швы/dataset/3 (33).jpg: 576x1024 1 прилегающие дефекты, 22.2ms\n",
      "Speed: 3.0ms preprocess, 22.2ms inference, 0.8ms postprocess per image at shape (1, 3, 576, 1024)\n"
     ]
    },
    {
     "name": "stderr",
     "output_type": "stream",
     "text": [
      " 41%|████████████████▌                       | 482/1162 [03:13<04:00,  2.83it/s]"
     ]
    },
    {
     "name": "stdout",
     "output_type": "stream",
     "text": [
      "\n",
      "image 1/1 /mnt/SSD/workspace/atomic_hack/Сварные_швы/dataset/4 (30).jpg: 576x1024 5 прилегающие дефектыs, 21.3ms\n",
      "Speed: 2.7ms preprocess, 21.3ms inference, 0.7ms postprocess per image at shape (1, 3, 576, 1024)\n"
     ]
    },
    {
     "name": "stderr",
     "output_type": "stream",
     "text": [
      " 42%|████████████████▋                       | 483/1162 [03:14<04:05,  2.77it/s]"
     ]
    },
    {
     "name": "stdout",
     "output_type": "stream",
     "text": [
      "\n",
      "image 1/1 /mnt/SSD/workspace/atomic_hack/Сварные_швы/dataset/6 (100).jpg: 1024x576 3 прилегающие дефектыs, 21.0ms\n",
      "Speed: 3.0ms preprocess, 21.0ms inference, 0.8ms postprocess per image at shape (1, 3, 1024, 576)\n"
     ]
    },
    {
     "name": "stderr",
     "output_type": "stream",
     "text": [
      " 42%|████████████████▋                       | 484/1162 [03:14<03:47,  2.99it/s]"
     ]
    },
    {
     "name": "stdout",
     "output_type": "stream",
     "text": [
      "\n",
      "image 1/1 /mnt/SSD/workspace/atomic_hack/Сварные_швы/dataset/7 (159).jpg: 1024x576 10 прилегающие дефектыs, 20.3ms\n",
      "Speed: 3.0ms preprocess, 20.3ms inference, 0.8ms postprocess per image at shape (1, 3, 1024, 576)\n"
     ]
    },
    {
     "name": "stderr",
     "output_type": "stream",
     "text": [
      " 42%|████████████████▋                       | 485/1162 [03:15<05:07,  2.20it/s]"
     ]
    },
    {
     "name": "stdout",
     "output_type": "stream",
     "text": [
      "\n",
      "image 1/1 /mnt/SSD/workspace/atomic_hack/Сварные_швы/dataset/4 (8).jpg: 576x1024 1 прилегающие дефекты, 21.6ms\n",
      "Speed: 3.0ms preprocess, 21.6ms inference, 0.7ms postprocess per image at shape (1, 3, 576, 1024)\n"
     ]
    },
    {
     "name": "stderr",
     "output_type": "stream",
     "text": [
      " 42%|████████████████▋                       | 486/1162 [03:15<04:09,  2.71it/s]"
     ]
    },
    {
     "name": "stdout",
     "output_type": "stream",
     "text": [
      "\n",
      "image 1/1 /mnt/SSD/workspace/atomic_hack/Сварные_швы/dataset/8 (78).jpg: 1024x576 5 прилегающие дефектыs, 19.7ms\n",
      "Speed: 3.0ms preprocess, 19.7ms inference, 1.1ms postprocess per image at shape (1, 3, 1024, 576)\n"
     ]
    },
    {
     "name": "stderr",
     "output_type": "stream",
     "text": [
      " 42%|████████████████▊                       | 487/1162 [03:15<04:35,  2.45it/s]"
     ]
    },
    {
     "name": "stdout",
     "output_type": "stream",
     "text": [
      "\n",
      "image 1/1 /mnt/SSD/workspace/atomic_hack/Сварные_швы/dataset/6 (60).jpg: 1024x576 2 прилегающие дефектыs, 24.4ms\n",
      "Speed: 3.2ms preprocess, 24.4ms inference, 0.8ms postprocess per image at shape (1, 3, 1024, 576)\n"
     ]
    },
    {
     "name": "stderr",
     "output_type": "stream",
     "text": [
      " 42%|████████████████▊                       | 488/1162 [03:15<03:55,  2.86it/s]"
     ]
    },
    {
     "name": "stdout",
     "output_type": "stream",
     "text": [
      "\n",
      "image 1/1 /mnt/SSD/workspace/atomic_hack/Сварные_швы/dataset/5 (26).jpg: 576x1024 9 прилегающие дефектыs, 25.6ms\n",
      "Speed: 2.9ms preprocess, 25.6ms inference, 0.8ms postprocess per image at shape (1, 3, 576, 1024)\n"
     ]
    },
    {
     "name": "stderr",
     "output_type": "stream",
     "text": [
      " 42%|████████████████▊                       | 489/1162 [03:16<05:11,  2.16it/s]"
     ]
    },
    {
     "name": "stdout",
     "output_type": "stream",
     "text": [
      "\n",
      "image 1/1 /mnt/SSD/workspace/atomic_hack/Сварные_швы/dataset/4 (20).jpg: 576x1024 2 прилегающие дефектыs, 24.4ms\n",
      "Speed: 3.0ms preprocess, 24.4ms inference, 0.8ms postprocess per image at shape (1, 3, 576, 1024)\n"
     ]
    },
    {
     "name": "stderr",
     "output_type": "stream",
     "text": [
      " 42%|████████████████▊                       | 490/1162 [03:16<04:18,  2.60it/s]"
     ]
    },
    {
     "name": "stdout",
     "output_type": "stream",
     "text": [
      "\n",
      "image 1/1 /mnt/SSD/workspace/atomic_hack/Сварные_швы/dataset/7 (230).jpg: 1024x576 7 прилегающие дефектыs, 20.2ms\n",
      "Speed: 2.9ms preprocess, 20.2ms inference, 0.7ms postprocess per image at shape (1, 3, 1024, 576)\n"
     ]
    },
    {
     "name": "stderr",
     "output_type": "stream",
     "text": [
      " 42%|████████████████▉                       | 491/1162 [03:17<04:52,  2.30it/s]"
     ]
    },
    {
     "name": "stdout",
     "output_type": "stream",
     "text": [
      "\n",
      "image 1/1 /mnt/SSD/workspace/atomic_hack/Сварные_швы/dataset/4 (137).jpg: 576x1024 5 прилегающие дефектыs, 21.6ms\n",
      "Speed: 2.9ms preprocess, 21.6ms inference, 0.8ms postprocess per image at shape (1, 3, 576, 1024)\n"
     ]
    },
    {
     "name": "stderr",
     "output_type": "stream",
     "text": [
      " 42%|████████████████▉                       | 492/1162 [03:17<04:41,  2.38it/s]"
     ]
    },
    {
     "name": "stdout",
     "output_type": "stream",
     "text": [
      "\n",
      "image 1/1 /mnt/SSD/workspace/atomic_hack/Сварные_швы/dataset/11 (82).jpg: 1024x576 3 прилегающие дефектыs, 20.5ms\n",
      "Speed: 2.9ms preprocess, 20.5ms inference, 0.8ms postprocess per image at shape (1, 3, 1024, 576)\n"
     ]
    },
    {
     "name": "stderr",
     "output_type": "stream",
     "text": [
      " 42%|████████████████▉                       | 493/1162 [03:18<04:08,  2.70it/s]"
     ]
    },
    {
     "name": "stdout",
     "output_type": "stream",
     "text": [
      "\n",
      "image 1/1 /mnt/SSD/workspace/atomic_hack/Сварные_швы/dataset/6 (73).jpg: 1024x576 1 прилегающие дефекты, 20.4ms\n",
      "Speed: 2.9ms preprocess, 20.4ms inference, 0.7ms postprocess per image at shape (1, 3, 1024, 576)\n"
     ]
    },
    {
     "name": "stderr",
     "output_type": "stream",
     "text": [
      " 43%|█████████████████                       | 494/1162 [03:18<03:20,  3.33it/s]"
     ]
    },
    {
     "name": "stdout",
     "output_type": "stream",
     "text": [
      "\n",
      "image 1/1 /mnt/SSD/workspace/atomic_hack/Сварные_швы/dataset/11 (74).jpg: 1024x576 2 прилегающие дефектыs, 19.7ms\n",
      "Speed: 2.9ms preprocess, 19.7ms inference, 1.0ms postprocess per image at shape (1, 3, 1024, 576)\n"
     ]
    },
    {
     "name": "stderr",
     "output_type": "stream",
     "text": [
      " 43%|█████████████████                       | 495/1162 [03:18<02:59,  3.73it/s]"
     ]
    },
    {
     "name": "stdout",
     "output_type": "stream",
     "text": [
      "\n",
      "image 1/1 /mnt/SSD/workspace/atomic_hack/Сварные_швы/dataset/6 (20).jpg: 1024x576 1 прилегающие дефекты, 20.2ms\n",
      "Speed: 3.0ms preprocess, 20.2ms inference, 0.7ms postprocess per image at shape (1, 3, 1024, 576)\n"
     ]
    },
    {
     "name": "stderr",
     "output_type": "stream",
     "text": [
      " 43%|█████████████████                       | 496/1162 [03:18<02:31,  4.41it/s]"
     ]
    },
    {
     "name": "stdout",
     "output_type": "stream",
     "text": [
      "\n",
      "image 1/1 /mnt/SSD/workspace/atomic_hack/Сварные_швы/dataset/8 (65).jpg: 1024x576 3 прилегающие дефектыs, 19.8ms\n",
      "Speed: 2.9ms preprocess, 19.8ms inference, 0.8ms postprocess per image at shape (1, 3, 1024, 576)\n"
     ]
    },
    {
     "name": "stderr",
     "output_type": "stream",
     "text": [
      " 43%|█████████████████                       | 497/1162 [03:18<02:37,  4.23it/s]"
     ]
    },
    {
     "name": "stdout",
     "output_type": "stream",
     "text": [
      "\n",
      "image 1/1 /mnt/SSD/workspace/atomic_hack/Сварные_швы/dataset/6 (89).jpg: 1024x576 (no detections), 19.7ms\n",
      "Speed: 2.9ms preprocess, 19.7ms inference, 0.3ms postprocess per image at shape (1, 3, 1024, 576)\n",
      "\n",
      "image 1/1 /mnt/SSD/workspace/atomic_hack/Сварные_швы/dataset/5 (105).jpg: 576x1024 5 прилегающие дефектыs, 21.3ms\n",
      "Speed: 2.8ms preprocess, 21.3ms inference, 0.8ms postprocess per image at shape (1, 3, 576, 1024)\n"
     ]
    },
    {
     "name": "stderr",
     "output_type": "stream",
     "text": [
      " 43%|█████████████████▏                      | 499/1162 [03:19<02:33,  4.31it/s]"
     ]
    },
    {
     "name": "stdout",
     "output_type": "stream",
     "text": [
      "\n",
      "image 1/1 /mnt/SSD/workspace/atomic_hack/Сварные_швы/dataset/4 (10).jpg: 576x1024 1 прилегающие дефекты, 23.2ms\n",
      "Speed: 2.8ms preprocess, 23.2ms inference, 1.6ms postprocess per image at shape (1, 3, 576, 1024)\n"
     ]
    },
    {
     "name": "stderr",
     "output_type": "stream",
     "text": [
      " 43%|█████████████████▏                      | 500/1162 [03:19<02:17,  4.81it/s]"
     ]
    },
    {
     "name": "stdout",
     "output_type": "stream",
     "text": [
      "\n",
      "image 1/1 /mnt/SSD/workspace/atomic_hack/Сварные_швы/dataset/7 (76).jpg: 1024x576 6 прилегающие дефектыs, 19.7ms\n",
      "Speed: 2.9ms preprocess, 19.7ms inference, 1.0ms postprocess per image at shape (1, 3, 1024, 576)\n"
     ]
    },
    {
     "name": "stderr",
     "output_type": "stream",
     "text": [
      " 43%|█████████████████▏                      | 501/1162 [03:19<02:59,  3.69it/s]"
     ]
    },
    {
     "name": "stdout",
     "output_type": "stream",
     "text": [
      "\n",
      "image 1/1 /mnt/SSD/workspace/atomic_hack/Сварные_швы/dataset/6 (24).jpg: 1024x576 1 прилегающие дефекты, 19.6ms\n",
      "Speed: 3.3ms preprocess, 19.6ms inference, 0.7ms postprocess per image at shape (1, 3, 1024, 576)\n"
     ]
    },
    {
     "name": "stderr",
     "output_type": "stream",
     "text": [
      " 43%|█████████████████▎                      | 502/1162 [03:19<02:35,  4.25it/s]"
     ]
    },
    {
     "name": "stdout",
     "output_type": "stream",
     "text": [
      "\n",
      "image 1/1 /mnt/SSD/workspace/atomic_hack/Сварные_швы/dataset/6 (84).jpg: 1024x576 (no detections), 20.2ms\n",
      "Speed: 2.8ms preprocess, 20.2ms inference, 0.3ms postprocess per image at shape (1, 3, 1024, 576)\n",
      "\n",
      "image 1/1 /mnt/SSD/workspace/atomic_hack/Сварные_швы/dataset/4 (136).jpg: 576x1024 6 прилегающие дефектыs, 21.2ms\n",
      "Speed: 2.9ms preprocess, 21.2ms inference, 1.0ms postprocess per image at shape (1, 3, 576, 1024)\n"
     ]
    },
    {
     "name": "stderr",
     "output_type": "stream",
     "text": [
      " 43%|█████████████████▎                      | 504/1162 [03:20<02:48,  3.91it/s]"
     ]
    },
    {
     "name": "stdout",
     "output_type": "stream",
     "text": [
      "\n",
      "image 1/1 /mnt/SSD/workspace/atomic_hack/Сварные_швы/dataset/6 (63).jpg: 1024x576 2 прилегающие дефектыs, 19.6ms\n",
      "Speed: 3.1ms preprocess, 19.6ms inference, 0.7ms postprocess per image at shape (1, 3, 1024, 576)\n"
     ]
    },
    {
     "name": "stderr",
     "output_type": "stream",
     "text": [
      " 43%|█████████████████▍                      | 505/1162 [03:20<02:38,  4.14it/s]"
     ]
    },
    {
     "name": "stdout",
     "output_type": "stream",
     "text": [
      "\n",
      "image 1/1 /mnt/SSD/workspace/atomic_hack/Сварные_швы/dataset/12 (52).jpg: 1024x576 (no detections), 20.2ms\n",
      "Speed: 3.3ms preprocess, 20.2ms inference, 0.4ms postprocess per image at shape (1, 3, 1024, 576)\n",
      "\n",
      "image 1/1 /mnt/SSD/workspace/atomic_hack/Сварные_швы/dataset/5 (176).jpg: 576x1024 3 прилегающие дефектыs, 21.4ms\n",
      "Speed: 2.9ms preprocess, 21.4ms inference, 0.8ms postprocess per image at shape (1, 3, 576, 1024)\n"
     ]
    },
    {
     "name": "stderr",
     "output_type": "stream",
     "text": [
      " 44%|█████████████████▍                      | 507/1162 [03:21<02:17,  4.76it/s]"
     ]
    },
    {
     "name": "stdout",
     "output_type": "stream",
     "text": [
      "\n",
      "image 1/1 /mnt/SSD/workspace/atomic_hack/Сварные_швы/dataset/9 (54).jpg: 1024x576 1 прилегающие дефекты, 20.3ms\n",
      "Speed: 3.0ms preprocess, 20.3ms inference, 0.7ms postprocess per image at shape (1, 3, 1024, 576)\n"
     ]
    },
    {
     "name": "stderr",
     "output_type": "stream",
     "text": [
      " 44%|█████████████████▍                      | 508/1162 [03:21<02:06,  5.16it/s]"
     ]
    },
    {
     "name": "stdout",
     "output_type": "stream",
     "text": [
      "\n",
      "image 1/1 /mnt/SSD/workspace/atomic_hack/Сварные_швы/dataset/4 (147).jpg: 576x1024 5 прилегающие дефектыs, 21.4ms\n",
      "Speed: 2.8ms preprocess, 21.4ms inference, 0.7ms postprocess per image at shape (1, 3, 576, 1024)\n"
     ]
    },
    {
     "name": "stderr",
     "output_type": "stream",
     "text": [
      " 44%|█████████████████▌                      | 509/1162 [03:21<02:36,  4.17it/s]"
     ]
    },
    {
     "name": "stdout",
     "output_type": "stream",
     "text": [
      "\n",
      "image 1/1 /mnt/SSD/workspace/atomic_hack/Сварные_швы/dataset/9 (55).jpg: 1024x576 2 прилегающие дефектыs, 20.3ms\n",
      "Speed: 3.0ms preprocess, 20.3ms inference, 0.8ms postprocess per image at shape (1, 3, 1024, 576)\n"
     ]
    },
    {
     "name": "stderr",
     "output_type": "stream",
     "text": [
      " 44%|█████████████████▌                      | 510/1162 [03:21<02:30,  4.33it/s]"
     ]
    },
    {
     "name": "stdout",
     "output_type": "stream",
     "text": [
      "\n",
      "image 1/1 /mnt/SSD/workspace/atomic_hack/Сварные_швы/dataset/5 (69).jpg: 576x1024 1 прилегающие дефекты, 21.4ms\n",
      "Speed: 2.8ms preprocess, 21.4ms inference, 0.7ms postprocess per image at shape (1, 3, 576, 1024)\n"
     ]
    },
    {
     "name": "stderr",
     "output_type": "stream",
     "text": [
      " 44%|█████████████████▌                      | 511/1162 [03:21<02:14,  4.83it/s]"
     ]
    },
    {
     "name": "stdout",
     "output_type": "stream",
     "text": [
      "\n",
      "image 1/1 /mnt/SSD/workspace/atomic_hack/Сварные_швы/dataset/5 (20).jpg: 576x1024 4 прилегающие дефектыs, 21.2ms\n",
      "Speed: 2.7ms preprocess, 21.2ms inference, 0.8ms postprocess per image at shape (1, 3, 576, 1024)\n"
     ]
    },
    {
     "name": "stderr",
     "output_type": "stream",
     "text": [
      " 44%|█████████████████▌                      | 512/1162 [03:22<02:35,  4.19it/s]"
     ]
    },
    {
     "name": "stdout",
     "output_type": "stream",
     "text": [
      "\n",
      "image 1/1 /mnt/SSD/workspace/atomic_hack/Сварные_швы/dataset/8 (55).jpg: 1024x576 4 прилегающие дефектыs, 20.3ms\n",
      "Speed: 2.8ms preprocess, 20.3ms inference, 0.7ms postprocess per image at shape (1, 3, 1024, 576)\n"
     ]
    },
    {
     "name": "stderr",
     "output_type": "stream",
     "text": [
      " 44%|█████████████████▋                      | 513/1162 [03:22<02:50,  3.81it/s]"
     ]
    },
    {
     "name": "stdout",
     "output_type": "stream",
     "text": [
      "\n",
      "image 1/1 /mnt/SSD/workspace/atomic_hack/Сварные_швы/dataset/2 (8).jpg: 576x1024 10 прилегающие дефектыs, 21.6ms\n",
      "Speed: 2.4ms preprocess, 21.6ms inference, 0.8ms postprocess per image at shape (1, 3, 576, 1024)\n"
     ]
    },
    {
     "name": "stderr",
     "output_type": "stream",
     "text": [
      " 44%|█████████████████▋                      | 514/1162 [03:23<04:08,  2.61it/s]"
     ]
    },
    {
     "name": "stdout",
     "output_type": "stream",
     "text": [
      "\n",
      "image 1/1 /mnt/SSD/workspace/atomic_hack/Сварные_швы/dataset/7 (21).jpg: 1024x576 15 прилегающие дефектыs, 24.6ms\n",
      "Speed: 3.1ms preprocess, 24.6ms inference, 0.7ms postprocess per image at shape (1, 3, 1024, 576)\n"
     ]
    },
    {
     "name": "stderr",
     "output_type": "stream",
     "text": [
      " 44%|█████████████████▋                      | 515/1162 [03:24<06:05,  1.77it/s]"
     ]
    },
    {
     "name": "stdout",
     "output_type": "stream",
     "text": [
      "\n",
      "image 1/1 /mnt/SSD/workspace/atomic_hack/Сварные_швы/dataset/11 (54).jpg: 1024x576 1 прилегающие дефекты, 20.3ms\n",
      "Speed: 2.9ms preprocess, 20.3ms inference, 0.7ms postprocess per image at shape (1, 3, 1024, 576)\n"
     ]
    },
    {
     "name": "stderr",
     "output_type": "stream",
     "text": [
      " 44%|█████████████████▊                      | 516/1162 [03:24<04:41,  2.30it/s]"
     ]
    },
    {
     "name": "stdout",
     "output_type": "stream",
     "text": [
      "\n",
      "image 1/1 /mnt/SSD/workspace/atomic_hack/Сварные_швы/dataset/3 (46).jpg: 576x1024 4 прилегающие дефектыs, 21.3ms\n",
      "Speed: 2.8ms preprocess, 21.3ms inference, 0.7ms postprocess per image at shape (1, 3, 576, 1024)\n"
     ]
    },
    {
     "name": "stderr",
     "output_type": "stream",
     "text": [
      " 44%|█████████████████▊                      | 517/1162 [03:24<04:23,  2.45it/s]"
     ]
    },
    {
     "name": "stdout",
     "output_type": "stream",
     "text": [
      "\n",
      "image 1/1 /mnt/SSD/workspace/atomic_hack/Сварные_швы/dataset/7 (1).jpg: 1024x576 5 прилегающие дефектыs, 25.9ms\n",
      "Speed: 2.9ms preprocess, 25.9ms inference, 0.8ms postprocess per image at shape (1, 3, 1024, 576)\n"
     ]
    },
    {
     "name": "stderr",
     "output_type": "stream",
     "text": [
      " 45%|█████████████████▊                      | 518/1162 [03:25<04:44,  2.27it/s]"
     ]
    },
    {
     "name": "stdout",
     "output_type": "stream",
     "text": [
      "\n",
      "image 1/1 /mnt/SSD/workspace/atomic_hack/Сварные_швы/dataset/3 (22).jpg: 576x1024 (no detections), 21.4ms\n",
      "Speed: 2.7ms preprocess, 21.4ms inference, 0.3ms postprocess per image at shape (1, 3, 576, 1024)\n",
      "\n",
      "image 1/1 /mnt/SSD/workspace/atomic_hack/Сварные_швы/dataset/11 (73).jpg: 1024x576 3 прилегающие дефектыs, 20.5ms\n",
      "Speed: 3.0ms preprocess, 20.5ms inference, 0.8ms postprocess per image at shape (1, 3, 1024, 576)\n"
     ]
    },
    {
     "name": "stderr",
     "output_type": "stream",
     "text": [
      " 45%|█████████████████▉                      | 520/1162 [03:25<03:21,  3.19it/s]"
     ]
    },
    {
     "name": "stdout",
     "output_type": "stream",
     "text": [
      "\n",
      "image 1/1 /mnt/SSD/workspace/atomic_hack/Сварные_швы/dataset/12 (51).jpg: 1024x576 (no detections), 20.2ms\n",
      "Speed: 2.8ms preprocess, 20.2ms inference, 0.3ms postprocess per image at shape (1, 3, 1024, 576)\n",
      "\n",
      "image 1/1 /mnt/SSD/workspace/atomic_hack/Сварные_швы/dataset/7 (26).jpg: 1024x576 18 прилегающие дефектыs, 20.1ms\n",
      "Speed: 2.9ms preprocess, 20.1ms inference, 0.7ms postprocess per image at shape (1, 3, 1024, 576)\n"
     ]
    },
    {
     "name": "stderr",
     "output_type": "stream",
     "text": [
      " 45%|█████████████████▉                      | 522/1162 [03:26<04:54,  2.17it/s]"
     ]
    },
    {
     "name": "stdout",
     "output_type": "stream",
     "text": [
      "\n",
      "image 1/1 /mnt/SSD/workspace/atomic_hack/Сварные_швы/dataset/9 (22).jpg: 1024x576 5 прилегающие дефектыs, 19.5ms\n",
      "Speed: 2.9ms preprocess, 19.5ms inference, 0.7ms postprocess per image at shape (1, 3, 1024, 576)\n"
     ]
    },
    {
     "name": "stderr",
     "output_type": "stream",
     "text": [
      " 45%|██████████████████                      | 523/1162 [03:27<04:46,  2.23it/s]"
     ]
    },
    {
     "name": "stdout",
     "output_type": "stream",
     "text": [
      "\n",
      "image 1/1 /mnt/SSD/workspace/atomic_hack/Сварные_швы/dataset/7 (95).jpg: 1024x576 11 прилегающие дефектыs, 20.0ms\n",
      "Speed: 3.0ms preprocess, 20.0ms inference, 0.7ms postprocess per image at shape (1, 3, 1024, 576)\n"
     ]
    },
    {
     "name": "stderr",
     "output_type": "stream",
     "text": [
      " 45%|██████████████████                      | 524/1162 [03:28<05:53,  1.81it/s]"
     ]
    },
    {
     "name": "stdout",
     "output_type": "stream",
     "text": [
      "\n",
      "image 1/1 /mnt/SSD/workspace/atomic_hack/Сварные_швы/dataset/9 (63).jpg: 1024x576 2 прилегающие дефектыs, 24.8ms\n",
      "Speed: 2.9ms preprocess, 24.8ms inference, 0.8ms postprocess per image at shape (1, 3, 1024, 576)\n"
     ]
    },
    {
     "name": "stderr",
     "output_type": "stream",
     "text": [
      " 45%|██████████████████                      | 525/1162 [03:28<04:57,  2.14it/s]"
     ]
    },
    {
     "name": "stdout",
     "output_type": "stream",
     "text": [
      "\n",
      "image 1/1 /mnt/SSD/workspace/atomic_hack/Сварные_швы/dataset/11 (2).jpg: 1024x576 3 прилегающие дефектыs, 20.3ms\n",
      "Speed: 3.0ms preprocess, 20.3ms inference, 0.7ms postprocess per image at shape (1, 3, 1024, 576)\n"
     ]
    },
    {
     "name": "stderr",
     "output_type": "stream",
     "text": [
      " 45%|██████████████████                      | 526/1162 [03:28<04:24,  2.41it/s]"
     ]
    },
    {
     "name": "stdout",
     "output_type": "stream",
     "text": [
      "\n",
      "image 1/1 /mnt/SSD/workspace/atomic_hack/Сварные_швы/dataset/3 (13).jpg: 576x1024 1 прилегающие дефекты, 21.2ms\n",
      "Speed: 2.7ms preprocess, 21.2ms inference, 0.7ms postprocess per image at shape (1, 3, 576, 1024)\n"
     ]
    },
    {
     "name": "stderr",
     "output_type": "stream",
     "text": [
      " 45%|██████████████████▏                     | 527/1162 [03:28<03:34,  2.96it/s]"
     ]
    },
    {
     "name": "stdout",
     "output_type": "stream",
     "text": [
      "\n",
      "image 1/1 /mnt/SSD/workspace/atomic_hack/Сварные_швы/dataset/7 (214).jpg: 1024x576 5 прилегающие дефектыs, 19.9ms\n",
      "Speed: 2.9ms preprocess, 19.9ms inference, 0.7ms postprocess per image at shape (1, 3, 1024, 576)\n"
     ]
    },
    {
     "name": "stderr",
     "output_type": "stream",
     "text": [
      " 45%|██████████████████▏                     | 528/1162 [03:29<03:44,  2.83it/s]"
     ]
    },
    {
     "name": "stdout",
     "output_type": "stream",
     "text": [
      "\n",
      "image 1/1 /mnt/SSD/workspace/atomic_hack/Сварные_швы/dataset/5 (114).jpg: 576x1024 2 прилегающие дефектыs, 21.3ms\n",
      "Speed: 4.5ms preprocess, 21.3ms inference, 0.7ms postprocess per image at shape (1, 3, 576, 1024)\n"
     ]
    },
    {
     "name": "stderr",
     "output_type": "stream",
     "text": [
      " 46%|██████████████████▏                     | 529/1162 [03:29<03:15,  3.23it/s]"
     ]
    },
    {
     "name": "stdout",
     "output_type": "stream",
     "text": [
      "\n",
      "image 1/1 /mnt/SSD/workspace/atomic_hack/Сварные_швы/dataset/7 (117).jpg: 1024x576 9 прилегающие дефектыs, 19.7ms\n",
      "Speed: 3.0ms preprocess, 19.7ms inference, 1.0ms postprocess per image at shape (1, 3, 1024, 576)\n"
     ]
    },
    {
     "name": "stderr",
     "output_type": "stream",
     "text": [
      " 46%|██████████████████▏                     | 530/1162 [03:30<04:16,  2.46it/s]"
     ]
    },
    {
     "name": "stdout",
     "output_type": "stream",
     "text": [
      "\n",
      "image 1/1 /mnt/SSD/workspace/atomic_hack/Сварные_швы/dataset/8 (103).jpg: 1024x576 2 прилегающие дефектыs, 19.8ms\n",
      "Speed: 2.9ms preprocess, 19.8ms inference, 1.0ms postprocess per image at shape (1, 3, 1024, 576)\n"
     ]
    },
    {
     "name": "stderr",
     "output_type": "stream",
     "text": [
      " 46%|██████████████████▎                     | 531/1162 [03:30<03:38,  2.89it/s]"
     ]
    },
    {
     "name": "stdout",
     "output_type": "stream",
     "text": [
      "\n",
      "image 1/1 /mnt/SSD/workspace/atomic_hack/Сварные_швы/dataset/7 (163).jpg: 1024x576 6 прилегающие дефектыs, 20.4ms\n",
      "Speed: 3.0ms preprocess, 20.4ms inference, 0.7ms postprocess per image at shape (1, 3, 1024, 576)\n"
     ]
    },
    {
     "name": "stderr",
     "output_type": "stream",
     "text": [
      " 46%|██████████████████▎                     | 532/1162 [03:30<04:21,  2.41it/s]"
     ]
    },
    {
     "name": "stdout",
     "output_type": "stream",
     "text": [
      "\n",
      "image 1/1 /mnt/SSD/workspace/atomic_hack/Сварные_швы/dataset/8 (102).jpg: 1024x576 3 прилегающие дефектыs, 24.8ms\n",
      "Speed: 4.7ms preprocess, 24.8ms inference, 0.8ms postprocess per image at shape (1, 3, 1024, 576)\n"
     ]
    },
    {
     "name": "stderr",
     "output_type": "stream",
     "text": [
      " 46%|██████████████████▎                     | 533/1162 [03:31<04:00,  2.61it/s]"
     ]
    },
    {
     "name": "stdout",
     "output_type": "stream",
     "text": [
      "\n",
      "image 1/1 /mnt/SSD/workspace/atomic_hack/Сварные_швы/dataset/6 (59).jpg: 1024x576 3 прилегающие дефектыs, 27.3ms\n",
      "Speed: 18.9ms preprocess, 27.3ms inference, 1.7ms postprocess per image at shape (1, 3, 1024, 576)\n"
     ]
    },
    {
     "name": "stderr",
     "output_type": "stream",
     "text": [
      " 46%|██████████████████▍                     | 534/1162 [03:31<03:52,  2.70it/s]"
     ]
    },
    {
     "name": "stdout",
     "output_type": "stream",
     "text": [
      "\n",
      "image 1/1 /mnt/SSD/workspace/atomic_hack/Сварные_швы/dataset/8 (8).jpg: 1024x576 3 прилегающие дефектыs, 29.0ms\n",
      "Speed: 3.1ms preprocess, 29.0ms inference, 1.7ms postprocess per image at shape (1, 3, 1024, 576)\n"
     ]
    },
    {
     "name": "stderr",
     "output_type": "stream",
     "text": [
      " 46%|██████████████████▍                     | 535/1162 [03:31<03:56,  2.65it/s]"
     ]
    },
    {
     "name": "stdout",
     "output_type": "stream",
     "text": [
      "\n",
      "image 1/1 /mnt/SSD/workspace/atomic_hack/Сварные_швы/dataset/9 (38).jpg: 1024x576 1 прилегающие дефекты, 25.8ms\n",
      "Speed: 3.0ms preprocess, 25.8ms inference, 0.8ms postprocess per image at shape (1, 3, 1024, 576)\n"
     ]
    },
    {
     "name": "stderr",
     "output_type": "stream",
     "text": [
      " 46%|██████████████████▍                     | 536/1162 [03:32<03:14,  3.22it/s]"
     ]
    },
    {
     "name": "stdout",
     "output_type": "stream",
     "text": [
      "\n",
      "image 1/1 /mnt/SSD/workspace/atomic_hack/Сварные_швы/dataset/9 (36).jpg: 1024x576 1 прилегающие дефекты, 20.4ms\n",
      "Speed: 2.9ms preprocess, 20.4ms inference, 0.8ms postprocess per image at shape (1, 3, 1024, 576)\n"
     ]
    },
    {
     "name": "stderr",
     "output_type": "stream",
     "text": [
      " 46%|██████████████████▍                     | 537/1162 [03:32<02:40,  3.89it/s]"
     ]
    },
    {
     "name": "stdout",
     "output_type": "stream",
     "text": [
      "\n",
      "image 1/1 /mnt/SSD/workspace/atomic_hack/Сварные_швы/dataset/7 (246).jpg: 1024x576 8 прилегающие дефектыs, 20.1ms\n",
      "Speed: 3.0ms preprocess, 20.1ms inference, 0.7ms postprocess per image at shape (1, 3, 1024, 576)\n"
     ]
    },
    {
     "name": "stderr",
     "output_type": "stream",
     "text": [
      " 46%|██████████████████▌                     | 538/1162 [03:32<03:38,  2.85it/s]"
     ]
    },
    {
     "name": "stdout",
     "output_type": "stream",
     "text": [
      "\n",
      "image 1/1 /mnt/SSD/workspace/atomic_hack/Сварные_швы/dataset/6 (1).jpg: 1024x576 1 прилегающие дефекты, 25.5ms\n",
      "Speed: 2.9ms preprocess, 25.5ms inference, 0.7ms postprocess per image at shape (1, 3, 1024, 576)\n"
     ]
    },
    {
     "name": "stderr",
     "output_type": "stream",
     "text": [
      " 46%|██████████████████▌                     | 539/1162 [03:32<03:01,  3.44it/s]"
     ]
    },
    {
     "name": "stdout",
     "output_type": "stream",
     "text": [
      "\n",
      "image 1/1 /mnt/SSD/workspace/atomic_hack/Сварные_швы/dataset/7 (90).jpg: 1024x576 5 прилегающие дефектыs, 19.9ms\n",
      "Speed: 3.1ms preprocess, 19.9ms inference, 0.7ms postprocess per image at shape (1, 3, 1024, 576)\n"
     ]
    },
    {
     "name": "stderr",
     "output_type": "stream",
     "text": [
      " 46%|██████████████████▌                     | 540/1162 [03:33<03:18,  3.13it/s]"
     ]
    },
    {
     "name": "stdout",
     "output_type": "stream",
     "text": [
      "\n",
      "image 1/1 /mnt/SSD/workspace/atomic_hack/Сварные_швы/dataset/12 (20).jpg: 1024x576 6 прилегающие дефектыs, 20.2ms\n",
      "Speed: 3.0ms preprocess, 20.2ms inference, 0.7ms postprocess per image at shape (1, 3, 1024, 576)\n"
     ]
    },
    {
     "name": "stderr",
     "output_type": "stream",
     "text": [
      " 47%|██████████████████▌                     | 541/1162 [03:33<03:40,  2.81it/s]"
     ]
    },
    {
     "name": "stdout",
     "output_type": "stream",
     "text": [
      "\n",
      "image 1/1 /mnt/SSD/workspace/atomic_hack/Сварные_швы/dataset/4 (71).jpg: 576x1024 8 прилегающие дефектыs, 21.4ms\n",
      "Speed: 2.8ms preprocess, 21.4ms inference, 0.8ms postprocess per image at shape (1, 3, 576, 1024)\n"
     ]
    },
    {
     "name": "stderr",
     "output_type": "stream",
     "text": [
      " 47%|██████████████████▋                     | 542/1162 [03:34<04:19,  2.38it/s]"
     ]
    },
    {
     "name": "stdout",
     "output_type": "stream",
     "text": [
      "\n",
      "image 1/1 /mnt/SSD/workspace/atomic_hack/Сварные_швы/dataset/7 (172).jpg: 1024x576 3 прилегающие дефектыs, 20.4ms\n",
      "Speed: 2.9ms preprocess, 20.4ms inference, 0.7ms postprocess per image at shape (1, 3, 1024, 576)\n"
     ]
    },
    {
     "name": "stderr",
     "output_type": "stream",
     "text": [
      " 47%|██████████████████▋                     | 543/1162 [03:34<03:50,  2.69it/s]"
     ]
    },
    {
     "name": "stdout",
     "output_type": "stream",
     "text": [
      "\n",
      "image 1/1 /mnt/SSD/workspace/atomic_hack/Сварные_швы/dataset/5 (2).jpg: 576x1024 8 прилегающие дефектыs, 21.3ms\n",
      "Speed: 2.9ms preprocess, 21.3ms inference, 0.9ms postprocess per image at shape (1, 3, 576, 1024)\n"
     ]
    },
    {
     "name": "stderr",
     "output_type": "stream",
     "text": [
      " 47%|██████████████████▋                     | 544/1162 [03:35<04:34,  2.25it/s]"
     ]
    },
    {
     "name": "stdout",
     "output_type": "stream",
     "text": [
      "\n",
      "image 1/1 /mnt/SSD/workspace/atomic_hack/Сварные_швы/dataset/4 (152).jpg: 576x1024 3 прилегающие дефектыs, 21.4ms\n",
      "Speed: 2.7ms preprocess, 21.4ms inference, 0.7ms postprocess per image at shape (1, 3, 576, 1024)\n"
     ]
    },
    {
     "name": "stderr",
     "output_type": "stream",
     "text": [
      " 47%|██████████████████▊                     | 545/1162 [03:35<04:01,  2.56it/s]"
     ]
    },
    {
     "name": "stdout",
     "output_type": "stream",
     "text": [
      "\n",
      "image 1/1 /mnt/SSD/workspace/atomic_hack/Сварные_швы/dataset/7 (137).jpg: 1024x576 7 прилегающие дефектыs, 25.2ms\n",
      "Speed: 3.3ms preprocess, 25.2ms inference, 0.8ms postprocess per image at shape (1, 3, 1024, 576)\n"
     ]
    },
    {
     "name": "stderr",
     "output_type": "stream",
     "text": [
      " 47%|██████████████████▊                     | 546/1162 [03:36<04:52,  2.11it/s]"
     ]
    },
    {
     "name": "stdout",
     "output_type": "stream",
     "text": [
      "\n",
      "image 1/1 /mnt/SSD/workspace/atomic_hack/Сварные_швы/dataset/5 (75).jpg: 576x1024 2 прилегающие дефектыs, 21.4ms\n",
      "Speed: 2.8ms preprocess, 21.4ms inference, 0.8ms postprocess per image at shape (1, 3, 576, 1024)\n"
     ]
    },
    {
     "name": "stderr",
     "output_type": "stream",
     "text": [
      " 47%|██████████████████▊                     | 547/1162 [03:36<04:00,  2.55it/s]"
     ]
    },
    {
     "name": "stdout",
     "output_type": "stream",
     "text": [
      "\n",
      "image 1/1 /mnt/SSD/workspace/atomic_hack/Сварные_швы/dataset/7 (251).jpg: 1024x576 7 прилегающие дефектыs, 20.2ms\n",
      "Speed: 3.1ms preprocess, 20.2ms inference, 0.7ms postprocess per image at shape (1, 3, 1024, 576)\n"
     ]
    },
    {
     "name": "stderr",
     "output_type": "stream",
     "text": [
      " 47%|██████████████████▊                     | 548/1162 [03:36<04:23,  2.33it/s]"
     ]
    },
    {
     "name": "stdout",
     "output_type": "stream",
     "text": [
      "\n",
      "image 1/1 /mnt/SSD/workspace/atomic_hack/Сварные_швы/dataset/5 (1).jpg: 576x1024 4 прилегающие дефектыs, 21.4ms\n",
      "Speed: 2.8ms preprocess, 21.4ms inference, 0.8ms postprocess per image at shape (1, 3, 576, 1024)\n"
     ]
    },
    {
     "name": "stderr",
     "output_type": "stream",
     "text": [
      " 47%|██████████████████▉                     | 549/1162 [03:37<04:03,  2.52it/s]"
     ]
    },
    {
     "name": "stdout",
     "output_type": "stream",
     "text": [
      "\n",
      "image 1/1 /mnt/SSD/workspace/atomic_hack/Сварные_швы/dataset/5 (127).jpg: 576x1024 3 прилегающие дефектыs, 29.3ms\n",
      "Speed: 33.0ms preprocess, 29.3ms inference, 1.8ms postprocess per image at shape (1, 3, 576, 1024)\n"
     ]
    },
    {
     "name": "stderr",
     "output_type": "stream",
     "text": [
      " 47%|██████████████████▉                     | 550/1162 [03:37<03:46,  2.70it/s]"
     ]
    },
    {
     "name": "stdout",
     "output_type": "stream",
     "text": [
      "\n",
      "image 1/1 /mnt/SSD/workspace/atomic_hack/Сварные_швы/dataset/5 (159).jpg: 576x1024 14 прилегающие дефектыs, 21.5ms\n",
      "Speed: 2.8ms preprocess, 21.5ms inference, 0.7ms postprocess per image at shape (1, 3, 576, 1024)\n"
     ]
    },
    {
     "name": "stderr",
     "output_type": "stream",
     "text": [
      " 47%|██████████████████▉                     | 551/1162 [03:38<06:10,  1.65it/s]"
     ]
    },
    {
     "name": "stdout",
     "output_type": "stream",
     "text": [
      "\n",
      "image 1/1 /mnt/SSD/workspace/atomic_hack/Сварные_швы/dataset/7 (60).jpg: 1024x576 4 прилегающие дефектыs, 20.3ms\n",
      "Speed: 2.9ms preprocess, 20.3ms inference, 0.7ms postprocess per image at shape (1, 3, 1024, 576)\n"
     ]
    },
    {
     "name": "stderr",
     "output_type": "stream",
     "text": [
      " 48%|███████████████████                     | 552/1162 [03:38<05:18,  1.92it/s]"
     ]
    },
    {
     "name": "stdout",
     "output_type": "stream",
     "text": [
      "\n",
      "image 1/1 /mnt/SSD/workspace/atomic_hack/Сварные_швы/dataset/8 (89).jpg: 1024x576 3 прилегающие дефектыs, 19.1ms\n",
      "Speed: 3.1ms preprocess, 19.1ms inference, 0.7ms postprocess per image at shape (1, 3, 1024, 576)\n"
     ]
    },
    {
     "name": "stderr",
     "output_type": "stream",
     "text": [
      " 48%|███████████████████                     | 553/1162 [03:39<04:29,  2.26it/s]"
     ]
    },
    {
     "name": "stdout",
     "output_type": "stream",
     "text": [
      "\n",
      "image 1/1 /mnt/SSD/workspace/atomic_hack/Сварные_швы/dataset/9 (52).jpg: 1024x576 1 прилегающие дефекты, 19.7ms\n",
      "Speed: 3.0ms preprocess, 19.7ms inference, 1.0ms postprocess per image at shape (1, 3, 1024, 576)\n"
     ]
    },
    {
     "name": "stderr",
     "output_type": "stream",
     "text": [
      " 48%|███████████████████                     | 554/1162 [03:39<03:33,  2.85it/s]"
     ]
    },
    {
     "name": "stdout",
     "output_type": "stream",
     "text": [
      "\n",
      "image 1/1 /mnt/SSD/workspace/atomic_hack/Сварные_швы/dataset/6 (103).jpg: 1024x576 1 прилегающие дефекты, 20.1ms\n",
      "Speed: 2.9ms preprocess, 20.1ms inference, 0.7ms postprocess per image at shape (1, 3, 1024, 576)\n"
     ]
    },
    {
     "name": "stderr",
     "output_type": "stream",
     "text": [
      " 48%|███████████████████                     | 555/1162 [03:39<02:52,  3.51it/s]"
     ]
    },
    {
     "name": "stdout",
     "output_type": "stream",
     "text": [
      "\n",
      "image 1/1 /mnt/SSD/workspace/atomic_hack/Сварные_швы/dataset/7 (218).jpg: 1024x576 5 прилегающие дефектыs, 19.9ms\n",
      "Speed: 3.0ms preprocess, 19.9ms inference, 0.7ms postprocess per image at shape (1, 3, 1024, 576)\n"
     ]
    },
    {
     "name": "stderr",
     "output_type": "stream",
     "text": [
      " 48%|███████████████████▏                    | 556/1162 [03:39<03:11,  3.17it/s]"
     ]
    },
    {
     "name": "stdout",
     "output_type": "stream",
     "text": [
      "\n",
      "image 1/1 /mnt/SSD/workspace/atomic_hack/Сварные_швы/dataset/7 (156).jpg: 1024x576 12 прилегающие дефектыs, 20.1ms\n",
      "Speed: 2.8ms preprocess, 20.1ms inference, 0.7ms postprocess per image at shape (1, 3, 1024, 576)\n"
     ]
    },
    {
     "name": "stderr",
     "output_type": "stream",
     "text": [
      " 48%|███████████████████▏                    | 557/1162 [03:40<05:06,  1.98it/s]"
     ]
    },
    {
     "name": "stdout",
     "output_type": "stream",
     "text": [
      "\n",
      "image 1/1 /mnt/SSD/workspace/atomic_hack/Сварные_швы/dataset/4 (17).jpg: 576x1024 1 прилегающие дефекты, 21.4ms\n",
      "Speed: 2.8ms preprocess, 21.4ms inference, 0.9ms postprocess per image at shape (1, 3, 576, 1024)\n"
     ]
    },
    {
     "name": "stderr",
     "output_type": "stream",
     "text": [
      " 48%|███████████████████▏                    | 558/1162 [03:40<03:57,  2.54it/s]"
     ]
    },
    {
     "name": "stdout",
     "output_type": "stream",
     "text": [
      "\n",
      "image 1/1 /mnt/SSD/workspace/atomic_hack/Сварные_швы/dataset/5 (186).jpg: 576x1024 3 прилегающие дефектыs, 21.3ms\n",
      "Speed: 2.8ms preprocess, 21.3ms inference, 0.7ms postprocess per image at shape (1, 3, 576, 1024)\n"
     ]
    },
    {
     "name": "stderr",
     "output_type": "stream",
     "text": [
      " 48%|███████████████████▏                    | 559/1162 [03:41<03:33,  2.82it/s]"
     ]
    },
    {
     "name": "stdout",
     "output_type": "stream",
     "text": [
      "\n",
      "image 1/1 /mnt/SSD/workspace/atomic_hack/Сварные_швы/dataset/7 (194).jpg: 1024x576 2 прилегающие дефектыs, 20.4ms\n",
      "Speed: 2.9ms preprocess, 20.4ms inference, 1.0ms postprocess per image at shape (1, 3, 1024, 576)\n"
     ]
    },
    {
     "name": "stderr",
     "output_type": "stream",
     "text": [
      " 48%|███████████████████▎                    | 560/1162 [03:41<03:05,  3.24it/s]"
     ]
    },
    {
     "name": "stdout",
     "output_type": "stream",
     "text": [
      "\n",
      "image 1/1 /mnt/SSD/workspace/atomic_hack/Сварные_швы/dataset/7 (111).jpg: 1024x576 11 прилегающие дефектыs, 20.3ms\n",
      "Speed: 3.2ms preprocess, 20.3ms inference, 0.8ms postprocess per image at shape (1, 3, 1024, 576)\n"
     ]
    },
    {
     "name": "stderr",
     "output_type": "stream",
     "text": [
      " 48%|███████████████████▎                    | 561/1162 [03:42<04:35,  2.19it/s]"
     ]
    },
    {
     "name": "stdout",
     "output_type": "stream",
     "text": [
      "\n",
      "image 1/1 /mnt/SSD/workspace/atomic_hack/Сварные_швы/dataset/11 (57).jpg: 1024x576 1 прилегающие дефекты, 20.4ms\n",
      "Speed: 2.9ms preprocess, 20.4ms inference, 0.7ms postprocess per image at shape (1, 3, 1024, 576)\n"
     ]
    },
    {
     "name": "stderr",
     "output_type": "stream",
     "text": [
      " 48%|███████████████████▎                    | 562/1162 [03:42<03:35,  2.79it/s]"
     ]
    },
    {
     "name": "stdout",
     "output_type": "stream",
     "text": [
      "\n",
      "image 1/1 /mnt/SSD/workspace/atomic_hack/Сварные_швы/dataset/5 (210).jpg: 576x1024 7 прилегающие дефектыs, 21.4ms\n",
      "Speed: 2.7ms preprocess, 21.4ms inference, 0.7ms postprocess per image at shape (1, 3, 576, 1024)\n"
     ]
    },
    {
     "name": "stderr",
     "output_type": "stream",
     "text": [
      " 48%|███████████████████▍                    | 563/1162 [03:42<04:00,  2.49it/s]"
     ]
    },
    {
     "name": "stdout",
     "output_type": "stream",
     "text": [
      "\n",
      "image 1/1 /mnt/SSD/workspace/atomic_hack/Сварные_швы/dataset/8 (17).jpg: 1024x576 2 прилегающие дефектыs, 20.2ms\n",
      "Speed: 2.8ms preprocess, 20.2ms inference, 0.7ms postprocess per image at shape (1, 3, 1024, 576)\n"
     ]
    },
    {
     "name": "stderr",
     "output_type": "stream",
     "text": [
      " 49%|███████████████████▍                    | 564/1162 [03:43<03:24,  2.93it/s]"
     ]
    },
    {
     "name": "stdout",
     "output_type": "stream",
     "text": [
      "\n",
      "image 1/1 /mnt/SSD/workspace/atomic_hack/Сварные_швы/dataset/3 (8).jpg: 576x1024 8 прилегающие дефектыs, 21.4ms\n",
      "Speed: 2.8ms preprocess, 21.4ms inference, 0.7ms postprocess per image at shape (1, 3, 576, 1024)\n"
     ]
    },
    {
     "name": "stderr",
     "output_type": "stream",
     "text": [
      " 49%|███████████████████▍                    | 565/1162 [03:43<04:12,  2.36it/s]"
     ]
    },
    {
     "name": "stdout",
     "output_type": "stream",
     "text": [
      "\n",
      "image 1/1 /mnt/SSD/workspace/atomic_hack/Сварные_швы/dataset/11 (6).jpg: 1024x576 1 прилегающие дефекты, 20.2ms\n",
      "Speed: 3.0ms preprocess, 20.2ms inference, 0.7ms postprocess per image at shape (1, 3, 1024, 576)\n"
     ]
    },
    {
     "name": "stderr",
     "output_type": "stream",
     "text": [
      " 49%|███████████████████▍                    | 566/1162 [03:43<03:19,  2.98it/s]"
     ]
    },
    {
     "name": "stdout",
     "output_type": "stream",
     "text": [
      "\n",
      "image 1/1 /mnt/SSD/workspace/atomic_hack/Сварные_швы/dataset/7 (14).jpg: 1024x576 13 прилегающие дефектыs, 22.0ms\n",
      "Speed: 3.1ms preprocess, 22.0ms inference, 0.8ms postprocess per image at shape (1, 3, 1024, 576)\n"
     ]
    },
    {
     "name": "stderr",
     "output_type": "stream",
     "text": [
      " 49%|███████████████████▌                    | 567/1162 [03:44<05:07,  1.93it/s]"
     ]
    },
    {
     "name": "stdout",
     "output_type": "stream",
     "text": [
      "\n",
      "image 1/1 /mnt/SSD/workspace/atomic_hack/Сварные_швы/dataset/4 (151).jpg: 576x1024 6 прилегающие дефектыs, 21.4ms\n",
      "Speed: 2.6ms preprocess, 21.4ms inference, 0.7ms postprocess per image at shape (1, 3, 576, 1024)\n"
     ]
    },
    {
     "name": "stderr",
     "output_type": "stream",
     "text": [
      " 49%|███████████████████▌                    | 568/1162 [03:45<04:57,  1.99it/s]"
     ]
    },
    {
     "name": "stdout",
     "output_type": "stream",
     "text": [
      "\n",
      "image 1/1 /mnt/SSD/workspace/atomic_hack/Сварные_швы/dataset/5 (31).jpg: 576x1024 9 прилегающие дефектыs, 21.3ms\n",
      "Speed: 2.8ms preprocess, 21.3ms inference, 0.7ms postprocess per image at shape (1, 3, 576, 1024)\n"
     ]
    },
    {
     "name": "stderr",
     "output_type": "stream",
     "text": [
      " 49%|███████████████████▌                    | 569/1162 [03:45<05:22,  1.84it/s]"
     ]
    },
    {
     "name": "stdout",
     "output_type": "stream",
     "text": [
      "\n",
      "image 1/1 /mnt/SSD/workspace/atomic_hack/Сварные_швы/dataset/12 (79).jpg: 1024x576 1 прилегающие дефекты, 19.6ms\n",
      "Speed: 3.0ms preprocess, 19.6ms inference, 0.7ms postprocess per image at shape (1, 3, 1024, 576)\n"
     ]
    },
    {
     "name": "stderr",
     "output_type": "stream",
     "text": [
      " 49%|███████████████████▌                    | 570/1162 [03:45<04:07,  2.39it/s]"
     ]
    },
    {
     "name": "stdout",
     "output_type": "stream",
     "text": [
      "\n",
      "image 1/1 /mnt/SSD/workspace/atomic_hack/Сварные_швы/dataset/7 (126).jpg: 1024x576 6 прилегающие дефектыs, 20.1ms\n",
      "Speed: 2.7ms preprocess, 20.1ms inference, 0.7ms postprocess per image at shape (1, 3, 1024, 576)\n"
     ]
    },
    {
     "name": "stderr",
     "output_type": "stream",
     "text": [
      " 49%|███████████████████▋                    | 571/1162 [03:46<04:22,  2.25it/s]"
     ]
    },
    {
     "name": "stdout",
     "output_type": "stream",
     "text": [
      "\n",
      "image 1/1 /mnt/SSD/workspace/atomic_hack/Сварные_швы/dataset/4 (26).jpg: 576x1024 (no detections), 21.2ms\n",
      "Speed: 2.8ms preprocess, 21.2ms inference, 0.3ms postprocess per image at shape (1, 3, 576, 1024)\n",
      "\n",
      "image 1/1 /mnt/SSD/workspace/atomic_hack/Сварные_швы/dataset/7 (258).jpg: 1024x576 5 прилегающие дефектыs, 20.4ms\n",
      "Speed: 2.9ms preprocess, 20.4ms inference, 0.7ms postprocess per image at shape (1, 3, 1024, 576)\n"
     ]
    },
    {
     "name": "stderr",
     "output_type": "stream",
     "text": [
      " 49%|███████████████████▋                    | 573/1162 [03:46<03:30,  2.80it/s]"
     ]
    },
    {
     "name": "stdout",
     "output_type": "stream",
     "text": [
      "\n",
      "image 1/1 /mnt/SSD/workspace/atomic_hack/Сварные_швы/dataset/11 (43).jpg: 1024x576 2 прилегающие дефектыs, 21.3ms\n",
      "Speed: 3.0ms preprocess, 21.3ms inference, 0.7ms postprocess per image at shape (1, 3, 1024, 576)\n"
     ]
    },
    {
     "name": "stderr",
     "output_type": "stream",
     "text": [
      " 49%|███████████████████▊                    | 574/1162 [03:47<03:08,  3.13it/s]"
     ]
    },
    {
     "name": "stdout",
     "output_type": "stream",
     "text": [
      "\n",
      "image 1/1 /mnt/SSD/workspace/atomic_hack/Сварные_швы/dataset/5 (133).jpg: 576x1024 6 прилегающие дефектыs, 21.4ms\n",
      "Speed: 2.7ms preprocess, 21.4ms inference, 0.7ms postprocess per image at shape (1, 3, 576, 1024)\n"
     ]
    },
    {
     "name": "stderr",
     "output_type": "stream",
     "text": [
      " 49%|███████████████████▊                    | 575/1162 [03:47<03:36,  2.71it/s]"
     ]
    },
    {
     "name": "stdout",
     "output_type": "stream",
     "text": [
      "\n",
      "image 1/1 /mnt/SSD/workspace/atomic_hack/Сварные_швы/dataset/11 (24).jpg: 1024x576 1 прилегающие дефекты, 22.8ms\n",
      "Speed: 3.1ms preprocess, 22.8ms inference, 1.0ms postprocess per image at shape (1, 3, 1024, 576)\n"
     ]
    },
    {
     "name": "stderr",
     "output_type": "stream",
     "text": [
      " 50%|███████████████████▊                    | 576/1162 [03:47<02:58,  3.28it/s]"
     ]
    },
    {
     "name": "stdout",
     "output_type": "stream",
     "text": [
      "\n",
      "image 1/1 /mnt/SSD/workspace/atomic_hack/Сварные_швы/dataset/5 (110).jpg: 576x1024 (no detections), 21.0ms\n",
      "Speed: 2.9ms preprocess, 21.0ms inference, 0.3ms postprocess per image at shape (1, 3, 576, 1024)\n",
      "\n",
      "image 1/1 /mnt/SSD/workspace/atomic_hack/Сварные_швы/dataset/7 (253).jpg: 1024x576 4 прилегающие дефектыs, 20.5ms\n",
      "Speed: 3.1ms preprocess, 20.5ms inference, 0.8ms postprocess per image at shape (1, 3, 1024, 576)\n"
     ]
    },
    {
     "name": "stderr",
     "output_type": "stream",
     "text": [
      " 50%|███████████████████▉                    | 578/1162 [03:48<02:36,  3.73it/s]"
     ]
    },
    {
     "name": "stdout",
     "output_type": "stream",
     "text": [
      "\n",
      "image 1/1 /mnt/SSD/workspace/atomic_hack/Сварные_швы/dataset/5 (206).jpg: 576x1024 7 прилегающие дефектыs, 20.9ms\n",
      "Speed: 2.8ms preprocess, 20.9ms inference, 0.7ms postprocess per image at shape (1, 3, 576, 1024)\n"
     ]
    },
    {
     "name": "stderr",
     "output_type": "stream",
     "text": [
      " 50%|███████████████████▉                    | 579/1162 [03:48<03:08,  3.09it/s]"
     ]
    },
    {
     "name": "stdout",
     "output_type": "stream",
     "text": [
      "\n",
      "image 1/1 /mnt/SSD/workspace/atomic_hack/Сварные_швы/dataset/7 (72).jpg: 1024x576 6 прилегающие дефектыs, 20.2ms\n",
      "Speed: 3.0ms preprocess, 20.2ms inference, 0.7ms postprocess per image at shape (1, 3, 1024, 576)\n"
     ]
    },
    {
     "name": "stderr",
     "output_type": "stream",
     "text": [
      " 50%|███████████████████▉                    | 580/1162 [03:49<03:44,  2.59it/s]"
     ]
    },
    {
     "name": "stdout",
     "output_type": "stream",
     "text": [
      "\n",
      "image 1/1 /mnt/SSD/workspace/atomic_hack/Сварные_швы/dataset/8 (114).jpg: 1024x576 3 прилегающие дефектыs, 20.5ms\n",
      "Speed: 3.0ms preprocess, 20.5ms inference, 0.8ms postprocess per image at shape (1, 3, 1024, 576)\n"
     ]
    },
    {
     "name": "stderr",
     "output_type": "stream",
     "text": [
      " 50%|████████████████████                    | 581/1162 [03:49<03:25,  2.83it/s]"
     ]
    },
    {
     "name": "stdout",
     "output_type": "stream",
     "text": [
      "\n",
      "image 1/1 /mnt/SSD/workspace/atomic_hack/Сварные_швы/dataset/8 (96).jpg: 1024x576 2 прилегающие дефектыs, 22.2ms\n",
      "Speed: 3.3ms preprocess, 22.2ms inference, 0.7ms postprocess per image at shape (1, 3, 1024, 576)\n"
     ]
    },
    {
     "name": "stderr",
     "output_type": "stream",
     "text": [
      " 50%|████████████████████                    | 582/1162 [03:49<03:08,  3.08it/s]"
     ]
    },
    {
     "name": "stdout",
     "output_type": "stream",
     "text": [
      "\n",
      "image 1/1 /mnt/SSD/workspace/atomic_hack/Сварные_швы/dataset/12 (67).jpg: 1024x576 4 прилегающие дефектыs, 26.5ms\n",
      "Speed: 3.1ms preprocess, 26.5ms inference, 0.8ms postprocess per image at shape (1, 3, 1024, 576)\n"
     ]
    },
    {
     "name": "stderr",
     "output_type": "stream",
     "text": [
      " 50%|████████████████████                    | 583/1162 [03:50<03:08,  3.07it/s]"
     ]
    },
    {
     "name": "stdout",
     "output_type": "stream",
     "text": [
      "\n",
      "image 1/1 /mnt/SSD/workspace/atomic_hack/Сварные_швы/dataset/5 (130).jpg: 576x1024 5 прилегающие дефектыs, 21.3ms\n",
      "Speed: 3.0ms preprocess, 21.3ms inference, 0.7ms postprocess per image at shape (1, 3, 576, 1024)\n"
     ]
    },
    {
     "name": "stderr",
     "output_type": "stream",
     "text": [
      " 50%|████████████████████                    | 584/1162 [03:50<03:18,  2.91it/s]"
     ]
    },
    {
     "name": "stdout",
     "output_type": "stream",
     "text": [
      "\n",
      "image 1/1 /mnt/SSD/workspace/atomic_hack/Сварные_швы/dataset/4 (5).jpg: 576x1024 4 прилегающие дефектыs, 21.5ms\n",
      "Speed: 2.7ms preprocess, 21.5ms inference, 0.7ms postprocess per image at shape (1, 3, 576, 1024)\n"
     ]
    },
    {
     "name": "stderr",
     "output_type": "stream",
     "text": [
      " 50%|████████████████████▏                   | 585/1162 [03:50<03:14,  2.96it/s]"
     ]
    },
    {
     "name": "stdout",
     "output_type": "stream",
     "text": [
      "\n",
      "image 1/1 /mnt/SSD/workspace/atomic_hack/Сварные_швы/dataset/7 (108).jpg: 1024x576 12 прилегающие дефектыs, 20.1ms\n",
      "Speed: 3.0ms preprocess, 20.1ms inference, 0.7ms postprocess per image at shape (1, 3, 1024, 576)\n"
     ]
    },
    {
     "name": "stderr",
     "output_type": "stream",
     "text": [
      " 50%|████████████████████▏                   | 586/1162 [03:51<05:10,  1.85it/s]"
     ]
    },
    {
     "name": "stdout",
     "output_type": "stream",
     "text": [
      "\n",
      "image 1/1 /mnt/SSD/workspace/atomic_hack/Сварные_швы/dataset/9 (3).jpg: 1024x576 4 прилегающие дефектыs, 23.2ms\n",
      "Speed: 3.1ms preprocess, 23.2ms inference, 0.8ms postprocess per image at shape (1, 3, 1024, 576)\n"
     ]
    },
    {
     "name": "stderr",
     "output_type": "stream",
     "text": [
      " 51%|████████████████████▏                   | 587/1162 [03:52<04:34,  2.09it/s]"
     ]
    },
    {
     "name": "stdout",
     "output_type": "stream",
     "text": [
      "\n",
      "image 1/1 /mnt/SSD/workspace/atomic_hack/Сварные_швы/dataset/7 (221).jpg: 1024x576 5 прилегающие дефектыs, 20.3ms\n",
      "Speed: 3.1ms preprocess, 20.3ms inference, 0.8ms postprocess per image at shape (1, 3, 1024, 576)\n"
     ]
    },
    {
     "name": "stderr",
     "output_type": "stream",
     "text": [
      " 51%|████████████████████▏                   | 588/1162 [03:52<04:19,  2.22it/s]"
     ]
    },
    {
     "name": "stdout",
     "output_type": "stream",
     "text": [
      "\n",
      "image 1/1 /mnt/SSD/workspace/atomic_hack/Сварные_швы/dataset/6 (98).jpg: 1024x576 3 прилегающие дефектыs, 20.3ms\n",
      "Speed: 3.1ms preprocess, 20.3ms inference, 0.7ms postprocess per image at shape (1, 3, 1024, 576)\n"
     ]
    },
    {
     "name": "stderr",
     "output_type": "stream",
     "text": [
      " 51%|████████████████████▎                   | 589/1162 [03:52<03:49,  2.49it/s]"
     ]
    },
    {
     "name": "stdout",
     "output_type": "stream",
     "text": [
      "\n",
      "image 1/1 /mnt/SSD/workspace/atomic_hack/Сварные_швы/dataset/8 (9).jpg: 1024x576 3 прилегающие дефектыs, 21.8ms\n",
      "Speed: 2.8ms preprocess, 21.8ms inference, 0.8ms postprocess per image at shape (1, 3, 1024, 576)\n"
     ]
    },
    {
     "name": "stderr",
     "output_type": "stream",
     "text": [
      " 51%|████████████████████▎                   | 590/1162 [03:53<03:25,  2.78it/s]"
     ]
    },
    {
     "name": "stdout",
     "output_type": "stream",
     "text": [
      "\n",
      "image 1/1 /mnt/SSD/workspace/atomic_hack/Сварные_швы/dataset/7 (24).jpg: 1024x576 17 прилегающие дефектыs, 20.2ms\n",
      "Speed: 2.9ms preprocess, 20.2ms inference, 0.7ms postprocess per image at shape (1, 3, 1024, 576)\n"
     ]
    },
    {
     "name": "stderr",
     "output_type": "stream",
     "text": [
      " 51%|████████████████████▎                   | 591/1162 [03:54<05:46,  1.65it/s]"
     ]
    },
    {
     "name": "stdout",
     "output_type": "stream",
     "text": [
      "\n",
      "image 1/1 /mnt/SSD/workspace/atomic_hack/Сварные_швы/dataset/2 (6).jpg: 576x1024 14 прилегающие дефектыs, 23.7ms\n",
      "Speed: 2.4ms preprocess, 23.7ms inference, 1.3ms postprocess per image at shape (1, 3, 576, 1024)\n"
     ]
    },
    {
     "name": "stderr",
     "output_type": "stream",
     "text": [
      " 51%|████████████████████▍                   | 592/1162 [03:55<07:27,  1.27it/s]"
     ]
    },
    {
     "name": "stdout",
     "output_type": "stream",
     "text": [
      "\n",
      "image 1/1 /mnt/SSD/workspace/atomic_hack/Сварные_швы/dataset/7 (166).jpg: 1024x576 2 прилегающие дефектыs, 21.6ms\n",
      "Speed: 3.2ms preprocess, 21.6ms inference, 0.8ms postprocess per image at shape (1, 3, 1024, 576)\n"
     ]
    },
    {
     "name": "stderr",
     "output_type": "stream",
     "text": [
      " 51%|████████████████████▍                   | 593/1162 [03:55<05:49,  1.63it/s]"
     ]
    },
    {
     "name": "stdout",
     "output_type": "stream",
     "text": [
      "\n",
      "image 1/1 /mnt/SSD/workspace/atomic_hack/Сварные_швы/dataset/7 (224).jpg: 1024x576 3 прилегающие дефектыs, 19.2ms\n",
      "Speed: 3.2ms preprocess, 19.2ms inference, 0.7ms postprocess per image at shape (1, 3, 1024, 576)\n"
     ]
    },
    {
     "name": "stderr",
     "output_type": "stream",
     "text": [
      " 51%|████████████████████▍                   | 594/1162 [03:56<04:49,  1.96it/s]"
     ]
    },
    {
     "name": "stdout",
     "output_type": "stream",
     "text": [
      "\n",
      "image 1/1 /mnt/SSD/workspace/atomic_hack/Сварные_швы/dataset/9 (21).jpg: 1024x576 8 прилегающие дефектыs, 19.8ms\n",
      "Speed: 3.1ms preprocess, 19.8ms inference, 1.1ms postprocess per image at shape (1, 3, 1024, 576)\n"
     ]
    },
    {
     "name": "stderr",
     "output_type": "stream",
     "text": [
      " 51%|████████████████████▍                   | 595/1162 [03:56<05:01,  1.88it/s]"
     ]
    },
    {
     "name": "stdout",
     "output_type": "stream",
     "text": [
      "\n",
      "image 1/1 /mnt/SSD/workspace/atomic_hack/Сварные_швы/dataset/9 (69).jpg: 1024x576 7 прилегающие дефектыs, 20.7ms\n",
      "Speed: 3.2ms preprocess, 20.7ms inference, 0.9ms postprocess per image at shape (1, 3, 1024, 576)\n"
     ]
    },
    {
     "name": "stderr",
     "output_type": "stream",
     "text": [
      " 51%|████████████████████▌                   | 596/1162 [03:57<05:16,  1.79it/s]"
     ]
    },
    {
     "name": "stdout",
     "output_type": "stream",
     "text": [
      "\n",
      "image 1/1 /mnt/SSD/workspace/atomic_hack/Сварные_швы/dataset/8 (28).jpg: 1024x576 1 прилегающие дефекты, 26.6ms\n",
      "Speed: 3.3ms preprocess, 26.6ms inference, 0.8ms postprocess per image at shape (1, 3, 1024, 576)\n"
     ]
    },
    {
     "name": "stderr",
     "output_type": "stream",
     "text": [
      " 51%|████████████████████▌                   | 597/1162 [03:57<04:07,  2.28it/s]"
     ]
    },
    {
     "name": "stdout",
     "output_type": "stream",
     "text": [
      "\n",
      "image 1/1 /mnt/SSD/workspace/atomic_hack/Сварные_швы/dataset/9 (43).jpg: 1024x576 1 прилегающие дефекты, 25.8ms\n",
      "Speed: 3.4ms preprocess, 25.8ms inference, 0.8ms postprocess per image at shape (1, 3, 1024, 576)\n"
     ]
    },
    {
     "name": "stderr",
     "output_type": "stream",
     "text": [
      " 51%|████████████████████▌                   | 598/1162 [03:57<03:19,  2.82it/s]"
     ]
    },
    {
     "name": "stdout",
     "output_type": "stream",
     "text": [
      "\n",
      "image 1/1 /mnt/SSD/workspace/atomic_hack/Сварные_швы/dataset/8 (11).jpg: 1024x576 3 прилегающие дефектыs, 25.7ms\n",
      "Speed: 38.9ms preprocess, 25.7ms inference, 0.8ms postprocess per image at shape (1, 3, 1024, 576)\n"
     ]
    },
    {
     "name": "stderr",
     "output_type": "stream",
     "text": [
      " 52%|████████████████████▌                   | 599/1162 [03:57<03:17,  2.85it/s]"
     ]
    },
    {
     "name": "stdout",
     "output_type": "stream",
     "text": [
      "\n",
      "image 1/1 /mnt/SSD/workspace/atomic_hack/Сварные_швы/dataset/6 (38).jpg: 1024x576 2 прилегающие дефектыs, 22.2ms\n",
      "Speed: 3.1ms preprocess, 22.2ms inference, 0.8ms postprocess per image at shape (1, 3, 1024, 576)\n"
     ]
    },
    {
     "name": "stderr",
     "output_type": "stream",
     "text": [
      " 52%|████████████████████▋                   | 600/1162 [03:58<02:56,  3.19it/s]"
     ]
    },
    {
     "name": "stdout",
     "output_type": "stream",
     "text": [
      "\n",
      "image 1/1 /mnt/SSD/workspace/atomic_hack/Сварные_швы/dataset/7 (252).jpg: 1024x576 6 прилегающие дефектыs, 19.7ms\n",
      "Speed: 3.3ms preprocess, 19.7ms inference, 0.7ms postprocess per image at shape (1, 3, 1024, 576)\n"
     ]
    },
    {
     "name": "stderr",
     "output_type": "stream",
     "text": [
      " 52%|████████████████████▋                   | 601/1162 [03:58<03:18,  2.82it/s]"
     ]
    },
    {
     "name": "stdout",
     "output_type": "stream",
     "text": [
      "\n",
      "image 1/1 /mnt/SSD/workspace/atomic_hack/Сварные_швы/dataset/4 (38).jpg: 576x1024 4 прилегающие дефектыs, 23.1ms\n",
      "Speed: 2.8ms preprocess, 23.1ms inference, 0.8ms postprocess per image at shape (1, 3, 576, 1024)\n"
     ]
    },
    {
     "name": "stderr",
     "output_type": "stream",
     "text": [
      " 52%|████████████████████▋                   | 602/1162 [03:59<03:33,  2.62it/s]"
     ]
    },
    {
     "name": "stdout",
     "output_type": "stream",
     "text": [
      "\n",
      "image 1/1 /mnt/SSD/workspace/atomic_hack/Сварные_швы/dataset/5 (196).jpg: 576x1024 5 прилегающие дефектыs, 22.4ms\n",
      "Speed: 2.8ms preprocess, 22.4ms inference, 0.7ms postprocess per image at shape (1, 3, 576, 1024)\n"
     ]
    },
    {
     "name": "stderr",
     "output_type": "stream",
     "text": [
      " 52%|████████████████████▊                   | 603/1162 [03:59<03:34,  2.61it/s]"
     ]
    },
    {
     "name": "stdout",
     "output_type": "stream",
     "text": [
      "\n",
      "image 1/1 /mnt/SSD/workspace/atomic_hack/Сварные_швы/dataset/8 (99).jpg: 1024x576 2 прилегающие дефектыs, 19.8ms\n",
      "Speed: 3.0ms preprocess, 19.8ms inference, 1.1ms postprocess per image at shape (1, 3, 1024, 576)\n"
     ]
    },
    {
     "name": "stderr",
     "output_type": "stream",
     "text": [
      " 52%|████████████████████▊                   | 604/1162 [03:59<03:01,  3.07it/s]"
     ]
    },
    {
     "name": "stdout",
     "output_type": "stream",
     "text": [
      "\n",
      "image 1/1 /mnt/SSD/workspace/atomic_hack/Сварные_швы/dataset/3 (24).jpg: 576x1024 3 прилегающие дефектыs, 21.4ms\n",
      "Speed: 2.8ms preprocess, 21.4ms inference, 0.7ms postprocess per image at shape (1, 3, 576, 1024)\n"
     ]
    },
    {
     "name": "stderr",
     "output_type": "stream",
     "text": [
      " 52%|████████████████████▊                   | 605/1162 [03:59<02:59,  3.11it/s]"
     ]
    },
    {
     "name": "stdout",
     "output_type": "stream",
     "text": [
      "\n",
      "image 1/1 /mnt/SSD/workspace/atomic_hack/Сварные_швы/dataset/4 (141).jpg: 576x1024 3 прилегающие дефектыs, 27.0ms\n",
      "Speed: 3.0ms preprocess, 27.0ms inference, 0.8ms postprocess per image at shape (1, 3, 576, 1024)\n"
     ]
    },
    {
     "name": "stderr",
     "output_type": "stream",
     "text": [
      " 52%|████████████████████▊                   | 606/1162 [04:00<02:57,  3.13it/s]"
     ]
    },
    {
     "name": "stdout",
     "output_type": "stream",
     "text": [
      "\n",
      "image 1/1 /mnt/SSD/workspace/atomic_hack/Сварные_швы/dataset/6 (81).jpg: 1024x576 2 прилегающие дефектыs, 20.2ms\n",
      "Speed: 3.0ms preprocess, 20.2ms inference, 0.7ms postprocess per image at shape (1, 3, 1024, 576)\n"
     ]
    },
    {
     "name": "stderr",
     "output_type": "stream",
     "text": [
      " 52%|████████████████████▉                   | 607/1162 [04:00<02:36,  3.55it/s]"
     ]
    },
    {
     "name": "stdout",
     "output_type": "stream",
     "text": [
      "\n",
      "image 1/1 /mnt/SSD/workspace/atomic_hack/Сварные_швы/dataset/5 (104).jpg: 576x1024 2 прилегающие дефектыs, 21.2ms\n",
      "Speed: 2.9ms preprocess, 21.2ms inference, 0.8ms postprocess per image at shape (1, 3, 576, 1024)\n"
     ]
    },
    {
     "name": "stderr",
     "output_type": "stream",
     "text": [
      " 52%|████████████████████▉                   | 608/1162 [04:00<02:22,  3.89it/s]"
     ]
    },
    {
     "name": "stdout",
     "output_type": "stream",
     "text": [
      "\n",
      "image 1/1 /mnt/SSD/workspace/atomic_hack/Сварные_швы/dataset/7 (124).jpg: 1024x576 13 прилегающие дефектыs, 20.4ms\n",
      "Speed: 3.2ms preprocess, 20.4ms inference, 0.8ms postprocess per image at shape (1, 3, 1024, 576)\n"
     ]
    },
    {
     "name": "stderr",
     "output_type": "stream",
     "text": [
      " 52%|████████████████████▉                   | 609/1162 [04:01<04:19,  2.13it/s]"
     ]
    },
    {
     "name": "stdout",
     "output_type": "stream",
     "text": [
      "\n",
      "image 1/1 /mnt/SSD/workspace/atomic_hack/Сварные_швы/dataset/7 (145).jpg: 1024x576 11 прилегающие дефектыs, 20.2ms\n",
      "Speed: 4.2ms preprocess, 20.2ms inference, 0.8ms postprocess per image at shape (1, 3, 1024, 576)\n"
     ]
    },
    {
     "name": "stderr",
     "output_type": "stream",
     "text": [
      " 52%|████████████████████▉                   | 610/1162 [04:02<05:06,  1.80it/s]"
     ]
    },
    {
     "name": "stdout",
     "output_type": "stream",
     "text": [
      "\n",
      "image 1/1 /mnt/SSD/workspace/atomic_hack/Сварные_швы/dataset/5 (142).jpg: 576x1024 2 прилегающие дефектыs, 20.2ms\n",
      "Speed: 2.8ms preprocess, 20.2ms inference, 0.7ms postprocess per image at shape (1, 3, 576, 1024)\n"
     ]
    },
    {
     "name": "stderr",
     "output_type": "stream",
     "text": [
      " 53%|█████████████████████                   | 611/1162 [04:02<04:07,  2.23it/s]"
     ]
    },
    {
     "name": "stdout",
     "output_type": "stream",
     "text": [
      "\n",
      "image 1/1 /mnt/SSD/workspace/atomic_hack/Сварные_швы/dataset/6 (61).jpg: 1024x576 1 прилегающие дефекты, 21.2ms\n",
      "Speed: 3.5ms preprocess, 21.2ms inference, 0.7ms postprocess per image at shape (1, 3, 1024, 576)\n"
     ]
    },
    {
     "name": "stderr",
     "output_type": "stream",
     "text": [
      " 53%|█████████████████████                   | 612/1162 [04:02<03:16,  2.80it/s]"
     ]
    },
    {
     "name": "stdout",
     "output_type": "stream",
     "text": [
      "\n",
      "image 1/1 /mnt/SSD/workspace/atomic_hack/Сварные_швы/dataset/7 (103).jpg: 1024x576 12 прилегающие дефектыs, 25.4ms\n",
      "Speed: 3.7ms preprocess, 25.4ms inference, 0.8ms postprocess per image at shape (1, 3, 1024, 576)\n"
     ]
    },
    {
     "name": "stderr",
     "output_type": "stream",
     "text": [
      " 53%|█████████████████████                   | 613/1162 [04:03<04:55,  1.86it/s]"
     ]
    },
    {
     "name": "stdout",
     "output_type": "stream",
     "text": [
      "\n",
      "image 1/1 /mnt/SSD/workspace/atomic_hack/Сварные_швы/dataset/8 (38).jpg: 1024x576 1 прилегающие дефекты, 19.9ms\n",
      "Speed: 3.1ms preprocess, 19.9ms inference, 1.1ms postprocess per image at shape (1, 3, 1024, 576)\n"
     ]
    },
    {
     "name": "stderr",
     "output_type": "stream",
     "text": [
      " 53%|█████████████████████▏                  | 614/1162 [04:03<03:47,  2.41it/s]"
     ]
    },
    {
     "name": "stdout",
     "output_type": "stream",
     "text": [
      "\n",
      "image 1/1 /mnt/SSD/workspace/atomic_hack/Сварные_швы/dataset/11 (76).jpg: 1024x576 1 прилегающие дефекты, 20.5ms\n",
      "Speed: 3.1ms preprocess, 20.5ms inference, 0.7ms postprocess per image at shape (1, 3, 1024, 576)\n"
     ]
    },
    {
     "name": "stderr",
     "output_type": "stream",
     "text": [
      " 53%|█████████████████████▏                  | 615/1162 [04:03<03:00,  3.04it/s]"
     ]
    },
    {
     "name": "stdout",
     "output_type": "stream",
     "text": [
      "\n",
      "image 1/1 /mnt/SSD/workspace/atomic_hack/Сварные_швы/dataset/6 (78).jpg: 1024x576 3 прилегающие дефектыs, 19.8ms\n",
      "Speed: 3.1ms preprocess, 19.8ms inference, 0.9ms postprocess per image at shape (1, 3, 1024, 576)\n"
     ]
    },
    {
     "name": "stderr",
     "output_type": "stream",
     "text": [
      " 53%|█████████████████████▏                  | 616/1162 [04:04<02:49,  3.21it/s]"
     ]
    },
    {
     "name": "stdout",
     "output_type": "stream",
     "text": [
      "\n",
      "image 1/1 /mnt/SSD/workspace/atomic_hack/Сварные_швы/dataset/5 (141).jpg: 576x1024 2 прилегающие дефектыs, 37.5ms\n",
      "Speed: 2.8ms preprocess, 37.5ms inference, 1.0ms postprocess per image at shape (1, 3, 576, 1024)\n"
     ]
    },
    {
     "name": "stderr",
     "output_type": "stream",
     "text": [
      " 53%|█████████████████████▏                  | 617/1162 [04:04<02:35,  3.51it/s]"
     ]
    },
    {
     "name": "stdout",
     "output_type": "stream",
     "text": [
      "\n",
      "image 1/1 /mnt/SSD/workspace/atomic_hack/Сварные_швы/dataset/5 (202).jpg: 576x1024 8 прилегающие дефектыs, 23.3ms\n",
      "Speed: 3.2ms preprocess, 23.3ms inference, 0.9ms postprocess per image at shape (1, 3, 576, 1024)\n"
     ]
    },
    {
     "name": "stderr",
     "output_type": "stream",
     "text": [
      " 53%|█████████████████████▎                  | 618/1162 [04:05<03:32,  2.56it/s]"
     ]
    },
    {
     "name": "stdout",
     "output_type": "stream",
     "text": [
      "\n",
      "image 1/1 /mnt/SSD/workspace/atomic_hack/Сварные_швы/dataset/11 (19).jpg: 1024x576 1 прилегающие дефекты, 21.7ms\n",
      "Speed: 3.1ms preprocess, 21.7ms inference, 0.8ms postprocess per image at shape (1, 3, 1024, 576)\n"
     ]
    },
    {
     "name": "stderr",
     "output_type": "stream",
     "text": [
      " 53%|█████████████████████▎                  | 619/1162 [04:05<02:50,  3.19it/s]"
     ]
    },
    {
     "name": "stdout",
     "output_type": "stream",
     "text": [
      "\n",
      "image 1/1 /mnt/SSD/workspace/atomic_hack/Сварные_швы/dataset/5 (79).jpg: 576x1024 2 прилегающие дефектыs, 24.9ms\n",
      "Speed: 2.8ms preprocess, 24.9ms inference, 0.8ms postprocess per image at shape (1, 3, 576, 1024)\n"
     ]
    },
    {
     "name": "stderr",
     "output_type": "stream",
     "text": [
      " 53%|█████████████████████▎                  | 620/1162 [04:05<02:32,  3.56it/s]"
     ]
    },
    {
     "name": "stdout",
     "output_type": "stream",
     "text": [
      "\n",
      "image 1/1 /mnt/SSD/workspace/atomic_hack/Сварные_швы/dataset/8 (117).jpg: 1024x576 2 прилегающие дефектыs, 22.2ms\n",
      "Speed: 24.6ms preprocess, 22.2ms inference, 0.8ms postprocess per image at shape (1, 3, 1024, 576)\n"
     ]
    },
    {
     "name": "stderr",
     "output_type": "stream",
     "text": [
      " 53%|█████████████████████▍                  | 621/1162 [04:05<02:22,  3.80it/s]"
     ]
    },
    {
     "name": "stdout",
     "output_type": "stream",
     "text": [
      "\n",
      "image 1/1 /mnt/SSD/workspace/atomic_hack/Сварные_швы/dataset/8 (42).jpg: 1024x576 2 прилегающие дефектыs, 19.7ms\n",
      "Speed: 3.2ms preprocess, 19.7ms inference, 0.7ms postprocess per image at shape (1, 3, 1024, 576)\n"
     ]
    },
    {
     "name": "stderr",
     "output_type": "stream",
     "text": [
      " 54%|█████████████████████▍                  | 622/1162 [04:05<02:11,  4.11it/s]"
     ]
    },
    {
     "name": "stdout",
     "output_type": "stream",
     "text": [
      "\n",
      "image 1/1 /mnt/SSD/workspace/atomic_hack/Сварные_швы/dataset/4 (89).jpg: 576x1024 9 прилегающие дефектыs, 21.4ms\n",
      "Speed: 2.8ms preprocess, 21.4ms inference, 0.8ms postprocess per image at shape (1, 3, 576, 1024)\n"
     ]
    },
    {
     "name": "stderr",
     "output_type": "stream",
     "text": [
      " 54%|█████████████████████▍                  | 623/1162 [04:06<03:22,  2.66it/s]"
     ]
    },
    {
     "name": "stdout",
     "output_type": "stream",
     "text": [
      "\n",
      "image 1/1 /mnt/SSD/workspace/atomic_hack/Сварные_швы/dataset/4 (72).jpg: 576x1024 11 прилегающие дефектыs, 27.1ms\n",
      "Speed: 3.0ms preprocess, 27.1ms inference, 0.8ms postprocess per image at shape (1, 3, 576, 1024)\n"
     ]
    },
    {
     "name": "stderr",
     "output_type": "stream",
     "text": [
      " 54%|█████████████████████▍                  | 624/1162 [04:07<04:34,  1.96it/s]"
     ]
    },
    {
     "name": "stdout",
     "output_type": "stream",
     "text": [
      "\n",
      "image 1/1 /mnt/SSD/workspace/atomic_hack/Сварные_швы/dataset/4 (120).jpg: 576x1024 6 прилегающие дефектыs, 24.4ms\n",
      "Speed: 2.8ms preprocess, 24.4ms inference, 1.3ms postprocess per image at shape (1, 3, 576, 1024)\n"
     ]
    },
    {
     "name": "stderr",
     "output_type": "stream",
     "text": [
      " 54%|█████████████████████▌                  | 625/1162 [04:07<04:25,  2.03it/s]"
     ]
    },
    {
     "name": "stdout",
     "output_type": "stream",
     "text": [
      "\n",
      "image 1/1 /mnt/SSD/workspace/atomic_hack/Сварные_швы/dataset/5 (52).jpg: 576x1024 1 прилегающие дефекты, 20.3ms\n",
      "Speed: 2.7ms preprocess, 20.3ms inference, 0.7ms postprocess per image at shape (1, 3, 576, 1024)\n"
     ]
    },
    {
     "name": "stderr",
     "output_type": "stream",
     "text": [
      " 54%|█████████████████████▌                  | 626/1162 [04:07<03:26,  2.60it/s]"
     ]
    },
    {
     "name": "stdout",
     "output_type": "stream",
     "text": [
      "\n",
      "image 1/1 /mnt/SSD/workspace/atomic_hack/Сварные_швы/dataset/5 (199).jpg: 576x1024 1 прилегающие дефекты, 21.2ms\n",
      "Speed: 2.8ms preprocess, 21.2ms inference, 0.7ms postprocess per image at shape (1, 3, 576, 1024)\n"
     ]
    },
    {
     "name": "stderr",
     "output_type": "stream",
     "text": [
      " 54%|█████████████████████▌                  | 627/1162 [04:08<02:45,  3.23it/s]"
     ]
    },
    {
     "name": "stdout",
     "output_type": "stream",
     "text": [
      "\n",
      "image 1/1 /mnt/SSD/workspace/atomic_hack/Сварные_швы/dataset/5 (109).jpg: 576x1024 2 прилегающие дефектыs, 21.3ms\n",
      "Speed: 2.8ms preprocess, 21.3ms inference, 0.9ms postprocess per image at shape (1, 3, 576, 1024)\n"
     ]
    },
    {
     "name": "stderr",
     "output_type": "stream",
     "text": [
      " 54%|█████████████████████▌                  | 628/1162 [04:08<02:28,  3.60it/s]"
     ]
    },
    {
     "name": "stdout",
     "output_type": "stream",
     "text": [
      "\n",
      "image 1/1 /mnt/SSD/workspace/atomic_hack/Сварные_швы/dataset/5 (181).jpg: 576x1024 12 прилегающие дефектыs, 23.9ms\n",
      "Speed: 3.0ms preprocess, 23.9ms inference, 0.8ms postprocess per image at shape (1, 3, 576, 1024)\n"
     ]
    },
    {
     "name": "stderr",
     "output_type": "stream",
     "text": [
      " 54%|█████████████████████▋                  | 629/1162 [04:09<04:28,  1.98it/s]"
     ]
    },
    {
     "name": "stdout",
     "output_type": "stream",
     "text": [
      "\n",
      "image 1/1 /mnt/SSD/workspace/atomic_hack/Сварные_швы/dataset/5 (90).jpg: 576x1024 3 прилегающие дефектыs, 21.2ms\n",
      "Speed: 3.3ms preprocess, 21.2ms inference, 0.7ms postprocess per image at shape (1, 3, 576, 1024)\n"
     ]
    },
    {
     "name": "stderr",
     "output_type": "stream",
     "text": [
      " 54%|█████████████████████▋                  | 630/1162 [04:09<03:51,  2.30it/s]"
     ]
    },
    {
     "name": "stdout",
     "output_type": "stream",
     "text": [
      "\n",
      "image 1/1 /mnt/SSD/workspace/atomic_hack/Сварные_швы/dataset/3 (17).jpg: 576x1024 (no detections), 21.0ms\n",
      "Speed: 2.9ms preprocess, 21.0ms inference, 0.4ms postprocess per image at shape (1, 3, 576, 1024)\n",
      "\n",
      "image 1/1 /mnt/SSD/workspace/atomic_hack/Сварные_швы/dataset/12 (74).jpg: 1024x576 3 прилегающие дефектыs, 20.4ms\n",
      "Speed: 3.1ms preprocess, 20.4ms inference, 0.7ms postprocess per image at shape (1, 3, 1024, 576)\n"
     ]
    },
    {
     "name": "stderr",
     "output_type": "stream",
     "text": [
      " 54%|█████████████████████▊                  | 632/1162 [04:09<02:44,  3.22it/s]"
     ]
    },
    {
     "name": "stdout",
     "output_type": "stream",
     "text": [
      "\n",
      "image 1/1 /mnt/SSD/workspace/atomic_hack/Сварные_швы/dataset/4 (129).jpg: 576x1024 7 прилегающие дефектыs, 21.9ms\n",
      "Speed: 2.7ms preprocess, 21.9ms inference, 0.7ms postprocess per image at shape (1, 3, 576, 1024)\n"
     ]
    },
    {
     "name": "stderr",
     "output_type": "stream",
     "text": [
      " 54%|█████████████████████▊                  | 633/1162 [04:10<03:25,  2.58it/s]"
     ]
    },
    {
     "name": "stdout",
     "output_type": "stream",
     "text": [
      "\n",
      "image 1/1 /mnt/SSD/workspace/atomic_hack/Сварные_швы/dataset/12 (56).jpg: 1024x576 1 прилегающие дефекты, 20.4ms\n",
      "Speed: 2.9ms preprocess, 20.4ms inference, 0.7ms postprocess per image at shape (1, 3, 1024, 576)\n"
     ]
    },
    {
     "name": "stderr",
     "output_type": "stream",
     "text": [
      " 55%|█████████████████████▊                  | 634/1162 [04:10<02:48,  3.13it/s]"
     ]
    },
    {
     "name": "stdout",
     "output_type": "stream",
     "text": [
      "\n",
      "image 1/1 /mnt/SSD/workspace/atomic_hack/Сварные_швы/dataset/6 (104).jpg: 1024x576 1 прилегающие дефекты, 19.6ms\n",
      "Speed: 3.2ms preprocess, 19.6ms inference, 0.7ms postprocess per image at shape (1, 3, 1024, 576)\n"
     ]
    },
    {
     "name": "stderr",
     "output_type": "stream",
     "text": [
      " 55%|█████████████████████▊                  | 635/1162 [04:10<02:21,  3.74it/s]"
     ]
    },
    {
     "name": "stdout",
     "output_type": "stream",
     "text": [
      "\n",
      "image 1/1 /mnt/SSD/workspace/atomic_hack/Сварные_швы/dataset/4 (121).jpg: 576x1024 7 прилегающие дефектыs, 20.1ms\n",
      "Speed: 2.9ms preprocess, 20.1ms inference, 0.9ms postprocess per image at shape (1, 3, 576, 1024)\n"
     ]
    },
    {
     "name": "stderr",
     "output_type": "stream",
     "text": [
      " 55%|█████████████████████▉                  | 636/1162 [04:11<02:55,  2.99it/s]"
     ]
    },
    {
     "name": "stdout",
     "output_type": "stream",
     "text": [
      "\n",
      "image 1/1 /mnt/SSD/workspace/atomic_hack/Сварные_швы/dataset/7 (256).jpg: 1024x576 6 прилегающие дефектыs, 20.2ms\n",
      "Speed: 3.2ms preprocess, 20.2ms inference, 0.8ms postprocess per image at shape (1, 3, 1024, 576)\n"
     ]
    },
    {
     "name": "stderr",
     "output_type": "stream",
     "text": [
      " 55%|█████████████████████▉                  | 637/1162 [04:11<03:12,  2.73it/s]"
     ]
    },
    {
     "name": "stdout",
     "output_type": "stream",
     "text": [
      "\n",
      "image 1/1 /mnt/SSD/workspace/atomic_hack/Сварные_швы/dataset/5 (32).jpg: 576x1024 15 прилегающие дефектыs, 21.4ms\n",
      "Speed: 2.7ms preprocess, 21.4ms inference, 0.7ms postprocess per image at shape (1, 3, 576, 1024)\n"
     ]
    },
    {
     "name": "stderr",
     "output_type": "stream",
     "text": [
      " 55%|█████████████████████▉                  | 638/1162 [04:12<04:47,  1.82it/s]"
     ]
    },
    {
     "name": "stdout",
     "output_type": "stream",
     "text": [
      "\n",
      "image 1/1 /mnt/SSD/workspace/atomic_hack/Сварные_швы/dataset/4 (41).jpg: 576x1024 5 прилегающие дефектыs, 24.3ms\n",
      "Speed: 3.0ms preprocess, 24.3ms inference, 0.8ms postprocess per image at shape (1, 3, 576, 1024)\n"
     ]
    },
    {
     "name": "stderr",
     "output_type": "stream",
     "text": [
      " 55%|█████████████████████▉                  | 639/1162 [04:13<04:24,  1.98it/s]"
     ]
    },
    {
     "name": "stdout",
     "output_type": "stream",
     "text": [
      "\n",
      "image 1/1 /mnt/SSD/workspace/atomic_hack/Сварные_швы/dataset/6 (72).jpg: 1024x576 1 прилегающие дефекты, 20.4ms\n",
      "Speed: 3.0ms preprocess, 20.4ms inference, 0.8ms postprocess per image at shape (1, 3, 1024, 576)\n"
     ]
    },
    {
     "name": "stderr",
     "output_type": "stream",
     "text": [
      " 55%|██████████████████████                  | 640/1162 [04:13<03:26,  2.53it/s]"
     ]
    },
    {
     "name": "stdout",
     "output_type": "stream",
     "text": [
      "\n",
      "image 1/1 /mnt/SSD/workspace/atomic_hack/Сварные_швы/dataset/5 (97).jpg: 576x1024 2 прилегающие дефектыs, 21.2ms\n",
      "Speed: 2.8ms preprocess, 21.2ms inference, 0.7ms postprocess per image at shape (1, 3, 576, 1024)\n"
     ]
    },
    {
     "name": "stderr",
     "output_type": "stream",
     "text": [
      " 55%|██████████████████████                  | 641/1162 [04:13<02:56,  2.96it/s]"
     ]
    },
    {
     "name": "stdout",
     "output_type": "stream",
     "text": [
      "\n",
      "image 1/1 /mnt/SSD/workspace/atomic_hack/Сварные_швы/dataset/7 (78).jpg: 1024x576 5 прилегающие дефектыs, 20.6ms\n",
      "Speed: 3.0ms preprocess, 20.6ms inference, 0.8ms postprocess per image at shape (1, 3, 1024, 576)\n"
     ]
    },
    {
     "name": "stderr",
     "output_type": "stream",
     "text": [
      " 55%|██████████████████████                  | 642/1162 [04:13<03:08,  2.76it/s]"
     ]
    },
    {
     "name": "stdout",
     "output_type": "stream",
     "text": [
      "\n",
      "image 1/1 /mnt/SSD/workspace/atomic_hack/Сварные_швы/dataset/12 (77).jpg: 1024x576 1 прилегающие дефекты, 20.3ms\n",
      "Speed: 3.2ms preprocess, 20.3ms inference, 0.7ms postprocess per image at shape (1, 3, 1024, 576)\n"
     ]
    },
    {
     "name": "stderr",
     "output_type": "stream",
     "text": [
      " 55%|██████████████████████▏                 | 643/1162 [04:13<02:30,  3.44it/s]"
     ]
    },
    {
     "name": "stdout",
     "output_type": "stream",
     "text": [
      "\n",
      "image 1/1 /mnt/SSD/workspace/atomic_hack/Сварные_швы/dataset/7 (160).jpg: 1024x576 10 прилегающие дефектыs, 20.5ms\n",
      "Speed: 3.0ms preprocess, 20.5ms inference, 0.7ms postprocess per image at shape (1, 3, 1024, 576)\n"
     ]
    },
    {
     "name": "stderr",
     "output_type": "stream",
     "text": [
      " 55%|██████████████████████▏                 | 644/1162 [04:14<03:38,  2.37it/s]"
     ]
    },
    {
     "name": "stdout",
     "output_type": "stream",
     "text": [
      "\n",
      "image 1/1 /mnt/SSD/workspace/atomic_hack/Сварные_швы/dataset/2 (2).jpg: 576x1024 13 прилегающие дефектыs, 22.0ms\n",
      "Speed: 2.5ms preprocess, 22.0ms inference, 0.8ms postprocess per image at shape (1, 3, 576, 1024)\n"
     ]
    },
    {
     "name": "stderr",
     "output_type": "stream",
     "text": [
      " 56%|██████████████████████▏                 | 645/1162 [04:15<04:44,  1.81it/s]"
     ]
    },
    {
     "name": "stdout",
     "output_type": "stream",
     "text": [
      "\n",
      "image 1/1 /mnt/SSD/workspace/atomic_hack/Сварные_швы/dataset/5 (213).jpg: 576x1024 9 прилегающие дефектыs, 20.4ms\n",
      "Speed: 2.9ms preprocess, 20.4ms inference, 0.8ms postprocess per image at shape (1, 3, 576, 1024)\n"
     ]
    },
    {
     "name": "stderr",
     "output_type": "stream",
     "text": [
      " 56%|██████████████████████▏                 | 646/1162 [04:16<04:58,  1.73it/s]"
     ]
    },
    {
     "name": "stdout",
     "output_type": "stream",
     "text": [
      "\n",
      "image 1/1 /mnt/SSD/workspace/atomic_hack/Сварные_швы/dataset/7 (48).jpg: 1024x576 8 прилегающие дефектыs, 22.4ms\n",
      "Speed: 3.4ms preprocess, 22.4ms inference, 0.7ms postprocess per image at shape (1, 3, 1024, 576)\n"
     ]
    },
    {
     "name": "stderr",
     "output_type": "stream",
     "text": [
      " 56%|██████████████████████▎                 | 647/1162 [04:16<04:59,  1.72it/s]"
     ]
    },
    {
     "name": "stdout",
     "output_type": "stream",
     "text": [
      "\n",
      "image 1/1 /mnt/SSD/workspace/atomic_hack/Сварные_швы/dataset/3 (26).jpg: 576x1024 1 прилегающие дефекты, 21.1ms\n",
      "Speed: 2.7ms preprocess, 21.1ms inference, 0.8ms postprocess per image at shape (1, 3, 576, 1024)\n"
     ]
    },
    {
     "name": "stderr",
     "output_type": "stream",
     "text": [
      " 56%|██████████████████████▎                 | 648/1162 [04:16<03:49,  2.24it/s]"
     ]
    },
    {
     "name": "stdout",
     "output_type": "stream",
     "text": [
      "\n",
      "image 1/1 /mnt/SSD/workspace/atomic_hack/Сварные_швы/dataset/5 (165).jpg: 576x1024 8 прилегающие дефектыs, 21.1ms\n",
      "Speed: 2.8ms preprocess, 21.1ms inference, 1.1ms postprocess per image at shape (1, 3, 576, 1024)\n"
     ]
    },
    {
     "name": "stderr",
     "output_type": "stream",
     "text": [
      " 56%|██████████████████████▎                 | 649/1162 [04:17<04:29,  1.91it/s]"
     ]
    },
    {
     "name": "stdout",
     "output_type": "stream",
     "text": [
      "\n",
      "image 1/1 /mnt/SSD/workspace/atomic_hack/Сварные_швы/dataset/5 (187).jpg: 576x1024 2 прилегающие дефектыs, 24.8ms\n",
      "Speed: 2.9ms preprocess, 24.8ms inference, 1.5ms postprocess per image at shape (1, 3, 576, 1024)\n"
     ]
    },
    {
     "name": "stderr",
     "output_type": "stream",
     "text": [
      " 56%|██████████████████████▍                 | 650/1162 [04:17<03:43,  2.29it/s]"
     ]
    },
    {
     "name": "stdout",
     "output_type": "stream",
     "text": [
      "\n",
      "image 1/1 /mnt/SSD/workspace/atomic_hack/Сварные_швы/dataset/5 (169).jpg: 576x1024 6 прилегающие дефектыs, 27.0ms\n",
      "Speed: 2.9ms preprocess, 27.0ms inference, 1.1ms postprocess per image at shape (1, 3, 576, 1024)\n"
     ]
    },
    {
     "name": "stderr",
     "output_type": "stream",
     "text": [
      " 56%|██████████████████████▍                 | 651/1162 [04:18<03:59,  2.14it/s]"
     ]
    },
    {
     "name": "stdout",
     "output_type": "stream",
     "text": [
      "\n",
      "image 1/1 /mnt/SSD/workspace/atomic_hack/Сварные_швы/dataset/9 (34).jpg: 1024x576 2 прилегающие дефектыs, 20.6ms\n",
      "Speed: 3.0ms preprocess, 20.6ms inference, 0.7ms postprocess per image at shape (1, 3, 1024, 576)\n"
     ]
    },
    {
     "name": "stderr",
     "output_type": "stream",
     "text": [
      " 56%|██████████████████████▍                 | 652/1162 [04:18<03:18,  2.57it/s]"
     ]
    },
    {
     "name": "stdout",
     "output_type": "stream",
     "text": [
      "\n",
      "image 1/1 /mnt/SSD/workspace/atomic_hack/Сварные_швы/dataset/8 (100).jpg: 1024x576 3 прилегающие дефектыs, 19.8ms\n",
      "Speed: 3.5ms preprocess, 19.8ms inference, 0.9ms postprocess per image at shape (1, 3, 1024, 576)\n"
     ]
    },
    {
     "name": "stderr",
     "output_type": "stream",
     "text": [
      " 56%|██████████████████████▍                 | 653/1162 [04:18<02:58,  2.85it/s]"
     ]
    },
    {
     "name": "stdout",
     "output_type": "stream",
     "text": [
      "\n",
      "image 1/1 /mnt/SSD/workspace/atomic_hack/Сварные_швы/dataset/6 (64).jpg: 1024x576 1 прилегающие дефекты, 19.9ms\n",
      "Speed: 3.1ms preprocess, 19.9ms inference, 0.7ms postprocess per image at shape (1, 3, 1024, 576)\n"
     ]
    },
    {
     "name": "stderr",
     "output_type": "stream",
     "text": [
      " 56%|██████████████████████▌                 | 654/1162 [04:18<02:25,  3.49it/s]"
     ]
    },
    {
     "name": "stdout",
     "output_type": "stream",
     "text": [
      "\n",
      "image 1/1 /mnt/SSD/workspace/atomic_hack/Сварные_швы/dataset/7 (120).jpg: 1024x576 8 прилегающие дефектыs, 22.6ms\n",
      "Speed: 3.1ms preprocess, 22.6ms inference, 0.7ms postprocess per image at shape (1, 3, 1024, 576)\n"
     ]
    },
    {
     "name": "stderr",
     "output_type": "stream",
     "text": [
      " 56%|██████████████████████▌                 | 655/1162 [04:19<03:12,  2.64it/s]"
     ]
    },
    {
     "name": "stdout",
     "output_type": "stream",
     "text": [
      "\n",
      "image 1/1 /mnt/SSD/workspace/atomic_hack/Сварные_швы/dataset/5 (16).jpg: 576x1024 8 прилегающие дефектыs, 21.4ms\n",
      "Speed: 2.8ms preprocess, 21.4ms inference, 1.0ms postprocess per image at shape (1, 3, 576, 1024)\n"
     ]
    },
    {
     "name": "stderr",
     "output_type": "stream",
     "text": [
      " 56%|██████████████████████▌                 | 656/1162 [04:20<03:39,  2.31it/s]"
     ]
    },
    {
     "name": "stdout",
     "output_type": "stream",
     "text": [
      "\n",
      "image 1/1 /mnt/SSD/workspace/atomic_hack/Сварные_швы/dataset/7 (77).jpg: 1024x576 4 прилегающие дефектыs, 25.3ms\n",
      "Speed: 3.3ms preprocess, 25.3ms inference, 1.3ms postprocess per image at shape (1, 3, 1024, 576)\n"
     ]
    },
    {
     "name": "stderr",
     "output_type": "stream",
     "text": [
      " 57%|██████████████████████▌                 | 657/1162 [04:20<03:25,  2.46it/s]"
     ]
    },
    {
     "name": "stdout",
     "output_type": "stream",
     "text": [
      "\n",
      "image 1/1 /mnt/SSD/workspace/atomic_hack/Сварные_швы/dataset/12 (25).jpg: 1024x576 9 прилегающие дефектыs, 20.4ms\n",
      "Speed: 3.2ms preprocess, 20.4ms inference, 0.7ms postprocess per image at shape (1, 3, 1024, 576)\n"
     ]
    },
    {
     "name": "stderr",
     "output_type": "stream",
     "text": [
      " 57%|██████████████████████▋                 | 658/1162 [04:21<03:59,  2.10it/s]"
     ]
    },
    {
     "name": "stdout",
     "output_type": "stream",
     "text": [
      "\n",
      "image 1/1 /mnt/SSD/workspace/atomic_hack/Сварные_швы/dataset/11 (23).jpg: 1024x576 1 прилегающие дефекты, 23.4ms\n",
      "Speed: 3.2ms preprocess, 23.4ms inference, 0.7ms postprocess per image at shape (1, 3, 1024, 576)\n"
     ]
    },
    {
     "name": "stderr",
     "output_type": "stream",
     "text": [
      " 57%|██████████████████████▋                 | 659/1162 [04:21<03:07,  2.68it/s]"
     ]
    },
    {
     "name": "stdout",
     "output_type": "stream",
     "text": [
      "\n",
      "image 1/1 /mnt/SSD/workspace/atomic_hack/Сварные_швы/dataset/7 (101).jpg: 1024x576 7 прилегающие дефектыs, 19.7ms\n",
      "Speed: 3.2ms preprocess, 19.7ms inference, 1.0ms postprocess per image at shape (1, 3, 1024, 576)\n"
     ]
    },
    {
     "name": "stderr",
     "output_type": "stream",
     "text": [
      " 57%|██████████████████████▋                 | 660/1162 [04:21<03:28,  2.40it/s]"
     ]
    },
    {
     "name": "stdout",
     "output_type": "stream",
     "text": [
      "\n",
      "image 1/1 /mnt/SSD/workspace/atomic_hack/Сварные_швы/dataset/12 (58).jpg: 1024x576 5 прилегающие дефектыs, 25.3ms\n",
      "Speed: 3.2ms preprocess, 25.3ms inference, 0.8ms postprocess per image at shape (1, 3, 1024, 576)\n"
     ]
    },
    {
     "name": "stderr",
     "output_type": "stream",
     "text": [
      " 57%|██████████████████████▊                 | 661/1162 [04:22<03:39,  2.28it/s]"
     ]
    },
    {
     "name": "stdout",
     "output_type": "stream",
     "text": [
      "\n",
      "image 1/1 /mnt/SSD/workspace/atomic_hack/Сварные_швы/dataset/5 (58).jpg: 576x1024 6 прилегающие дефектыs, 22.7ms\n",
      "Speed: 2.8ms preprocess, 22.7ms inference, 1.6ms postprocess per image at shape (1, 3, 576, 1024)\n"
     ]
    },
    {
     "name": "stderr",
     "output_type": "stream",
     "text": [
      " 57%|██████████████████████▊                 | 662/1162 [04:22<03:43,  2.24it/s]"
     ]
    },
    {
     "name": "stdout",
     "output_type": "stream",
     "text": [
      "\n",
      "image 1/1 /mnt/SSD/workspace/atomic_hack/Сварные_швы/dataset/7 (169).jpg: 1024x576 2 прилегающие дефектыs, 19.1ms\n",
      "Speed: 3.2ms preprocess, 19.1ms inference, 0.8ms postprocess per image at shape (1, 3, 1024, 576)\n"
     ]
    },
    {
     "name": "stderr",
     "output_type": "stream",
     "text": [
      " 57%|██████████████████████▊                 | 663/1162 [04:22<03:10,  2.62it/s]"
     ]
    },
    {
     "name": "stdout",
     "output_type": "stream",
     "text": [
      "\n",
      "image 1/1 /mnt/SSD/workspace/atomic_hack/Сварные_швы/dataset/9 (6).jpg: 1024x576 2 прилегающие дефектыs, 20.9ms\n",
      "Speed: 5.4ms preprocess, 20.9ms inference, 0.7ms postprocess per image at shape (1, 3, 1024, 576)\n"
     ]
    },
    {
     "name": "stderr",
     "output_type": "stream",
     "text": [
      " 57%|██████████████████████▊                 | 664/1162 [04:23<02:42,  3.06it/s]"
     ]
    },
    {
     "name": "stdout",
     "output_type": "stream",
     "text": [
      "\n",
      "image 1/1 /mnt/SSD/workspace/atomic_hack/Сварные_швы/dataset/8 (80).jpg: 1024x576 5 прилегающие дефектыs, 20.2ms\n",
      "Speed: 3.1ms preprocess, 20.2ms inference, 0.7ms postprocess per image at shape (1, 3, 1024, 576)\n"
     ]
    },
    {
     "name": "stderr",
     "output_type": "stream",
     "text": [
      " 57%|██████████████████████▉                 | 665/1162 [04:23<02:53,  2.87it/s]"
     ]
    },
    {
     "name": "stdout",
     "output_type": "stream",
     "text": [
      "\n",
      "image 1/1 /mnt/SSD/workspace/atomic_hack/Сварные_швы/dataset/7 (8).jpg: 1024x576 19 прилегающие дефектыs, 26.0ms\n",
      "Speed: 3.2ms preprocess, 26.0ms inference, 0.8ms postprocess per image at shape (1, 3, 1024, 576)\n"
     ]
    },
    {
     "name": "stderr",
     "output_type": "stream",
     "text": [
      " 57%|██████████████████████▉                 | 666/1162 [04:24<05:17,  1.56it/s]"
     ]
    },
    {
     "name": "stdout",
     "output_type": "stream",
     "text": [
      "\n",
      "image 1/1 /mnt/SSD/workspace/atomic_hack/Сварные_швы/dataset/7 (97).jpg: 1024x576 10 прилегающие дефектыs, 20.3ms\n",
      "Speed: 2.9ms preprocess, 20.3ms inference, 0.7ms postprocess per image at shape (1, 3, 1024, 576)\n"
     ]
    },
    {
     "name": "stderr",
     "output_type": "stream",
     "text": [
      " 57%|██████████████████████▉                 | 667/1162 [04:25<05:24,  1.52it/s]"
     ]
    },
    {
     "name": "stdout",
     "output_type": "stream",
     "text": [
      "\n",
      "image 1/1 /mnt/SSD/workspace/atomic_hack/Сварные_швы/dataset/5 (81).jpg: 576x1024 6 прилегающие дефектыs, 21.4ms\n",
      "Speed: 2.9ms preprocess, 21.4ms inference, 0.7ms postprocess per image at shape (1, 3, 576, 1024)\n"
     ]
    },
    {
     "name": "stderr",
     "output_type": "stream",
     "text": [
      " 57%|██████████████████████▉                 | 668/1162 [04:26<04:54,  1.67it/s]"
     ]
    },
    {
     "name": "stdout",
     "output_type": "stream",
     "text": [
      "\n",
      "image 1/1 /mnt/SSD/workspace/atomic_hack/Сварные_швы/dataset/5 (152).jpg: 576x1024 4 прилегающие дефектыs, 21.2ms\n",
      "Speed: 2.8ms preprocess, 21.2ms inference, 1.0ms postprocess per image at shape (1, 3, 576, 1024)\n"
     ]
    },
    {
     "name": "stderr",
     "output_type": "stream",
     "text": [
      " 58%|███████████████████████                 | 669/1162 [04:26<04:30,  1.82it/s]"
     ]
    },
    {
     "name": "stdout",
     "output_type": "stream",
     "text": [
      "\n",
      "image 1/1 /mnt/SSD/workspace/atomic_hack/Сварные_швы/dataset/8 (73).jpg: 1024x576 4 прилегающие дефектыs, 24.2ms\n",
      "Speed: 3.4ms preprocess, 24.2ms inference, 1.9ms postprocess per image at shape (1, 3, 1024, 576)\n"
     ]
    },
    {
     "name": "stderr",
     "output_type": "stream",
     "text": [
      " 58%|███████████████████████                 | 670/1162 [04:26<03:59,  2.05it/s]"
     ]
    },
    {
     "name": "stdout",
     "output_type": "stream",
     "text": [
      "\n",
      "image 1/1 /mnt/SSD/workspace/atomic_hack/Сварные_швы/dataset/8 (66).jpg: 1024x576 3 прилегающие дефектыs, 22.6ms\n",
      "Speed: 3.0ms preprocess, 22.6ms inference, 0.8ms postprocess per image at shape (1, 3, 1024, 576)\n"
     ]
    },
    {
     "name": "stderr",
     "output_type": "stream",
     "text": [
      " 58%|███████████████████████                 | 671/1162 [04:27<03:34,  2.29it/s]"
     ]
    },
    {
     "name": "stdout",
     "output_type": "stream",
     "text": [
      "\n",
      "image 1/1 /mnt/SSD/workspace/atomic_hack/Сварные_швы/dataset/6 (76).jpg: 1024x576 2 прилегающие дефектыs, 20.4ms\n",
      "Speed: 3.1ms preprocess, 20.4ms inference, 0.8ms postprocess per image at shape (1, 3, 1024, 576)\n"
     ]
    },
    {
     "name": "stderr",
     "output_type": "stream",
     "text": [
      " 58%|███████████████████████▏                | 672/1162 [04:27<02:58,  2.74it/s]"
     ]
    },
    {
     "name": "stdout",
     "output_type": "stream",
     "text": [
      "\n",
      "image 1/1 /mnt/SSD/workspace/atomic_hack/Сварные_швы/dataset/7 (220).jpg: 1024x576 8 прилегающие дефектыs, 20.6ms\n",
      "Speed: 3.1ms preprocess, 20.6ms inference, 0.8ms postprocess per image at shape (1, 3, 1024, 576)\n"
     ]
    },
    {
     "name": "stderr",
     "output_type": "stream",
     "text": [
      " 58%|███████████████████████▏                | 673/1162 [04:27<03:28,  2.34it/s]"
     ]
    },
    {
     "name": "stdout",
     "output_type": "stream",
     "text": [
      "\n",
      "image 1/1 /mnt/SSD/workspace/atomic_hack/Сварные_швы/dataset/6 (11).jpg: 1024x576 3 прилегающие дефектыs, 20.3ms\n",
      "Speed: 3.1ms preprocess, 20.3ms inference, 0.8ms postprocess per image at shape (1, 3, 1024, 576)\n"
     ]
    },
    {
     "name": "stderr",
     "output_type": "stream",
     "text": [
      " 58%|███████████████████████▏                | 674/1162 [04:28<03:14,  2.51it/s]"
     ]
    },
    {
     "name": "stdout",
     "output_type": "stream",
     "text": [
      "\n",
      "image 1/1 /mnt/SSD/workspace/atomic_hack/Сварные_швы/dataset/6 (4).jpg: 1024x576 1 прилегающие дефекты, 26.2ms\n",
      "Speed: 3.2ms preprocess, 26.2ms inference, 0.8ms postprocess per image at shape (1, 3, 1024, 576)\n"
     ]
    },
    {
     "name": "stderr",
     "output_type": "stream",
     "text": [
      " 58%|███████████████████████▏                | 675/1162 [04:28<02:38,  3.06it/s]"
     ]
    },
    {
     "name": "stdout",
     "output_type": "stream",
     "text": [
      "\n",
      "image 1/1 /mnt/SSD/workspace/atomic_hack/Сварные_швы/dataset/12 (36).jpg: 1024x576 1 прилегающие дефекты, 24.7ms\n",
      "Speed: 3.5ms preprocess, 24.7ms inference, 0.8ms postprocess per image at shape (1, 3, 1024, 576)\n"
     ]
    },
    {
     "name": "stderr",
     "output_type": "stream",
     "text": [
      " 58%|███████████████████████▎                | 676/1162 [04:28<02:11,  3.69it/s]"
     ]
    },
    {
     "name": "stdout",
     "output_type": "stream",
     "text": [
      "\n",
      "image 1/1 /mnt/SSD/workspace/atomic_hack/Сварные_швы/dataset/11 (69).jpg: 1024x576 1 прилегающие дефекты, 20.1ms\n",
      "Speed: 3.1ms preprocess, 20.1ms inference, 0.8ms postprocess per image at shape (1, 3, 1024, 576)\n"
     ]
    },
    {
     "name": "stderr",
     "output_type": "stream",
     "text": [
      " 58%|███████████████████████▎                | 677/1162 [04:28<01:50,  4.39it/s]"
     ]
    },
    {
     "name": "stdout",
     "output_type": "stream",
     "text": [
      "\n",
      "image 1/1 /mnt/SSD/workspace/atomic_hack/Сварные_швы/dataset/6 (18).jpg: 1024x576 2 прилегающие дефектыs, 20.1ms\n",
      "Speed: 3.4ms preprocess, 20.1ms inference, 0.8ms postprocess per image at shape (1, 3, 1024, 576)\n"
     ]
    },
    {
     "name": "stderr",
     "output_type": "stream",
     "text": [
      " 58%|███████████████████████▎                | 678/1162 [04:28<01:45,  4.58it/s]"
     ]
    },
    {
     "name": "stdout",
     "output_type": "stream",
     "text": [
      "\n",
      "image 1/1 /mnt/SSD/workspace/atomic_hack/Сварные_швы/dataset/8 (60).jpg: 1024x576 2 прилегающие дефектыs, 20.3ms\n",
      "Speed: 3.2ms preprocess, 20.3ms inference, 0.8ms postprocess per image at shape (1, 3, 1024, 576)\n"
     ]
    },
    {
     "name": "stderr",
     "output_type": "stream",
     "text": [
      " 58%|███████████████████████▎                | 679/1162 [04:29<01:42,  4.73it/s]"
     ]
    },
    {
     "name": "stdout",
     "output_type": "stream",
     "text": [
      "\n",
      "image 1/1 /mnt/SSD/workspace/atomic_hack/Сварные_швы/dataset/7 (63).jpg: 1024x576 6 прилегающие дефектыs, 20.2ms\n",
      "Speed: 3.1ms preprocess, 20.2ms inference, 0.7ms postprocess per image at shape (1, 3, 1024, 576)\n"
     ]
    },
    {
     "name": "stderr",
     "output_type": "stream",
     "text": [
      " 59%|███████████████████████▍                | 680/1162 [04:29<02:15,  3.55it/s]"
     ]
    },
    {
     "name": "stdout",
     "output_type": "stream",
     "text": [
      "\n",
      "image 1/1 /mnt/SSD/workspace/atomic_hack/Сварные_швы/dataset/11 (49).jpg: 1024x576 2 прилегающие дефектыs, 20.4ms\n",
      "Speed: 3.2ms preprocess, 20.4ms inference, 1.1ms postprocess per image at shape (1, 3, 1024, 576)\n"
     ]
    },
    {
     "name": "stderr",
     "output_type": "stream",
     "text": [
      " 59%|███████████████████████▍                | 681/1162 [04:29<02:02,  3.91it/s]"
     ]
    },
    {
     "name": "stdout",
     "output_type": "stream",
     "text": [
      "\n",
      "image 1/1 /mnt/SSD/workspace/atomic_hack/Сварные_швы/dataset/9 (30).jpg: 1024x576 1 прилегающие дефекты, 20.4ms\n",
      "Speed: 3.2ms preprocess, 20.4ms inference, 0.8ms postprocess per image at shape (1, 3, 1024, 576)\n"
     ]
    },
    {
     "name": "stderr",
     "output_type": "stream",
     "text": [
      " 59%|███████████████████████▍                | 682/1162 [04:29<01:45,  4.53it/s]"
     ]
    },
    {
     "name": "stdout",
     "output_type": "stream",
     "text": [
      "\n",
      "image 1/1 /mnt/SSD/workspace/atomic_hack/Сварные_швы/dataset/8 (112).jpg: 1024x576 1 прилегающие дефекты, 20.4ms\n",
      "Speed: 3.1ms preprocess, 20.4ms inference, 0.8ms postprocess per image at shape (1, 3, 1024, 576)\n"
     ]
    },
    {
     "name": "stderr",
     "output_type": "stream",
     "text": [
      " 59%|███████████████████████▌                | 683/1162 [04:29<01:31,  5.22it/s]"
     ]
    },
    {
     "name": "stdout",
     "output_type": "stream",
     "text": [
      "\n",
      "image 1/1 /mnt/SSD/workspace/atomic_hack/Сварные_швы/dataset/8 (61).jpg: 1024x576 3 прилегающие дефектыs, 19.1ms\n",
      "Speed: 3.3ms preprocess, 19.1ms inference, 0.8ms postprocess per image at shape (1, 3, 1024, 576)\n"
     ]
    },
    {
     "name": "stderr",
     "output_type": "stream",
     "text": [
      " 59%|███████████████████████▌                | 684/1162 [04:30<01:41,  4.71it/s]"
     ]
    },
    {
     "name": "stdout",
     "output_type": "stream",
     "text": [
      "\n",
      "image 1/1 /mnt/SSD/workspace/atomic_hack/Сварные_швы/dataset/1 (12).jpg: 576x1024 10 прилегающие дефектыs, 22.0ms\n",
      "Speed: 2.6ms preprocess, 22.0ms inference, 0.8ms postprocess per image at shape (1, 3, 576, 1024)\n"
     ]
    },
    {
     "name": "stderr",
     "output_type": "stream",
     "text": [
      " 59%|███████████████████████▌                | 685/1162 [04:30<02:51,  2.78it/s]"
     ]
    },
    {
     "name": "stdout",
     "output_type": "stream",
     "text": [
      "\n",
      "image 1/1 /mnt/SSD/workspace/atomic_hack/Сварные_швы/dataset/11 (35).jpg: 1024x576 1 прилегающие дефекты, 20.3ms\n",
      "Speed: 3.2ms preprocess, 20.3ms inference, 0.7ms postprocess per image at shape (1, 3, 1024, 576)\n"
     ]
    },
    {
     "name": "stderr",
     "output_type": "stream",
     "text": [
      " 59%|███████████████████████▌                | 686/1162 [04:31<02:18,  3.45it/s]"
     ]
    },
    {
     "name": "stdout",
     "output_type": "stream",
     "text": [
      "\n",
      "image 1/1 /mnt/SSD/workspace/atomic_hack/Сварные_швы/dataset/3 (32).jpg: 576x1024 3 прилегающие дефектыs, 21.4ms\n",
      "Speed: 2.8ms preprocess, 21.4ms inference, 0.7ms postprocess per image at shape (1, 3, 576, 1024)\n"
     ]
    },
    {
     "name": "stderr",
     "output_type": "stream",
     "text": [
      " 59%|███████████████████████▋                | 687/1162 [04:31<02:13,  3.55it/s]"
     ]
    },
    {
     "name": "stdout",
     "output_type": "stream",
     "text": [
      "\n",
      "image 1/1 /mnt/SSD/workspace/atomic_hack/Сварные_швы/dataset/4 (104).jpg: 576x1024 10 прилегающие дефектыs, 21.4ms\n",
      "Speed: 2.8ms preprocess, 21.4ms inference, 0.7ms postprocess per image at shape (1, 3, 576, 1024)\n"
     ]
    },
    {
     "name": "stderr",
     "output_type": "stream",
     "text": [
      " 59%|███████████████████████▋                | 688/1162 [04:32<03:30,  2.26it/s]"
     ]
    },
    {
     "name": "stdout",
     "output_type": "stream",
     "text": [
      "\n",
      "image 1/1 /mnt/SSD/workspace/atomic_hack/Сварные_швы/dataset/6 (108).jpg: 1024x576 (no detections), 19.8ms\n",
      "Speed: 3.1ms preprocess, 19.8ms inference, 0.5ms postprocess per image at shape (1, 3, 1024, 576)\n",
      "\n",
      "image 1/1 /mnt/SSD/workspace/atomic_hack/Сварные_швы/dataset/4 (40).jpg: 576x1024 6 прилегающие дефектыs, 21.2ms\n",
      "Speed: 2.9ms preprocess, 21.2ms inference, 0.7ms postprocess per image at shape (1, 3, 576, 1024)\n"
     ]
    },
    {
     "name": "stderr",
     "output_type": "stream",
     "text": [
      " 59%|███████████████████████▊                | 690/1162 [04:32<02:48,  2.80it/s]"
     ]
    },
    {
     "name": "stdout",
     "output_type": "stream",
     "text": [
      "\n",
      "image 1/1 /mnt/SSD/workspace/atomic_hack/Сварные_швы/dataset/9 (19).jpg: 1024x576 6 прилегающие дефектыs, 19.8ms\n",
      "Speed: 3.0ms preprocess, 19.8ms inference, 1.1ms postprocess per image at shape (1, 3, 1024, 576)\n"
     ]
    },
    {
     "name": "stderr",
     "output_type": "stream",
     "text": [
      " 59%|███████████████████████▊                | 691/1162 [04:33<02:58,  2.64it/s]"
     ]
    },
    {
     "name": "stdout",
     "output_type": "stream",
     "text": [
      "\n",
      "image 1/1 /mnt/SSD/workspace/atomic_hack/Сварные_швы/dataset/9 (50).jpg: 1024x576 1 прилегающие дефекты, 19.7ms\n",
      "Speed: 3.2ms preprocess, 19.7ms inference, 1.0ms postprocess per image at shape (1, 3, 1024, 576)\n"
     ]
    },
    {
     "name": "stderr",
     "output_type": "stream",
     "text": [
      " 60%|███████████████████████▊                | 692/1162 [04:33<02:28,  3.17it/s]"
     ]
    },
    {
     "name": "stdout",
     "output_type": "stream",
     "text": [
      "\n",
      "image 1/1 /mnt/SSD/workspace/atomic_hack/Сварные_швы/dataset/7 (10).jpg: 1024x576 15 прилегающие дефектыs, 20.2ms\n",
      "Speed: 3.1ms preprocess, 20.2ms inference, 0.7ms postprocess per image at shape (1, 3, 1024, 576)\n"
     ]
    },
    {
     "name": "stderr",
     "output_type": "stream",
     "text": [
      " 60%|███████████████████████▊                | 693/1162 [04:34<04:12,  1.86it/s]"
     ]
    },
    {
     "name": "stdout",
     "output_type": "stream",
     "text": [
      "\n",
      "image 1/1 /mnt/SSD/workspace/atomic_hack/Сварные_швы/dataset/4 (131).jpg: 576x1024 7 прилегающие дефектыs, 21.4ms\n",
      "Speed: 2.7ms preprocess, 21.4ms inference, 0.7ms postprocess per image at shape (1, 3, 576, 1024)\n"
     ]
    },
    {
     "name": "stderr",
     "output_type": "stream",
     "text": [
      " 60%|███████████████████████▉                | 694/1162 [04:34<04:06,  1.90it/s]"
     ]
    },
    {
     "name": "stdout",
     "output_type": "stream",
     "text": [
      "\n",
      "image 1/1 /mnt/SSD/workspace/atomic_hack/Сварные_швы/dataset/11 (40).jpg: 1024x576 2 прилегающие дефектыs, 20.1ms\n",
      "Speed: 3.1ms preprocess, 20.1ms inference, 0.7ms postprocess per image at shape (1, 3, 1024, 576)\n"
     ]
    },
    {
     "name": "stderr",
     "output_type": "stream",
     "text": [
      " 60%|███████████████████████▉                | 695/1162 [04:35<03:21,  2.32it/s]"
     ]
    },
    {
     "name": "stdout",
     "output_type": "stream",
     "text": [
      "\n",
      "image 1/1 /mnt/SSD/workspace/atomic_hack/Сварные_швы/dataset/7 (195).jpg: 1024x576 1 прилегающие дефекты, 20.1ms\n",
      "Speed: 3.1ms preprocess, 20.1ms inference, 0.7ms postprocess per image at shape (1, 3, 1024, 576)\n"
     ]
    },
    {
     "name": "stderr",
     "output_type": "stream",
     "text": [
      " 60%|███████████████████████▉                | 696/1162 [04:35<02:40,  2.90it/s]"
     ]
    },
    {
     "name": "stdout",
     "output_type": "stream",
     "text": [
      "\n",
      "image 1/1 /mnt/SSD/workspace/atomic_hack/Сварные_швы/dataset/3 (9).jpg: 576x1024 6 прилегающие дефектыs, 21.4ms\n",
      "Speed: 2.8ms preprocess, 21.4ms inference, 0.7ms postprocess per image at shape (1, 3, 576, 1024)\n"
     ]
    },
    {
     "name": "stderr",
     "output_type": "stream",
     "text": [
      " 60%|███████████████████████▉                | 697/1162 [04:35<02:54,  2.67it/s]"
     ]
    },
    {
     "name": "stdout",
     "output_type": "stream",
     "text": [
      "\n",
      "image 1/1 /mnt/SSD/workspace/atomic_hack/Сварные_швы/dataset/7 (231).jpg: 1024x576 3 прилегающие дефектыs, 20.4ms\n",
      "Speed: 3.2ms preprocess, 20.4ms inference, 0.8ms postprocess per image at shape (1, 3, 1024, 576)\n"
     ]
    },
    {
     "name": "stderr",
     "output_type": "stream",
     "text": [
      " 60%|████████████████████████                | 698/1162 [04:35<02:38,  2.93it/s]"
     ]
    },
    {
     "name": "stdout",
     "output_type": "stream",
     "text": [
      "\n",
      "image 1/1 /mnt/SSD/workspace/atomic_hack/Сварные_швы/dataset/5 (57).jpg: 576x1024 6 прилегающие дефектыs, 21.4ms\n",
      "Speed: 2.8ms preprocess, 21.4ms inference, 0.7ms postprocess per image at shape (1, 3, 576, 1024)\n"
     ]
    },
    {
     "name": "stderr",
     "output_type": "stream",
     "text": [
      " 60%|████████████████████████                | 699/1162 [04:36<02:52,  2.69it/s]"
     ]
    },
    {
     "name": "stdout",
     "output_type": "stream",
     "text": [
      "\n",
      "image 1/1 /mnt/SSD/workspace/atomic_hack/Сварные_швы/dataset/5 (23).jpg: 576x1024 7 прилегающие дефектыs, 21.2ms\n",
      "Speed: 2.8ms preprocess, 21.2ms inference, 0.7ms postprocess per image at shape (1, 3, 576, 1024)\n"
     ]
    },
    {
     "name": "stderr",
     "output_type": "stream",
     "text": [
      " 60%|████████████████████████                | 700/1162 [04:36<03:18,  2.33it/s]"
     ]
    },
    {
     "name": "stdout",
     "output_type": "stream",
     "text": [
      "\n",
      "image 1/1 /mnt/SSD/workspace/atomic_hack/Сварные_швы/dataset/4 (33).jpg: 576x1024 7 прилегающие дефектыs, 21.2ms\n",
      "Speed: 2.8ms preprocess, 21.2ms inference, 1.1ms postprocess per image at shape (1, 3, 576, 1024)\n"
     ]
    },
    {
     "name": "stderr",
     "output_type": "stream",
     "text": [
      " 60%|████████████████████████▏               | 701/1162 [04:37<03:27,  2.22it/s]"
     ]
    },
    {
     "name": "stdout",
     "output_type": "stream",
     "text": [
      "\n",
      "image 1/1 /mnt/SSD/workspace/atomic_hack/Сварные_швы/dataset/7 (243).jpg: 1024x576 8 прилегающие дефектыs, 20.3ms\n",
      "Speed: 3.1ms preprocess, 20.3ms inference, 0.7ms postprocess per image at shape (1, 3, 1024, 576)\n"
     ]
    },
    {
     "name": "stderr",
     "output_type": "stream",
     "text": [
      " 60%|████████████████████████▏               | 702/1162 [04:37<03:42,  2.06it/s]"
     ]
    },
    {
     "name": "stdout",
     "output_type": "stream",
     "text": [
      "\n",
      "image 1/1 /mnt/SSD/workspace/atomic_hack/Сварные_швы/dataset/7 (188).jpg: 1024x576 5 прилегающие дефектыs, 19.6ms\n",
      "Speed: 3.1ms preprocess, 19.6ms inference, 0.7ms postprocess per image at shape (1, 3, 1024, 576)\n"
     ]
    },
    {
     "name": "stderr",
     "output_type": "stream",
     "text": [
      " 60%|████████████████████████▏               | 703/1162 [04:38<03:28,  2.20it/s]"
     ]
    },
    {
     "name": "stdout",
     "output_type": "stream",
     "text": [
      "\n",
      "image 1/1 /mnt/SSD/workspace/atomic_hack/Сварные_швы/dataset/7 (212).jpg: 1024x576 3 прилегающие дефектыs, 19.2ms\n",
      "Speed: 3.1ms preprocess, 19.2ms inference, 0.8ms postprocess per image at shape (1, 3, 1024, 576)\n"
     ]
    },
    {
     "name": "stderr",
     "output_type": "stream",
     "text": [
      " 61%|████████████████████████▏               | 704/1162 [04:38<03:06,  2.45it/s]"
     ]
    },
    {
     "name": "stdout",
     "output_type": "stream",
     "text": [
      "\n",
      "image 1/1 /mnt/SSD/workspace/atomic_hack/Сварные_швы/dataset/5 (139).jpg: 576x1024 1 прилегающие дефекты, 27.4ms\n",
      "Speed: 3.0ms preprocess, 27.4ms inference, 0.8ms postprocess per image at shape (1, 3, 576, 1024)\n"
     ]
    },
    {
     "name": "stderr",
     "output_type": "stream",
     "text": [
      " 61%|████████████████████████▎               | 705/1162 [04:38<02:31,  3.01it/s]"
     ]
    },
    {
     "name": "stdout",
     "output_type": "stream",
     "text": [
      "\n",
      "image 1/1 /mnt/SSD/workspace/atomic_hack/Сварные_швы/dataset/2 (12).jpg: 576x1024 9 прилегающие дефектыs, 26.7ms\n",
      "Speed: 3.8ms preprocess, 26.7ms inference, 1.0ms postprocess per image at shape (1, 3, 576, 1024)\n"
     ]
    },
    {
     "name": "stderr",
     "output_type": "stream",
     "text": [
      " 61%|████████████████████████▎               | 706/1162 [04:39<03:19,  2.28it/s]"
     ]
    },
    {
     "name": "stdout",
     "output_type": "stream",
     "text": [
      "\n",
      "image 1/1 /mnt/SSD/workspace/atomic_hack/Сварные_швы/dataset/9 (33).jpg: 1024x576 1 прилегающие дефекты, 26.4ms\n",
      "Speed: 3.2ms preprocess, 26.4ms inference, 0.9ms postprocess per image at shape (1, 3, 1024, 576)\n"
     ]
    },
    {
     "name": "stderr",
     "output_type": "stream",
     "text": [
      " 61%|████████████████████████▎               | 707/1162 [04:39<02:47,  2.71it/s]"
     ]
    },
    {
     "name": "stdout",
     "output_type": "stream",
     "text": [
      "\n",
      "image 1/1 /mnt/SSD/workspace/atomic_hack/Сварные_швы/dataset/6 (77).jpg: 1024x576 3 прилегающие дефектыs, 19.8ms\n",
      "Speed: 3.1ms preprocess, 19.8ms inference, 0.7ms postprocess per image at shape (1, 3, 1024, 576)\n"
     ]
    },
    {
     "name": "stderr",
     "output_type": "stream",
     "text": [
      " 61%|████████████████████████▎               | 708/1162 [04:39<02:32,  2.98it/s]"
     ]
    },
    {
     "name": "stdout",
     "output_type": "stream",
     "text": [
      "\n",
      "image 1/1 /mnt/SSD/workspace/atomic_hack/Сварные_швы/dataset/5 (78).jpg: 576x1024 1 прилегающие дефекты, 21.5ms\n",
      "Speed: 2.8ms preprocess, 21.5ms inference, 0.7ms postprocess per image at shape (1, 3, 576, 1024)\n"
     ]
    },
    {
     "name": "stderr",
     "output_type": "stream",
     "text": [
      " 61%|████████████████████████▍               | 709/1162 [04:40<02:04,  3.65it/s]"
     ]
    },
    {
     "name": "stdout",
     "output_type": "stream",
     "text": [
      "\n",
      "image 1/1 /mnt/SSD/workspace/atomic_hack/Сварные_швы/dataset/12 (15).jpg: 1024x576 7 прилегающие дефектыs, 20.2ms\n",
      "Speed: 3.1ms preprocess, 20.2ms inference, 0.7ms postprocess per image at shape (1, 3, 1024, 576)\n"
     ]
    },
    {
     "name": "stderr",
     "output_type": "stream",
     "text": [
      " 61%|████████████████████████▍               | 710/1162 [04:40<02:33,  2.94it/s]"
     ]
    },
    {
     "name": "stdout",
     "output_type": "stream",
     "text": [
      "\n",
      "image 1/1 /mnt/SSD/workspace/atomic_hack/Сварные_швы/dataset/7 (226).jpg: 1024x576 7 прилегающие дефектыs, 19.9ms\n",
      "Speed: 3.2ms preprocess, 19.9ms inference, 0.8ms postprocess per image at shape (1, 3, 1024, 576)\n"
     ]
    },
    {
     "name": "stderr",
     "output_type": "stream",
     "text": [
      " 61%|████████████████████████▍               | 711/1162 [04:41<02:55,  2.57it/s]"
     ]
    },
    {
     "name": "stdout",
     "output_type": "stream",
     "text": [
      "\n",
      "image 1/1 /mnt/SSD/workspace/atomic_hack/Сварные_швы/dataset/9 (11).jpg: 1024x576 3 прилегающие дефектыs, 22.0ms\n",
      "Speed: 3.2ms preprocess, 22.0ms inference, 1.0ms postprocess per image at shape (1, 3, 1024, 576)\n"
     ]
    },
    {
     "name": "stderr",
     "output_type": "stream",
     "text": [
      " 61%|████████████████████████▌               | 712/1162 [04:41<02:42,  2.77it/s]"
     ]
    },
    {
     "name": "stdout",
     "output_type": "stream",
     "text": [
      "\n",
      "image 1/1 /mnt/SSD/workspace/atomic_hack/Сварные_швы/dataset/5 (192).jpg: 576x1024 9 прилегающие дефектыs, 31.2ms\n",
      "Speed: 2.9ms preprocess, 31.2ms inference, 0.8ms postprocess per image at shape (1, 3, 576, 1024)\n"
     ]
    },
    {
     "name": "stderr",
     "output_type": "stream",
     "text": [
      " 61%|████████████████████████▌               | 713/1162 [04:42<03:37,  2.06it/s]"
     ]
    },
    {
     "name": "stdout",
     "output_type": "stream",
     "text": [
      "\n",
      "image 1/1 /mnt/SSD/workspace/atomic_hack/Сварные_швы/dataset/3 (23).jpg: 576x1024 (no detections), 27.4ms\n",
      "Speed: 3.2ms preprocess, 27.4ms inference, 0.3ms postprocess per image at shape (1, 3, 576, 1024)\n",
      "\n",
      "image 1/1 /mnt/SSD/workspace/atomic_hack/Сварные_швы/dataset/9 (12).jpg: 1024x576 5 прилегающие дефектыs, 27.3ms\n",
      "Speed: 3.8ms preprocess, 27.3ms inference, 0.8ms postprocess per image at shape (1, 3, 1024, 576)\n"
     ]
    },
    {
     "name": "stderr",
     "output_type": "stream",
     "text": [
      " 62%|████████████████████████▌               | 715/1162 [04:42<02:50,  2.62it/s]"
     ]
    },
    {
     "name": "stdout",
     "output_type": "stream",
     "text": [
      "\n",
      "image 1/1 /mnt/SSD/workspace/atomic_hack/Сварные_швы/dataset/12 (8).jpg: 1024x576 1 прилегающие дефекты, 19.8ms\n",
      "Speed: 3.1ms preprocess, 19.8ms inference, 0.7ms postprocess per image at shape (1, 3, 1024, 576)\n"
     ]
    },
    {
     "name": "stderr",
     "output_type": "stream",
     "text": [
      " 62%|████████████████████████▋               | 716/1162 [04:42<02:22,  3.14it/s]"
     ]
    },
    {
     "name": "stdout",
     "output_type": "stream",
     "text": [
      "\n",
      "image 1/1 /mnt/SSD/workspace/atomic_hack/Сварные_швы/dataset/12 (48).jpg: 1024x576 3 прилегающие дефектыs, 20.4ms\n",
      "Speed: 3.1ms preprocess, 20.4ms inference, 0.7ms postprocess per image at shape (1, 3, 1024, 576)\n"
     ]
    },
    {
     "name": "stderr",
     "output_type": "stream",
     "text": [
      " 62%|████████████████████████▋               | 717/1162 [04:43<02:15,  3.27it/s]"
     ]
    },
    {
     "name": "stdout",
     "output_type": "stream",
     "text": [
      "\n",
      "image 1/1 /mnt/SSD/workspace/atomic_hack/Сварные_швы/dataset/7 (18).jpg: 1024x576 21 прилегающие дефектыs, 21.8ms\n",
      "Speed: 3.1ms preprocess, 21.8ms inference, 1.6ms postprocess per image at shape (1, 3, 1024, 576)\n"
     ]
    },
    {
     "name": "stderr",
     "output_type": "stream",
     "text": [
      " 62%|████████████████████████▋               | 718/1162 [04:44<04:36,  1.61it/s]"
     ]
    },
    {
     "name": "stdout",
     "output_type": "stream",
     "text": [
      "\n",
      "image 1/1 /mnt/SSD/workspace/atomic_hack/Сварные_швы/dataset/7 (239).jpg: 1024x576 13 прилегающие дефектыs, 20.3ms\n",
      "Speed: 3.0ms preprocess, 20.3ms inference, 0.8ms postprocess per image at shape (1, 3, 1024, 576)\n"
     ]
    },
    {
     "name": "stderr",
     "output_type": "stream",
     "text": [
      " 62%|████████████████████████▊               | 719/1162 [04:45<05:12,  1.42it/s]"
     ]
    },
    {
     "name": "stdout",
     "output_type": "stream",
     "text": [
      "\n",
      "image 1/1 /mnt/SSD/workspace/atomic_hack/Сварные_швы/dataset/8 (32).jpg: 1024x576 2 прилегающие дефектыs, 20.6ms\n",
      "Speed: 2.9ms preprocess, 20.6ms inference, 0.8ms postprocess per image at shape (1, 3, 1024, 576)\n"
     ]
    },
    {
     "name": "stderr",
     "output_type": "stream",
     "text": [
      " 62%|████████████████████████▊               | 720/1162 [04:45<04:07,  1.79it/s]"
     ]
    },
    {
     "name": "stdout",
     "output_type": "stream",
     "text": [
      "\n",
      "image 1/1 /mnt/SSD/workspace/atomic_hack/Сварные_швы/dataset/3 (28).jpg: 576x1024 4 прилегающие дефектыs, 26.8ms\n",
      "Speed: 3.0ms preprocess, 26.8ms inference, 1.4ms postprocess per image at shape (1, 3, 576, 1024)\n"
     ]
    },
    {
     "name": "stderr",
     "output_type": "stream",
     "text": [
      " 62%|████████████████████████▊               | 721/1162 [04:45<03:38,  2.02it/s]"
     ]
    },
    {
     "name": "stdout",
     "output_type": "stream",
     "text": [
      "\n",
      "image 1/1 /mnt/SSD/workspace/atomic_hack/Сварные_швы/dataset/4 (3).jpg: 576x1024 3 прилегающие дефектыs, 21.5ms\n",
      "Speed: 2.9ms preprocess, 21.5ms inference, 0.7ms postprocess per image at shape (1, 3, 576, 1024)\n"
     ]
    },
    {
     "name": "stderr",
     "output_type": "stream",
     "text": [
      " 62%|████████████████████████▊               | 722/1162 [04:46<03:07,  2.34it/s]"
     ]
    },
    {
     "name": "stdout",
     "output_type": "stream",
     "text": [
      "\n",
      "image 1/1 /mnt/SSD/workspace/atomic_hack/Сварные_швы/dataset/5 (101).jpg: 576x1024 (no detections), 21.5ms\n",
      "Speed: 2.9ms preprocess, 21.5ms inference, 1.0ms postprocess per image at shape (1, 3, 576, 1024)\n",
      "\n",
      "image 1/1 /mnt/SSD/workspace/atomic_hack/Сварные_швы/dataset/8 (97).jpg: 1024x576 2 прилегающие дефектыs, 25.9ms\n",
      "Speed: 3.3ms preprocess, 25.9ms inference, 1.0ms postprocess per image at shape (1, 3, 1024, 576)\n"
     ]
    },
    {
     "name": "stderr",
     "output_type": "stream",
     "text": [
      " 62%|████████████████████████▉               | 724/1162 [04:46<02:10,  3.36it/s]"
     ]
    },
    {
     "name": "stdout",
     "output_type": "stream",
     "text": [
      "\n",
      "image 1/1 /mnt/SSD/workspace/atomic_hack/Сварные_швы/dataset/6 (52).jpg: 1024x576 2 прилегающие дефектыs, 20.5ms\n",
      "Speed: 3.4ms preprocess, 20.5ms inference, 0.8ms postprocess per image at shape (1, 3, 1024, 576)\n"
     ]
    },
    {
     "name": "stderr",
     "output_type": "stream",
     "text": [
      " 62%|████████████████████████▉               | 725/1162 [04:46<01:59,  3.67it/s]"
     ]
    },
    {
     "name": "stdout",
     "output_type": "stream",
     "text": [
      "\n",
      "image 1/1 /mnt/SSD/workspace/atomic_hack/Сварные_швы/dataset/7 (23).jpg: 1024x576 23 прилегающие дефектыs, 19.7ms\n",
      "Speed: 4.3ms preprocess, 19.7ms inference, 0.8ms postprocess per image at shape (1, 3, 1024, 576)\n"
     ]
    },
    {
     "name": "stderr",
     "output_type": "stream",
     "text": [
      " 62%|████████████████████████▉               | 726/1162 [04:48<04:56,  1.47it/s]"
     ]
    },
    {
     "name": "stdout",
     "output_type": "stream",
     "text": [
      "\n",
      "image 1/1 /mnt/SSD/workspace/atomic_hack/Сварные_швы/dataset/5 (168).jpg: 576x1024 4 прилегающие дефектыs, 20.4ms\n",
      "Speed: 2.9ms preprocess, 20.4ms inference, 0.8ms postprocess per image at shape (1, 3, 576, 1024)\n"
     ]
    },
    {
     "name": "stderr",
     "output_type": "stream",
     "text": [
      " 63%|█████████████████████████               | 727/1162 [04:48<04:14,  1.71it/s]"
     ]
    },
    {
     "name": "stdout",
     "output_type": "stream",
     "text": [
      "\n",
      "image 1/1 /mnt/SSD/workspace/atomic_hack/Сварные_швы/dataset/12 (37).jpg: 1024x576 1 прилегающие дефекты, 22.1ms\n",
      "Speed: 3.0ms preprocess, 22.1ms inference, 0.9ms postprocess per image at shape (1, 3, 1024, 576)\n"
     ]
    },
    {
     "name": "stderr",
     "output_type": "stream",
     "text": [
      " 63%|█████████████████████████               | 728/1162 [04:49<03:20,  2.17it/s]"
     ]
    },
    {
     "name": "stdout",
     "output_type": "stream",
     "text": [
      "\n",
      "image 1/1 /mnt/SSD/workspace/atomic_hack/Сварные_швы/dataset/5 (118).jpg: 576x1024 3 прилегающие дефектыs, 27.1ms\n",
      "Speed: 3.0ms preprocess, 27.1ms inference, 0.8ms postprocess per image at shape (1, 3, 576, 1024)\n"
     ]
    },
    {
     "name": "stderr",
     "output_type": "stream",
     "text": [
      " 63%|█████████████████████████               | 729/1162 [04:49<03:08,  2.30it/s]"
     ]
    },
    {
     "name": "stdout",
     "output_type": "stream",
     "text": [
      "\n",
      "image 1/1 /mnt/SSD/workspace/atomic_hack/Сварные_швы/dataset/7 (61).jpg: 1024x576 5 прилегающие дефектыs, 20.3ms\n",
      "Speed: 2.7ms preprocess, 20.3ms inference, 0.8ms postprocess per image at shape (1, 3, 1024, 576)\n"
     ]
    },
    {
     "name": "stderr",
     "output_type": "stream",
     "text": [
      " 63%|█████████████████████████▏              | 730/1162 [04:49<03:03,  2.36it/s]"
     ]
    },
    {
     "name": "stdout",
     "output_type": "stream",
     "text": [
      "\n",
      "image 1/1 /mnt/SSD/workspace/atomic_hack/Сварные_швы/dataset/5 (154).jpg: 576x1024 3 прилегающие дефектыs, 21.8ms\n",
      "Speed: 3.0ms preprocess, 21.8ms inference, 0.8ms postprocess per image at shape (1, 3, 576, 1024)\n"
     ]
    },
    {
     "name": "stderr",
     "output_type": "stream",
     "text": [
      " 63%|█████████████████████████▏              | 731/1162 [04:50<02:42,  2.65it/s]"
     ]
    },
    {
     "name": "stdout",
     "output_type": "stream",
     "text": [
      "\n",
      "image 1/1 /mnt/SSD/workspace/atomic_hack/Сварные_швы/dataset/4 (42).jpg: 576x1024 5 прилегающие дефектыs, 21.4ms\n",
      "Speed: 2.8ms preprocess, 21.4ms inference, 0.7ms postprocess per image at shape (1, 3, 576, 1024)\n"
     ]
    },
    {
     "name": "stderr",
     "output_type": "stream",
     "text": [
      " 63%|█████████████████████████▏              | 732/1162 [04:50<02:43,  2.62it/s]"
     ]
    },
    {
     "name": "stdout",
     "output_type": "stream",
     "text": [
      "\n",
      "image 1/1 /mnt/SSD/workspace/atomic_hack/Сварные_швы/dataset/5 (209).jpg: 576x1024 8 прилегающие дефектыs, 21.4ms\n",
      "Speed: 2.7ms preprocess, 21.4ms inference, 0.8ms postprocess per image at shape (1, 3, 576, 1024)\n"
     ]
    },
    {
     "name": "stderr",
     "output_type": "stream",
     "text": [
      " 63%|█████████████████████████▏              | 733/1162 [04:51<03:23,  2.10it/s]"
     ]
    },
    {
     "name": "stdout",
     "output_type": "stream",
     "text": [
      "\n",
      "image 1/1 /mnt/SSD/workspace/atomic_hack/Сварные_швы/dataset/6 (23).jpg: 1024x576 1 прилегающие дефекты, 19.8ms\n",
      "Speed: 2.9ms preprocess, 19.8ms inference, 1.0ms postprocess per image at shape (1, 3, 1024, 576)\n"
     ]
    },
    {
     "name": "stderr",
     "output_type": "stream",
     "text": [
      " 63%|█████████████████████████▎              | 734/1162 [04:51<02:40,  2.67it/s]"
     ]
    },
    {
     "name": "stdout",
     "output_type": "stream",
     "text": [
      "\n",
      "image 1/1 /mnt/SSD/workspace/atomic_hack/Сварные_швы/dataset/7 (11).jpg: 1024x576 17 прилегающие дефектыs, 20.9ms\n",
      "Speed: 3.0ms preprocess, 20.9ms inference, 0.8ms postprocess per image at shape (1, 3, 1024, 576)\n"
     ]
    },
    {
     "name": "stderr",
     "output_type": "stream",
     "text": [
      " 63%|█████████████████████████▎              | 735/1162 [04:52<04:17,  1.66it/s]"
     ]
    },
    {
     "name": "stdout",
     "output_type": "stream",
     "text": [
      "\n",
      "image 1/1 /mnt/SSD/workspace/atomic_hack/Сварные_швы/dataset/7 (131).jpg: 1024x576 7 прилегающие дефектыs, 20.5ms\n",
      "Speed: 3.1ms preprocess, 20.5ms inference, 0.7ms postprocess per image at shape (1, 3, 1024, 576)\n"
     ]
    },
    {
     "name": "stderr",
     "output_type": "stream",
     "text": [
      " 63%|█████████████████████████▎              | 736/1162 [04:52<04:07,  1.72it/s]"
     ]
    },
    {
     "name": "stdout",
     "output_type": "stream",
     "text": [
      "\n",
      "image 1/1 /mnt/SSD/workspace/atomic_hack/Сварные_швы/dataset/4 (111).jpg: 576x1024 7 прилегающие дефектыs, 21.7ms\n",
      "Speed: 2.8ms preprocess, 21.7ms inference, 0.8ms postprocess per image at shape (1, 3, 576, 1024)\n"
     ]
    },
    {
     "name": "stderr",
     "output_type": "stream",
     "text": [
      " 63%|█████████████████████████▎              | 737/1162 [04:53<04:06,  1.72it/s]"
     ]
    },
    {
     "name": "stdout",
     "output_type": "stream",
     "text": [
      "\n",
      "image 1/1 /mnt/SSD/workspace/atomic_hack/Сварные_швы/dataset/5 (70).jpg: 576x1024 1 прилегающие дефекты, 23.8ms\n",
      "Speed: 2.7ms preprocess, 23.8ms inference, 0.7ms postprocess per image at shape (1, 3, 576, 1024)\n"
     ]
    },
    {
     "name": "stderr",
     "output_type": "stream",
     "text": [
      " 64%|█████████████████████████▍              | 738/1162 [04:53<03:09,  2.23it/s]"
     ]
    },
    {
     "name": "stdout",
     "output_type": "stream",
     "text": [
      "\n",
      "image 1/1 /mnt/SSD/workspace/atomic_hack/Сварные_швы/dataset/3 (34).jpg: 576x1024 2 прилегающие дефектыs, 21.8ms\n",
      "Speed: 2.8ms preprocess, 21.8ms inference, 0.8ms postprocess per image at shape (1, 3, 576, 1024)\n"
     ]
    },
    {
     "name": "stderr",
     "output_type": "stream",
     "text": [
      " 64%|█████████████████████████▍              | 739/1162 [04:53<02:38,  2.67it/s]"
     ]
    },
    {
     "name": "stdout",
     "output_type": "stream",
     "text": [
      "\n",
      "image 1/1 /mnt/SSD/workspace/atomic_hack/Сварные_швы/dataset/5 (43).jpg: 576x1024 1 прилегающие дефекты, 22.9ms\n",
      "Speed: 2.9ms preprocess, 22.9ms inference, 1.0ms postprocess per image at shape (1, 3, 576, 1024)\n"
     ]
    },
    {
     "name": "stderr",
     "output_type": "stream",
     "text": [
      " 64%|█████████████████████████▍              | 740/1162 [04:54<02:10,  3.24it/s]"
     ]
    },
    {
     "name": "stdout",
     "output_type": "stream",
     "text": [
      "\n",
      "image 1/1 /mnt/SSD/workspace/atomic_hack/Сварные_швы/dataset/4 (105).jpg: 576x1024 9 прилегающие дефектыs, 21.5ms\n",
      "Speed: 2.9ms preprocess, 21.5ms inference, 0.7ms postprocess per image at shape (1, 3, 576, 1024)\n"
     ]
    },
    {
     "name": "stderr",
     "output_type": "stream",
     "text": [
      " 64%|█████████████████████████▌              | 741/1162 [04:54<02:52,  2.45it/s]"
     ]
    },
    {
     "name": "stdout",
     "output_type": "stream",
     "text": [
      "\n",
      "image 1/1 /mnt/SSD/workspace/atomic_hack/Сварные_швы/dataset/8 (74).jpg: 1024x576 5 прилегающие дефектыs, 20.4ms\n",
      "Speed: 2.9ms preprocess, 20.4ms inference, 0.7ms postprocess per image at shape (1, 3, 1024, 576)\n"
     ]
    },
    {
     "name": "stderr",
     "output_type": "stream",
     "text": [
      " 64%|█████████████████████████▌              | 742/1162 [04:55<02:50,  2.47it/s]"
     ]
    },
    {
     "name": "stdout",
     "output_type": "stream",
     "text": [
      "\n",
      "image 1/1 /mnt/SSD/workspace/atomic_hack/Сварные_швы/dataset/8 (72).jpg: 1024x576 4 прилегающие дефектыs, 20.3ms\n",
      "Speed: 3.0ms preprocess, 20.3ms inference, 1.1ms postprocess per image at shape (1, 3, 1024, 576)\n"
     ]
    },
    {
     "name": "stderr",
     "output_type": "stream",
     "text": [
      " 64%|█████████████████████████▌              | 743/1162 [04:55<02:42,  2.58it/s]"
     ]
    },
    {
     "name": "stdout",
     "output_type": "stream",
     "text": [
      "\n",
      "image 1/1 /mnt/SSD/workspace/atomic_hack/Сварные_швы/dataset/7 (181).jpg: 1024x576 4 прилегающие дефектыs, 21.0ms\n",
      "Speed: 2.8ms preprocess, 21.0ms inference, 0.8ms postprocess per image at shape (1, 3, 1024, 576)\n"
     ]
    },
    {
     "name": "stderr",
     "output_type": "stream",
     "text": [
      " 64%|█████████████████████████▌              | 744/1162 [04:55<02:34,  2.70it/s]"
     ]
    },
    {
     "name": "stdout",
     "output_type": "stream",
     "text": [
      "\n",
      "image 1/1 /mnt/SSD/workspace/atomic_hack/Сварные_швы/dataset/5 (123).jpg: 576x1024 3 прилегающие дефектыs, 20.3ms\n",
      "Speed: 2.8ms preprocess, 20.3ms inference, 0.7ms postprocess per image at shape (1, 3, 576, 1024)\n"
     ]
    },
    {
     "name": "stderr",
     "output_type": "stream",
     "text": [
      " 64%|█████████████████████████▋              | 745/1162 [04:56<02:21,  2.94it/s]"
     ]
    },
    {
     "name": "stdout",
     "output_type": "stream",
     "text": [
      "\n",
      "image 1/1 /mnt/SSD/workspace/atomic_hack/Сварные_швы/dataset/5 (35).jpg: 576x1024 11 прилегающие дефектыs, 21.4ms\n",
      "Speed: 2.7ms preprocess, 21.4ms inference, 0.8ms postprocess per image at shape (1, 3, 576, 1024)\n"
     ]
    },
    {
     "name": "stderr",
     "output_type": "stream",
     "text": [
      " 64%|█████████████████████████▋              | 746/1162 [04:56<03:29,  1.99it/s]"
     ]
    },
    {
     "name": "stdout",
     "output_type": "stream",
     "text": [
      "\n",
      "image 1/1 /mnt/SSD/workspace/atomic_hack/Сварные_швы/dataset/7 (161).jpg: 1024x576 6 прилегающие дефектыs, 20.8ms\n",
      "Speed: 3.1ms preprocess, 20.8ms inference, 0.8ms postprocess per image at shape (1, 3, 1024, 576)\n"
     ]
    },
    {
     "name": "stderr",
     "output_type": "stream",
     "text": [
      " 64%|█████████████████████████▋              | 747/1162 [04:57<03:23,  2.04it/s]"
     ]
    },
    {
     "name": "stdout",
     "output_type": "stream",
     "text": [
      "\n",
      "image 1/1 /mnt/SSD/workspace/atomic_hack/Сварные_швы/dataset/12 (49).jpg: 1024x576 (no detections), 24.6ms\n",
      "Speed: 2.9ms preprocess, 24.6ms inference, 0.3ms postprocess per image at shape (1, 3, 1024, 576)\n",
      "\n",
      "image 1/1 /mnt/SSD/workspace/atomic_hack/Сварные_швы/dataset/9 (10).jpg: 1024x576 3 прилегающие дефектыs, 20.5ms\n",
      "Speed: 3.1ms preprocess, 20.5ms inference, 0.9ms postprocess per image at shape (1, 3, 1024, 576)\n"
     ]
    },
    {
     "name": "stderr",
     "output_type": "stream",
     "text": [
      " 64%|█████████████████████████▊              | 749/1162 [04:57<02:20,  2.93it/s]"
     ]
    },
    {
     "name": "stdout",
     "output_type": "stream",
     "text": [
      "\n",
      "image 1/1 /mnt/SSD/workspace/atomic_hack/Сварные_швы/dataset/11 (47).jpg: 1024x576 3 прилегающие дефектыs, 19.6ms\n",
      "Speed: 2.9ms preprocess, 19.6ms inference, 0.7ms postprocess per image at shape (1, 3, 1024, 576)\n"
     ]
    },
    {
     "name": "stderr",
     "output_type": "stream",
     "text": [
      " 65%|█████████████████████████▊              | 750/1162 [04:57<02:12,  3.10it/s]"
     ]
    },
    {
     "name": "stdout",
     "output_type": "stream",
     "text": [
      "\n",
      "image 1/1 /mnt/SSD/workspace/atomic_hack/Сварные_швы/dataset/8 (51).jpg: 1024x576 3 прилегающие дефектыs, 20.3ms\n",
      "Speed: 3.0ms preprocess, 20.3ms inference, 0.7ms postprocess per image at shape (1, 3, 1024, 576)\n"
     ]
    },
    {
     "name": "stderr",
     "output_type": "stream",
     "text": [
      " 65%|█████████████████████████▊              | 751/1162 [04:58<02:05,  3.28it/s]"
     ]
    },
    {
     "name": "stdout",
     "output_type": "stream",
     "text": [
      "\n",
      "image 1/1 /mnt/SSD/workspace/atomic_hack/Сварные_швы/dataset/11 (48).jpg: 1024x576 3 прилегающие дефектыs, 20.3ms\n",
      "Speed: 2.8ms preprocess, 20.3ms inference, 0.8ms postprocess per image at shape (1, 3, 1024, 576)\n"
     ]
    },
    {
     "name": "stderr",
     "output_type": "stream",
     "text": [
      " 65%|█████████████████████████▉              | 752/1162 [04:58<02:02,  3.34it/s]"
     ]
    },
    {
     "name": "stdout",
     "output_type": "stream",
     "text": [
      "\n",
      "image 1/1 /mnt/SSD/workspace/atomic_hack/Сварные_швы/dataset/5 (39).jpg: 576x1024 5 прилегающие дефектыs, 21.4ms\n",
      "Speed: 2.7ms preprocess, 21.4ms inference, 0.7ms postprocess per image at shape (1, 3, 576, 1024)\n"
     ]
    },
    {
     "name": "stderr",
     "output_type": "stream",
     "text": [
      " 65%|█████████████████████████▉              | 753/1162 [04:58<02:21,  2.89it/s]"
     ]
    },
    {
     "name": "stdout",
     "output_type": "stream",
     "text": [
      "\n",
      "image 1/1 /mnt/SSD/workspace/atomic_hack/Сварные_швы/dataset/12 (12).jpg: 1024x576 3 прилегающие дефектыs, 26.1ms\n",
      "Speed: 3.0ms preprocess, 26.1ms inference, 0.7ms postprocess per image at shape (1, 3, 1024, 576)\n"
     ]
    },
    {
     "name": "stderr",
     "output_type": "stream",
     "text": [
      " 65%|█████████████████████████▉              | 754/1162 [04:59<02:17,  2.96it/s]"
     ]
    },
    {
     "name": "stdout",
     "output_type": "stream",
     "text": [
      "\n",
      "image 1/1 /mnt/SSD/workspace/atomic_hack/Сварные_швы/dataset/9 (20).jpg: 1024x576 6 прилегающие дефектыs, 27.5ms\n",
      "Speed: 3.3ms preprocess, 27.5ms inference, 1.2ms postprocess per image at shape (1, 3, 1024, 576)\n"
     ]
    },
    {
     "name": "stderr",
     "output_type": "stream",
     "text": [
      " 65%|█████████████████████████▉              | 755/1162 [04:59<02:39,  2.56it/s]"
     ]
    },
    {
     "name": "stdout",
     "output_type": "stream",
     "text": [
      "\n",
      "image 1/1 /mnt/SSD/workspace/atomic_hack/Сварные_швы/dataset/4 (56).jpg: 576x1024 1 прилегающие дефекты, 21.5ms\n",
      "Speed: 2.8ms preprocess, 21.5ms inference, 0.7ms postprocess per image at shape (1, 3, 576, 1024)\n"
     ]
    },
    {
     "name": "stderr",
     "output_type": "stream",
     "text": [
      " 65%|██████████████████████████              | 756/1162 [04:59<02:07,  3.18it/s]"
     ]
    },
    {
     "name": "stdout",
     "output_type": "stream",
     "text": [
      "\n",
      "image 1/1 /mnt/SSD/workspace/atomic_hack/Сварные_швы/dataset/7 (143).jpg: 1024x576 8 прилегающие дефектыs, 19.0ms\n",
      "Speed: 3.1ms preprocess, 19.0ms inference, 0.8ms postprocess per image at shape (1, 3, 1024, 576)\n"
     ]
    },
    {
     "name": "stderr",
     "output_type": "stream",
     "text": [
      " 65%|██████████████████████████              | 757/1162 [05:00<02:38,  2.55it/s]"
     ]
    },
    {
     "name": "stdout",
     "output_type": "stream",
     "text": [
      "\n",
      "image 1/1 /mnt/SSD/workspace/atomic_hack/Сварные_швы/dataset/7 (155).jpg: 1024x576 16 прилегающие дефектыs, 19.5ms\n",
      "Speed: 3.1ms preprocess, 19.5ms inference, 0.8ms postprocess per image at shape (1, 3, 1024, 576)\n"
     ]
    },
    {
     "name": "stderr",
     "output_type": "stream",
     "text": [
      " 65%|██████████████████████████              | 758/1162 [05:01<04:03,  1.66it/s]"
     ]
    },
    {
     "name": "stdout",
     "output_type": "stream",
     "text": [
      "\n",
      "image 1/1 /mnt/SSD/workspace/atomic_hack/Сварные_швы/dataset/4 (23).jpg: 576x1024 (no detections), 27.1ms\n",
      "Speed: 3.0ms preprocess, 27.1ms inference, 0.3ms postprocess per image at shape (1, 3, 576, 1024)\n",
      "\n",
      "image 1/1 /mnt/SSD/workspace/atomic_hack/Сварные_швы/dataset/7 (50).jpg: 1024x576 3 прилегающие дефектыs, 26.8ms\n",
      "Speed: 4.1ms preprocess, 26.8ms inference, 0.8ms postprocess per image at shape (1, 3, 1024, 576)\n"
     ]
    },
    {
     "name": "stderr",
     "output_type": "stream",
     "text": [
      " 65%|██████████████████████████▏             | 760/1162 [05:02<02:50,  2.36it/s]"
     ]
    },
    {
     "name": "stdout",
     "output_type": "stream",
     "text": [
      "\n",
      "image 1/1 /mnt/SSD/workspace/atomic_hack/Сварные_швы/dataset/3 (51).jpg: 576x1024 7 прилегающие дефектыs, 23.1ms\n",
      "Speed: 2.8ms preprocess, 23.1ms inference, 0.8ms postprocess per image at shape (1, 3, 576, 1024)\n"
     ]
    },
    {
     "name": "stderr",
     "output_type": "stream",
     "text": [
      " 65%|██████████████████████████▏             | 761/1162 [05:02<02:58,  2.25it/s]"
     ]
    },
    {
     "name": "stdout",
     "output_type": "stream",
     "text": [
      "\n",
      "image 1/1 /mnt/SSD/workspace/atomic_hack/Сварные_швы/dataset/9 (35).jpg: 1024x576 3 прилегающие дефектыs, 28.5ms\n",
      "Speed: 3.2ms preprocess, 28.5ms inference, 0.8ms postprocess per image at shape (1, 3, 1024, 576)\n"
     ]
    },
    {
     "name": "stderr",
     "output_type": "stream",
     "text": [
      " 66%|██████████████████████████▏             | 762/1162 [05:02<02:40,  2.50it/s]"
     ]
    },
    {
     "name": "stdout",
     "output_type": "stream",
     "text": [
      "\n",
      "image 1/1 /mnt/SSD/workspace/atomic_hack/Сварные_швы/dataset/5 (71).jpg: 576x1024 1 прилегающие дефекты, 30.1ms\n",
      "Speed: 3.0ms preprocess, 30.1ms inference, 0.8ms postprocess per image at shape (1, 3, 576, 1024)\n"
     ]
    },
    {
     "name": "stderr",
     "output_type": "stream",
     "text": [
      " 66%|██████████████████████████▎             | 763/1162 [05:03<02:19,  2.87it/s]"
     ]
    },
    {
     "name": "stdout",
     "output_type": "stream",
     "text": [
      "\n",
      "image 1/1 /mnt/SSD/workspace/atomic_hack/Сварные_швы/dataset/7 (154).jpg: 1024x576 11 прилегающие дефектыs, 25.7ms\n",
      "Speed: 2.9ms preprocess, 25.7ms inference, 1.3ms postprocess per image at shape (1, 3, 1024, 576)\n"
     ]
    },
    {
     "name": "stderr",
     "output_type": "stream",
     "text": [
      " 66%|██████████████████████████▎             | 764/1162 [05:03<03:09,  2.10it/s]"
     ]
    },
    {
     "name": "stdout",
     "output_type": "stream",
     "text": [
      "\n",
      "image 1/1 /mnt/SSD/workspace/atomic_hack/Сварные_швы/dataset/5 (62).jpg: 576x1024 6 прилегающие дефектыs, 26.2ms\n",
      "Speed: 3.0ms preprocess, 26.2ms inference, 1.1ms postprocess per image at shape (1, 3, 576, 1024)\n"
     ]
    },
    {
     "name": "stderr",
     "output_type": "stream",
     "text": [
      " 66%|██████████████████████████▎             | 765/1162 [05:04<03:20,  1.98it/s]"
     ]
    },
    {
     "name": "stdout",
     "output_type": "stream",
     "text": [
      "\n",
      "image 1/1 /mnt/SSD/workspace/atomic_hack/Сварные_швы/dataset/5 (221).jpg: 576x1024 2 прилегающие дефектыs, 21.0ms\n",
      "Speed: 2.7ms preprocess, 21.0ms inference, 0.8ms postprocess per image at shape (1, 3, 576, 1024)\n"
     ]
    },
    {
     "name": "stderr",
     "output_type": "stream",
     "text": [
      " 66%|██████████████████████████▎             | 766/1162 [05:04<02:46,  2.38it/s]"
     ]
    },
    {
     "name": "stdout",
     "output_type": "stream",
     "text": [
      "\n",
      "image 1/1 /mnt/SSD/workspace/atomic_hack/Сварные_швы/dataset/7 (158).jpg: 1024x576 12 прилегающие дефектыs, 21.1ms\n",
      "Speed: 3.3ms preprocess, 21.1ms inference, 0.8ms postprocess per image at shape (1, 3, 1024, 576)\n"
     ]
    },
    {
     "name": "stderr",
     "output_type": "stream",
     "text": [
      " 66%|██████████████████████████▍             | 767/1162 [05:05<03:47,  1.74it/s]"
     ]
    },
    {
     "name": "stdout",
     "output_type": "stream",
     "text": [
      "\n",
      "image 1/1 /mnt/SSD/workspace/atomic_hack/Сварные_швы/dataset/6 (8).jpg: 1024x576 2 прилегающие дефектыs, 20.2ms\n",
      "Speed: 3.0ms preprocess, 20.2ms inference, 0.7ms postprocess per image at shape (1, 3, 1024, 576)\n"
     ]
    },
    {
     "name": "stderr",
     "output_type": "stream",
     "text": [
      " 66%|██████████████████████████▍             | 768/1162 [05:05<03:02,  2.16it/s]"
     ]
    },
    {
     "name": "stdout",
     "output_type": "stream",
     "text": [
      "\n",
      "image 1/1 /mnt/SSD/workspace/atomic_hack/Сварные_швы/dataset/12 (78).jpg: 1024x576 1 прилегающие дефекты, 20.2ms\n",
      "Speed: 3.0ms preprocess, 20.2ms inference, 0.7ms postprocess per image at shape (1, 3, 1024, 576)\n"
     ]
    },
    {
     "name": "stderr",
     "output_type": "stream",
     "text": [
      " 66%|██████████████████████████▍             | 769/1162 [05:05<02:22,  2.75it/s]"
     ]
    },
    {
     "name": "stdout",
     "output_type": "stream",
     "text": [
      "\n",
      "image 1/1 /mnt/SSD/workspace/atomic_hack/Сварные_швы/dataset/5 (3).jpg: 576x1024 3 прилегающие дефектыs, 21.4ms\n",
      "Speed: 2.7ms preprocess, 21.4ms inference, 0.8ms postprocess per image at shape (1, 3, 576, 1024)\n"
     ]
    },
    {
     "name": "stderr",
     "output_type": "stream",
     "text": [
      " 66%|██████████████████████████▌             | 770/1162 [05:06<02:10,  3.01it/s]"
     ]
    },
    {
     "name": "stdout",
     "output_type": "stream",
     "text": [
      "\n",
      "image 1/1 /mnt/SSD/workspace/atomic_hack/Сварные_швы/dataset/4 (47).jpg: 576x1024 (no detections), 21.2ms\n",
      "Speed: 2.8ms preprocess, 21.2ms inference, 0.3ms postprocess per image at shape (1, 3, 576, 1024)\n",
      "\n",
      "image 1/1 /mnt/SSD/workspace/atomic_hack/Сварные_швы/dataset/9 (25).jpg: 1024x576 2 прилегающие дефектыs, 20.2ms\n",
      "Speed: 2.9ms preprocess, 20.2ms inference, 0.7ms postprocess per image at shape (1, 3, 1024, 576)\n"
     ]
    },
    {
     "name": "stderr",
     "output_type": "stream",
     "text": [
      " 66%|██████████████████████████▌             | 772/1162 [05:06<01:33,  4.16it/s]"
     ]
    },
    {
     "name": "stdout",
     "output_type": "stream",
     "text": [
      "\n",
      "image 1/1 /mnt/SSD/workspace/atomic_hack/Сварные_швы/dataset/7 (74).jpg: 1024x576 4 прилегающие дефектыs, 20.4ms\n",
      "Speed: 3.1ms preprocess, 20.4ms inference, 0.7ms postprocess per image at shape (1, 3, 1024, 576)\n"
     ]
    },
    {
     "name": "stderr",
     "output_type": "stream",
     "text": [
      " 67%|██████████████████████████▌             | 773/1162 [05:06<01:40,  3.85it/s]"
     ]
    },
    {
     "name": "stdout",
     "output_type": "stream",
     "text": [
      "\n",
      "image 1/1 /mnt/SSD/workspace/atomic_hack/Сварные_швы/dataset/4 (88).jpg: 576x1024 10 прилегающие дефектыs, 21.4ms\n",
      "Speed: 2.8ms preprocess, 21.4ms inference, 1.0ms postprocess per image at shape (1, 3, 576, 1024)\n"
     ]
    },
    {
     "name": "stderr",
     "output_type": "stream",
     "text": [
      " 67%|██████████████████████████▋             | 774/1162 [05:07<02:37,  2.47it/s]"
     ]
    },
    {
     "name": "stdout",
     "output_type": "stream",
     "text": [
      "\n",
      "image 1/1 /mnt/SSD/workspace/atomic_hack/Сварные_швы/dataset/8 (15).jpg: 1024x576 2 прилегающие дефектыs, 20.4ms\n",
      "Speed: 3.0ms preprocess, 20.4ms inference, 0.8ms postprocess per image at shape (1, 3, 1024, 576)\n"
     ]
    },
    {
     "name": "stderr",
     "output_type": "stream",
     "text": [
      " 67%|██████████████████████████▋             | 775/1162 [05:07<02:14,  2.87it/s]"
     ]
    },
    {
     "name": "stdout",
     "output_type": "stream",
     "text": [
      "\n",
      "image 1/1 /mnt/SSD/workspace/atomic_hack/Сварные_швы/dataset/5 (160).jpg: 576x1024 13 прилегающие дефектыs, 20.1ms\n",
      "Speed: 2.8ms preprocess, 20.1ms inference, 0.7ms postprocess per image at shape (1, 3, 576, 1024)\n"
     ]
    },
    {
     "name": "stderr",
     "output_type": "stream",
     "text": [
      " 67%|██████████████████████████▋             | 776/1162 [05:08<03:25,  1.88it/s]"
     ]
    },
    {
     "name": "stdout",
     "output_type": "stream",
     "text": [
      "\n",
      "image 1/1 /mnt/SSD/workspace/atomic_hack/Сварные_швы/dataset/5 (33).jpg: 576x1024 10 прилегающие дефектыs, 21.1ms\n",
      "Speed: 3.0ms preprocess, 21.1ms inference, 0.8ms postprocess per image at shape (1, 3, 576, 1024)\n"
     ]
    },
    {
     "name": "stderr",
     "output_type": "stream",
     "text": [
      " 67%|██████████████████████████▋             | 777/1162 [05:09<03:42,  1.73it/s]"
     ]
    },
    {
     "name": "stdout",
     "output_type": "stream",
     "text": [
      "\n",
      "image 1/1 /mnt/SSD/workspace/atomic_hack/Сварные_швы/dataset/11 (46).jpg: 1024x576 3 прилегающие дефектыs, 20.2ms\n",
      "Speed: 3.1ms preprocess, 20.2ms inference, 0.7ms postprocess per image at shape (1, 3, 1024, 576)\n"
     ]
    },
    {
     "name": "stderr",
     "output_type": "stream",
     "text": [
      " 67%|██████████████████████████▊             | 778/1162 [05:09<03:06,  2.06it/s]"
     ]
    },
    {
     "name": "stdout",
     "output_type": "stream",
     "text": [
      "\n",
      "image 1/1 /mnt/SSD/workspace/atomic_hack/Сварные_швы/dataset/3 (41).jpg: 576x1024 (no detections), 21.4ms\n",
      "Speed: 2.8ms preprocess, 21.4ms inference, 0.3ms postprocess per image at shape (1, 3, 576, 1024)\n",
      "\n",
      "image 1/1 /mnt/SSD/workspace/atomic_hack/Сварные_швы/dataset/7 (132).jpg: 1024x576 12 прилегающие дефектыs, 25.5ms\n",
      "Speed: 2.9ms preprocess, 25.5ms inference, 1.0ms postprocess per image at shape (1, 3, 1024, 576)\n"
     ]
    },
    {
     "name": "stderr",
     "output_type": "stream",
     "text": [
      " 67%|██████████████████████████▊             | 780/1162 [05:10<03:01,  2.10it/s]"
     ]
    },
    {
     "name": "stdout",
     "output_type": "stream",
     "text": [
      "\n",
      "image 1/1 /mnt/SSD/workspace/atomic_hack/Сварные_швы/dataset/5 (53).jpg: 576x1024 1 прилегающие дефекты, 21.2ms\n",
      "Speed: 2.7ms preprocess, 21.2ms inference, 0.7ms postprocess per image at shape (1, 3, 576, 1024)\n"
     ]
    },
    {
     "name": "stderr",
     "output_type": "stream",
     "text": [
      " 67%|██████████████████████████▉             | 781/1162 [05:10<02:29,  2.55it/s]"
     ]
    },
    {
     "name": "stdout",
     "output_type": "stream",
     "text": [
      "\n",
      "image 1/1 /mnt/SSD/workspace/atomic_hack/Сварные_швы/dataset/11 (42).jpg: 1024x576 2 прилегающие дефектыs, 20.1ms\n",
      "Speed: 2.9ms preprocess, 20.1ms inference, 0.7ms postprocess per image at shape (1, 3, 1024, 576)\n"
     ]
    },
    {
     "name": "stderr",
     "output_type": "stream",
     "text": [
      " 67%|██████████████████████████▉             | 782/1162 [05:10<02:09,  2.93it/s]"
     ]
    },
    {
     "name": "stdout",
     "output_type": "stream",
     "text": [
      "\n",
      "image 1/1 /mnt/SSD/workspace/atomic_hack/Сварные_швы/dataset/5 (14).jpg: 576x1024 8 прилегающие дефектыs, 21.4ms\n",
      "Speed: 2.8ms preprocess, 21.4ms inference, 0.7ms postprocess per image at shape (1, 3, 576, 1024)\n"
     ]
    },
    {
     "name": "stderr",
     "output_type": "stream",
     "text": [
      " 67%|██████████████████████████▉             | 783/1162 [05:11<02:31,  2.50it/s]"
     ]
    },
    {
     "name": "stdout",
     "output_type": "stream",
     "text": [
      "\n",
      "image 1/1 /mnt/SSD/workspace/atomic_hack/Сварные_швы/dataset/7 (49).jpg: 1024x576 5 прилегающие дефектыs, 22.0ms\n",
      "Speed: 2.8ms preprocess, 22.0ms inference, 0.7ms postprocess per image at shape (1, 3, 1024, 576)\n"
     ]
    },
    {
     "name": "stderr",
     "output_type": "stream",
     "text": [
      " 67%|██████████████████████████▉             | 784/1162 [05:11<02:33,  2.45it/s]"
     ]
    },
    {
     "name": "stdout",
     "output_type": "stream",
     "text": [
      "\n",
      "image 1/1 /mnt/SSD/workspace/atomic_hack/Сварные_швы/dataset/4 (135).jpg: 576x1024 2 прилегающие дефектыs, 27.7ms\n",
      "Speed: 32.5ms preprocess, 27.7ms inference, 1.2ms postprocess per image at shape (1, 3, 576, 1024)\n"
     ]
    },
    {
     "name": "stderr",
     "output_type": "stream",
     "text": [
      " 68%|███████████████████████████             | 785/1162 [05:12<02:18,  2.73it/s]"
     ]
    },
    {
     "name": "stdout",
     "output_type": "stream",
     "text": [
      "\n",
      "image 1/1 /mnt/SSD/workspace/atomic_hack/Сварные_швы/dataset/8 (69).jpg: 1024x576 2 прилегающие дефектыs, 24.3ms\n",
      "Speed: 3.1ms preprocess, 24.3ms inference, 1.5ms postprocess per image at shape (1, 3, 1024, 576)\n"
     ]
    },
    {
     "name": "stderr",
     "output_type": "stream",
     "text": [
      " 68%|███████████████████████████             | 786/1162 [05:12<02:03,  3.04it/s]"
     ]
    },
    {
     "name": "stdout",
     "output_type": "stream",
     "text": [
      "\n",
      "image 1/1 /mnt/SSD/workspace/atomic_hack/Сварные_швы/dataset/6 (19).jpg: 1024x576 1 прилегающие дефекты, 21.1ms\n",
      "Speed: 3.2ms preprocess, 21.1ms inference, 0.7ms postprocess per image at shape (1, 3, 1024, 576)\n"
     ]
    },
    {
     "name": "stderr",
     "output_type": "stream",
     "text": [
      " 68%|███████████████████████████             | 787/1162 [05:12<01:41,  3.69it/s]"
     ]
    },
    {
     "name": "stdout",
     "output_type": "stream",
     "text": [
      "\n",
      "image 1/1 /mnt/SSD/workspace/atomic_hack/Сварные_швы/dataset/7 (167).jpg: 1024x576 2 прилегающие дефектыs, 19.9ms\n",
      "Speed: 2.9ms preprocess, 19.9ms inference, 0.7ms postprocess per image at shape (1, 3, 1024, 576)\n"
     ]
    },
    {
     "name": "stderr",
     "output_type": "stream",
     "text": [
      " 68%|███████████████████████████▏            | 788/1162 [05:12<01:34,  3.97it/s]"
     ]
    },
    {
     "name": "stdout",
     "output_type": "stream",
     "text": [
      "\n",
      "image 1/1 /mnt/SSD/workspace/atomic_hack/Сварные_швы/dataset/5 (11).jpg: 576x1024 3 прилегающие дефектыs, 21.6ms\n",
      "Speed: 2.8ms preprocess, 21.6ms inference, 0.8ms postprocess per image at shape (1, 3, 576, 1024)\n"
     ]
    },
    {
     "name": "stderr",
     "output_type": "stream",
     "text": [
      " 68%|███████████████████████████▏            | 789/1162 [05:13<01:34,  3.94it/s]"
     ]
    },
    {
     "name": "stdout",
     "output_type": "stream",
     "text": [
      "\n",
      "image 1/1 /mnt/SSD/workspace/atomic_hack/Сварные_швы/dataset/4 (7).jpg: 576x1024 (no detections), 21.3ms\n",
      "Speed: 2.9ms preprocess, 21.3ms inference, 0.3ms postprocess per image at shape (1, 3, 576, 1024)\n",
      "\n",
      "image 1/1 /mnt/SSD/workspace/atomic_hack/Сварные_швы/dataset/3 (36).jpg: 576x1024 3 прилегающие дефектыs, 20.2ms\n",
      "Speed: 3.0ms preprocess, 20.2ms inference, 0.7ms postprocess per image at shape (1, 3, 576, 1024)\n"
     ]
    },
    {
     "name": "stderr",
     "output_type": "stream",
     "text": [
      " 68%|███████████████████████████▏            | 791/1162 [05:13<01:19,  4.67it/s]"
     ]
    },
    {
     "name": "stdout",
     "output_type": "stream",
     "text": [
      "\n",
      "image 1/1 /mnt/SSD/workspace/atomic_hack/Сварные_швы/dataset/8 (14).jpg: 1024x576 3 прилегающие дефектыs, 20.2ms\n",
      "Speed: 2.8ms preprocess, 20.2ms inference, 0.7ms postprocess per image at shape (1, 3, 1024, 576)\n"
     ]
    },
    {
     "name": "stderr",
     "output_type": "stream",
     "text": [
      " 68%|███████████████████████████▎            | 792/1162 [05:13<01:23,  4.43it/s]"
     ]
    },
    {
     "name": "stdout",
     "output_type": "stream",
     "text": [
      "\n",
      "image 1/1 /mnt/SSD/workspace/atomic_hack/Сварные_швы/dataset/5 (121).jpg: 576x1024 5 прилегающие дефектыs, 20.8ms\n",
      "Speed: 2.7ms preprocess, 20.8ms inference, 0.7ms postprocess per image at shape (1, 3, 576, 1024)\n"
     ]
    },
    {
     "name": "stderr",
     "output_type": "stream",
     "text": [
      " 68%|███████████████████████████▎            | 793/1162 [05:14<01:39,  3.70it/s]"
     ]
    },
    {
     "name": "stdout",
     "output_type": "stream",
     "text": [
      "\n",
      "image 1/1 /mnt/SSD/workspace/atomic_hack/Сварные_швы/dataset/6 (87).jpg: 1024x576 (no detections), 19.6ms\n",
      "Speed: 3.1ms preprocess, 19.6ms inference, 0.3ms postprocess per image at shape (1, 3, 1024, 576)\n",
      "\n",
      "image 1/1 /mnt/SSD/workspace/atomic_hack/Сварные_швы/dataset/6 (10).jpg: 1024x576 2 прилегающие дефектыs, 20.5ms\n",
      "Speed: 3.0ms preprocess, 20.5ms inference, 0.7ms postprocess per image at shape (1, 3, 1024, 576)\n"
     ]
    },
    {
     "name": "stderr",
     "output_type": "stream",
     "text": [
      " 68%|███████████████████████████▎            | 795/1162 [05:14<01:18,  4.65it/s]"
     ]
    },
    {
     "name": "stdout",
     "output_type": "stream",
     "text": [
      "\n",
      "image 1/1 /mnt/SSD/workspace/atomic_hack/Сварные_швы/dataset/11 (29).jpg: 1024x576 2 прилегающие дефектыs, 73.0ms\n",
      "Speed: 3.2ms preprocess, 73.0ms inference, 0.7ms postprocess per image at shape (1, 3, 1024, 576)\n"
     ]
    },
    {
     "name": "stderr",
     "output_type": "stream",
     "text": [
      " 69%|███████████████████████████▍            | 796/1162 [05:14<01:24,  4.33it/s]"
     ]
    },
    {
     "name": "stdout",
     "output_type": "stream",
     "text": [
      "\n",
      "image 1/1 /mnt/SSD/workspace/atomic_hack/Сварные_швы/dataset/7 (13).jpg: 1024x576 11 прилегающие дефектыs, 20.6ms\n",
      "Speed: 3.1ms preprocess, 20.6ms inference, 1.0ms postprocess per image at shape (1, 3, 1024, 576)\n"
     ]
    },
    {
     "name": "stderr",
     "output_type": "stream",
     "text": [
      " 69%|███████████████████████████▍            | 797/1162 [05:15<02:11,  2.77it/s]"
     ]
    },
    {
     "name": "stdout",
     "output_type": "stream",
     "text": [
      "\n",
      "image 1/1 /mnt/SSD/workspace/atomic_hack/Сварные_швы/dataset/5 (174).jpg: 576x1024 6 прилегающие дефектыs, 21.4ms\n",
      "Speed: 2.9ms preprocess, 21.4ms inference, 0.8ms postprocess per image at shape (1, 3, 576, 1024)\n"
     ]
    },
    {
     "name": "stderr",
     "output_type": "stream",
     "text": [
      " 69%|███████████████████████████▍            | 798/1162 [05:15<02:19,  2.61it/s]"
     ]
    },
    {
     "name": "stdout",
     "output_type": "stream",
     "text": [
      "\n",
      "image 1/1 /mnt/SSD/workspace/atomic_hack/Сварные_швы/dataset/5 (9).jpg: 576x1024 5 прилегающие дефектыs, 21.4ms\n",
      "Speed: 2.8ms preprocess, 21.4ms inference, 0.7ms postprocess per image at shape (1, 3, 576, 1024)\n"
     ]
    },
    {
     "name": "stderr",
     "output_type": "stream",
     "text": [
      " 69%|███████████████████████████▌            | 799/1162 [05:16<02:19,  2.61it/s]"
     ]
    },
    {
     "name": "stdout",
     "output_type": "stream",
     "text": [
      "\n",
      "image 1/1 /mnt/SSD/workspace/atomic_hack/Сварные_швы/dataset/4 (102).jpg: 576x1024 10 прилегающие дефектыs, 21.5ms\n",
      "Speed: 2.8ms preprocess, 21.5ms inference, 0.8ms postprocess per image at shape (1, 3, 576, 1024)\n"
     ]
    },
    {
     "name": "stderr",
     "output_type": "stream",
     "text": [
      " 69%|███████████████████████████▌            | 800/1162 [05:16<02:49,  2.13it/s]"
     ]
    },
    {
     "name": "stdout",
     "output_type": "stream",
     "text": [
      "\n",
      "image 1/1 /mnt/SSD/workspace/atomic_hack/Сварные_швы/dataset/8 (67).jpg: 1024x576 3 прилегающие дефектыs, 20.3ms\n",
      "Speed: 3.0ms preprocess, 20.3ms inference, 0.8ms postprocess per image at shape (1, 3, 1024, 576)\n"
     ]
    },
    {
     "name": "stderr",
     "output_type": "stream",
     "text": [
      " 69%|███████████████████████████▌            | 801/1162 [05:17<02:28,  2.44it/s]"
     ]
    },
    {
     "name": "stdout",
     "output_type": "stream",
     "text": [
      "\n",
      "image 1/1 /mnt/SSD/workspace/atomic_hack/Сварные_швы/dataset/6 (68).jpg: 1024x576 (no detections), 20.1ms\n",
      "Speed: 2.9ms preprocess, 20.1ms inference, 0.3ms postprocess per image at shape (1, 3, 1024, 576)\n",
      "\n",
      "image 1/1 /mnt/SSD/workspace/atomic_hack/Сварные_швы/dataset/8 (22).jpg: 1024x576 2 прилегающие дефектыs, 19.7ms\n",
      "Speed: 3.0ms preprocess, 19.7ms inference, 1.0ms postprocess per image at shape (1, 3, 1024, 576)\n"
     ]
    },
    {
     "name": "stderr",
     "output_type": "stream",
     "text": [
      " 69%|███████████████████████████▋            | 803/1162 [05:17<01:41,  3.52it/s]"
     ]
    },
    {
     "name": "stdout",
     "output_type": "stream",
     "text": [
      "\n",
      "image 1/1 /mnt/SSD/workspace/atomic_hack/Сварные_швы/dataset/9 (42).jpg: 1024x576 1 прилегающие дефекты, 20.3ms\n",
      "Speed: 2.9ms preprocess, 20.3ms inference, 0.8ms postprocess per image at shape (1, 3, 1024, 576)\n"
     ]
    },
    {
     "name": "stderr",
     "output_type": "stream",
     "text": [
      " 69%|███████████████████████████▋            | 804/1162 [05:17<01:28,  4.06it/s]"
     ]
    },
    {
     "name": "stdout",
     "output_type": "stream",
     "text": [
      "\n",
      "image 1/1 /mnt/SSD/workspace/atomic_hack/Сварные_швы/dataset/5 (194).jpg: 576x1024 6 прилегающие дефектыs, 21.4ms\n",
      "Speed: 2.8ms preprocess, 21.4ms inference, 0.7ms postprocess per image at shape (1, 3, 576, 1024)\n"
     ]
    },
    {
     "name": "stderr",
     "output_type": "stream",
     "text": [
      " 69%|███████████████████████████▋            | 805/1162 [05:17<01:46,  3.36it/s]"
     ]
    },
    {
     "name": "stdout",
     "output_type": "stream",
     "text": [
      "\n",
      "image 1/1 /mnt/SSD/workspace/atomic_hack/Сварные_швы/dataset/12 (14).jpg: 1024x576 7 прилегающие дефектыs, 20.0ms\n",
      "Speed: 2.8ms preprocess, 20.0ms inference, 0.7ms postprocess per image at shape (1, 3, 1024, 576)\n"
     ]
    },
    {
     "name": "stderr",
     "output_type": "stream",
     "text": [
      " 69%|███████████████████████████▋            | 806/1162 [05:18<02:05,  2.85it/s]"
     ]
    },
    {
     "name": "stdout",
     "output_type": "stream",
     "text": [
      "\n",
      "image 1/1 /mnt/SSD/workspace/atomic_hack/Сварные_швы/dataset/12 (30).jpg: 1024x576 2 прилегающие дефектыs, 20.0ms\n",
      "Speed: 2.9ms preprocess, 20.0ms inference, 0.7ms postprocess per image at shape (1, 3, 1024, 576)\n"
     ]
    },
    {
     "name": "stderr",
     "output_type": "stream",
     "text": [
      " 69%|███████████████████████████▊            | 807/1162 [05:18<01:48,  3.28it/s]"
     ]
    },
    {
     "name": "stdout",
     "output_type": "stream",
     "text": [
      "\n",
      "image 1/1 /mnt/SSD/workspace/atomic_hack/Сварные_швы/dataset/7 (250).jpg: 1024x576 7 прилегающие дефектыs, 20.3ms\n",
      "Speed: 2.8ms preprocess, 20.3ms inference, 0.7ms postprocess per image at shape (1, 3, 1024, 576)\n"
     ]
    },
    {
     "name": "stderr",
     "output_type": "stream",
     "text": [
      " 70%|███████████████████████████▊            | 808/1162 [05:19<02:07,  2.77it/s]"
     ]
    },
    {
     "name": "stdout",
     "output_type": "stream",
     "text": [
      "\n",
      "image 1/1 /mnt/SSD/workspace/atomic_hack/Сварные_швы/dataset/6 (95).jpg: 1024x576 2 прилегающие дефектыs, 19.4ms\n",
      "Speed: 3.1ms preprocess, 19.4ms inference, 0.8ms postprocess per image at shape (1, 3, 1024, 576)\n"
     ]
    },
    {
     "name": "stderr",
     "output_type": "stream",
     "text": [
      " 70%|███████████████████████████▊            | 809/1162 [05:19<01:50,  3.19it/s]"
     ]
    },
    {
     "name": "stdout",
     "output_type": "stream",
     "text": [
      "\n",
      "image 1/1 /mnt/SSD/workspace/atomic_hack/Сварные_швы/dataset/4 (93).jpg: 576x1024 11 прилегающие дефектыs, 21.3ms\n",
      "Speed: 2.8ms preprocess, 21.3ms inference, 0.7ms postprocess per image at shape (1, 3, 576, 1024)\n"
     ]
    },
    {
     "name": "stderr",
     "output_type": "stream",
     "text": [
      " 70%|███████████████████████████▉            | 810/1162 [05:20<02:35,  2.27it/s]"
     ]
    },
    {
     "name": "stdout",
     "output_type": "stream",
     "text": [
      "\n",
      "image 1/1 /mnt/SSD/workspace/atomic_hack/Сварные_швы/dataset/8 (93).jpg: 1024x576 2 прилегающие дефектыs, 20.3ms\n",
      "Speed: 3.0ms preprocess, 20.3ms inference, 0.7ms postprocess per image at shape (1, 3, 1024, 576)\n"
     ]
    },
    {
     "name": "stderr",
     "output_type": "stream",
     "text": [
      " 70%|███████████████████████████▉            | 811/1162 [05:20<02:09,  2.72it/s]"
     ]
    },
    {
     "name": "stdout",
     "output_type": "stream",
     "text": [
      "\n",
      "image 1/1 /mnt/SSD/workspace/atomic_hack/Сварные_швы/dataset/8 (87).jpg: 1024x576 3 прилегающие дефектыs, 20.4ms\n",
      "Speed: 3.0ms preprocess, 20.4ms inference, 0.8ms postprocess per image at shape (1, 3, 1024, 576)\n"
     ]
    },
    {
     "name": "stderr",
     "output_type": "stream",
     "text": [
      " 70%|███████████████████████████▉            | 812/1162 [05:20<01:57,  2.99it/s]"
     ]
    },
    {
     "name": "stdout",
     "output_type": "stream",
     "text": [
      "\n",
      "image 1/1 /mnt/SSD/workspace/atomic_hack/Сварные_швы/dataset/4 (87).jpg: 576x1024 11 прилегающие дефектыs, 21.3ms\n",
      "Speed: 2.8ms preprocess, 21.3ms inference, 0.7ms postprocess per image at shape (1, 3, 576, 1024)\n"
     ]
    },
    {
     "name": "stderr",
     "output_type": "stream",
     "text": [
      " 70%|███████████████████████████▉            | 813/1162 [05:21<02:45,  2.11it/s]"
     ]
    },
    {
     "name": "stdout",
     "output_type": "stream",
     "text": [
      "\n",
      "image 1/1 /mnt/SSD/workspace/atomic_hack/Сварные_швы/dataset/4 (60).jpg: 576x1024 (no detections), 26.7ms\n",
      "Speed: 2.7ms preprocess, 26.7ms inference, 0.3ms postprocess per image at shape (1, 3, 576, 1024)\n",
      "\n",
      "image 1/1 /mnt/SSD/workspace/atomic_hack/Сварные_швы/dataset/4 (65).jpg: 576x1024 4 прилегающие дефектыs, 26.6ms\n",
      "Speed: 2.9ms preprocess, 26.6ms inference, 0.8ms postprocess per image at shape (1, 3, 576, 1024)\n"
     ]
    },
    {
     "name": "stderr",
     "output_type": "stream",
     "text": [
      " 70%|████████████████████████████            | 815/1162 [05:21<02:01,  2.86it/s]"
     ]
    },
    {
     "name": "stdout",
     "output_type": "stream",
     "text": [
      "\n",
      "image 1/1 /mnt/SSD/workspace/atomic_hack/Сварные_швы/dataset/7 (9).jpg: 1024x576 19 прилегающие дефектыs, 21.9ms\n",
      "Speed: 3.0ms preprocess, 21.9ms inference, 1.6ms postprocess per image at shape (1, 3, 1024, 576)\n"
     ]
    },
    {
     "name": "stderr",
     "output_type": "stream",
     "text": [
      " 70%|████████████████████████████            | 816/1162 [05:23<03:23,  1.70it/s]"
     ]
    },
    {
     "name": "stdout",
     "output_type": "stream",
     "text": [
      "\n",
      "image 1/1 /mnt/SSD/workspace/atomic_hack/Сварные_швы/dataset/7 (84).jpg: 1024x576 3 прилегающие дефектыs, 20.2ms\n",
      "Speed: 3.0ms preprocess, 20.2ms inference, 0.8ms postprocess per image at shape (1, 3, 1024, 576)\n"
     ]
    },
    {
     "name": "stderr",
     "output_type": "stream",
     "text": [
      " 70%|████████████████████████████            | 817/1162 [05:23<03:00,  1.91it/s]"
     ]
    },
    {
     "name": "stdout",
     "output_type": "stream",
     "text": [
      "\n",
      "image 1/1 /mnt/SSD/workspace/atomic_hack/Сварные_швы/dataset/4 (132).jpg: 576x1024 8 прилегающие дефектыs, 27.6ms\n",
      "Speed: 2.9ms preprocess, 27.6ms inference, 0.8ms postprocess per image at shape (1, 3, 576, 1024)\n"
     ]
    },
    {
     "name": "stderr",
     "output_type": "stream",
     "text": [
      " 70%|████████████████████████████▏           | 818/1162 [05:24<03:11,  1.80it/s]"
     ]
    },
    {
     "name": "stdout",
     "output_type": "stream",
     "text": [
      "\n",
      "image 1/1 /mnt/SSD/workspace/atomic_hack/Сварные_швы/dataset/5 (51).jpg: 576x1024 1 прилегающие дефекты, 21.5ms\n",
      "Speed: 2.9ms preprocess, 21.5ms inference, 0.8ms postprocess per image at shape (1, 3, 576, 1024)\n"
     ]
    },
    {
     "name": "stderr",
     "output_type": "stream",
     "text": [
      " 70%|████████████████████████████▏           | 819/1162 [05:24<02:30,  2.28it/s]"
     ]
    },
    {
     "name": "stdout",
     "output_type": "stream",
     "text": [
      "\n",
      "image 1/1 /mnt/SSD/workspace/atomic_hack/Сварные_швы/dataset/4 (109).jpg: 576x1024 3 прилегающие дефектыs, 21.4ms\n",
      "Speed: 2.8ms preprocess, 21.4ms inference, 0.8ms postprocess per image at shape (1, 3, 576, 1024)\n"
     ]
    },
    {
     "name": "stderr",
     "output_type": "stream",
     "text": [
      " 71%|████████████████████████████▏           | 820/1162 [05:24<02:12,  2.58it/s]"
     ]
    },
    {
     "name": "stdout",
     "output_type": "stream",
     "text": [
      "\n",
      "image 1/1 /mnt/SSD/workspace/atomic_hack/Сварные_швы/dataset/7 (245).jpg: 1024x576 8 прилегающие дефектыs, 20.2ms\n",
      "Speed: 3.0ms preprocess, 20.2ms inference, 0.7ms postprocess per image at shape (1, 3, 1024, 576)\n"
     ]
    },
    {
     "name": "stderr",
     "output_type": "stream",
     "text": [
      " 71%|████████████████████████████▎           | 821/1162 [05:25<02:33,  2.22it/s]"
     ]
    },
    {
     "name": "stdout",
     "output_type": "stream",
     "text": [
      "\n",
      "image 1/1 /mnt/SSD/workspace/atomic_hack/Сварные_швы/dataset/6 (96).jpg: 1024x576 2 прилегающие дефектыs, 25.0ms\n",
      "Speed: 3.1ms preprocess, 25.0ms inference, 1.6ms postprocess per image at shape (1, 3, 1024, 576)\n"
     ]
    },
    {
     "name": "stderr",
     "output_type": "stream",
     "text": [
      " 71%|████████████████████████████▎           | 822/1162 [05:25<02:17,  2.48it/s]"
     ]
    },
    {
     "name": "stdout",
     "output_type": "stream",
     "text": [
      "\n",
      "image 1/1 /mnt/SSD/workspace/atomic_hack/Сварные_швы/dataset/7 (236).jpg: 1024x576 5 прилегающие дефектыs, 24.7ms\n",
      "Speed: 3.3ms preprocess, 24.7ms inference, 1.0ms postprocess per image at shape (1, 3, 1024, 576)\n"
     ]
    },
    {
     "name": "stderr",
     "output_type": "stream",
     "text": [
      " 71%|████████████████████████████▎           | 823/1162 [05:25<02:18,  2.44it/s]"
     ]
    },
    {
     "name": "stdout",
     "output_type": "stream",
     "text": [
      "\n",
      "image 1/1 /mnt/SSD/workspace/atomic_hack/Сварные_швы/dataset/4 (107).jpg: 576x1024 9 прилегающие дефектыs, 21.6ms\n",
      "Speed: 3.1ms preprocess, 21.6ms inference, 0.8ms postprocess per image at shape (1, 3, 576, 1024)\n"
     ]
    },
    {
     "name": "stderr",
     "output_type": "stream",
     "text": [
      " 71%|████████████████████████████▎           | 824/1162 [05:26<02:49,  1.99it/s]"
     ]
    },
    {
     "name": "stdout",
     "output_type": "stream",
     "text": [
      "\n",
      "image 1/1 /mnt/SSD/workspace/atomic_hack/Сварные_швы/dataset/6 (9).jpg: 1024x576 3 прилегающие дефектыs, 20.4ms\n",
      "Speed: 3.0ms preprocess, 20.4ms inference, 0.8ms postprocess per image at shape (1, 3, 1024, 576)\n"
     ]
    },
    {
     "name": "stderr",
     "output_type": "stream",
     "text": [
      " 71%|████████████████████████████▍           | 825/1162 [05:26<02:24,  2.33it/s]"
     ]
    },
    {
     "name": "stdout",
     "output_type": "stream",
     "text": [
      "\n",
      "image 1/1 /mnt/SSD/workspace/atomic_hack/Сварные_швы/dataset/7 (34).jpg: 1024x576 12 прилегающие дефектыs, 20.1ms\n",
      "Speed: 2.9ms preprocess, 20.1ms inference, 0.8ms postprocess per image at shape (1, 3, 1024, 576)\n"
     ]
    },
    {
     "name": "stderr",
     "output_type": "stream",
     "text": [
      " 71%|████████████████████████████▍           | 826/1162 [05:27<03:05,  1.81it/s]"
     ]
    },
    {
     "name": "stdout",
     "output_type": "stream",
     "text": [
      "\n",
      "image 1/1 /mnt/SSD/workspace/atomic_hack/Сварные_швы/dataset/4 (148).jpg: 576x1024 5 прилегающие дефектыs, 21.8ms\n",
      "Speed: 2.9ms preprocess, 21.8ms inference, 0.8ms postprocess per image at shape (1, 3, 576, 1024)\n"
     ]
    },
    {
     "name": "stderr",
     "output_type": "stream",
     "text": [
      " 71%|████████████████████████████▍           | 827/1162 [05:27<02:48,  1.99it/s]"
     ]
    },
    {
     "name": "stdout",
     "output_type": "stream",
     "text": [
      "\n",
      "image 1/1 /mnt/SSD/workspace/atomic_hack/Сварные_швы/dataset/12 (28).jpg: 1024x576 5 прилегающие дефектыs, 20.3ms\n",
      "Speed: 3.1ms preprocess, 20.3ms inference, 0.8ms postprocess per image at shape (1, 3, 1024, 576)\n"
     ]
    },
    {
     "name": "stderr",
     "output_type": "stream",
     "text": [
      " 71%|████████████████████████████▌           | 828/1162 [05:28<02:35,  2.15it/s]"
     ]
    },
    {
     "name": "stdout",
     "output_type": "stream",
     "text": [
      "\n",
      "image 1/1 /mnt/SSD/workspace/atomic_hack/Сварные_швы/dataset/5 (197).jpg: 576x1024 3 прилегающие дефектыs, 21.7ms\n",
      "Speed: 2.8ms preprocess, 21.7ms inference, 0.8ms postprocess per image at shape (1, 3, 576, 1024)\n"
     ]
    },
    {
     "name": "stderr",
     "output_type": "stream",
     "text": [
      " 71%|████████████████████████████▌           | 829/1162 [05:28<02:14,  2.47it/s]"
     ]
    },
    {
     "name": "stdout",
     "output_type": "stream",
     "text": [
      "\n",
      "image 1/1 /mnt/SSD/workspace/atomic_hack/Сварные_швы/dataset/7 (67).jpg: 1024x576 3 прилегающие дефектыs, 20.6ms\n",
      "Speed: 2.9ms preprocess, 20.6ms inference, 0.8ms postprocess per image at shape (1, 3, 1024, 576)\n"
     ]
    },
    {
     "name": "stderr",
     "output_type": "stream",
     "text": [
      " 71%|████████████████████████████▌           | 830/1162 [05:28<02:00,  2.76it/s]"
     ]
    },
    {
     "name": "stdout",
     "output_type": "stream",
     "text": [
      "\n",
      "image 1/1 /mnt/SSD/workspace/atomic_hack/Сварные_швы/dataset/4 (50).jpg: 576x1024 4 прилегающие дефектыs, 21.7ms\n",
      "Speed: 2.9ms preprocess, 21.7ms inference, 0.8ms postprocess per image at shape (1, 3, 576, 1024)\n"
     ]
    },
    {
     "name": "stderr",
     "output_type": "stream",
     "text": [
      " 72%|████████████████████████████▌           | 831/1162 [05:29<01:56,  2.85it/s]"
     ]
    },
    {
     "name": "stdout",
     "output_type": "stream",
     "text": [
      "\n",
      "image 1/1 /mnt/SSD/workspace/atomic_hack/Сварные_швы/dataset/8 (58).jpg: 1024x576 2 прилегающие дефектыs, 20.4ms\n",
      "Speed: 3.0ms preprocess, 20.4ms inference, 0.8ms postprocess per image at shape (1, 3, 1024, 576)\n"
     ]
    },
    {
     "name": "stderr",
     "output_type": "stream",
     "text": [
      " 72%|████████████████████████████▋           | 832/1162 [05:29<01:40,  3.30it/s]"
     ]
    },
    {
     "name": "stdout",
     "output_type": "stream",
     "text": [
      "\n",
      "image 1/1 /mnt/SSD/workspace/atomic_hack/Сварные_швы/dataset/7 (259).jpg: 1024x576 5 прилегающие дефектыs, 20.1ms\n",
      "Speed: 3.1ms preprocess, 20.1ms inference, 0.8ms postprocess per image at shape (1, 3, 1024, 576)\n"
     ]
    },
    {
     "name": "stderr",
     "output_type": "stream",
     "text": [
      " 72%|████████████████████████████▋           | 833/1162 [05:29<01:48,  3.04it/s]"
     ]
    },
    {
     "name": "stdout",
     "output_type": "stream",
     "text": [
      "\n",
      "image 1/1 /mnt/SSD/workspace/atomic_hack/Сварные_швы/dataset/7 (170).jpg: 1024x576 3 прилегающие дефектыs, 20.4ms\n",
      "Speed: 2.9ms preprocess, 20.4ms inference, 0.8ms postprocess per image at shape (1, 3, 1024, 576)\n"
     ]
    },
    {
     "name": "stderr",
     "output_type": "stream",
     "text": [
      " 72%|████████████████████████████▋           | 834/1162 [05:30<01:41,  3.24it/s]"
     ]
    },
    {
     "name": "stdout",
     "output_type": "stream",
     "text": [
      "\n",
      "image 1/1 /mnt/SSD/workspace/atomic_hack/Сварные_швы/dataset/7 (210).jpg: 1024x576 4 прилегающие дефектыs, 20.6ms\n",
      "Speed: 3.6ms preprocess, 20.6ms inference, 0.8ms postprocess per image at shape (1, 3, 1024, 576)\n"
     ]
    },
    {
     "name": "stderr",
     "output_type": "stream",
     "text": [
      " 72%|████████████████████████████▋           | 835/1162 [05:30<01:44,  3.13it/s]"
     ]
    },
    {
     "name": "stdout",
     "output_type": "stream",
     "text": [
      "\n",
      "image 1/1 /mnt/SSD/workspace/atomic_hack/Сварные_швы/dataset/5 (22).jpg: 576x1024 9 прилегающие дефектыs, 21.6ms\n",
      "Speed: 2.9ms preprocess, 21.6ms inference, 0.8ms postprocess per image at shape (1, 3, 576, 1024)\n"
     ]
    },
    {
     "name": "stderr",
     "output_type": "stream",
     "text": [
      " 72%|████████████████████████████▊           | 836/1162 [05:31<02:15,  2.41it/s]"
     ]
    },
    {
     "name": "stdout",
     "output_type": "stream",
     "text": [
      "\n",
      "image 1/1 /mnt/SSD/workspace/atomic_hack/Сварные_швы/dataset/11 (50).jpg: 1024x576 3 прилегающие дефектыs, 20.5ms\n",
      "Speed: 3.1ms preprocess, 20.5ms inference, 0.8ms postprocess per image at shape (1, 3, 1024, 576)\n"
     ]
    },
    {
     "name": "stderr",
     "output_type": "stream",
     "text": [
      " 72%|████████████████████████████▊           | 837/1162 [05:31<01:59,  2.71it/s]"
     ]
    },
    {
     "name": "stdout",
     "output_type": "stream",
     "text": [
      "\n",
      "image 1/1 /mnt/SSD/workspace/atomic_hack/Сварные_швы/dataset/5 (166).jpg: 576x1024 5 прилегающие дефектыs, 21.7ms\n",
      "Speed: 3.0ms preprocess, 21.7ms inference, 0.8ms postprocess per image at shape (1, 3, 576, 1024)\n"
     ]
    },
    {
     "name": "stderr",
     "output_type": "stream",
     "text": [
      " 72%|████████████████████████████▊           | 838/1162 [05:31<02:01,  2.67it/s]"
     ]
    },
    {
     "name": "stdout",
     "output_type": "stream",
     "text": [
      "\n",
      "image 1/1 /mnt/SSD/workspace/atomic_hack/Сварные_швы/dataset/4 (94).jpg: 576x1024 12 прилегающие дефектыs, 21.5ms\n",
      "Speed: 2.8ms preprocess, 21.5ms inference, 0.8ms postprocess per image at shape (1, 3, 576, 1024)\n"
     ]
    },
    {
     "name": "stderr",
     "output_type": "stream",
     "text": [
      " 72%|████████████████████████████▉           | 839/1162 [05:32<02:51,  1.88it/s]"
     ]
    },
    {
     "name": "stdout",
     "output_type": "stream",
     "text": [
      "\n",
      "image 1/1 /mnt/SSD/workspace/atomic_hack/Сварные_швы/dataset/11 (62).jpg: 1024x576 1 прилегающие дефекты, 20.4ms\n",
      "Speed: 3.0ms preprocess, 20.4ms inference, 0.7ms postprocess per image at shape (1, 3, 1024, 576)\n"
     ]
    },
    {
     "name": "stderr",
     "output_type": "stream",
     "text": [
      " 72%|████████████████████████████▉           | 840/1162 [05:32<02:12,  2.43it/s]"
     ]
    },
    {
     "name": "stdout",
     "output_type": "stream",
     "text": [
      "\n",
      "image 1/1 /mnt/SSD/workspace/atomic_hack/Сварные_швы/dataset/4 (45).jpg: 576x1024 (no detections), 21.3ms\n",
      "Speed: 2.8ms preprocess, 21.3ms inference, 0.3ms postprocess per image at shape (1, 3, 576, 1024)\n",
      "\n",
      "image 1/1 /mnt/SSD/workspace/atomic_hack/Сварные_швы/dataset/6 (88).jpg: 1024x576 (no detections), 19.7ms\n",
      "Speed: 2.8ms preprocess, 19.7ms inference, 0.3ms postprocess per image at shape (1, 3, 1024, 576)\n"
     ]
    },
    {
     "name": "stderr",
     "output_type": "stream",
     "text": [
      " 72%|████████████████████████████▉           | 842/1162 [05:32<01:20,  3.98it/s]"
     ]
    },
    {
     "name": "stdout",
     "output_type": "stream",
     "text": [
      "\n",
      "image 1/1 /mnt/SSD/workspace/atomic_hack/Сварные_швы/dataset/3 (31).jpg: 576x1024 1 прилегающие дефекты, 21.3ms\n",
      "Speed: 2.8ms preprocess, 21.3ms inference, 0.8ms postprocess per image at shape (1, 3, 576, 1024)\n"
     ]
    },
    {
     "name": "stderr",
     "output_type": "stream",
     "text": [
      " 73%|█████████████████████████████           | 843/1162 [05:32<01:10,  4.51it/s]"
     ]
    },
    {
     "name": "stdout",
     "output_type": "stream",
     "text": [
      "\n",
      "image 1/1 /mnt/SSD/workspace/atomic_hack/Сварные_швы/dataset/5 (37).jpg: 576x1024 5 прилегающие дефектыs, 21.8ms\n",
      "Speed: 2.8ms preprocess, 21.8ms inference, 0.8ms postprocess per image at shape (1, 3, 576, 1024)\n"
     ]
    },
    {
     "name": "stderr",
     "output_type": "stream",
     "text": [
      " 73%|█████████████████████████████           | 844/1162 [05:33<01:27,  3.65it/s]"
     ]
    },
    {
     "name": "stdout",
     "output_type": "stream",
     "text": [
      "\n",
      "image 1/1 /mnt/SSD/workspace/atomic_hack/Сварные_швы/dataset/6 (74).jpg: 1024x576 2 прилегающие дефектыs, 25.0ms\n",
      "Speed: 3.3ms preprocess, 25.0ms inference, 1.3ms postprocess per image at shape (1, 3, 1024, 576)\n"
     ]
    },
    {
     "name": "stderr",
     "output_type": "stream",
     "text": [
      " 73%|█████████████████████████████           | 845/1162 [05:33<01:27,  3.63it/s]"
     ]
    },
    {
     "name": "stdout",
     "output_type": "stream",
     "text": [
      "\n",
      "image 1/1 /mnt/SSD/workspace/atomic_hack/Сварные_швы/dataset/3 (16).jpg: 576x1024 1 прилегающие дефекты, 21.1ms\n",
      "Speed: 2.9ms preprocess, 21.1ms inference, 0.7ms postprocess per image at shape (1, 3, 576, 1024)\n"
     ]
    },
    {
     "name": "stderr",
     "output_type": "stream",
     "text": [
      " 73%|█████████████████████████████           | 846/1162 [05:33<01:15,  4.21it/s]"
     ]
    },
    {
     "name": "stdout",
     "output_type": "stream",
     "text": [
      "\n",
      "image 1/1 /mnt/SSD/workspace/atomic_hack/Сварные_швы/dataset/7 (240).jpg: 1024x576 13 прилегающие дефектыs, 19.6ms\n",
      "Speed: 2.9ms preprocess, 19.6ms inference, 0.7ms postprocess per image at shape (1, 3, 1024, 576)\n"
     ]
    },
    {
     "name": "stderr",
     "output_type": "stream",
     "text": [
      " 73%|█████████████████████████████▏          | 847/1162 [05:34<02:17,  2.30it/s]"
     ]
    },
    {
     "name": "stdout",
     "output_type": "stream",
     "text": [
      "\n",
      "image 1/1 /mnt/SSD/workspace/atomic_hack/Сварные_швы/dataset/6 (106).jpg: 1024x576 1 прилегающие дефекты, 27.6ms\n",
      "Speed: 22.3ms preprocess, 27.6ms inference, 1.0ms postprocess per image at shape (1, 3, 1024, 576)\n"
     ]
    },
    {
     "name": "stderr",
     "output_type": "stream",
     "text": [
      " 73%|█████████████████████████████▏          | 848/1162 [05:34<01:52,  2.79it/s]"
     ]
    },
    {
     "name": "stdout",
     "output_type": "stream",
     "text": [
      "\n",
      "image 1/1 /mnt/SSD/workspace/atomic_hack/Сварные_швы/dataset/5 (161).jpg: 576x1024 12 прилегающие дефектыs, 22.1ms\n",
      "Speed: 2.8ms preprocess, 22.1ms inference, 1.0ms postprocess per image at shape (1, 3, 576, 1024)\n"
     ]
    },
    {
     "name": "stderr",
     "output_type": "stream",
     "text": [
      " 73%|█████████████████████████████▏          | 849/1162 [05:35<02:43,  1.91it/s]"
     ]
    },
    {
     "name": "stdout",
     "output_type": "stream",
     "text": [
      "\n",
      "image 1/1 /mnt/SSD/workspace/atomic_hack/Сварные_швы/dataset/5 (125).jpg: 576x1024 2 прилегающие дефектыs, 22.8ms\n",
      "Speed: 3.0ms preprocess, 22.8ms inference, 0.8ms postprocess per image at shape (1, 3, 576, 1024)\n"
     ]
    },
    {
     "name": "stderr",
     "output_type": "stream",
     "text": [
      " 73%|█████████████████████████████▎          | 850/1162 [05:36<02:13,  2.34it/s]"
     ]
    },
    {
     "name": "stdout",
     "output_type": "stream",
     "text": [
      "\n",
      "image 1/1 /mnt/SSD/workspace/atomic_hack/Сварные_швы/dataset/7 (223).jpg: 1024x576 3 прилегающие дефектыs, 23.2ms\n",
      "Speed: 3.1ms preprocess, 23.2ms inference, 0.8ms postprocess per image at shape (1, 3, 1024, 576)\n"
     ]
    },
    {
     "name": "stderr",
     "output_type": "stream",
     "text": [
      " 73%|█████████████████████████████▎          | 851/1162 [05:36<02:00,  2.57it/s]"
     ]
    },
    {
     "name": "stdout",
     "output_type": "stream",
     "text": [
      "\n",
      "image 1/1 /mnt/SSD/workspace/atomic_hack/Сварные_швы/dataset/5 (173).jpg: 576x1024 6 прилегающие дефектыs, 24.3ms\n",
      "Speed: 3.0ms preprocess, 24.3ms inference, 1.1ms postprocess per image at shape (1, 3, 576, 1024)\n"
     ]
    },
    {
     "name": "stderr",
     "output_type": "stream",
     "text": [
      " 73%|█████████████████████████████▎          | 852/1162 [05:36<02:14,  2.30it/s]"
     ]
    },
    {
     "name": "stdout",
     "output_type": "stream",
     "text": [
      "\n",
      "image 1/1 /mnt/SSD/workspace/atomic_hack/Сварные_швы/dataset/5 (179).jpg: 576x1024 12 прилегающие дефектыs, 24.6ms\n",
      "Speed: 2.9ms preprocess, 24.6ms inference, 1.1ms postprocess per image at shape (1, 3, 576, 1024)\n"
     ]
    },
    {
     "name": "stderr",
     "output_type": "stream",
     "text": [
      " 73%|█████████████████████████████▎          | 853/1162 [05:37<03:02,  1.69it/s]"
     ]
    },
    {
     "name": "stdout",
     "output_type": "stream",
     "text": [
      "\n",
      "image 1/1 /mnt/SSD/workspace/atomic_hack/Сварные_швы/dataset/11 (37).jpg: 1024x576 1 прилегающие дефекты, 22.5ms\n",
      "Speed: 3.0ms preprocess, 22.5ms inference, 0.8ms postprocess per image at shape (1, 3, 1024, 576)\n"
     ]
    },
    {
     "name": "stderr",
     "output_type": "stream",
     "text": [
      " 73%|█████████████████████████████▍          | 854/1162 [05:37<02:20,  2.19it/s]"
     ]
    },
    {
     "name": "stdout",
     "output_type": "stream",
     "text": [
      "\n",
      "image 1/1 /mnt/SSD/workspace/atomic_hack/Сварные_швы/dataset/11 (4).jpg: 1024x576 2 прилегающие дефектыs, 22.0ms\n",
      "Speed: 3.0ms preprocess, 22.0ms inference, 0.8ms postprocess per image at shape (1, 3, 1024, 576)\n"
     ]
    },
    {
     "name": "stderr",
     "output_type": "stream",
     "text": [
      " 74%|█████████████████████████████▍          | 855/1162 [05:38<01:58,  2.59it/s]"
     ]
    },
    {
     "name": "stdout",
     "output_type": "stream",
     "text": [
      "\n",
      "image 1/1 /mnt/SSD/workspace/atomic_hack/Сварные_швы/dataset/5 (38).jpg: 576x1024 4 прилегающие дефектыs, 25.1ms\n",
      "Speed: 3.0ms preprocess, 25.1ms inference, 0.8ms postprocess per image at shape (1, 3, 576, 1024)\n"
     ]
    },
    {
     "name": "stderr",
     "output_type": "stream",
     "text": [
      " 74%|█████████████████████████████▍          | 856/1162 [05:38<02:00,  2.55it/s]"
     ]
    },
    {
     "name": "stdout",
     "output_type": "stream",
     "text": [
      "\n",
      "image 1/1 /mnt/SSD/workspace/atomic_hack/Сварные_швы/dataset/5 (112).jpg: 576x1024 2 прилегающие дефектыs, 25.0ms\n",
      "Speed: 3.0ms preprocess, 25.0ms inference, 0.9ms postprocess per image at shape (1, 3, 576, 1024)\n"
     ]
    },
    {
     "name": "stderr",
     "output_type": "stream",
     "text": [
      " 74%|█████████████████████████████▌          | 857/1162 [05:38<01:44,  2.92it/s]"
     ]
    },
    {
     "name": "stdout",
     "output_type": "stream",
     "text": [
      "\n",
      "image 1/1 /mnt/SSD/workspace/atomic_hack/Сварные_швы/dataset/11 (72).jpg: 1024x576 1 прилегающие дефекты, 22.4ms\n",
      "Speed: 3.0ms preprocess, 22.4ms inference, 1.0ms postprocess per image at shape (1, 3, 1024, 576)\n"
     ]
    },
    {
     "name": "stderr",
     "output_type": "stream",
     "text": [
      " 74%|█████████████████████████████▌          | 858/1162 [05:38<01:25,  3.56it/s]"
     ]
    },
    {
     "name": "stdout",
     "output_type": "stream",
     "text": [
      "\n",
      "image 1/1 /mnt/SSD/workspace/atomic_hack/Сварные_швы/dataset/6 (7).jpg: 1024x576 1 прилегающие дефекты, 23.7ms\n",
      "Speed: 33.9ms preprocess, 23.7ms inference, 1.4ms postprocess per image at shape (1, 3, 1024, 576)\n"
     ]
    },
    {
     "name": "stderr",
     "output_type": "stream",
     "text": [
      " 74%|█████████████████████████████▌          | 859/1162 [05:39<01:14,  4.06it/s]"
     ]
    },
    {
     "name": "stdout",
     "output_type": "stream",
     "text": [
      "\n",
      "image 1/1 /mnt/SSD/workspace/atomic_hack/Сварные_швы/dataset/4 (143).jpg: 576x1024 6 прилегающие дефектыs, 21.5ms\n",
      "Speed: 2.9ms preprocess, 21.5ms inference, 0.9ms postprocess per image at shape (1, 3, 576, 1024)\n"
     ]
    },
    {
     "name": "stderr",
     "output_type": "stream",
     "text": [
      " 74%|█████████████████████████████▌          | 860/1162 [05:39<01:32,  3.26it/s]"
     ]
    },
    {
     "name": "stdout",
     "output_type": "stream",
     "text": [
      "\n",
      "image 1/1 /mnt/SSD/workspace/atomic_hack/Сварные_швы/dataset/7 (66).jpg: 1024x576 3 прилегающие дефектыs, 19.9ms\n",
      "Speed: 3.0ms preprocess, 19.9ms inference, 0.8ms postprocess per image at shape (1, 3, 1024, 576)\n"
     ]
    },
    {
     "name": "stderr",
     "output_type": "stream",
     "text": [
      " 74%|█████████████████████████████▋          | 861/1162 [05:39<01:28,  3.40it/s]"
     ]
    },
    {
     "name": "stdout",
     "output_type": "stream",
     "text": [
      "\n",
      "image 1/1 /mnt/SSD/workspace/atomic_hack/Сварные_швы/dataset/11 (20).jpg: 1024x576 1 прилегающие дефекты, 20.5ms\n",
      "Speed: 2.9ms preprocess, 20.5ms inference, 0.7ms postprocess per image at shape (1, 3, 1024, 576)\n"
     ]
    },
    {
     "name": "stderr",
     "output_type": "stream",
     "text": [
      " 74%|█████████████████████████████▋          | 862/1162 [05:39<01:13,  4.09it/s]"
     ]
    },
    {
     "name": "stdout",
     "output_type": "stream",
     "text": [
      "\n",
      "image 1/1 /mnt/SSD/workspace/atomic_hack/Сварные_швы/dataset/7 (100).jpg: 1024x576 10 прилегающие дефектыs, 20.6ms\n",
      "Speed: 3.1ms preprocess, 20.6ms inference, 0.8ms postprocess per image at shape (1, 3, 1024, 576)\n"
     ]
    },
    {
     "name": "stderr",
     "output_type": "stream",
     "text": [
      " 74%|█████████████████████████████▋          | 863/1162 [05:40<01:58,  2.52it/s]"
     ]
    },
    {
     "name": "stdout",
     "output_type": "stream",
     "text": [
      "\n",
      "image 1/1 /mnt/SSD/workspace/atomic_hack/Сварные_швы/dataset/4 (55).jpg: 576x1024 1 прилегающие дефекты, 22.3ms\n",
      "Speed: 3.0ms preprocess, 22.3ms inference, 0.8ms postprocess per image at shape (1, 3, 576, 1024)\n"
     ]
    },
    {
     "name": "stderr",
     "output_type": "stream",
     "text": [
      " 74%|█████████████████████████████▋          | 864/1162 [05:40<01:34,  3.14it/s]"
     ]
    },
    {
     "name": "stdout",
     "output_type": "stream",
     "text": [
      "\n",
      "image 1/1 /mnt/SSD/workspace/atomic_hack/Сварные_швы/dataset/5 (80).jpg: 576x1024 3 прилегающие дефектыs, 21.5ms\n",
      "Speed: 2.9ms preprocess, 21.5ms inference, 0.8ms postprocess per image at shape (1, 3, 576, 1024)\n"
     ]
    },
    {
     "name": "stderr",
     "output_type": "stream",
     "text": [
      " 74%|█████████████████████████████▊          | 865/1162 [05:41<01:31,  3.25it/s]"
     ]
    },
    {
     "name": "stdout",
     "output_type": "stream",
     "text": [
      "\n",
      "image 1/1 /mnt/SSD/workspace/atomic_hack/Сварные_швы/dataset/6 (107).jpg: 1024x576 (no detections), 20.3ms\n",
      "Speed: 2.8ms preprocess, 20.3ms inference, 0.3ms postprocess per image at shape (1, 3, 1024, 576)\n",
      "\n",
      "image 1/1 /mnt/SSD/workspace/atomic_hack/Сварные_швы/dataset/11 (53).jpg: 1024x576 2 прилегающие дефектыs, 22.3ms\n",
      "Speed: 3.0ms preprocess, 22.3ms inference, 1.1ms postprocess per image at shape (1, 3, 1024, 576)\n"
     ]
    },
    {
     "name": "stderr",
     "output_type": "stream",
     "text": [
      " 75%|█████████████████████████████▊          | 867/1162 [05:41<01:06,  4.42it/s]"
     ]
    },
    {
     "name": "stdout",
     "output_type": "stream",
     "text": [
      "\n",
      "image 1/1 /mnt/SSD/workspace/atomic_hack/Сварные_швы/dataset/6 (66).jpg: 1024x576 2 прилегающие дефектыs, 19.7ms\n",
      "Speed: 3.0ms preprocess, 19.7ms inference, 0.7ms postprocess per image at shape (1, 3, 1024, 576)\n"
     ]
    },
    {
     "name": "stderr",
     "output_type": "stream",
     "text": [
      " 75%|█████████████████████████████▉          | 868/1162 [05:41<01:05,  4.52it/s]"
     ]
    },
    {
     "name": "stdout",
     "output_type": "stream",
     "text": [
      "\n",
      "image 1/1 /mnt/SSD/workspace/atomic_hack/Сварные_швы/dataset/7 (115).jpg: 1024x576 7 прилегающие дефектыs, 23.5ms\n",
      "Speed: 3.1ms preprocess, 23.5ms inference, 1.3ms postprocess per image at shape (1, 3, 1024, 576)\n"
     ]
    },
    {
     "name": "stderr",
     "output_type": "stream",
     "text": [
      " 75%|█████████████████████████████▉          | 869/1162 [05:42<01:27,  3.34it/s]"
     ]
    },
    {
     "name": "stdout",
     "output_type": "stream",
     "text": [
      "\n",
      "image 1/1 /mnt/SSD/workspace/atomic_hack/Сварные_швы/dataset/4 (31).jpg: 576x1024 5 прилегающие дефектыs, 23.4ms\n",
      "Speed: 2.9ms preprocess, 23.4ms inference, 0.8ms postprocess per image at shape (1, 3, 576, 1024)\n"
     ]
    },
    {
     "name": "stderr",
     "output_type": "stream",
     "text": [
      " 75%|█████████████████████████████▉          | 870/1162 [05:42<01:38,  2.97it/s]"
     ]
    },
    {
     "name": "stdout",
     "output_type": "stream",
     "text": [
      "\n",
      "image 1/1 /mnt/SSD/workspace/atomic_hack/Сварные_швы/dataset/7 (227).jpg: 1024x576 2 прилегающие дефектыs, 21.4ms\n",
      "Speed: 26.1ms preprocess, 21.4ms inference, 0.7ms postprocess per image at shape (1, 3, 1024, 576)\n"
     ]
    },
    {
     "name": "stderr",
     "output_type": "stream",
     "text": [
      " 75%|█████████████████████████████▉          | 871/1162 [05:42<01:28,  3.27it/s]"
     ]
    },
    {
     "name": "stdout",
     "output_type": "stream",
     "text": [
      "\n",
      "image 1/1 /mnt/SSD/workspace/atomic_hack/Сварные_швы/dataset/12 (59).jpg: 1024x576 2 прилегающие дефектыs, 27.7ms\n",
      "Speed: 3.2ms preprocess, 27.7ms inference, 0.8ms postprocess per image at shape (1, 3, 1024, 576)\n"
     ]
    },
    {
     "name": "stderr",
     "output_type": "stream",
     "text": [
      " 75%|██████████████████████████████          | 872/1162 [05:43<01:22,  3.51it/s]"
     ]
    },
    {
     "name": "stdout",
     "output_type": "stream",
     "text": [
      "\n",
      "image 1/1 /mnt/SSD/workspace/atomic_hack/Сварные_швы/dataset/6 (48).jpg: 1024x576 (no detections), 25.8ms\n",
      "Speed: 3.3ms preprocess, 25.8ms inference, 0.3ms postprocess per image at shape (1, 3, 1024, 576)\n",
      "\n",
      "image 1/1 /mnt/SSD/workspace/atomic_hack/Сварные_швы/dataset/8 (118).jpg: 1024x576 3 прилегающие дефектыs, 25.7ms\n",
      "Speed: 3.0ms preprocess, 25.7ms inference, 1.2ms postprocess per image at shape (1, 3, 1024, 576)\n"
     ]
    },
    {
     "name": "stderr",
     "output_type": "stream",
     "text": [
      " 75%|██████████████████████████████          | 874/1162 [05:43<01:13,  3.93it/s]"
     ]
    },
    {
     "name": "stdout",
     "output_type": "stream",
     "text": [
      "\n",
      "image 1/1 /mnt/SSD/workspace/atomic_hack/Сварные_швы/dataset/7 (205).jpg: 1024x576 3 прилегающие дефектыs, 26.9ms\n",
      "Speed: 3.2ms preprocess, 26.9ms inference, 0.8ms postprocess per image at shape (1, 3, 1024, 576)\n"
     ]
    },
    {
     "name": "stderr",
     "output_type": "stream",
     "text": [
      " 75%|██████████████████████████████          | 875/1162 [05:43<01:21,  3.52it/s]"
     ]
    },
    {
     "name": "stdout",
     "output_type": "stream",
     "text": [
      "\n",
      "image 1/1 /mnt/SSD/workspace/atomic_hack/Сварные_швы/dataset/12 (19).jpg: 1024x576 6 прилегающие дефектыs, 24.3ms\n",
      "Speed: 3.2ms preprocess, 24.3ms inference, 0.9ms postprocess per image at shape (1, 3, 1024, 576)\n"
     ]
    },
    {
     "name": "stderr",
     "output_type": "stream",
     "text": [
      " 75%|██████████████████████████████▏         | 876/1162 [05:44<01:44,  2.73it/s]"
     ]
    },
    {
     "name": "stdout",
     "output_type": "stream",
     "text": [
      "\n",
      "image 1/1 /mnt/SSD/workspace/atomic_hack/Сварные_швы/dataset/5 (7).jpg: 576x1024 4 прилегающие дефектыs, 26.5ms\n",
      "Speed: 2.9ms preprocess, 26.5ms inference, 1.6ms postprocess per image at shape (1, 3, 576, 1024)\n"
     ]
    },
    {
     "name": "stderr",
     "output_type": "stream",
     "text": [
      " 75%|██████████████████████████████▏         | 877/1162 [05:44<01:43,  2.75it/s]"
     ]
    },
    {
     "name": "stdout",
     "output_type": "stream",
     "text": [
      "\n",
      "image 1/1 /mnt/SSD/workspace/atomic_hack/Сварные_швы/dataset/7 (79).jpg: 1024x576 5 прилегающие дефектыs, 20.2ms\n",
      "Speed: 2.8ms preprocess, 20.2ms inference, 0.7ms postprocess per image at shape (1, 3, 1024, 576)\n"
     ]
    },
    {
     "name": "stderr",
     "output_type": "stream",
     "text": [
      " 76%|██████████████████████████████▏         | 878/1162 [05:45<01:45,  2.70it/s]"
     ]
    },
    {
     "name": "stdout",
     "output_type": "stream",
     "text": [
      "\n",
      "image 1/1 /mnt/SSD/workspace/atomic_hack/Сварные_швы/dataset/5 (103).jpg: 576x1024 5 прилегающие дефектыs, 21.3ms\n",
      "Speed: 2.9ms preprocess, 21.3ms inference, 0.8ms postprocess per image at shape (1, 3, 576, 1024)\n"
     ]
    },
    {
     "name": "stderr",
     "output_type": "stream",
     "text": [
      " 76%|██████████████████████████████▎         | 879/1162 [05:45<01:46,  2.66it/s]"
     ]
    },
    {
     "name": "stdout",
     "output_type": "stream",
     "text": [
      "\n",
      "image 1/1 /mnt/SSD/workspace/atomic_hack/Сварные_швы/dataset/8 (77).jpg: 1024x576 5 прилегающие дефектыs, 19.6ms\n",
      "Speed: 2.9ms preprocess, 19.6ms inference, 1.1ms postprocess per image at shape (1, 3, 1024, 576)\n"
     ]
    },
    {
     "name": "stderr",
     "output_type": "stream",
     "text": [
      " 76%|██████████████████████████████▎         | 880/1162 [05:45<01:49,  2.58it/s]"
     ]
    },
    {
     "name": "stdout",
     "output_type": "stream",
     "text": [
      "\n",
      "image 1/1 /mnt/SSD/workspace/atomic_hack/Сварные_швы/dataset/8 (84).jpg: 1024x576 4 прилегающие дефектыs, 20.2ms\n",
      "Speed: 3.0ms preprocess, 20.2ms inference, 0.7ms postprocess per image at shape (1, 3, 1024, 576)\n"
     ]
    },
    {
     "name": "stderr",
     "output_type": "stream",
     "text": [
      " 76%|██████████████████████████████▎         | 881/1162 [05:46<01:47,  2.61it/s]"
     ]
    },
    {
     "name": "stdout",
     "output_type": "stream",
     "text": [
      "\n",
      "image 1/1 /mnt/SSD/workspace/atomic_hack/Сварные_швы/dataset/4 (91).jpg: 576x1024 12 прилегающие дефектыs, 21.2ms\n",
      "Speed: 2.8ms preprocess, 21.2ms inference, 1.1ms postprocess per image at shape (1, 3, 576, 1024)\n"
     ]
    },
    {
     "name": "stderr",
     "output_type": "stream",
     "text": [
      " 76%|██████████████████████████████▎         | 882/1162 [05:47<02:34,  1.81it/s]"
     ]
    },
    {
     "name": "stdout",
     "output_type": "stream",
     "text": [
      "\n",
      "image 1/1 /mnt/SSD/workspace/atomic_hack/Сварные_швы/dataset/4 (90).jpg: 576x1024 11 прилегающие дефектыs, 21.0ms\n",
      "Speed: 3.0ms preprocess, 21.0ms inference, 0.8ms postprocess per image at shape (1, 3, 576, 1024)\n"
     ]
    },
    {
     "name": "stderr",
     "output_type": "stream",
     "text": [
      " 76%|██████████████████████████████▍         | 883/1162 [05:48<02:56,  1.58it/s]"
     ]
    },
    {
     "name": "stdout",
     "output_type": "stream",
     "text": [
      "\n",
      "image 1/1 /mnt/SSD/workspace/atomic_hack/Сварные_швы/dataset/9 (58).jpg: 1024x576 1 прилегающие дефекты, 20.2ms\n",
      "Speed: 3.0ms preprocess, 20.2ms inference, 0.7ms postprocess per image at shape (1, 3, 1024, 576)\n"
     ]
    },
    {
     "name": "stderr",
     "output_type": "stream",
     "text": [
      " 76%|██████████████████████████████▍         | 884/1162 [05:48<02:14,  2.06it/s]"
     ]
    },
    {
     "name": "stdout",
     "output_type": "stream",
     "text": [
      "\n",
      "image 1/1 /mnt/SSD/workspace/atomic_hack/Сварные_швы/dataset/9 (23).jpg: 1024x576 3 прилегающие дефектыs, 20.0ms\n",
      "Speed: 3.0ms preprocess, 20.0ms inference, 0.7ms postprocess per image at shape (1, 3, 1024, 576)\n"
     ]
    },
    {
     "name": "stderr",
     "output_type": "stream",
     "text": [
      " 76%|██████████████████████████████▍         | 885/1162 [05:48<01:57,  2.36it/s]"
     ]
    },
    {
     "name": "stdout",
     "output_type": "stream",
     "text": [
      "\n",
      "image 1/1 /mnt/SSD/workspace/atomic_hack/Сварные_швы/dataset/5 (145).jpg: 576x1024 2 прилегающие дефектыs, 20.2ms\n",
      "Speed: 2.8ms preprocess, 20.2ms inference, 0.7ms postprocess per image at shape (1, 3, 576, 1024)\n"
     ]
    },
    {
     "name": "stderr",
     "output_type": "stream",
     "text": [
      " 76%|██████████████████████████████▍         | 886/1162 [05:48<01:38,  2.81it/s]"
     ]
    },
    {
     "name": "stdout",
     "output_type": "stream",
     "text": [
      "\n",
      "image 1/1 /mnt/SSD/workspace/atomic_hack/Сварные_швы/dataset/7 (134).jpg: 1024x576 9 прилегающие дефектыs, 20.2ms\n",
      "Speed: 3.0ms preprocess, 20.2ms inference, 0.8ms postprocess per image at shape (1, 3, 1024, 576)\n"
     ]
    },
    {
     "name": "stderr",
     "output_type": "stream",
     "text": [
      " 76%|██████████████████████████████▌         | 887/1162 [05:49<02:01,  2.27it/s]"
     ]
    },
    {
     "name": "stdout",
     "output_type": "stream",
     "text": [
      "\n",
      "image 1/1 /mnt/SSD/workspace/atomic_hack/Сварные_швы/dataset/8 (37).jpg: 1024x576 3 прилегающие дефектыs, 25.1ms\n",
      "Speed: 2.9ms preprocess, 25.1ms inference, 0.9ms postprocess per image at shape (1, 3, 1024, 576)\n"
     ]
    },
    {
     "name": "stderr",
     "output_type": "stream",
     "text": [
      " 76%|██████████████████████████████▌         | 888/1162 [05:49<01:51,  2.46it/s]"
     ]
    },
    {
     "name": "stdout",
     "output_type": "stream",
     "text": [
      "\n",
      "image 1/1 /mnt/SSD/workspace/atomic_hack/Сварные_швы/dataset/3 (6).jpg: 576x1024 8 прилегающие дефектыs, 70.6ms\n",
      "Speed: 3.3ms preprocess, 70.6ms inference, 0.8ms postprocess per image at shape (1, 3, 576, 1024)\n"
     ]
    },
    {
     "name": "stderr",
     "output_type": "stream",
     "text": [
      " 77%|██████████████████████████████▌         | 889/1162 [05:50<02:15,  2.01it/s]"
     ]
    },
    {
     "name": "stdout",
     "output_type": "stream",
     "text": [
      "\n",
      "image 1/1 /mnt/SSD/workspace/atomic_hack/Сварные_швы/dataset/5 (222).jpg: 576x1024 3 прилегающие дефектыs, 21.5ms\n",
      "Speed: 2.8ms preprocess, 21.5ms inference, 0.7ms postprocess per image at shape (1, 3, 576, 1024)\n"
     ]
    },
    {
     "name": "stderr",
     "output_type": "stream",
     "text": [
      " 77%|██████████████████████████████▋         | 890/1162 [05:50<01:56,  2.33it/s]"
     ]
    },
    {
     "name": "stdout",
     "output_type": "stream",
     "text": [
      "\n",
      "image 1/1 /mnt/SSD/workspace/atomic_hack/Сварные_швы/dataset/7 (261).jpg: 1024x576 3 прилегающие дефектыs, 25.3ms\n",
      "Speed: 3.1ms preprocess, 25.3ms inference, 1.2ms postprocess per image at shape (1, 3, 1024, 576)\n"
     ]
    },
    {
     "name": "stderr",
     "output_type": "stream",
     "text": [
      " 77%|██████████████████████████████▋         | 891/1162 [05:50<01:43,  2.61it/s]"
     ]
    },
    {
     "name": "stdout",
     "output_type": "stream",
     "text": [
      "\n",
      "image 1/1 /mnt/SSD/workspace/atomic_hack/Сварные_швы/dataset/4 (95).jpg: 576x1024 10 прилегающие дефектыs, 20.8ms\n",
      "Speed: 2.7ms preprocess, 20.8ms inference, 0.8ms postprocess per image at shape (1, 3, 576, 1024)\n"
     ]
    },
    {
     "name": "stderr",
     "output_type": "stream",
     "text": [
      " 77%|██████████████████████████████▋         | 892/1162 [05:51<02:08,  2.09it/s]"
     ]
    },
    {
     "name": "stdout",
     "output_type": "stream",
     "text": [
      "\n",
      "image 1/1 /mnt/SSD/workspace/atomic_hack/Сварные_швы/dataset/5 (184).jpg: 576x1024 5 прилегающие дефектыs, 23.4ms\n",
      "Speed: 3.0ms preprocess, 23.4ms inference, 0.8ms postprocess per image at shape (1, 3, 576, 1024)\n"
     ]
    },
    {
     "name": "stderr",
     "output_type": "stream",
     "text": [
      " 77%|██████████████████████████████▋         | 893/1162 [05:52<02:01,  2.21it/s]"
     ]
    },
    {
     "name": "stdout",
     "output_type": "stream",
     "text": [
      "\n",
      "image 1/1 /mnt/SSD/workspace/atomic_hack/Сварные_швы/dataset/11 (58).jpg: 1024x576 2 прилегающие дефектыs, 19.8ms\n",
      "Speed: 2.8ms preprocess, 19.8ms inference, 0.7ms postprocess per image at shape (1, 3, 1024, 576)\n"
     ]
    },
    {
     "name": "stderr",
     "output_type": "stream",
     "text": [
      " 77%|██████████████████████████████▊         | 894/1162 [05:52<01:40,  2.66it/s]"
     ]
    },
    {
     "name": "stdout",
     "output_type": "stream",
     "text": [
      "\n",
      "image 1/1 /mnt/SSD/workspace/atomic_hack/Сварные_швы/dataset/5 (134).jpg: 576x1024 5 прилегающие дефектыs, 21.1ms\n",
      "Speed: 2.9ms preprocess, 21.1ms inference, 0.8ms postprocess per image at shape (1, 3, 576, 1024)\n"
     ]
    },
    {
     "name": "stderr",
     "output_type": "stream",
     "text": [
      " 77%|██████████████████████████████▊         | 895/1162 [05:52<01:42,  2.61it/s]"
     ]
    },
    {
     "name": "stdout",
     "output_type": "stream",
     "text": [
      "\n",
      "image 1/1 /mnt/SSD/workspace/atomic_hack/Сварные_швы/dataset/4 (46).jpg: 576x1024 1 прилегающие дефекты, 21.4ms\n",
      "Speed: 2.8ms preprocess, 21.4ms inference, 0.8ms postprocess per image at shape (1, 3, 576, 1024)\n"
     ]
    },
    {
     "name": "stderr",
     "output_type": "stream",
     "text": [
      " 77%|██████████████████████████████▊         | 896/1162 [05:52<01:22,  3.23it/s]"
     ]
    },
    {
     "name": "stdout",
     "output_type": "stream",
     "text": [
      "\n",
      "image 1/1 /mnt/SSD/workspace/atomic_hack/Сварные_швы/dataset/4 (22).jpg: 576x1024 (no detections), 21.3ms\n",
      "Speed: 2.8ms preprocess, 21.3ms inference, 0.3ms postprocess per image at shape (1, 3, 576, 1024)\n",
      "\n",
      "image 1/1 /mnt/SSD/workspace/atomic_hack/Сварные_швы/dataset/6 (5).jpg: 1024x576 1 прилегающие дефекты, 20.1ms\n",
      "Speed: 2.8ms preprocess, 20.1ms inference, 0.7ms postprocess per image at shape (1, 3, 1024, 576)\n"
     ]
    },
    {
     "name": "stderr",
     "output_type": "stream",
     "text": [
      " 77%|██████████████████████████████▉         | 898/1162 [05:52<00:55,  4.74it/s]"
     ]
    },
    {
     "name": "stdout",
     "output_type": "stream",
     "text": [
      "\n",
      "image 1/1 /mnt/SSD/workspace/atomic_hack/Сварные_швы/dataset/8 (26).jpg: 1024x576 2 прилегающие дефектыs, 20.2ms\n",
      "Speed: 3.0ms preprocess, 20.2ms inference, 0.7ms postprocess per image at shape (1, 3, 1024, 576)\n"
     ]
    },
    {
     "name": "stderr",
     "output_type": "stream",
     "text": [
      " 77%|██████████████████████████████▉         | 899/1162 [05:53<00:54,  4.83it/s]"
     ]
    },
    {
     "name": "stdout",
     "output_type": "stream",
     "text": [
      "\n",
      "image 1/1 /mnt/SSD/workspace/atomic_hack/Сварные_швы/dataset/8 (36).jpg: 1024x576 2 прилегающие дефектыs, 20.3ms\n",
      "Speed: 3.0ms preprocess, 20.3ms inference, 0.7ms postprocess per image at shape (1, 3, 1024, 576)\n"
     ]
    },
    {
     "name": "stderr",
     "output_type": "stream",
     "text": [
      " 77%|██████████████████████████████▉         | 900/1162 [05:53<00:53,  4.90it/s]"
     ]
    },
    {
     "name": "stdout",
     "output_type": "stream",
     "text": [
      "\n",
      "image 1/1 /mnt/SSD/workspace/atomic_hack/Сварные_швы/dataset/9 (15).jpg: 1024x576 6 прилегающие дефектыs, 19.8ms\n",
      "Speed: 3.1ms preprocess, 19.8ms inference, 0.8ms postprocess per image at shape (1, 3, 1024, 576)\n"
     ]
    },
    {
     "name": "stderr",
     "output_type": "stream",
     "text": [
      " 78%|███████████████████████████████         | 901/1162 [05:53<01:10,  3.68it/s]"
     ]
    },
    {
     "name": "stdout",
     "output_type": "stream",
     "text": [
      "\n",
      "image 1/1 /mnt/SSD/workspace/atomic_hack/Сварные_швы/dataset/6 (44).jpg: 1024x576 (no detections), 20.4ms\n",
      "Speed: 2.8ms preprocess, 20.4ms inference, 0.3ms postprocess per image at shape (1, 3, 1024, 576)\n",
      "\n",
      "image 1/1 /mnt/SSD/workspace/atomic_hack/Сварные_швы/dataset/6 (6).jpg: 1024x576 1 прилегающие дефекты, 20.4ms\n",
      "Speed: 3.1ms preprocess, 20.4ms inference, 0.8ms postprocess per image at shape (1, 3, 1024, 576)\n"
     ]
    },
    {
     "name": "stderr",
     "output_type": "stream",
     "text": [
      " 78%|███████████████████████████████         | 903/1162 [05:54<00:50,  5.11it/s]"
     ]
    },
    {
     "name": "stdout",
     "output_type": "stream",
     "text": [
      "\n",
      "image 1/1 /mnt/SSD/workspace/atomic_hack/Сварные_швы/dataset/8 (27).jpg: 1024x576 2 прилегающие дефектыs, 20.5ms\n",
      "Speed: 2.8ms preprocess, 20.5ms inference, 0.8ms postprocess per image at shape (1, 3, 1024, 576)\n"
     ]
    },
    {
     "name": "stderr",
     "output_type": "stream",
     "text": [
      " 78%|███████████████████████████████         | 904/1162 [05:54<00:50,  5.11it/s]"
     ]
    },
    {
     "name": "stdout",
     "output_type": "stream",
     "text": [
      "\n",
      "image 1/1 /mnt/SSD/workspace/atomic_hack/Сварные_швы/dataset/4 (58).jpg: 576x1024 1 прилегающие дефекты, 21.5ms\n",
      "Speed: 2.9ms preprocess, 21.5ms inference, 0.7ms postprocess per image at shape (1, 3, 576, 1024)\n"
     ]
    },
    {
     "name": "stderr",
     "output_type": "stream",
     "text": [
      " 78%|███████████████████████████████▏        | 905/1162 [05:54<00:46,  5.57it/s]"
     ]
    },
    {
     "name": "stdout",
     "output_type": "stream",
     "text": [
      "\n",
      "image 1/1 /mnt/SSD/workspace/atomic_hack/Сварные_швы/dataset/8 (86).jpg: 1024x576 3 прилегающие дефектыs, 20.3ms\n",
      "Speed: 2.8ms preprocess, 20.3ms inference, 0.7ms postprocess per image at shape (1, 3, 1024, 576)\n"
     ]
    },
    {
     "name": "stderr",
     "output_type": "stream",
     "text": [
      " 78%|███████████████████████████████▏        | 906/1162 [05:54<00:51,  4.99it/s]"
     ]
    },
    {
     "name": "stdout",
     "output_type": "stream",
     "text": [
      "\n",
      "image 1/1 /mnt/SSD/workspace/atomic_hack/Сварные_швы/dataset/7 (222).jpg: 1024x576 7 прилегающие дефектыs, 19.8ms\n",
      "Speed: 3.1ms preprocess, 19.8ms inference, 1.0ms postprocess per image at shape (1, 3, 1024, 576)\n"
     ]
    },
    {
     "name": "stderr",
     "output_type": "stream",
     "text": [
      " 78%|███████████████████████████████▏        | 907/1162 [05:55<01:13,  3.48it/s]"
     ]
    },
    {
     "name": "stdout",
     "output_type": "stream",
     "text": [
      "\n",
      "image 1/1 /mnt/SSD/workspace/atomic_hack/Сварные_швы/dataset/5 (45).jpg: 576x1024 1 прилегающие дефекты, 66.5ms\n",
      "Speed: 2.9ms preprocess, 66.5ms inference, 0.8ms postprocess per image at shape (1, 3, 576, 1024)\n"
     ]
    },
    {
     "name": "stderr",
     "output_type": "stream",
     "text": [
      " 78%|███████████████████████████████▎        | 908/1162 [05:55<01:05,  3.88it/s]"
     ]
    },
    {
     "name": "stdout",
     "output_type": "stream",
     "text": [
      "\n",
      "image 1/1 /mnt/SSD/workspace/atomic_hack/Сварные_швы/dataset/3 (18).jpg: 576x1024 (no detections), 21.4ms\n",
      "Speed: 2.8ms preprocess, 21.4ms inference, 0.3ms postprocess per image at shape (1, 3, 576, 1024)\n",
      "\n",
      "image 1/1 /mnt/SSD/workspace/atomic_hack/Сварные_швы/dataset/7 (121).jpg: 1024x576 9 прилегающие дефектыs, 20.3ms\n",
      "Speed: 2.9ms preprocess, 20.3ms inference, 0.8ms postprocess per image at shape (1, 3, 1024, 576)\n"
     ]
    },
    {
     "name": "stderr",
     "output_type": "stream",
     "text": [
      " 78%|███████████████████████████████▎        | 910/1162 [05:56<01:16,  3.30it/s]"
     ]
    },
    {
     "name": "stdout",
     "output_type": "stream",
     "text": [
      "\n",
      "image 1/1 /mnt/SSD/workspace/atomic_hack/Сварные_швы/dataset/9 (68).jpg: 1024x576 5 прилегающие дефектыs, 20.4ms\n",
      "Speed: 3.9ms preprocess, 20.4ms inference, 0.8ms postprocess per image at shape (1, 3, 1024, 576)\n"
     ]
    },
    {
     "name": "stderr",
     "output_type": "stream",
     "text": [
      " 78%|███████████████████████████████▎        | 911/1162 [05:56<01:21,  3.09it/s]"
     ]
    },
    {
     "name": "stdout",
     "output_type": "stream",
     "text": [
      "\n",
      "image 1/1 /mnt/SSD/workspace/atomic_hack/Сварные_швы/dataset/7 (241).jpg: 1024x576 8 прилегающие дефектыs, 19.8ms\n",
      "Speed: 3.0ms preprocess, 19.8ms inference, 1.0ms postprocess per image at shape (1, 3, 1024, 576)\n"
     ]
    },
    {
     "name": "stderr",
     "output_type": "stream",
     "text": [
      " 78%|███████████████████████████████▍        | 912/1162 [05:57<01:42,  2.45it/s]"
     ]
    },
    {
     "name": "stdout",
     "output_type": "stream",
     "text": [
      "\n",
      "image 1/1 /mnt/SSD/workspace/atomic_hack/Сварные_швы/dataset/7 (80).jpg: 1024x576 8 прилегающие дефектыs, 22.1ms\n",
      "Speed: 3.0ms preprocess, 22.1ms inference, 0.8ms postprocess per image at shape (1, 3, 1024, 576)\n"
     ]
    },
    {
     "name": "stderr",
     "output_type": "stream",
     "text": [
      " 79%|███████████████████████████████▍        | 913/1162 [05:57<01:58,  2.11it/s]"
     ]
    },
    {
     "name": "stdout",
     "output_type": "stream",
     "text": [
      "\n",
      "image 1/1 /mnt/SSD/workspace/atomic_hack/Сварные_швы/dataset/4 (29).jpg: 576x1024 3 прилегающие дефектыs, 22.3ms\n",
      "Speed: 2.9ms preprocess, 22.3ms inference, 0.9ms postprocess per image at shape (1, 3, 576, 1024)\n"
     ]
    },
    {
     "name": "stderr",
     "output_type": "stream",
     "text": [
      " 79%|███████████████████████████████▍        | 914/1162 [05:58<01:44,  2.38it/s]"
     ]
    },
    {
     "name": "stdout",
     "output_type": "stream",
     "text": [
      "\n",
      "image 1/1 /mnt/SSD/workspace/atomic_hack/Сварные_швы/dataset/5 (128).jpg: 576x1024 9 прилегающие дефектыs, 21.9ms\n",
      "Speed: 2.8ms preprocess, 21.9ms inference, 0.8ms postprocess per image at shape (1, 3, 576, 1024)\n"
     ]
    },
    {
     "name": "stderr",
     "output_type": "stream",
     "text": [
      " 79%|███████████████████████████████▍        | 915/1162 [05:58<01:59,  2.06it/s]"
     ]
    },
    {
     "name": "stdout",
     "output_type": "stream",
     "text": [
      "\n",
      "image 1/1 /mnt/SSD/workspace/atomic_hack/Сварные_швы/dataset/8 (1).jpg: 1024x576 4 прилегающие дефектыs, 20.8ms\n",
      "Speed: 3.1ms preprocess, 20.8ms inference, 0.8ms postprocess per image at shape (1, 3, 1024, 576)\n"
     ]
    },
    {
     "name": "stderr",
     "output_type": "stream",
     "text": [
      " 79%|███████████████████████████████▌        | 916/1162 [05:59<01:53,  2.18it/s]"
     ]
    },
    {
     "name": "stdout",
     "output_type": "stream",
     "text": [
      "\n",
      "image 1/1 /mnt/SSD/workspace/atomic_hack/Сварные_швы/dataset/11 (39).jpg: 1024x576 2 прилегающие дефектыs, 20.6ms\n",
      "Speed: 3.0ms preprocess, 20.6ms inference, 0.7ms postprocess per image at shape (1, 3, 1024, 576)\n"
     ]
    },
    {
     "name": "stderr",
     "output_type": "stream",
     "text": [
      " 79%|███████████████████████████████▌        | 917/1162 [05:59<01:34,  2.60it/s]"
     ]
    },
    {
     "name": "stdout",
     "output_type": "stream",
     "text": [
      "\n",
      "image 1/1 /mnt/SSD/workspace/atomic_hack/Сварные_швы/dataset/7 (187).jpg: 1024x576 5 прилегающие дефектыs, 21.7ms\n",
      "Speed: 3.2ms preprocess, 21.7ms inference, 0.7ms postprocess per image at shape (1, 3, 1024, 576)\n"
     ]
    },
    {
     "name": "stderr",
     "output_type": "stream",
     "text": [
      " 79%|███████████████████████████████▌        | 918/1162 [05:59<01:39,  2.46it/s]"
     ]
    },
    {
     "name": "stdout",
     "output_type": "stream",
     "text": [
      "\n",
      "image 1/1 /mnt/SSD/workspace/atomic_hack/Сварные_швы/dataset/7 (232).jpg: 1024x576 5 прилегающие дефектыs, 21.4ms\n",
      "Speed: 3.0ms preprocess, 21.4ms inference, 0.7ms postprocess per image at shape (1, 3, 1024, 576)\n"
     ]
    },
    {
     "name": "stderr",
     "output_type": "stream",
     "text": [
      " 79%|███████████████████████████████▋        | 919/1162 [06:00<01:38,  2.47it/s]"
     ]
    },
    {
     "name": "stdout",
     "output_type": "stream",
     "text": [
      "\n",
      "image 1/1 /mnt/SSD/workspace/atomic_hack/Сварные_швы/dataset/8 (4).jpg: 1024x576 4 прилегающие дефектыs, 19.5ms\n",
      "Speed: 3.1ms preprocess, 19.5ms inference, 0.7ms postprocess per image at shape (1, 3, 1024, 576)\n"
     ]
    },
    {
     "name": "stderr",
     "output_type": "stream",
     "text": [
      " 79%|███████████████████████████████▋        | 920/1162 [06:00<01:32,  2.63it/s]"
     ]
    },
    {
     "name": "stdout",
     "output_type": "stream",
     "text": [
      "\n",
      "image 1/1 /mnt/SSD/workspace/atomic_hack/Сварные_швы/dataset/1 (7).jpg: 576x1024 14 прилегающие дефектыs, 21.6ms\n",
      "Speed: 2.5ms preprocess, 21.6ms inference, 0.7ms postprocess per image at shape (1, 3, 576, 1024)\n"
     ]
    },
    {
     "name": "stderr",
     "output_type": "stream",
     "text": [
      " 79%|███████████████████████████████▋        | 921/1162 [06:01<02:16,  1.77it/s]"
     ]
    },
    {
     "name": "stdout",
     "output_type": "stream",
     "text": [
      "\n",
      "image 1/1 /mnt/SSD/workspace/atomic_hack/Сварные_швы/dataset/6 (33).jpg: 1024x576 2 прилегающие дефектыs, 20.7ms\n",
      "Speed: 3.1ms preprocess, 20.7ms inference, 0.7ms postprocess per image at shape (1, 3, 1024, 576)\n"
     ]
    },
    {
     "name": "stderr",
     "output_type": "stream",
     "text": [
      " 79%|███████████████████████████████▋        | 922/1162 [06:01<01:49,  2.19it/s]"
     ]
    },
    {
     "name": "stdout",
     "output_type": "stream",
     "text": [
      "\n",
      "image 1/1 /mnt/SSD/workspace/atomic_hack/Сварные_швы/dataset/6 (80).jpg: 1024x576 2 прилегающие дефектыs, 21.2ms\n",
      "Speed: 3.0ms preprocess, 21.2ms inference, 0.8ms postprocess per image at shape (1, 3, 1024, 576)\n"
     ]
    },
    {
     "name": "stderr",
     "output_type": "stream",
     "text": [
      " 79%|███████████████████████████████▊        | 923/1162 [06:01<01:30,  2.64it/s]"
     ]
    },
    {
     "name": "stdout",
     "output_type": "stream",
     "text": [
      "\n",
      "image 1/1 /mnt/SSD/workspace/atomic_hack/Сварные_швы/dataset/8 (56).jpg: 1024x576 3 прилегающие дефектыs, 21.1ms\n",
      "Speed: 2.9ms preprocess, 21.1ms inference, 0.7ms postprocess per image at shape (1, 3, 1024, 576)\n"
     ]
    },
    {
     "name": "stderr",
     "output_type": "stream",
     "text": [
      " 80%|███████████████████████████████▊        | 924/1162 [06:02<01:22,  2.89it/s]"
     ]
    },
    {
     "name": "stdout",
     "output_type": "stream",
     "text": [
      "\n",
      "image 1/1 /mnt/SSD/workspace/atomic_hack/Сварные_швы/dataset/11 (8).jpg: 1024x576 1 прилегающие дефекты, 20.2ms\n",
      "Speed: 3.1ms preprocess, 20.2ms inference, 0.7ms postprocess per image at shape (1, 3, 1024, 576)\n"
     ]
    },
    {
     "name": "stderr",
     "output_type": "stream",
     "text": [
      " 80%|███████████████████████████████▊        | 925/1162 [06:02<01:06,  3.55it/s]"
     ]
    },
    {
     "name": "stdout",
     "output_type": "stream",
     "text": [
      "\n",
      "image 1/1 /mnt/SSD/workspace/atomic_hack/Сварные_швы/dataset/5 (119).jpg: 576x1024 4 прилегающие дефектыs, 22.5ms\n",
      "Speed: 2.7ms preprocess, 22.5ms inference, 0.9ms postprocess per image at shape (1, 3, 576, 1024)\n"
     ]
    },
    {
     "name": "stderr",
     "output_type": "stream",
     "text": [
      " 80%|███████████████████████████████▉        | 926/1162 [06:02<01:10,  3.33it/s]"
     ]
    },
    {
     "name": "stdout",
     "output_type": "stream",
     "text": [
      "\n",
      "image 1/1 /mnt/SSD/workspace/atomic_hack/Сварные_швы/dataset/3 (50).jpg: 576x1024 5 прилегающие дефектыs, 22.0ms\n",
      "Speed: 3.0ms preprocess, 22.0ms inference, 0.7ms postprocess per image at shape (1, 3, 576, 1024)\n"
     ]
    },
    {
     "name": "stderr",
     "output_type": "stream",
     "text": [
      " 80%|███████████████████████████████▉        | 927/1162 [06:02<01:18,  3.01it/s]"
     ]
    },
    {
     "name": "stdout",
     "output_type": "stream",
     "text": [
      "\n",
      "image 1/1 /mnt/SSD/workspace/atomic_hack/Сварные_швы/dataset/5 (180).jpg: 576x1024 12 прилегающие дефектыs, 22.7ms\n",
      "Speed: 2.9ms preprocess, 22.7ms inference, 0.8ms postprocess per image at shape (1, 3, 576, 1024)\n"
     ]
    },
    {
     "name": "stderr",
     "output_type": "stream",
     "text": [
      " 80%|███████████████████████████████▉        | 928/1162 [06:03<01:56,  2.01it/s]"
     ]
    },
    {
     "name": "stdout",
     "output_type": "stream",
     "text": [
      "\n",
      "image 1/1 /mnt/SSD/workspace/atomic_hack/Сварные_швы/dataset/7 (5).jpg: 1024x576 15 прилегающие дефектыs, 25.8ms\n",
      "Speed: 3.1ms preprocess, 25.8ms inference, 1.3ms postprocess per image at shape (1, 3, 1024, 576)\n"
     ]
    },
    {
     "name": "stderr",
     "output_type": "stream",
     "text": [
      " 80%|███████████████████████████████▉        | 929/1162 [06:05<02:44,  1.42it/s]"
     ]
    },
    {
     "name": "stdout",
     "output_type": "stream",
     "text": [
      "\n",
      "image 1/1 /mnt/SSD/workspace/atomic_hack/Сварные_швы/dataset/4 (18).jpg: 576x1024 1 прилегающие дефекты, 21.6ms\n",
      "Speed: 2.9ms preprocess, 21.6ms inference, 0.8ms postprocess per image at shape (1, 3, 576, 1024)\n"
     ]
    },
    {
     "name": "stderr",
     "output_type": "stream",
     "text": [
      " 80%|████████████████████████████████        | 930/1162 [06:05<02:03,  1.88it/s]"
     ]
    },
    {
     "name": "stdout",
     "output_type": "stream",
     "text": [
      "\n",
      "image 1/1 /mnt/SSD/workspace/atomic_hack/Сварные_швы/dataset/5 (201).jpg: 576x1024 7 прилегающие дефектыs, 21.5ms\n",
      "Speed: 2.8ms preprocess, 21.5ms inference, 0.8ms postprocess per image at shape (1, 3, 576, 1024)\n"
     ]
    },
    {
     "name": "stderr",
     "output_type": "stream",
     "text": [
      " 80%|████████████████████████████████        | 931/1162 [06:05<02:10,  1.76it/s]"
     ]
    },
    {
     "name": "stdout",
     "output_type": "stream",
     "text": [
      "\n",
      "image 1/1 /mnt/SSD/workspace/atomic_hack/Сварные_швы/dataset/8 (79).jpg: 1024x576 5 прилегающие дефектыs, 22.3ms\n",
      "Speed: 3.3ms preprocess, 22.3ms inference, 0.8ms postprocess per image at shape (1, 3, 1024, 576)\n"
     ]
    },
    {
     "name": "stderr",
     "output_type": "stream",
     "text": [
      " 80%|████████████████████████████████        | 932/1162 [06:06<02:00,  1.91it/s]"
     ]
    },
    {
     "name": "stdout",
     "output_type": "stream",
     "text": [
      "\n",
      "image 1/1 /mnt/SSD/workspace/atomic_hack/Сварные_швы/dataset/7 (208).jpg: 1024x576 4 прилегающие дефектыs, 28.1ms\n",
      "Speed: 3.0ms preprocess, 28.1ms inference, 1.9ms postprocess per image at shape (1, 3, 1024, 576)\n"
     ]
    },
    {
     "name": "stderr",
     "output_type": "stream",
     "text": [
      " 80%|████████████████████████████████        | 933/1162 [06:06<01:54,  2.00it/s]"
     ]
    },
    {
     "name": "stdout",
     "output_type": "stream",
     "text": [
      "\n",
      "image 1/1 /mnt/SSD/workspace/atomic_hack/Сварные_швы/dataset/11 (51).jpg: 1024x576 2 прилегающие дефектыs, 25.2ms\n",
      "Speed: 3.2ms preprocess, 25.2ms inference, 1.6ms postprocess per image at shape (1, 3, 1024, 576)\n"
     ]
    },
    {
     "name": "stderr",
     "output_type": "stream",
     "text": [
      " 80%|████████████████████████████████▏       | 934/1162 [06:06<01:36,  2.37it/s]"
     ]
    },
    {
     "name": "stdout",
     "output_type": "stream",
     "text": [
      "\n",
      "image 1/1 /mnt/SSD/workspace/atomic_hack/Сварные_швы/dataset/9 (39).jpg: 1024x576 2 прилегающие дефектыs, 22.3ms\n",
      "Speed: 3.0ms preprocess, 22.3ms inference, 0.7ms postprocess per image at shape (1, 3, 1024, 576)\n"
     ]
    },
    {
     "name": "stderr",
     "output_type": "stream",
     "text": [
      " 80%|████████████████████████████████▏       | 935/1162 [06:07<01:21,  2.80it/s]"
     ]
    },
    {
     "name": "stdout",
     "output_type": "stream",
     "text": [
      "\n",
      "image 1/1 /mnt/SSD/workspace/atomic_hack/Сварные_швы/dataset/5 (163).jpg: 576x1024 8 прилегающие дефектыs, 23.5ms\n",
      "Speed: 31.9ms preprocess, 23.5ms inference, 0.8ms postprocess per image at shape (1, 3, 576, 1024)\n"
     ]
    },
    {
     "name": "stderr",
     "output_type": "stream",
     "text": [
      " 81%|████████████████████████████████▏       | 936/1162 [06:07<01:43,  2.18it/s]"
     ]
    },
    {
     "name": "stdout",
     "output_type": "stream",
     "text": [
      "\n",
      "image 1/1 /mnt/SSD/workspace/atomic_hack/Сварные_швы/dataset/5 (167).jpg: 576x1024 5 прилегающие дефектыs, 26.5ms\n",
      "Speed: 3.0ms preprocess, 26.5ms inference, 1.3ms postprocess per image at shape (1, 3, 576, 1024)\n"
     ]
    },
    {
     "name": "stderr",
     "output_type": "stream",
     "text": [
      " 81%|████████████████████████████████▎       | 937/1162 [06:08<01:42,  2.19it/s]"
     ]
    },
    {
     "name": "stdout",
     "output_type": "stream",
     "text": [
      "\n",
      "image 1/1 /mnt/SSD/workspace/atomic_hack/Сварные_швы/dataset/7 (183).jpg: 1024x576 6 прилегающие дефектыs, 20.4ms\n",
      "Speed: 3.1ms preprocess, 20.4ms inference, 0.8ms postprocess per image at shape (1, 3, 1024, 576)\n"
     ]
    },
    {
     "name": "stderr",
     "output_type": "stream",
     "text": [
      " 81%|████████████████████████████████▎       | 938/1162 [06:08<01:42,  2.19it/s]"
     ]
    },
    {
     "name": "stdout",
     "output_type": "stream",
     "text": [
      "\n",
      "image 1/1 /mnt/SSD/workspace/atomic_hack/Сварные_швы/dataset/8 (75).jpg: 1024x576 4 прилегающие дефектыs, 25.8ms\n",
      "Speed: 3.0ms preprocess, 25.8ms inference, 1.1ms postprocess per image at shape (1, 3, 1024, 576)\n"
     ]
    },
    {
     "name": "stderr",
     "output_type": "stream",
     "text": [
      " 81%|████████████████████████████████▎       | 939/1162 [06:09<01:42,  2.18it/s]"
     ]
    },
    {
     "name": "stdout",
     "output_type": "stream",
     "text": [
      "\n",
      "image 1/1 /mnt/SSD/workspace/atomic_hack/Сварные_швы/dataset/4 (81).jpg: 576x1024 13 прилегающие дефектыs, 29.8ms\n",
      "Speed: 2.9ms preprocess, 29.8ms inference, 3.2ms postprocess per image at shape (1, 3, 576, 1024)\n"
     ]
    },
    {
     "name": "stderr",
     "output_type": "stream",
     "text": [
      " 81%|████████████████████████████████▎       | 940/1162 [06:10<02:23,  1.55it/s]"
     ]
    },
    {
     "name": "stdout",
     "output_type": "stream",
     "text": [
      "\n",
      "image 1/1 /mnt/SSD/workspace/atomic_hack/Сварные_швы/dataset/4 (134).jpg: 576x1024 10 прилегающие дефектыs, 21.5ms\n",
      "Speed: 2.7ms preprocess, 21.5ms inference, 0.9ms postprocess per image at shape (1, 3, 576, 1024)\n"
     ]
    },
    {
     "name": "stderr",
     "output_type": "stream",
     "text": [
      " 81%|████████████████████████████████▍       | 941/1162 [06:11<02:33,  1.44it/s]"
     ]
    },
    {
     "name": "stdout",
     "output_type": "stream",
     "text": [
      "\n",
      "image 1/1 /mnt/SSD/workspace/atomic_hack/Сварные_швы/dataset/12 (31).jpg: 1024x576 2 прилегающие дефектыs, 20.6ms\n",
      "Speed: 3.1ms preprocess, 20.6ms inference, 0.8ms postprocess per image at shape (1, 3, 1024, 576)\n"
     ]
    },
    {
     "name": "stderr",
     "output_type": "stream",
     "text": [
      " 81%|████████████████████████████████▍       | 942/1162 [06:11<01:59,  1.84it/s]"
     ]
    },
    {
     "name": "stdout",
     "output_type": "stream",
     "text": [
      "\n",
      "image 1/1 /mnt/SSD/workspace/atomic_hack/Сварные_швы/dataset/8 (98).jpg: 1024x576 2 прилегающие дефектыs, 20.7ms\n",
      "Speed: 3.0ms preprocess, 20.7ms inference, 0.8ms postprocess per image at shape (1, 3, 1024, 576)\n"
     ]
    },
    {
     "name": "stderr",
     "output_type": "stream",
     "text": [
      " 81%|████████████████████████████████▍       | 943/1162 [06:11<01:37,  2.24it/s]"
     ]
    },
    {
     "name": "stdout",
     "output_type": "stream",
     "text": [
      "\n",
      "image 1/1 /mnt/SSD/workspace/atomic_hack/Сварные_швы/dataset/8 (3).jpg: 1024x576 3 прилегающие дефектыs, 20.5ms\n",
      "Speed: 3.1ms preprocess, 20.5ms inference, 0.8ms postprocess per image at shape (1, 3, 1024, 576)\n"
     ]
    },
    {
     "name": "stderr",
     "output_type": "stream",
     "text": [
      " 81%|████████████████████████████████▍       | 944/1162 [06:11<01:25,  2.55it/s]"
     ]
    },
    {
     "name": "stdout",
     "output_type": "stream",
     "text": [
      "\n",
      "image 1/1 /mnt/SSD/workspace/atomic_hack/Сварные_швы/dataset/5 (220).jpg: 576x1024 3 прилегающие дефектыs, 21.4ms\n",
      "Speed: 2.9ms preprocess, 21.4ms inference, 0.7ms postprocess per image at shape (1, 3, 576, 1024)\n"
     ]
    },
    {
     "name": "stderr",
     "output_type": "stream",
     "text": [
      " 81%|████████████████████████████████▌       | 945/1162 [06:12<01:20,  2.69it/s]"
     ]
    },
    {
     "name": "stdout",
     "output_type": "stream",
     "text": [
      "\n",
      "image 1/1 /mnt/SSD/workspace/atomic_hack/Сварные_швы/dataset/4 (113).jpg: 576x1024 5 прилегающие дефектыs, 21.8ms\n",
      "Speed: 2.8ms preprocess, 21.8ms inference, 0.8ms postprocess per image at shape (1, 3, 576, 1024)\n"
     ]
    },
    {
     "name": "stderr",
     "output_type": "stream",
     "text": [
      " 81%|████████████████████████████████▌       | 946/1162 [06:12<01:25,  2.52it/s]"
     ]
    },
    {
     "name": "stdout",
     "output_type": "stream",
     "text": [
      "\n",
      "image 1/1 /mnt/SSD/workspace/atomic_hack/Сварные_швы/dataset/6 (111).jpg: 1024x576 1 прилегающие дефекты, 19.1ms\n",
      "Speed: 3.1ms preprocess, 19.1ms inference, 0.8ms postprocess per image at shape (1, 3, 1024, 576)\n"
     ]
    },
    {
     "name": "stderr",
     "output_type": "stream",
     "text": [
      " 81%|████████████████████████████████▌       | 947/1162 [06:12<01:08,  3.14it/s]"
     ]
    },
    {
     "name": "stdout",
     "output_type": "stream",
     "text": [
      "\n",
      "image 1/1 /mnt/SSD/workspace/atomic_hack/Сварные_швы/dataset/9 (31).jpg: 1024x576 1 прилегающие дефекты, 20.3ms\n",
      "Speed: 3.0ms preprocess, 20.3ms inference, 0.7ms postprocess per image at shape (1, 3, 1024, 576)\n"
     ]
    },
    {
     "name": "stderr",
     "output_type": "stream",
     "text": [
      " 82%|████████████████████████████████▋       | 948/1162 [06:12<00:56,  3.81it/s]"
     ]
    },
    {
     "name": "stdout",
     "output_type": "stream",
     "text": [
      "\n",
      "image 1/1 /mnt/SSD/workspace/atomic_hack/Сварные_швы/dataset/3 (29).jpg: 576x1024 2 прилегающие дефектыs, 21.2ms\n",
      "Speed: 2.8ms preprocess, 21.2ms inference, 0.8ms postprocess per image at shape (1, 3, 576, 1024)\n"
     ]
    },
    {
     "name": "stderr",
     "output_type": "stream",
     "text": [
      " 82%|████████████████████████████████▋       | 949/1162 [06:13<00:51,  4.13it/s]"
     ]
    },
    {
     "name": "stdout",
     "output_type": "stream",
     "text": [
      "\n",
      "image 1/1 /mnt/SSD/workspace/atomic_hack/Сварные_швы/dataset/7 (142).jpg: 1024x576 9 прилегающие дефектыs, 20.4ms\n",
      "Speed: 2.9ms preprocess, 20.4ms inference, 0.8ms postprocess per image at shape (1, 3, 1024, 576)\n"
     ]
    },
    {
     "name": "stderr",
     "output_type": "stream",
     "text": [
      " 82%|████████████████████████████████▋       | 950/1162 [06:13<01:30,  2.35it/s]"
     ]
    },
    {
     "name": "stdout",
     "output_type": "stream",
     "text": [
      "\n",
      "image 1/1 /mnt/SSD/workspace/atomic_hack/Сварные_швы/dataset/7 (16).jpg: 1024x576 16 прилегающие дефектыs, 19.9ms\n",
      "Speed: 3.0ms preprocess, 19.9ms inference, 0.7ms postprocess per image at shape (1, 3, 1024, 576)\n"
     ]
    },
    {
     "name": "stderr",
     "output_type": "stream",
     "text": [
      " 82%|████████████████████████████████▋       | 951/1162 [06:14<02:11,  1.60it/s]"
     ]
    },
    {
     "name": "stdout",
     "output_type": "stream",
     "text": [
      "\n",
      "image 1/1 /mnt/SSD/workspace/atomic_hack/Сварные_швы/dataset/7 (113).jpg: 1024x576 9 прилегающие дефектыs, 19.3ms\n",
      "Speed: 3.0ms preprocess, 19.3ms inference, 0.8ms postprocess per image at shape (1, 3, 1024, 576)\n"
     ]
    },
    {
     "name": "stderr",
     "output_type": "stream",
     "text": [
      " 82%|████████████████████████████████▊       | 952/1162 [06:15<02:20,  1.49it/s]"
     ]
    },
    {
     "name": "stdout",
     "output_type": "stream",
     "text": [
      "\n",
      "image 1/1 /mnt/SSD/workspace/atomic_hack/Сварные_швы/dataset/5 (117).jpg: 576x1024 3 прилегающие дефектыs, 23.7ms\n",
      "Speed: 3.0ms preprocess, 23.7ms inference, 0.8ms postprocess per image at shape (1, 3, 576, 1024)\n"
     ]
    },
    {
     "name": "stderr",
     "output_type": "stream",
     "text": [
      " 82%|████████████████████████████████▊       | 953/1162 [06:16<01:54,  1.82it/s]"
     ]
    },
    {
     "name": "stdout",
     "output_type": "stream",
     "text": [
      "\n",
      "image 1/1 /mnt/SSD/workspace/atomic_hack/Сварные_швы/dataset/4 (62).jpg: 576x1024 2 прилегающие дефектыs, 23.0ms\n",
      "Speed: 3.1ms preprocess, 23.0ms inference, 0.8ms postprocess per image at shape (1, 3, 576, 1024)\n"
     ]
    },
    {
     "name": "stderr",
     "output_type": "stream",
     "text": [
      " 82%|████████████████████████████████▊       | 954/1162 [06:16<01:32,  2.25it/s]"
     ]
    },
    {
     "name": "stdout",
     "output_type": "stream",
     "text": [
      "\n",
      "image 1/1 /mnt/SSD/workspace/atomic_hack/Сварные_швы/dataset/6 (2).jpg: 1024x576 4 прилегающие дефектыs, 20.3ms\n",
      "Speed: 3.2ms preprocess, 20.3ms inference, 0.7ms postprocess per image at shape (1, 3, 1024, 576)\n"
     ]
    },
    {
     "name": "stderr",
     "output_type": "stream",
     "text": [
      " 82%|████████████████████████████████▊       | 955/1162 [06:16<01:25,  2.42it/s]"
     ]
    },
    {
     "name": "stdout",
     "output_type": "stream",
     "text": [
      "\n",
      "image 1/1 /mnt/SSD/workspace/atomic_hack/Сварные_швы/dataset/5 (122).jpg: 576x1024 2 прилегающие дефектыs, 21.3ms\n",
      "Speed: 2.9ms preprocess, 21.3ms inference, 0.7ms postprocess per image at shape (1, 3, 576, 1024)\n"
     ]
    },
    {
     "name": "stderr",
     "output_type": "stream",
     "text": [
      " 82%|████████████████████████████████▉       | 956/1162 [06:16<01:11,  2.86it/s]"
     ]
    },
    {
     "name": "stdout",
     "output_type": "stream",
     "text": [
      "\n",
      "image 1/1 /mnt/SSD/workspace/atomic_hack/Сварные_швы/dataset/12 (10).jpg: 1024x576 2 прилегающие дефектыs, 19.5ms\n",
      "Speed: 3.2ms preprocess, 19.5ms inference, 0.7ms postprocess per image at shape (1, 3, 1024, 576)\n"
     ]
    },
    {
     "name": "stderr",
     "output_type": "stream",
     "text": [
      " 82%|████████████████████████████████▉       | 957/1162 [06:16<01:01,  3.31it/s]"
     ]
    },
    {
     "name": "stdout",
     "output_type": "stream",
     "text": [
      "\n",
      "image 1/1 /mnt/SSD/workspace/atomic_hack/Сварные_швы/dataset/6 (92).jpg: 1024x576 1 прилегающие дефекты, 24.0ms\n",
      "Speed: 3.1ms preprocess, 24.0ms inference, 0.8ms postprocess per image at shape (1, 3, 1024, 576)\n"
     ]
    },
    {
     "name": "stderr",
     "output_type": "stream",
     "text": [
      " 82%|████████████████████████████████▉       | 958/1162 [06:17<00:53,  3.84it/s]"
     ]
    },
    {
     "name": "stdout",
     "output_type": "stream",
     "text": [
      "\n",
      "image 1/1 /mnt/SSD/workspace/atomic_hack/Сварные_швы/dataset/7 (201).jpg: 1024x576 5 прилегающие дефектыs, 26.2ms\n",
      "Speed: 3.9ms preprocess, 26.2ms inference, 1.3ms postprocess per image at shape (1, 3, 1024, 576)\n"
     ]
    },
    {
     "name": "stderr",
     "output_type": "stream",
     "text": [
      " 83%|█████████████████████████████████       | 959/1162 [06:17<01:07,  3.01it/s]"
     ]
    },
    {
     "name": "stdout",
     "output_type": "stream",
     "text": [
      "\n",
      "image 1/1 /mnt/SSD/workspace/atomic_hack/Сварные_швы/dataset/8 (46).jpg: 1024x576 3 прилегающие дефектыs, 19.7ms\n",
      "Speed: 3.1ms preprocess, 19.7ms inference, 0.8ms postprocess per image at shape (1, 3, 1024, 576)\n"
     ]
    },
    {
     "name": "stderr",
     "output_type": "stream",
     "text": [
      " 83%|█████████████████████████████████       | 960/1162 [06:17<01:03,  3.20it/s]"
     ]
    },
    {
     "name": "stdout",
     "output_type": "stream",
     "text": [
      "\n",
      "image 1/1 /mnt/SSD/workspace/atomic_hack/Сварные_швы/dataset/5 (77).jpg: 576x1024 1 прилегающие дефекты, 27.6ms\n",
      "Speed: 3.3ms preprocess, 27.6ms inference, 1.4ms postprocess per image at shape (1, 3, 576, 1024)\n"
     ]
    },
    {
     "name": "stderr",
     "output_type": "stream",
     "text": [
      " 83%|█████████████████████████████████       | 961/1162 [06:18<00:56,  3.56it/s]"
     ]
    },
    {
     "name": "stdout",
     "output_type": "stream",
     "text": [
      "\n",
      "image 1/1 /mnt/SSD/workspace/atomic_hack/Сварные_швы/dataset/5 (54).jpg: 576x1024 3 прилегающие дефектыs, 28.7ms\n",
      "Speed: 3.0ms preprocess, 28.7ms inference, 0.8ms postprocess per image at shape (1, 3, 576, 1024)\n"
     ]
    },
    {
     "name": "stderr",
     "output_type": "stream",
     "text": [
      " 83%|█████████████████████████████████       | 962/1162 [06:18<00:58,  3.43it/s]"
     ]
    },
    {
     "name": "stdout",
     "output_type": "stream",
     "text": [
      "\n",
      "image 1/1 /mnt/SSD/workspace/atomic_hack/Сварные_швы/dataset/4 (128).jpg: 576x1024 6 прилегающие дефектыs, 21.3ms\n",
      "Speed: 2.9ms preprocess, 21.3ms inference, 0.7ms postprocess per image at shape (1, 3, 576, 1024)\n"
     ]
    },
    {
     "name": "stderr",
     "output_type": "stream",
     "text": [
      " 83%|█████████████████████████████████▏      | 963/1162 [06:18<01:08,  2.88it/s]"
     ]
    },
    {
     "name": "stdout",
     "output_type": "stream",
     "text": [
      "\n",
      "image 1/1 /mnt/SSD/workspace/atomic_hack/Сварные_швы/dataset/3 (27).jpg: 576x1024 2 прилегающие дефектыs, 21.4ms\n",
      "Speed: 2.7ms preprocess, 21.4ms inference, 0.8ms postprocess per image at shape (1, 3, 576, 1024)\n"
     ]
    },
    {
     "name": "stderr",
     "output_type": "stream",
     "text": [
      " 83%|█████████████████████████████████▏      | 964/1162 [06:19<00:59,  3.31it/s]"
     ]
    },
    {
     "name": "stdout",
     "output_type": "stream",
     "text": [
      "\n",
      "image 1/1 /mnt/SSD/workspace/atomic_hack/Сварные_швы/dataset/5 (73).jpg: 576x1024 4 прилегающие дефектыs, 21.8ms\n",
      "Speed: 2.8ms preprocess, 21.8ms inference, 0.8ms postprocess per image at shape (1, 3, 576, 1024)\n"
     ]
    },
    {
     "name": "stderr",
     "output_type": "stream",
     "text": [
      " 83%|█████████████████████████████████▏      | 965/1162 [06:19<01:02,  3.16it/s]"
     ]
    },
    {
     "name": "stdout",
     "output_type": "stream",
     "text": [
      "\n",
      "image 1/1 /mnt/SSD/workspace/atomic_hack/Сварные_швы/dataset/12 (82).jpg: 1024x576 2 прилегающие дефектыs, 22.5ms\n",
      "Speed: 2.9ms preprocess, 22.5ms inference, 0.8ms postprocess per image at shape (1, 3, 1024, 576)\n"
     ]
    },
    {
     "name": "stderr",
     "output_type": "stream",
     "text": [
      " 83%|█████████████████████████████████▎      | 966/1162 [06:19<00:54,  3.57it/s]"
     ]
    },
    {
     "name": "stdout",
     "output_type": "stream",
     "text": [
      "\n",
      "image 1/1 /mnt/SSD/workspace/atomic_hack/Сварные_швы/dataset/4 (59).jpg: 576x1024 2 прилегающие дефектыs, 21.3ms\n",
      "Speed: 2.8ms preprocess, 21.3ms inference, 0.7ms postprocess per image at shape (1, 3, 576, 1024)\n"
     ]
    },
    {
     "name": "stderr",
     "output_type": "stream",
     "text": [
      " 83%|█████████████████████████████████▎      | 967/1162 [06:19<00:50,  3.89it/s]"
     ]
    },
    {
     "name": "stdout",
     "output_type": "stream",
     "text": [
      "\n",
      "image 1/1 /mnt/SSD/workspace/atomic_hack/Сварные_швы/dataset/6 (34).jpg: 1024x576 3 прилегающие дефектыs, 20.2ms\n",
      "Speed: 2.9ms preprocess, 20.2ms inference, 0.8ms postprocess per image at shape (1, 3, 1024, 576)\n"
     ]
    },
    {
     "name": "stderr",
     "output_type": "stream",
     "text": [
      " 83%|█████████████████████████████████▎      | 968/1162 [06:20<00:50,  3.87it/s]"
     ]
    },
    {
     "name": "stdout",
     "output_type": "stream",
     "text": [
      "\n",
      "image 1/1 /mnt/SSD/workspace/atomic_hack/Сварные_швы/dataset/6 (69).jpg: 1024x576 (no detections), 20.3ms\n",
      "Speed: 2.9ms preprocess, 20.3ms inference, 0.3ms postprocess per image at shape (1, 3, 1024, 576)\n",
      "\n",
      "image 1/1 /mnt/SSD/workspace/atomic_hack/Сварные_швы/dataset/5 (25).jpg: 576x1024 8 прилегающие дефектыs, 21.3ms\n",
      "Speed: 2.7ms preprocess, 21.3ms inference, 0.8ms postprocess per image at shape (1, 3, 576, 1024)\n"
     ]
    },
    {
     "name": "stderr",
     "output_type": "stream",
     "text": [
      " 83%|█████████████████████████████████▍      | 970/1162 [06:20<00:54,  3.52it/s]"
     ]
    },
    {
     "name": "stdout",
     "output_type": "stream",
     "text": [
      "\n",
      "image 1/1 /mnt/SSD/workspace/atomic_hack/Сварные_швы/dataset/7 (106).jpg: 1024x576 10 прилегающие дефектыs, 20.2ms\n",
      "Speed: 2.9ms preprocess, 20.2ms inference, 0.7ms postprocess per image at shape (1, 3, 1024, 576)\n"
     ]
    },
    {
     "name": "stderr",
     "output_type": "stream",
     "text": [
      " 84%|█████████████████████████████████▍      | 971/1162 [06:21<01:13,  2.59it/s]"
     ]
    },
    {
     "name": "stdout",
     "output_type": "stream",
     "text": [
      "\n",
      "image 1/1 /mnt/SSD/workspace/atomic_hack/Сварные_швы/dataset/4 (54).jpg: 576x1024 2 прилегающие дефектыs, 21.7ms\n",
      "Speed: 3.0ms preprocess, 21.7ms inference, 0.8ms postprocess per image at shape (1, 3, 576, 1024)\n"
     ]
    },
    {
     "name": "stderr",
     "output_type": "stream",
     "text": [
      " 84%|█████████████████████████████████▍      | 972/1162 [06:21<01:04,  2.96it/s]"
     ]
    },
    {
     "name": "stdout",
     "output_type": "stream",
     "text": [
      "\n",
      "image 1/1 /mnt/SSD/workspace/atomic_hack/Сварные_швы/dataset/7 (39).jpg: 1024x576 16 прилегающие дефектыs, 20.2ms\n",
      "Speed: 3.1ms preprocess, 20.2ms inference, 0.8ms postprocess per image at shape (1, 3, 1024, 576)\n"
     ]
    },
    {
     "name": "stderr",
     "output_type": "stream",
     "text": [
      " 84%|█████████████████████████████████▍      | 973/1162 [06:22<01:41,  1.87it/s]"
     ]
    },
    {
     "name": "stdout",
     "output_type": "stream",
     "text": [
      "\n",
      "image 1/1 /mnt/SSD/workspace/atomic_hack/Сварные_швы/dataset/5 (203).jpg: 576x1024 8 прилегающие дефектыs, 21.5ms\n",
      "Speed: 2.9ms preprocess, 21.5ms inference, 0.8ms postprocess per image at shape (1, 3, 576, 1024)\n"
     ]
    },
    {
     "name": "stderr",
     "output_type": "stream",
     "text": [
      " 84%|█████████████████████████████████▌      | 974/1162 [06:23<01:42,  1.83it/s]"
     ]
    },
    {
     "name": "stdout",
     "output_type": "stream",
     "text": [
      "\n",
      "image 1/1 /mnt/SSD/workspace/atomic_hack/Сварные_швы/dataset/5 (183).jpg: 576x1024 10 прилегающие дефектыs, 21.4ms\n",
      "Speed: 2.8ms preprocess, 21.4ms inference, 0.7ms postprocess per image at shape (1, 3, 576, 1024)\n"
     ]
    },
    {
     "name": "stderr",
     "output_type": "stream",
     "text": [
      " 84%|█████████████████████████████████▌      | 975/1162 [06:23<01:50,  1.69it/s]"
     ]
    },
    {
     "name": "stdout",
     "output_type": "stream",
     "text": [
      "\n",
      "image 1/1 /mnt/SSD/workspace/atomic_hack/Сварные_швы/dataset/5 (72).jpg: 576x1024 2 прилегающие дефектыs, 20.5ms\n",
      "Speed: 2.8ms preprocess, 20.5ms inference, 0.7ms postprocess per image at shape (1, 3, 576, 1024)\n"
     ]
    },
    {
     "name": "stderr",
     "output_type": "stream",
     "text": [
      " 84%|█████████████████████████████████▌      | 976/1162 [06:24<01:28,  2.09it/s]"
     ]
    },
    {
     "name": "stdout",
     "output_type": "stream",
     "text": [
      "\n",
      "image 1/1 /mnt/SSD/workspace/atomic_hack/Сварные_швы/dataset/5 (92).jpg: 576x1024 2 прилегающие дефектыs, 21.7ms\n",
      "Speed: 2.8ms preprocess, 21.7ms inference, 0.8ms postprocess per image at shape (1, 3, 576, 1024)\n"
     ]
    },
    {
     "name": "stderr",
     "output_type": "stream",
     "text": [
      " 84%|█████████████████████████████████▋      | 977/1162 [06:24<01:13,  2.51it/s]"
     ]
    },
    {
     "name": "stdout",
     "output_type": "stream",
     "text": [
      "\n",
      "image 1/1 /mnt/SSD/workspace/atomic_hack/Сварные_швы/dataset/11 (14).jpg: 1024x576 1 прилегающие дефекты, 25.2ms\n",
      "Speed: 3.4ms preprocess, 25.2ms inference, 1.1ms postprocess per image at shape (1, 3, 1024, 576)\n"
     ]
    },
    {
     "name": "stderr",
     "output_type": "stream",
     "text": [
      " 84%|█████████████████████████████████▋      | 978/1162 [06:24<00:59,  3.12it/s]"
     ]
    },
    {
     "name": "stdout",
     "output_type": "stream",
     "text": [
      "\n",
      "image 1/1 /mnt/SSD/workspace/atomic_hack/Сварные_швы/dataset/9 (1).jpg: 1024x576 3 прилегающие дефектыs, 20.2ms\n",
      "Speed: 3.0ms preprocess, 20.2ms inference, 0.8ms postprocess per image at shape (1, 3, 1024, 576)\n"
     ]
    },
    {
     "name": "stderr",
     "output_type": "stream",
     "text": [
      " 84%|█████████████████████████████████▋      | 979/1162 [06:24<00:55,  3.28it/s]"
     ]
    },
    {
     "name": "stdout",
     "output_type": "stream",
     "text": [
      "\n",
      "image 1/1 /mnt/SSD/workspace/atomic_hack/Сварные_швы/dataset/1 (11).jpg: 576x1024 7 прилегающие дефектыs, 22.4ms\n",
      "Speed: 2.6ms preprocess, 22.4ms inference, 0.8ms postprocess per image at shape (1, 3, 576, 1024)\n"
     ]
    },
    {
     "name": "stderr",
     "output_type": "stream",
     "text": [
      " 84%|█████████████████████████████████▋      | 980/1162 [06:25<01:05,  2.79it/s]"
     ]
    },
    {
     "name": "stdout",
     "output_type": "stream",
     "text": [
      "\n",
      "image 1/1 /mnt/SSD/workspace/atomic_hack/Сварные_швы/dataset/5 (60).jpg: 576x1024 6 прилегающие дефектыs, 21.4ms\n",
      "Speed: 2.9ms preprocess, 21.4ms inference, 0.8ms postprocess per image at shape (1, 3, 576, 1024)\n"
     ]
    },
    {
     "name": "stderr",
     "output_type": "stream",
     "text": [
      " 84%|█████████████████████████████████▊      | 981/1162 [06:25<01:09,  2.59it/s]"
     ]
    },
    {
     "name": "stdout",
     "output_type": "stream",
     "text": [
      "\n",
      "image 1/1 /mnt/SSD/workspace/atomic_hack/Сварные_швы/dataset/7 (65).jpg: 1024x576 4 прилегающие дефектыs, 19.6ms\n",
      "Speed: 2.9ms preprocess, 19.6ms inference, 0.8ms postprocess per image at shape (1, 3, 1024, 576)\n"
     ]
    },
    {
     "name": "stderr",
     "output_type": "stream",
     "text": [
      " 85%|█████████████████████████████████▊      | 982/1162 [06:26<01:05,  2.73it/s]"
     ]
    },
    {
     "name": "stdout",
     "output_type": "stream",
     "text": [
      "\n",
      "image 1/1 /mnt/SSD/workspace/atomic_hack/Сварные_швы/dataset/4 (69).jpg: 576x1024 10 прилегающие дефектыs, 21.4ms\n",
      "Speed: 2.7ms preprocess, 21.4ms inference, 0.7ms postprocess per image at shape (1, 3, 576, 1024)\n"
     ]
    },
    {
     "name": "stderr",
     "output_type": "stream",
     "text": [
      " 85%|█████████████████████████████████▊      | 983/1162 [06:26<01:23,  2.15it/s]"
     ]
    },
    {
     "name": "stdout",
     "output_type": "stream",
     "text": [
      "\n",
      "image 1/1 /mnt/SSD/workspace/atomic_hack/Сварные_швы/dataset/4 (116).jpg: 576x1024 6 прилегающие дефектыs, 21.4ms\n",
      "Speed: 2.8ms preprocess, 21.4ms inference, 0.7ms postprocess per image at shape (1, 3, 576, 1024)\n"
     ]
    },
    {
     "name": "stderr",
     "output_type": "stream",
     "text": [
      " 85%|█████████████████████████████████▊      | 984/1162 [06:27<01:23,  2.14it/s]"
     ]
    },
    {
     "name": "stdout",
     "output_type": "stream",
     "text": [
      "\n",
      "image 1/1 /mnt/SSD/workspace/atomic_hack/Сварные_швы/dataset/7 (151).jpg: 1024x576 16 прилегающие дефектыs, 20.3ms\n",
      "Speed: 3.0ms preprocess, 20.3ms inference, 0.7ms postprocess per image at shape (1, 3, 1024, 576)\n"
     ]
    },
    {
     "name": "stderr",
     "output_type": "stream",
     "text": [
      " 85%|█████████████████████████████████▉      | 985/1162 [06:28<01:54,  1.54it/s]"
     ]
    },
    {
     "name": "stdout",
     "output_type": "stream",
     "text": [
      "\n",
      "image 1/1 /mnt/SSD/workspace/atomic_hack/Сварные_швы/dataset/5 (24).jpg: 576x1024 9 прилегающие дефектыs, 21.2ms\n",
      "Speed: 2.7ms preprocess, 21.2ms inference, 1.0ms postprocess per image at shape (1, 3, 576, 1024)\n"
     ]
    },
    {
     "name": "stderr",
     "output_type": "stream",
     "text": [
      " 85%|█████████████████████████████████▉      | 986/1162 [06:28<01:56,  1.51it/s]"
     ]
    },
    {
     "name": "stdout",
     "output_type": "stream",
     "text": [
      "\n",
      "image 1/1 /mnt/SSD/workspace/atomic_hack/Сварные_швы/dataset/11 (45).jpg: 1024x576 4 прилегающие дефектыs, 20.0ms\n",
      "Speed: 2.9ms preprocess, 20.0ms inference, 0.7ms postprocess per image at shape (1, 3, 1024, 576)\n"
     ]
    },
    {
     "name": "stderr",
     "output_type": "stream",
     "text": [
      " 85%|█████████████████████████████████▉      | 987/1162 [06:29<01:38,  1.78it/s]"
     ]
    },
    {
     "name": "stdout",
     "output_type": "stream",
     "text": [
      "\n",
      "image 1/1 /mnt/SSD/workspace/atomic_hack/Сварные_швы/dataset/7 (184).jpg: 1024x576 5 прилегающие дефектыs, 21.9ms\n",
      "Speed: 3.2ms preprocess, 21.9ms inference, 0.8ms postprocess per image at shape (1, 3, 1024, 576)\n"
     ]
    },
    {
     "name": "stderr",
     "output_type": "stream",
     "text": [
      " 85%|██████████████████████████████████      | 988/1162 [06:29<01:28,  1.96it/s]"
     ]
    },
    {
     "name": "stdout",
     "output_type": "stream",
     "text": [
      "\n",
      "image 1/1 /mnt/SSD/workspace/atomic_hack/Сварные_швы/dataset/11 (44).jpg: 1024x576 3 прилегающие дефектыs, 19.7ms\n",
      "Speed: 3.2ms preprocess, 19.7ms inference, 0.7ms postprocess per image at shape (1, 3, 1024, 576)\n"
     ]
    },
    {
     "name": "stderr",
     "output_type": "stream",
     "text": [
      " 85%|██████████████████████████████████      | 989/1162 [06:29<01:15,  2.28it/s]"
     ]
    },
    {
     "name": "stdout",
     "output_type": "stream",
     "text": [
      "\n",
      "image 1/1 /mnt/SSD/workspace/atomic_hack/Сварные_швы/dataset/7 (235).jpg: 1024x576 9 прилегающие дефектыs, 21.4ms\n",
      "Speed: 3.3ms preprocess, 21.4ms inference, 1.1ms postprocess per image at shape (1, 3, 1024, 576)\n"
     ]
    },
    {
     "name": "stderr",
     "output_type": "stream",
     "text": [
      " 85%|██████████████████████████████████      | 990/1162 [06:30<01:28,  1.95it/s]"
     ]
    },
    {
     "name": "stdout",
     "output_type": "stream",
     "text": [
      "\n",
      "image 1/1 /mnt/SSD/workspace/atomic_hack/Сварные_швы/dataset/7 (123).jpg: 1024x576 10 прилегающие дефектыs, 20.8ms\n",
      "Speed: 3.0ms preprocess, 20.8ms inference, 1.5ms postprocess per image at shape (1, 3, 1024, 576)\n"
     ]
    },
    {
     "name": "stderr",
     "output_type": "stream",
     "text": [
      " 85%|██████████████████████████████████      | 991/1162 [06:31<01:41,  1.68it/s]"
     ]
    },
    {
     "name": "stdout",
     "output_type": "stream",
     "text": [
      "\n",
      "image 1/1 /mnt/SSD/workspace/atomic_hack/Сварные_швы/dataset/7 (174).jpg: 1024x576 6 прилегающие дефектыs, 20.4ms\n",
      "Speed: 2.9ms preprocess, 20.4ms inference, 0.8ms postprocess per image at shape (1, 3, 1024, 576)\n"
     ]
    },
    {
     "name": "stderr",
     "output_type": "stream",
     "text": [
      " 85%|██████████████████████████████████▏     | 992/1162 [06:31<01:37,  1.74it/s]"
     ]
    },
    {
     "name": "stdout",
     "output_type": "stream",
     "text": [
      "\n",
      "image 1/1 /mnt/SSD/workspace/atomic_hack/Сварные_швы/dataset/5 (191).jpg: 576x1024 6 прилегающие дефектыs, 22.6ms\n",
      "Speed: 2.7ms preprocess, 22.6ms inference, 0.8ms postprocess per image at shape (1, 3, 576, 1024)\n"
     ]
    },
    {
     "name": "stderr",
     "output_type": "stream",
     "text": [
      " 85%|██████████████████████████████████▏     | 993/1162 [06:32<01:31,  1.85it/s]"
     ]
    },
    {
     "name": "stdout",
     "output_type": "stream",
     "text": [
      "\n",
      "image 1/1 /mnt/SSD/workspace/atomic_hack/Сварные_швы/dataset/11 (33).jpg: 1024x576 1 прилегающие дефекты, 19.2ms\n",
      "Speed: 2.9ms preprocess, 19.2ms inference, 0.7ms postprocess per image at shape (1, 3, 1024, 576)\n"
     ]
    },
    {
     "name": "stderr",
     "output_type": "stream",
     "text": [
      " 86%|██████████████████████████████████▏     | 994/1162 [06:32<01:10,  2.39it/s]"
     ]
    },
    {
     "name": "stdout",
     "output_type": "stream",
     "text": [
      "\n",
      "image 1/1 /mnt/SSD/workspace/atomic_hack/Сварные_швы/dataset/5 (162).jpg: 576x1024 11 прилегающие дефектыs, 28.8ms\n",
      "Speed: 3.0ms preprocess, 28.8ms inference, 0.8ms postprocess per image at shape (1, 3, 576, 1024)\n"
     ]
    },
    {
     "name": "stderr",
     "output_type": "stream",
     "text": [
      " 86%|██████████████████████████████████▎     | 995/1162 [06:33<01:37,  1.72it/s]"
     ]
    },
    {
     "name": "stdout",
     "output_type": "stream",
     "text": [
      "\n",
      "image 1/1 /mnt/SSD/workspace/atomic_hack/Сварные_швы/dataset/8 (19).jpg: 1024x576 2 прилегающие дефектыs, 23.1ms\n",
      "Speed: 3.1ms preprocess, 23.1ms inference, 1.5ms postprocess per image at shape (1, 3, 1024, 576)\n"
     ]
    },
    {
     "name": "stderr",
     "output_type": "stream",
     "text": [
      " 86%|██████████████████████████████████▎     | 996/1162 [06:33<01:19,  2.09it/s]"
     ]
    },
    {
     "name": "stdout",
     "output_type": "stream",
     "text": [
      "\n",
      "image 1/1 /mnt/SSD/workspace/atomic_hack/Сварные_швы/dataset/7 (152).jpg: 1024x576 12 прилегающие дефектыs, 20.3ms\n",
      "Speed: 3.1ms preprocess, 20.3ms inference, 0.8ms postprocess per image at shape (1, 3, 1024, 576)\n"
     ]
    },
    {
     "name": "stderr",
     "output_type": "stream",
     "text": [
      " 86%|██████████████████████████████████▎     | 997/1162 [06:34<01:46,  1.55it/s]"
     ]
    },
    {
     "name": "stdout",
     "output_type": "stream",
     "text": [
      "\n",
      "image 1/1 /mnt/SSD/workspace/atomic_hack/Сварные_швы/dataset/4 (145).jpg: 576x1024 7 прилегающие дефектыs, 25.8ms\n",
      "Speed: 2.9ms preprocess, 25.8ms inference, 0.9ms postprocess per image at shape (1, 3, 576, 1024)\n"
     ]
    },
    {
     "name": "stderr",
     "output_type": "stream",
     "text": [
      " 86%|██████████████████████████████████▎     | 998/1162 [06:35<01:40,  1.63it/s]"
     ]
    },
    {
     "name": "stdout",
     "output_type": "stream",
     "text": [
      "\n",
      "image 1/1 /mnt/SSD/workspace/atomic_hack/Сварные_швы/dataset/7 (59).jpg: 1024x576 6 прилегающие дефектыs, 21.7ms\n",
      "Speed: 2.9ms preprocess, 21.7ms inference, 0.8ms postprocess per image at shape (1, 3, 1024, 576)\n"
     ]
    },
    {
     "name": "stderr",
     "output_type": "stream",
     "text": [
      " 86%|██████████████████████████████████▍     | 999/1162 [06:35<01:35,  1.71it/s]"
     ]
    },
    {
     "name": "stdout",
     "output_type": "stream",
     "text": [
      "\n",
      "image 1/1 /mnt/SSD/workspace/atomic_hack/Сварные_швы/dataset/12 (7).jpg: 1024x576 1 прилегающие дефекты, 21.5ms\n",
      "Speed: 3.6ms preprocess, 21.5ms inference, 0.8ms postprocess per image at shape (1, 3, 1024, 576)\n"
     ]
    },
    {
     "name": "stderr",
     "output_type": "stream",
     "text": [
      " 86%|█████████████████████████████████▌     | 1000/1162 [06:35<01:13,  2.21it/s]"
     ]
    },
    {
     "name": "stdout",
     "output_type": "stream",
     "text": [
      "\n",
      "image 1/1 /mnt/SSD/workspace/atomic_hack/Сварные_швы/dataset/6 (62).jpg: 1024x576 2 прилегающие дефектыs, 25.3ms\n",
      "Speed: 3.7ms preprocess, 25.3ms inference, 2.3ms postprocess per image at shape (1, 3, 1024, 576)\n"
     ]
    },
    {
     "name": "stderr",
     "output_type": "stream",
     "text": [
      " 86%|█████████████████████████████████▌     | 1001/1162 [06:36<01:04,  2.49it/s]"
     ]
    },
    {
     "name": "stdout",
     "output_type": "stream",
     "text": [
      "\n",
      "image 1/1 /mnt/SSD/workspace/atomic_hack/Сварные_швы/dataset/7 (209).jpg: 1024x576 3 прилегающие дефектыs, 26.6ms\n",
      "Speed: 3.2ms preprocess, 26.6ms inference, 0.9ms postprocess per image at shape (1, 3, 1024, 576)\n"
     ]
    },
    {
     "name": "stderr",
     "output_type": "stream",
     "text": [
      " 86%|█████████████████████████████████▋     | 1002/1162 [06:36<01:01,  2.60it/s]"
     ]
    },
    {
     "name": "stdout",
     "output_type": "stream",
     "text": [
      "\n",
      "image 1/1 /mnt/SSD/workspace/atomic_hack/Сварные_швы/dataset/7 (206).jpg: 1024x576 5 прилегающие дефектыs, 23.3ms\n",
      "Speed: 45.0ms preprocess, 23.3ms inference, 0.9ms postprocess per image at shape (1, 3, 1024, 576)\n"
     ]
    },
    {
     "name": "stderr",
     "output_type": "stream",
     "text": [
      " 86%|█████████████████████████████████▋     | 1003/1162 [06:37<01:05,  2.44it/s]"
     ]
    },
    {
     "name": "stdout",
     "output_type": "stream",
     "text": [
      "\n",
      "image 1/1 /mnt/SSD/workspace/atomic_hack/Сварные_швы/dataset/6 (25).jpg: 1024x576 2 прилегающие дефектыs, 20.1ms\n",
      "Speed: 3.0ms preprocess, 20.1ms inference, 1.0ms postprocess per image at shape (1, 3, 1024, 576)\n"
     ]
    },
    {
     "name": "stderr",
     "output_type": "stream",
     "text": [
      " 86%|█████████████████████████████████▋     | 1004/1162 [06:37<00:54,  2.90it/s]"
     ]
    },
    {
     "name": "stdout",
     "output_type": "stream",
     "text": [
      "\n",
      "image 1/1 /mnt/SSD/workspace/atomic_hack/Сварные_швы/dataset/6 (51).jpg: 1024x576 2 прилегающие дефектыs, 20.3ms\n",
      "Speed: 3.0ms preprocess, 20.3ms inference, 0.8ms postprocess per image at shape (1, 3, 1024, 576)\n"
     ]
    },
    {
     "name": "stderr",
     "output_type": "stream",
     "text": [
      " 86%|█████████████████████████████████▋     | 1005/1162 [06:37<00:47,  3.33it/s]"
     ]
    },
    {
     "name": "stdout",
     "output_type": "stream",
     "text": [
      "\n",
      "image 1/1 /mnt/SSD/workspace/atomic_hack/Сварные_швы/dataset/7 (27).jpg: 1024x576 16 прилегающие дефектыs, 20.1ms\n",
      "Speed: 3.3ms preprocess, 20.1ms inference, 0.8ms postprocess per image at shape (1, 3, 1024, 576)\n"
     ]
    },
    {
     "name": "stderr",
     "output_type": "stream",
     "text": [
      " 87%|█████████████████████████████████▊     | 1006/1162 [06:38<01:26,  1.80it/s]"
     ]
    },
    {
     "name": "stdout",
     "output_type": "stream",
     "text": [
      "\n",
      "image 1/1 /mnt/SSD/workspace/atomic_hack/Сварные_швы/dataset/3 (14).jpg: 576x1024 (no detections), 24.7ms\n",
      "Speed: 2.9ms preprocess, 24.7ms inference, 0.3ms postprocess per image at shape (1, 3, 576, 1024)\n",
      "\n",
      "image 1/1 /mnt/SSD/workspace/atomic_hack/Сварные_швы/dataset/3 (49).jpg: 576x1024 6 прилегающие дефектыs, 23.3ms\n",
      "Speed: 2.9ms preprocess, 23.3ms inference, 0.8ms postprocess per image at shape (1, 3, 576, 1024)\n"
     ]
    },
    {
     "name": "stderr",
     "output_type": "stream",
     "text": [
      " 87%|█████████████████████████████████▊     | 1008/1162 [06:39<01:05,  2.34it/s]"
     ]
    },
    {
     "name": "stdout",
     "output_type": "stream",
     "text": [
      "\n",
      "image 1/1 /mnt/SSD/workspace/atomic_hack/Сварные_швы/dataset/1 (10).jpg: 576x1024 8 прилегающие дефектыs, 22.1ms\n",
      "Speed: 2.5ms preprocess, 22.1ms inference, 0.8ms postprocess per image at shape (1, 3, 576, 1024)\n"
     ]
    },
    {
     "name": "stderr",
     "output_type": "stream",
     "text": [
      " 87%|█████████████████████████████████▊     | 1009/1162 [06:39<01:09,  2.19it/s]"
     ]
    },
    {
     "name": "stdout",
     "output_type": "stream",
     "text": [
      "\n",
      "image 1/1 /mnt/SSD/workspace/atomic_hack/Сварные_швы/dataset/4 (78).jpg: 576x1024 10 прилегающие дефектыs, 22.5ms\n",
      "Speed: 3.0ms preprocess, 22.5ms inference, 0.9ms postprocess per image at shape (1, 3, 576, 1024)\n"
     ]
    },
    {
     "name": "stderr",
     "output_type": "stream",
     "text": [
      " 87%|█████████████████████████████████▉     | 1010/1162 [06:40<01:18,  1.93it/s]"
     ]
    },
    {
     "name": "stdout",
     "output_type": "stream",
     "text": [
      "\n",
      "image 1/1 /mnt/SSD/workspace/atomic_hack/Сварные_швы/dataset/4 (130).jpg: 576x1024 7 прилегающие дефектыs, 21.8ms\n",
      "Speed: 2.9ms preprocess, 21.8ms inference, 0.8ms postprocess per image at shape (1, 3, 576, 1024)\n"
     ]
    },
    {
     "name": "stderr",
     "output_type": "stream",
     "text": [
      " 87%|█████████████████████████████████▉     | 1011/1162 [06:40<01:17,  1.95it/s]"
     ]
    },
    {
     "name": "stdout",
     "output_type": "stream",
     "text": [
      "\n",
      "image 1/1 /mnt/SSD/workspace/atomic_hack/Сварные_швы/dataset/8 (52).jpg: 1024x576 3 прилегающие дефектыs, 20.9ms\n",
      "Speed: 3.1ms preprocess, 20.9ms inference, 0.9ms postprocess per image at shape (1, 3, 1024, 576)\n"
     ]
    },
    {
     "name": "stderr",
     "output_type": "stream",
     "text": [
      " 87%|█████████████████████████████████▉     | 1012/1162 [06:41<01:07,  2.23it/s]"
     ]
    },
    {
     "name": "stdout",
     "output_type": "stream",
     "text": [
      "\n",
      "image 1/1 /mnt/SSD/workspace/atomic_hack/Сварные_швы/dataset/3 (30).jpg: 576x1024 2 прилегающие дефектыs, 26.5ms\n",
      "Speed: 2.9ms preprocess, 26.5ms inference, 1.2ms postprocess per image at shape (1, 3, 576, 1024)\n"
     ]
    },
    {
     "name": "stderr",
     "output_type": "stream",
     "text": [
      " 87%|█████████████████████████████████▉     | 1013/1162 [06:41<00:57,  2.59it/s]"
     ]
    },
    {
     "name": "stdout",
     "output_type": "stream",
     "text": [
      "\n",
      "image 1/1 /mnt/SSD/workspace/atomic_hack/Сварные_швы/dataset/12 (57).jpg: 1024x576 5 прилегающие дефектыs, 41.8ms\n",
      "Speed: 3.2ms preprocess, 41.8ms inference, 0.8ms postprocess per image at shape (1, 3, 1024, 576)\n"
     ]
    },
    {
     "name": "stderr",
     "output_type": "stream",
     "text": [
      " 87%|██████████████████████████████████     | 1014/1162 [06:41<00:59,  2.49it/s]"
     ]
    },
    {
     "name": "stdout",
     "output_type": "stream",
     "text": [
      "\n",
      "image 1/1 /mnt/SSD/workspace/atomic_hack/Сварные_швы/dataset/8 (57).jpg: 1024x576 2 прилегающие дефектыs, 20.3ms\n",
      "Speed: 3.2ms preprocess, 20.3ms inference, 0.8ms postprocess per image at shape (1, 3, 1024, 576)\n"
     ]
    },
    {
     "name": "stderr",
     "output_type": "stream",
     "text": [
      " 87%|██████████████████████████████████     | 1015/1162 [06:42<00:50,  2.93it/s]"
     ]
    },
    {
     "name": "stdout",
     "output_type": "stream",
     "text": [
      "\n",
      "image 1/1 /mnt/SSD/workspace/atomic_hack/Сварные_швы/dataset/1 (4).jpg: 576x1024 15 прилегающие дефектыs, 21.9ms\n",
      "Speed: 2.5ms preprocess, 21.9ms inference, 0.8ms postprocess per image at shape (1, 3, 576, 1024)\n"
     ]
    },
    {
     "name": "stderr",
     "output_type": "stream",
     "text": [
      " 87%|██████████████████████████████████     | 1016/1162 [06:43<01:19,  1.83it/s]"
     ]
    },
    {
     "name": "stdout",
     "output_type": "stream",
     "text": [
      "\n",
      "image 1/1 /mnt/SSD/workspace/atomic_hack/Сварные_швы/dataset/12 (24).jpg: 1024x576 3 прилегающие дефектыs, 20.0ms\n",
      "Speed: 3.0ms preprocess, 20.0ms inference, 0.8ms postprocess per image at shape (1, 3, 1024, 576)\n"
     ]
    },
    {
     "name": "stderr",
     "output_type": "stream",
     "text": [
      " 88%|██████████████████████████████████▏    | 1017/1162 [06:43<01:09,  2.08it/s]"
     ]
    },
    {
     "name": "stdout",
     "output_type": "stream",
     "text": [
      "\n",
      "image 1/1 /mnt/SSD/workspace/atomic_hack/Сварные_швы/dataset/6 (16).jpg: 1024x576 3 прилегающие дефектыs, 20.3ms\n",
      "Speed: 2.9ms preprocess, 20.3ms inference, 0.8ms postprocess per image at shape (1, 3, 1024, 576)\n"
     ]
    },
    {
     "name": "stderr",
     "output_type": "stream",
     "text": [
      " 88%|██████████████████████████████████▏    | 1018/1162 [06:43<00:59,  2.40it/s]"
     ]
    },
    {
     "name": "stdout",
     "output_type": "stream",
     "text": [
      "\n",
      "image 1/1 /mnt/SSD/workspace/atomic_hack/Сварные_швы/dataset/5 (82).jpg: 576x1024 1 прилегающие дефекты, 27.1ms\n",
      "Speed: 2.7ms preprocess, 27.1ms inference, 0.7ms postprocess per image at shape (1, 3, 576, 1024)\n"
     ]
    },
    {
     "name": "stderr",
     "output_type": "stream",
     "text": [
      " 88%|██████████████████████████████████▏    | 1019/1162 [06:43<00:50,  2.83it/s]"
     ]
    },
    {
     "name": "stdout",
     "output_type": "stream",
     "text": [
      "\n",
      "image 1/1 /mnt/SSD/workspace/atomic_hack/Сварные_швы/dataset/2 (1).jpg: 576x1024 11 прилегающие дефектыs, 21.3ms\n",
      "Speed: 2.4ms preprocess, 21.3ms inference, 0.8ms postprocess per image at shape (1, 3, 576, 1024)\n"
     ]
    },
    {
     "name": "stderr",
     "output_type": "stream",
     "text": [
      " 88%|██████████████████████████████████▏    | 1020/1162 [06:44<01:09,  2.05it/s]"
     ]
    },
    {
     "name": "stdout",
     "output_type": "stream",
     "text": [
      "\n",
      "image 1/1 /mnt/SSD/workspace/atomic_hack/Сварные_швы/dataset/5 (164).jpg: 576x1024 11 прилегающие дефектыs, 27.9ms\n",
      "Speed: 3.1ms preprocess, 27.9ms inference, 1.0ms postprocess per image at shape (1, 3, 576, 1024)\n"
     ]
    },
    {
     "name": "stderr",
     "output_type": "stream",
     "text": [
      " 88%|██████████████████████████████████▎    | 1021/1162 [06:45<01:22,  1.71it/s]"
     ]
    },
    {
     "name": "stdout",
     "output_type": "stream",
     "text": [
      "\n",
      "image 1/1 /mnt/SSD/workspace/atomic_hack/Сварные_швы/dataset/7 (15).jpg: 1024x576 13 прилегающие дефектыs, 22.9ms\n",
      "Speed: 3.0ms preprocess, 22.9ms inference, 0.9ms postprocess per image at shape (1, 3, 1024, 576)\n"
     ]
    },
    {
     "name": "stderr",
     "output_type": "stream",
     "text": [
      " 88%|██████████████████████████████████▎    | 1022/1162 [06:46<01:39,  1.41it/s]"
     ]
    },
    {
     "name": "stdout",
     "output_type": "stream",
     "text": [
      "\n",
      "image 1/1 /mnt/SSD/workspace/atomic_hack/Сварные_швы/dataset/5 (65).jpg: 576x1024 3 прилегающие дефектыs, 20.8ms\n",
      "Speed: 2.7ms preprocess, 20.8ms inference, 0.7ms postprocess per image at shape (1, 3, 576, 1024)\n"
     ]
    },
    {
     "name": "stderr",
     "output_type": "stream",
     "text": [
      " 88%|██████████████████████████████████▎    | 1023/1162 [06:46<01:20,  1.72it/s]"
     ]
    },
    {
     "name": "stdout",
     "output_type": "stream",
     "text": [
      "\n",
      "image 1/1 /mnt/SSD/workspace/atomic_hack/Сварные_швы/dataset/7 (234).jpg: 1024x576 3 прилегающие дефектыs, 20.0ms\n",
      "Speed: 3.1ms preprocess, 20.0ms inference, 0.8ms postprocess per image at shape (1, 3, 1024, 576)\n"
     ]
    },
    {
     "name": "stderr",
     "output_type": "stream",
     "text": [
      " 88%|██████████████████████████████████▎    | 1024/1162 [06:47<01:07,  2.03it/s]"
     ]
    },
    {
     "name": "stdout",
     "output_type": "stream",
     "text": [
      "\n",
      "image 1/1 /mnt/SSD/workspace/atomic_hack/Сварные_швы/dataset/8 (29).jpg: 1024x576 2 прилегающие дефектыs, 19.7ms\n",
      "Speed: 2.9ms preprocess, 19.7ms inference, 0.8ms postprocess per image at shape (1, 3, 1024, 576)\n"
     ]
    },
    {
     "name": "stderr",
     "output_type": "stream",
     "text": [
      " 88%|██████████████████████████████████▍    | 1025/1162 [06:47<00:55,  2.48it/s]"
     ]
    },
    {
     "name": "stdout",
     "output_type": "stream",
     "text": [
      "\n",
      "image 1/1 /mnt/SSD/workspace/atomic_hack/Сварные_швы/dataset/8 (20).jpg: 1024x576 2 прилегающие дефектыs, 20.2ms\n",
      "Speed: 3.1ms preprocess, 20.2ms inference, 0.7ms postprocess per image at shape (1, 3, 1024, 576)\n"
     ]
    },
    {
     "name": "stderr",
     "output_type": "stream",
     "text": [
      " 88%|██████████████████████████████████▍    | 1026/1162 [06:47<00:46,  2.94it/s]"
     ]
    },
    {
     "name": "stdout",
     "output_type": "stream",
     "text": [
      "\n",
      "image 1/1 /mnt/SSD/workspace/atomic_hack/Сварные_швы/dataset/7 (200).jpg: 1024x576 3 прилегающие дефектыs, 20.3ms\n",
      "Speed: 2.9ms preprocess, 20.3ms inference, 0.7ms postprocess per image at shape (1, 3, 1024, 576)\n"
     ]
    },
    {
     "name": "stderr",
     "output_type": "stream",
     "text": [
      " 88%|██████████████████████████████████▍    | 1027/1162 [06:47<00:44,  3.05it/s]"
     ]
    },
    {
     "name": "stdout",
     "output_type": "stream",
     "text": [
      "\n",
      "image 1/1 /mnt/SSD/workspace/atomic_hack/Сварные_швы/dataset/7 (247).jpg: 1024x576 10 прилегающие дефектыs, 20.1ms\n",
      "Speed: 3.1ms preprocess, 20.1ms inference, 0.8ms postprocess per image at shape (1, 3, 1024, 576)\n"
     ]
    },
    {
     "name": "stderr",
     "output_type": "stream",
     "text": [
      " 88%|██████████████████████████████████▌    | 1028/1162 [06:48<00:58,  2.28it/s]"
     ]
    },
    {
     "name": "stdout",
     "output_type": "stream",
     "text": [
      "\n",
      "image 1/1 /mnt/SSD/workspace/atomic_hack/Сварные_швы/dataset/2 (7).jpg: 576x1024 9 прилегающие дефектыs, 22.0ms\n",
      "Speed: 2.5ms preprocess, 22.0ms inference, 0.8ms postprocess per image at shape (1, 3, 576, 1024)\n"
     ]
    },
    {
     "name": "stderr",
     "output_type": "stream",
     "text": [
      " 89%|██████████████████████████████████▌    | 1029/1162 [06:49<01:05,  2.02it/s]"
     ]
    },
    {
     "name": "stdout",
     "output_type": "stream",
     "text": [
      "\n",
      "image 1/1 /mnt/SSD/workspace/atomic_hack/Сварные_швы/dataset/7 (29).jpg: 1024x576 15 прилегающие дефектыs, 23.6ms\n",
      "Speed: 3.5ms preprocess, 23.6ms inference, 0.8ms postprocess per image at shape (1, 3, 1024, 576)\n"
     ]
    },
    {
     "name": "stderr",
     "output_type": "stream",
     "text": [
      " 89%|██████████████████████████████████▌    | 1030/1162 [06:50<01:26,  1.53it/s]"
     ]
    },
    {
     "name": "stdout",
     "output_type": "stream",
     "text": [
      "\n",
      "image 1/1 /mnt/SSD/workspace/atomic_hack/Сварные_швы/dataset/7 (207).jpg: 1024x576 4 прилегающие дефектыs, 20.4ms\n",
      "Speed: 2.8ms preprocess, 20.4ms inference, 0.8ms postprocess per image at shape (1, 3, 1024, 576)\n"
     ]
    },
    {
     "name": "stderr",
     "output_type": "stream",
     "text": [
      " 89%|██████████████████████████████████▌    | 1031/1162 [06:50<01:12,  1.80it/s]"
     ]
    },
    {
     "name": "stdout",
     "output_type": "stream",
     "text": [
      "\n",
      "image 1/1 /mnt/SSD/workspace/atomic_hack/Сварные_швы/dataset/5 (34).jpg: 576x1024 10 прилегающие дефектыs, 29.0ms\n",
      "Speed: 24.6ms preprocess, 29.0ms inference, 0.8ms postprocess per image at shape (1, 3, 576, 1024)\n"
     ]
    },
    {
     "name": "stderr",
     "output_type": "stream",
     "text": [
      " 89%|██████████████████████████████████▋    | 1032/1162 [06:51<01:21,  1.60it/s]"
     ]
    },
    {
     "name": "stdout",
     "output_type": "stream",
     "text": [
      "\n",
      "image 1/1 /mnt/SSD/workspace/atomic_hack/Сварные_швы/dataset/5 (204).jpg: 576x1024 8 прилегающие дефектыs, 21.8ms\n",
      "Speed: 2.9ms preprocess, 21.8ms inference, 0.8ms postprocess per image at shape (1, 3, 576, 1024)\n"
     ]
    },
    {
     "name": "stderr",
     "output_type": "stream",
     "text": [
      " 89%|██████████████████████████████████▋    | 1033/1162 [06:51<01:18,  1.65it/s]"
     ]
    },
    {
     "name": "stdout",
     "output_type": "stream",
     "text": [
      "\n",
      "image 1/1 /mnt/SSD/workspace/atomic_hack/Сварные_швы/dataset/8 (16).jpg: 1024x576 1 прилегающие дефекты, 19.6ms\n",
      "Speed: 3.0ms preprocess, 19.6ms inference, 0.8ms postprocess per image at shape (1, 3, 1024, 576)\n"
     ]
    },
    {
     "name": "stderr",
     "output_type": "stream",
     "text": [
      " 89%|██████████████████████████████████▋    | 1034/1162 [06:51<00:59,  2.15it/s]"
     ]
    },
    {
     "name": "stdout",
     "output_type": "stream",
     "text": [
      "\n",
      "image 1/1 /mnt/SSD/workspace/atomic_hack/Сварные_швы/dataset/7 (178).jpg: 1024x576 5 прилегающие дефектыs, 19.6ms\n",
      "Speed: 3.0ms preprocess, 19.6ms inference, 0.7ms postprocess per image at shape (1, 3, 1024, 576)\n"
     ]
    },
    {
     "name": "stderr",
     "output_type": "stream",
     "text": [
      " 89%|██████████████████████████████████▋    | 1035/1162 [06:52<00:55,  2.27it/s]"
     ]
    },
    {
     "name": "stdout",
     "output_type": "stream",
     "text": [
      "\n",
      "image 1/1 /mnt/SSD/workspace/atomic_hack/Сварные_швы/dataset/4 (52).jpg: 576x1024 2 прилегающие дефектыs, 21.4ms\n",
      "Speed: 2.9ms preprocess, 21.4ms inference, 1.0ms postprocess per image at shape (1, 3, 576, 1024)\n"
     ]
    },
    {
     "name": "stderr",
     "output_type": "stream",
     "text": [
      " 89%|██████████████████████████████████▊    | 1036/1162 [06:52<00:46,  2.71it/s]"
     ]
    },
    {
     "name": "stdout",
     "output_type": "stream",
     "text": [
      "\n",
      "image 1/1 /mnt/SSD/workspace/atomic_hack/Сварные_швы/dataset/7 (94).jpg: 1024x576 9 прилегающие дефектыs, 20.4ms\n",
      "Speed: 3.0ms preprocess, 20.4ms inference, 0.8ms postprocess per image at shape (1, 3, 1024, 576)\n"
     ]
    },
    {
     "name": "stderr",
     "output_type": "stream",
     "text": [
      " 89%|██████████████████████████████████▊    | 1037/1162 [06:53<01:01,  2.02it/s]"
     ]
    },
    {
     "name": "stdout",
     "output_type": "stream",
     "text": [
      "\n",
      "image 1/1 /mnt/SSD/workspace/atomic_hack/Сварные_швы/dataset/12 (73).jpg: 1024x576 4 прилегающие дефектыs, 23.3ms\n",
      "Speed: 3.1ms preprocess, 23.3ms inference, 0.8ms postprocess per image at shape (1, 3, 1024, 576)\n"
     ]
    },
    {
     "name": "stderr",
     "output_type": "stream",
     "text": [
      " 89%|██████████████████████████████████▊    | 1038/1162 [06:53<00:54,  2.26it/s]"
     ]
    },
    {
     "name": "stdout",
     "output_type": "stream",
     "text": [
      "\n",
      "image 1/1 /mnt/SSD/workspace/atomic_hack/Сварные_швы/dataset/4 (100).jpg: 576x1024 8 прилегающие дефектыs, 21.7ms\n",
      "Speed: 2.9ms preprocess, 21.7ms inference, 0.8ms postprocess per image at shape (1, 3, 576, 1024)\n"
     ]
    },
    {
     "name": "stderr",
     "output_type": "stream",
     "text": [
      " 89%|██████████████████████████████████▊    | 1039/1162 [06:54<00:59,  2.08it/s]"
     ]
    },
    {
     "name": "stdout",
     "output_type": "stream",
     "text": [
      "\n",
      "image 1/1 /mnt/SSD/workspace/atomic_hack/Сварные_швы/dataset/2 (11).jpg: 576x1024 10 прилегающие дефектыs, 21.3ms\n",
      "Speed: 2.5ms preprocess, 21.3ms inference, 0.8ms postprocess per image at shape (1, 3, 576, 1024)\n"
     ]
    },
    {
     "name": "stderr",
     "output_type": "stream",
     "text": [
      " 90%|██████████████████████████████████▉    | 1040/1162 [06:54<01:05,  1.87it/s]"
     ]
    },
    {
     "name": "stdout",
     "output_type": "stream",
     "text": [
      "\n",
      "image 1/1 /mnt/SSD/workspace/atomic_hack/Сварные_швы/dataset/5 (148).jpg: 576x1024 2 прилегающие дефектыs, 21.3ms\n",
      "Speed: 2.9ms preprocess, 21.3ms inference, 0.8ms postprocess per image at shape (1, 3, 576, 1024)\n"
     ]
    },
    {
     "name": "stderr",
     "output_type": "stream",
     "text": [
      " 90%|██████████████████████████████████▉    | 1041/1162 [06:55<00:52,  2.30it/s]"
     ]
    },
    {
     "name": "stdout",
     "output_type": "stream",
     "text": [
      "\n",
      "image 1/1 /mnt/SSD/workspace/atomic_hack/Сварные_швы/dataset/9 (60).jpg: 1024x576 1 прилегающие дефекты, 22.2ms\n",
      "Speed: 3.3ms preprocess, 22.2ms inference, 0.8ms postprocess per image at shape (1, 3, 1024, 576)\n"
     ]
    },
    {
     "name": "stderr",
     "output_type": "stream",
     "text": [
      " 90%|██████████████████████████████████▉    | 1042/1162 [06:55<00:41,  2.88it/s]"
     ]
    },
    {
     "name": "stdout",
     "output_type": "stream",
     "text": [
      "\n",
      "image 1/1 /mnt/SSD/workspace/atomic_hack/Сварные_швы/dataset/7 (57).jpg: 1024x576 6 прилегающие дефектыs, 21.8ms\n",
      "Speed: 2.9ms preprocess, 21.8ms inference, 0.8ms postprocess per image at shape (1, 3, 1024, 576)\n"
     ]
    },
    {
     "name": "stderr",
     "output_type": "stream",
     "text": [
      " 90%|███████████████████████████████████    | 1043/1162 [06:55<00:44,  2.65it/s]"
     ]
    },
    {
     "name": "stdout",
     "output_type": "stream",
     "text": [
      "\n",
      "image 1/1 /mnt/SSD/workspace/atomic_hack/Сварные_швы/dataset/12 (38).jpg: 1024x576 2 прилегающие дефектыs, 20.7ms\n",
      "Speed: 3.1ms preprocess, 20.7ms inference, 0.8ms postprocess per image at shape (1, 3, 1024, 576)\n"
     ]
    },
    {
     "name": "stderr",
     "output_type": "stream",
     "text": [
      " 90%|███████████████████████████████████    | 1044/1162 [06:55<00:37,  3.11it/s]"
     ]
    },
    {
     "name": "stdout",
     "output_type": "stream",
     "text": [
      "\n",
      "image 1/1 /mnt/SSD/workspace/atomic_hack/Сварные_швы/dataset/7 (36).jpg: 1024x576 9 прилегающие дефектыs, 19.3ms\n",
      "Speed: 2.9ms preprocess, 19.3ms inference, 0.8ms postprocess per image at shape (1, 3, 1024, 576)\n"
     ]
    },
    {
     "name": "stderr",
     "output_type": "stream",
     "text": [
      " 90%|███████████████████████████████████    | 1045/1162 [06:56<00:48,  2.40it/s]"
     ]
    },
    {
     "name": "stdout",
     "output_type": "stream",
     "text": [
      "\n",
      "image 1/1 /mnt/SSD/workspace/atomic_hack/Сварные_швы/dataset/11 (81).jpg: 1024x576 3 прилегающие дефектыs, 20.7ms\n",
      "Speed: 2.9ms preprocess, 20.7ms inference, 0.8ms postprocess per image at shape (1, 3, 1024, 576)\n"
     ]
    },
    {
     "name": "stderr",
     "output_type": "stream",
     "text": [
      " 90%|███████████████████████████████████    | 1046/1162 [06:56<00:42,  2.71it/s]"
     ]
    },
    {
     "name": "stdout",
     "output_type": "stream",
     "text": [
      "\n",
      "image 1/1 /mnt/SSD/workspace/atomic_hack/Сварные_швы/dataset/4 (24).jpg: 576x1024 1 прилегающие дефекты, 21.5ms\n",
      "Speed: 2.8ms preprocess, 21.5ms inference, 0.7ms postprocess per image at shape (1, 3, 576, 1024)\n"
     ]
    },
    {
     "name": "stderr",
     "output_type": "stream",
     "text": [
      " 90%|███████████████████████████████████▏   | 1047/1162 [06:56<00:34,  3.32it/s]"
     ]
    },
    {
     "name": "stdout",
     "output_type": "stream",
     "text": [
      "\n",
      "image 1/1 /mnt/SSD/workspace/atomic_hack/Сварные_швы/dataset/7 (22).jpg: 1024x576 17 прилегающие дефектыs, 20.2ms\n",
      "Speed: 3.0ms preprocess, 20.2ms inference, 0.8ms postprocess per image at shape (1, 3, 1024, 576)\n"
     ]
    },
    {
     "name": "stderr",
     "output_type": "stream",
     "text": [
      " 90%|███████████████████████████████████▏   | 1048/1162 [06:58<01:06,  1.72it/s]"
     ]
    },
    {
     "name": "stdout",
     "output_type": "stream",
     "text": [
      "\n",
      "image 1/1 /mnt/SSD/workspace/atomic_hack/Сварные_швы/dataset/7 (88).jpg: 1024x576 3 прилегающие дефектыs, 26.7ms\n",
      "Speed: 3.2ms preprocess, 26.7ms inference, 1.4ms postprocess per image at shape (1, 3, 1024, 576)\n"
     ]
    },
    {
     "name": "stderr",
     "output_type": "stream",
     "text": [
      " 90%|███████████████████████████████████▏   | 1049/1162 [06:58<00:58,  1.92it/s]"
     ]
    },
    {
     "name": "stdout",
     "output_type": "stream",
     "text": [
      "\n",
      "image 1/1 /mnt/SSD/workspace/atomic_hack/Сварные_швы/dataset/7 (219).jpg: 1024x576 7 прилегающие дефектыs, 26.0ms\n",
      "Speed: 3.4ms preprocess, 26.0ms inference, 1.0ms postprocess per image at shape (1, 3, 1024, 576)\n"
     ]
    },
    {
     "name": "stderr",
     "output_type": "stream",
     "text": [
      " 90%|███████████████████████████████████▏   | 1050/1162 [06:59<01:02,  1.80it/s]"
     ]
    },
    {
     "name": "stdout",
     "output_type": "stream",
     "text": [
      "\n",
      "image 1/1 /mnt/SSD/workspace/atomic_hack/Сварные_швы/dataset/8 (45).jpg: 1024x576 2 прилегающие дефектыs, 20.3ms\n",
      "Speed: 2.8ms preprocess, 20.3ms inference, 0.8ms postprocess per image at shape (1, 3, 1024, 576)\n"
     ]
    },
    {
     "name": "stderr",
     "output_type": "stream",
     "text": [
      " 90%|███████████████████████████████████▎   | 1051/1162 [06:59<00:49,  2.24it/s]"
     ]
    },
    {
     "name": "stdout",
     "output_type": "stream",
     "text": [
      "\n",
      "image 1/1 /mnt/SSD/workspace/atomic_hack/Сварные_швы/dataset/5 (205).jpg: 576x1024 14 прилегающие дефектыs, 22.2ms\n",
      "Speed: 2.9ms preprocess, 22.2ms inference, 0.7ms postprocess per image at shape (1, 3, 576, 1024)\n"
     ]
    },
    {
     "name": "stderr",
     "output_type": "stream",
     "text": [
      " 91%|███████████████████████████████████▎   | 1052/1162 [07:00<01:10,  1.55it/s]"
     ]
    },
    {
     "name": "stdout",
     "output_type": "stream",
     "text": [
      "\n",
      "image 1/1 /mnt/SSD/workspace/atomic_hack/Сварные_швы/dataset/9 (72).jpg: 1024x576 2 прилегающие дефектыs, 20.4ms\n",
      "Speed: 3.0ms preprocess, 20.4ms inference, 0.8ms postprocess per image at shape (1, 3, 1024, 576)\n"
     ]
    },
    {
     "name": "stderr",
     "output_type": "stream",
     "text": [
      " 91%|███████████████████████████████████▎   | 1053/1162 [07:00<00:55,  1.96it/s]"
     ]
    },
    {
     "name": "stdout",
     "output_type": "stream",
     "text": [
      "\n",
      "image 1/1 /mnt/SSD/workspace/atomic_hack/Сварные_швы/dataset/7 (192).jpg: 1024x576 4 прилегающие дефектыs, 74.2ms\n",
      "Speed: 3.8ms preprocess, 74.2ms inference, 0.8ms postprocess per image at shape (1, 3, 1024, 576)\n"
     ]
    },
    {
     "name": "stderr",
     "output_type": "stream",
     "text": [
      " 91%|███████████████████████████████████▍   | 1054/1162 [07:00<00:50,  2.12it/s]"
     ]
    },
    {
     "name": "stdout",
     "output_type": "stream",
     "text": [
      "\n",
      "image 1/1 /mnt/SSD/workspace/atomic_hack/Сварные_швы/dataset/3 (10).jpg: 576x1024 4 прилегающие дефектыs, 21.4ms\n",
      "Speed: 2.8ms preprocess, 21.4ms inference, 0.7ms postprocess per image at shape (1, 3, 576, 1024)\n"
     ]
    },
    {
     "name": "stderr",
     "output_type": "stream",
     "text": [
      " 91%|███████████████████████████████████▍   | 1055/1162 [07:01<00:45,  2.35it/s]"
     ]
    },
    {
     "name": "stdout",
     "output_type": "stream",
     "text": [
      "\n",
      "image 1/1 /mnt/SSD/workspace/atomic_hack/Сварные_швы/dataset/11 (22).jpg: 1024x576 1 прилегающие дефекты, 24.9ms\n",
      "Speed: 3.2ms preprocess, 24.9ms inference, 0.8ms postprocess per image at shape (1, 3, 1024, 576)\n"
     ]
    },
    {
     "name": "stderr",
     "output_type": "stream",
     "text": [
      " 91%|███████████████████████████████████▍   | 1056/1162 [07:01<00:35,  2.95it/s]"
     ]
    },
    {
     "name": "stdout",
     "output_type": "stream",
     "text": [
      "\n",
      "image 1/1 /mnt/SSD/workspace/atomic_hack/Сварные_швы/dataset/7 (102).jpg: 1024x576 10 прилегающие дефектыs, 20.6ms\n",
      "Speed: 2.9ms preprocess, 20.6ms inference, 0.8ms postprocess per image at shape (1, 3, 1024, 576)\n"
     ]
    },
    {
     "name": "stderr",
     "output_type": "stream",
     "text": [
      " 91%|███████████████████████████████████▍   | 1057/1162 [07:02<00:46,  2.25it/s]"
     ]
    },
    {
     "name": "stdout",
     "output_type": "stream",
     "text": [
      "\n",
      "image 1/1 /mnt/SSD/workspace/atomic_hack/Сварные_швы/dataset/7 (193).jpg: 1024x576 2 прилегающие дефектыs, 21.4ms\n",
      "Speed: 3.1ms preprocess, 21.4ms inference, 0.7ms postprocess per image at shape (1, 3, 1024, 576)\n"
     ]
    },
    {
     "name": "stderr",
     "output_type": "stream",
     "text": [
      " 91%|███████████████████████████████████▌   | 1058/1162 [07:02<00:38,  2.69it/s]"
     ]
    },
    {
     "name": "stdout",
     "output_type": "stream",
     "text": [
      "\n",
      "image 1/1 /mnt/SSD/workspace/atomic_hack/Сварные_швы/dataset/11 (38).jpg: 1024x576 2 прилегающие дефектыs, 19.8ms\n",
      "Speed: 2.9ms preprocess, 19.8ms inference, 1.0ms postprocess per image at shape (1, 3, 1024, 576)\n"
     ]
    },
    {
     "name": "stderr",
     "output_type": "stream",
     "text": [
      " 91%|███████████████████████████████████▌   | 1059/1162 [07:02<00:32,  3.12it/s]"
     ]
    },
    {
     "name": "stdout",
     "output_type": "stream",
     "text": [
      "\n",
      "image 1/1 /mnt/SSD/workspace/atomic_hack/Сварные_швы/dataset/4 (75).jpg: 576x1024 10 прилегающие дефектыs, 23.2ms\n",
      "Speed: 3.1ms preprocess, 23.2ms inference, 0.8ms postprocess per image at shape (1, 3, 576, 1024)\n"
     ]
    },
    {
     "name": "stderr",
     "output_type": "stream",
     "text": [
      " 91%|███████████████████████████████████▌   | 1060/1162 [07:03<00:44,  2.28it/s]"
     ]
    },
    {
     "name": "stdout",
     "output_type": "stream",
     "text": [
      "\n",
      "image 1/1 /mnt/SSD/workspace/atomic_hack/Сварные_швы/dataset/7 (44).jpg: 1024x576 12 прилегающие дефектыs, 20.1ms\n",
      "Speed: 2.9ms preprocess, 20.1ms inference, 0.7ms postprocess per image at shape (1, 3, 1024, 576)\n"
     ]
    },
    {
     "name": "stderr",
     "output_type": "stream",
     "text": [
      " 91%|███████████████████████████████████▌   | 1061/1162 [07:04<00:56,  1.79it/s]"
     ]
    },
    {
     "name": "stdout",
     "output_type": "stream",
     "text": [
      "\n",
      "image 1/1 /mnt/SSD/workspace/atomic_hack/Сварные_швы/dataset/5 (48).jpg: 576x1024 2 прилегающие дефектыs, 23.5ms\n",
      "Speed: 3.0ms preprocess, 23.5ms inference, 0.8ms postprocess per image at shape (1, 3, 576, 1024)\n"
     ]
    },
    {
     "name": "stderr",
     "output_type": "stream",
     "text": [
      " 91%|███████████████████████████████████▋   | 1062/1162 [07:04<00:45,  2.22it/s]"
     ]
    },
    {
     "name": "stdout",
     "output_type": "stream",
     "text": [
      "\n",
      "image 1/1 /mnt/SSD/workspace/atomic_hack/Сварные_швы/dataset/6 (85).jpg: 1024x576 (no detections), 20.1ms\n",
      "Speed: 3.0ms preprocess, 20.1ms inference, 0.3ms postprocess per image at shape (1, 3, 1024, 576)\n",
      "\n",
      "image 1/1 /mnt/SSD/workspace/atomic_hack/Сварные_швы/dataset/3 (39).jpg: 576x1024 1 прилегающие дефекты, 21.4ms\n",
      "Speed: 2.9ms preprocess, 21.4ms inference, 0.8ms postprocess per image at shape (1, 3, 576, 1024)\n"
     ]
    },
    {
     "name": "stderr",
     "output_type": "stream",
     "text": [
      " 92%|███████████████████████████████████▋   | 1064/1162 [07:04<00:28,  3.46it/s]"
     ]
    },
    {
     "name": "stdout",
     "output_type": "stream",
     "text": [
      "\n",
      "image 1/1 /mnt/SSD/workspace/atomic_hack/Сварные_швы/dataset/7 (127).jpg: 1024x576 9 прилегающие дефектыs, 23.9ms\n",
      "Speed: 2.9ms preprocess, 23.9ms inference, 1.2ms postprocess per image at shape (1, 3, 1024, 576)\n"
     ]
    },
    {
     "name": "stderr",
     "output_type": "stream",
     "text": [
      " 92%|███████████████████████████████████▋   | 1065/1162 [07:05<00:36,  2.64it/s]"
     ]
    },
    {
     "name": "stdout",
     "output_type": "stream",
     "text": [
      "\n",
      "image 1/1 /mnt/SSD/workspace/atomic_hack/Сварные_швы/dataset/8 (21).jpg: 1024x576 2 прилегающие дефектыs, 20.2ms\n",
      "Speed: 3.0ms preprocess, 20.2ms inference, 0.7ms postprocess per image at shape (1, 3, 1024, 576)\n"
     ]
    },
    {
     "name": "stderr",
     "output_type": "stream",
     "text": [
      " 92%|███████████████████████████████████▊   | 1066/1162 [07:05<00:31,  3.03it/s]"
     ]
    },
    {
     "name": "stdout",
     "output_type": "stream",
     "text": [
      "\n",
      "image 1/1 /mnt/SSD/workspace/atomic_hack/Сварные_швы/dataset/5 (178).jpg: 576x1024 11 прилегающие дефектыs, 21.0ms\n",
      "Speed: 2.7ms preprocess, 21.0ms inference, 0.7ms postprocess per image at shape (1, 3, 576, 1024)\n"
     ]
    },
    {
     "name": "stderr",
     "output_type": "stream",
     "text": [
      " 92%|███████████████████████████████████▊   | 1067/1162 [07:06<00:42,  2.23it/s]"
     ]
    },
    {
     "name": "stdout",
     "output_type": "stream",
     "text": [
      "\n",
      "image 1/1 /mnt/SSD/workspace/atomic_hack/Сварные_швы/dataset/8 (113).jpg: 1024x576 1 прилегающие дефекты, 20.2ms\n",
      "Speed: 3.0ms preprocess, 20.2ms inference, 0.8ms postprocess per image at shape (1, 3, 1024, 576)\n"
     ]
    },
    {
     "name": "stderr",
     "output_type": "stream",
     "text": [
      " 92%|███████████████████████████████████▊   | 1068/1162 [07:06<00:33,  2.79it/s]"
     ]
    },
    {
     "name": "stdout",
     "output_type": "stream",
     "text": [
      "\n",
      "image 1/1 /mnt/SSD/workspace/atomic_hack/Сварные_швы/dataset/4 (61).jpg: 576x1024 1 прилегающие дефекты, 21.3ms\n",
      "Speed: 2.9ms preprocess, 21.3ms inference, 0.8ms postprocess per image at shape (1, 3, 576, 1024)\n"
     ]
    },
    {
     "name": "stderr",
     "output_type": "stream",
     "text": [
      " 92%|███████████████████████████████████▉   | 1069/1162 [07:06<00:27,  3.38it/s]"
     ]
    },
    {
     "name": "stdout",
     "output_type": "stream",
     "text": [
      "\n",
      "image 1/1 /mnt/SSD/workspace/atomic_hack/Сварные_швы/dataset/7 (110).jpg: 1024x576 10 прилегающие дефектыs, 20.3ms\n",
      "Speed: 3.1ms preprocess, 20.3ms inference, 0.8ms postprocess per image at shape (1, 3, 1024, 576)\n"
     ]
    },
    {
     "name": "stderr",
     "output_type": "stream",
     "text": [
      " 92%|███████████████████████████████████▉   | 1070/1162 [07:07<00:38,  2.42it/s]"
     ]
    },
    {
     "name": "stdout",
     "output_type": "stream",
     "text": [
      "\n",
      "image 1/1 /mnt/SSD/workspace/atomic_hack/Сварные_швы/dataset/6 (90).jpg: 1024x576 (no detections), 20.2ms\n",
      "Speed: 2.9ms preprocess, 20.2ms inference, 0.3ms postprocess per image at shape (1, 3, 1024, 576)\n",
      "\n",
      "image 1/1 /mnt/SSD/workspace/atomic_hack/Сварные_швы/dataset/5 (66).jpg: 576x1024 2 прилегающие дефектыs, 20.9ms\n",
      "Speed: 2.9ms preprocess, 20.9ms inference, 0.7ms postprocess per image at shape (1, 3, 576, 1024)\n"
     ]
    },
    {
     "name": "stderr",
     "output_type": "stream",
     "text": [
      " 92%|███████████████████████████████████▉   | 1072/1162 [07:07<00:25,  3.50it/s]"
     ]
    },
    {
     "name": "stdout",
     "output_type": "stream",
     "text": [
      "\n",
      "image 1/1 /mnt/SSD/workspace/atomic_hack/Сварные_швы/dataset/12 (80).jpg: 1024x576 2 прилегающие дефектыs, 20.4ms\n",
      "Speed: 2.9ms preprocess, 20.4ms inference, 0.7ms postprocess per image at shape (1, 3, 1024, 576)\n"
     ]
    },
    {
     "name": "stderr",
     "output_type": "stream",
     "text": [
      " 92%|████████████████████████████████████   | 1073/1162 [07:07<00:23,  3.81it/s]"
     ]
    },
    {
     "name": "stdout",
     "output_type": "stream",
     "text": [
      "\n",
      "image 1/1 /mnt/SSD/workspace/atomic_hack/Сварные_швы/dataset/6 (71).jpg: 1024x576 1 прилегающие дефекты, 19.8ms\n",
      "Speed: 3.0ms preprocess, 19.8ms inference, 1.0ms postprocess per image at shape (1, 3, 1024, 576)\n"
     ]
    },
    {
     "name": "stderr",
     "output_type": "stream",
     "text": [
      " 92%|████████████████████████████████████   | 1074/1162 [07:07<00:20,  4.35it/s]"
     ]
    },
    {
     "name": "stdout",
     "output_type": "stream",
     "text": [
      "\n",
      "image 1/1 /mnt/SSD/workspace/atomic_hack/Сварные_швы/dataset/5 (67).jpg: 576x1024 1 прилегающие дефекты, 21.2ms\n",
      "Speed: 2.8ms preprocess, 21.2ms inference, 0.7ms postprocess per image at shape (1, 3, 576, 1024)\n"
     ]
    },
    {
     "name": "stderr",
     "output_type": "stream",
     "text": [
      " 93%|████████████████████████████████████   | 1075/1162 [07:07<00:17,  4.91it/s]"
     ]
    },
    {
     "name": "stdout",
     "output_type": "stream",
     "text": [
      "\n",
      "image 1/1 /mnt/SSD/workspace/atomic_hack/Сварные_швы/dataset/6 (93).jpg: 1024x576 3 прилегающие дефектыs, 19.9ms\n",
      "Speed: 3.0ms preprocess, 19.9ms inference, 0.8ms postprocess per image at shape (1, 3, 1024, 576)\n"
     ]
    },
    {
     "name": "stderr",
     "output_type": "stream",
     "text": [
      " 93%|████████████████████████████████████   | 1076/1162 [07:08<00:19,  4.51it/s]"
     ]
    },
    {
     "name": "stdout",
     "output_type": "stream",
     "text": [
      "\n",
      "image 1/1 /mnt/SSD/workspace/atomic_hack/Сварные_швы/dataset/5 (170).jpg: 576x1024 4 прилегающие дефектыs, 21.4ms\n",
      "Speed: 2.8ms preprocess, 21.4ms inference, 0.7ms postprocess per image at shape (1, 3, 576, 1024)\n"
     ]
    },
    {
     "name": "stderr",
     "output_type": "stream",
     "text": [
      " 93%|████████████████████████████████████▏  | 1077/1162 [07:08<00:21,  3.99it/s]"
     ]
    },
    {
     "name": "stdout",
     "output_type": "stream",
     "text": [
      "\n",
      "image 1/1 /mnt/SSD/workspace/atomic_hack/Сварные_швы/dataset/7 (262).jpg: 1024x576 4 прилегающие дефектыs, 20.3ms\n",
      "Speed: 3.0ms preprocess, 20.3ms inference, 0.8ms postprocess per image at shape (1, 3, 1024, 576)\n"
     ]
    },
    {
     "name": "stderr",
     "output_type": "stream",
     "text": [
      " 93%|████████████████████████████████████▏  | 1078/1162 [07:08<00:22,  3.68it/s]"
     ]
    },
    {
     "name": "stdout",
     "output_type": "stream",
     "text": [
      "\n",
      "image 1/1 /mnt/SSD/workspace/atomic_hack/Сварные_швы/dataset/9 (67).jpg: 1024x576 5 прилегающие дефектыs, 20.3ms\n",
      "Speed: 2.9ms preprocess, 20.3ms inference, 0.8ms postprocess per image at shape (1, 3, 1024, 576)\n"
     ]
    },
    {
     "name": "stderr",
     "output_type": "stream",
     "text": [
      " 93%|████████████████████████████████████▏  | 1079/1162 [07:09<00:25,  3.28it/s]"
     ]
    },
    {
     "name": "stdout",
     "output_type": "stream",
     "text": [
      "\n",
      "image 1/1 /mnt/SSD/workspace/atomic_hack/Сварные_швы/dataset/5 (215).jpg: 576x1024 9 прилегающие дефектыs, 21.6ms\n",
      "Speed: 3.0ms preprocess, 21.6ms inference, 0.8ms postprocess per image at shape (1, 3, 576, 1024)\n"
     ]
    },
    {
     "name": "stderr",
     "output_type": "stream",
     "text": [
      " 93%|████████████████████████████████████▏  | 1080/1162 [07:09<00:34,  2.39it/s]"
     ]
    },
    {
     "name": "stdout",
     "output_type": "stream",
     "text": [
      "\n",
      "image 1/1 /mnt/SSD/workspace/atomic_hack/Сварные_швы/dataset/7 (33).jpg: 1024x576 14 прилегающие дефектыs, 20.4ms\n",
      "Speed: 2.9ms preprocess, 20.4ms inference, 0.7ms postprocess per image at shape (1, 3, 1024, 576)\n"
     ]
    },
    {
     "name": "stderr",
     "output_type": "stream",
     "text": [
      " 93%|████████████████████████████████████▎  | 1081/1162 [07:10<00:47,  1.70it/s]"
     ]
    },
    {
     "name": "stdout",
     "output_type": "stream",
     "text": [
      "\n",
      "image 1/1 /mnt/SSD/workspace/atomic_hack/Сварные_швы/dataset/7 (135).jpg: 1024x576 9 прилегающие дефектыs, 20.3ms\n",
      "Speed: 3.1ms preprocess, 20.3ms inference, 0.8ms postprocess per image at shape (1, 3, 1024, 576)\n"
     ]
    },
    {
     "name": "stderr",
     "output_type": "stream",
     "text": [
      " 93%|████████████████████████████████████▎  | 1082/1162 [07:11<00:48,  1.65it/s]"
     ]
    },
    {
     "name": "stdout",
     "output_type": "stream",
     "text": [
      "\n",
      "image 1/1 /mnt/SSD/workspace/atomic_hack/Сварные_швы/dataset/8 (116).jpg: 1024x576 1 прилегающие дефекты, 20.5ms\n",
      "Speed: 3.0ms preprocess, 20.5ms inference, 0.8ms postprocess per image at shape (1, 3, 1024, 576)\n"
     ]
    },
    {
     "name": "stderr",
     "output_type": "stream",
     "text": [
      " 93%|████████████████████████████████████▎  | 1083/1162 [07:11<00:36,  2.17it/s]"
     ]
    },
    {
     "name": "stdout",
     "output_type": "stream",
     "text": [
      "\n",
      "image 1/1 /mnt/SSD/workspace/atomic_hack/Сварные_швы/dataset/7 (107).jpg: 1024x576 13 прилегающие дефектыs, 19.6ms\n",
      "Speed: 3.2ms preprocess, 19.6ms inference, 0.8ms postprocess per image at shape (1, 3, 1024, 576)\n"
     ]
    },
    {
     "name": "stderr",
     "output_type": "stream",
     "text": [
      " 93%|████████████████████████████████████▍  | 1084/1162 [07:12<00:47,  1.65it/s]"
     ]
    },
    {
     "name": "stdout",
     "output_type": "stream",
     "text": [
      "\n",
      "image 1/1 /mnt/SSD/workspace/atomic_hack/Сварные_швы/dataset/8 (85).jpg: 1024x576 3 прилегающие дефектыs, 23.0ms\n",
      "Speed: 3.0ms preprocess, 23.0ms inference, 0.9ms postprocess per image at shape (1, 3, 1024, 576)\n"
     ]
    },
    {
     "name": "stderr",
     "output_type": "stream",
     "text": [
      " 93%|████████████████████████████████████▍  | 1085/1162 [07:12<00:39,  1.97it/s]"
     ]
    },
    {
     "name": "stdout",
     "output_type": "stream",
     "text": [
      "\n",
      "image 1/1 /mnt/SSD/workspace/atomic_hack/Сварные_швы/dataset/7 (203).jpg: 1024x576 4 прилегающие дефектыs, 22.2ms\n",
      "Speed: 3.0ms preprocess, 22.2ms inference, 0.8ms postprocess per image at shape (1, 3, 1024, 576)\n"
     ]
    },
    {
     "name": "stderr",
     "output_type": "stream",
     "text": [
      " 93%|████████████████████████████████████▍  | 1086/1162 [07:13<00:34,  2.18it/s]"
     ]
    },
    {
     "name": "stdout",
     "output_type": "stream",
     "text": [
      "\n",
      "image 1/1 /mnt/SSD/workspace/atomic_hack/Сварные_швы/dataset/3 (42).jpg: 576x1024 (no detections), 22.7ms\n",
      "Speed: 2.8ms preprocess, 22.7ms inference, 0.3ms postprocess per image at shape (1, 3, 576, 1024)\n",
      "\n",
      "image 1/1 /mnt/SSD/workspace/atomic_hack/Сварные_швы/dataset/4 (144).jpg: 576x1024 3 прилегающие дефектыs, 21.8ms\n",
      "Speed: 3.2ms preprocess, 21.8ms inference, 1.1ms postprocess per image at shape (1, 3, 576, 1024)\n"
     ]
    },
    {
     "name": "stderr",
     "output_type": "stream",
     "text": [
      " 94%|████████████████████████████████████▌  | 1088/1162 [07:13<00:25,  2.95it/s]"
     ]
    },
    {
     "name": "stdout",
     "output_type": "stream",
     "text": [
      "\n",
      "image 1/1 /mnt/SSD/workspace/atomic_hack/Сварные_швы/dataset/5 (212).jpg: 576x1024 7 прилегающие дефектыs, 22.1ms\n",
      "Speed: 3.0ms preprocess, 22.1ms inference, 0.8ms postprocess per image at shape (1, 3, 576, 1024)\n"
     ]
    },
    {
     "name": "stderr",
     "output_type": "stream",
     "text": [
      " 94%|████████████████████████████████████▌  | 1089/1162 [07:14<00:28,  2.58it/s]"
     ]
    },
    {
     "name": "stdout",
     "output_type": "stream",
     "text": [
      "\n",
      "image 1/1 /mnt/SSD/workspace/atomic_hack/Сварные_швы/dataset/9 (9).jpg: 1024x576 3 прилегающие дефектыs, 23.3ms\n",
      "Speed: 3.1ms preprocess, 23.3ms inference, 0.8ms postprocess per image at shape (1, 3, 1024, 576)\n"
     ]
    },
    {
     "name": "stderr",
     "output_type": "stream",
     "text": [
      " 94%|████████████████████████████████████▌  | 1090/1162 [07:14<00:25,  2.77it/s]"
     ]
    },
    {
     "name": "stdout",
     "output_type": "stream",
     "text": [
      "\n",
      "image 1/1 /mnt/SSD/workspace/atomic_hack/Сварные_швы/dataset/4 (68).jpg: 576x1024 12 прилегающие дефектыs, 22.2ms\n",
      "Speed: 2.8ms preprocess, 22.2ms inference, 0.8ms postprocess per image at shape (1, 3, 576, 1024)\n"
     ]
    },
    {
     "name": "stderr",
     "output_type": "stream",
     "text": [
      " 94%|████████████████████████████████████▌  | 1091/1162 [07:15<00:39,  1.82it/s]"
     ]
    },
    {
     "name": "stdout",
     "output_type": "stream",
     "text": [
      "\n",
      "image 1/1 /mnt/SSD/workspace/atomic_hack/Сварные_швы/dataset/6 (53).jpg: 1024x576 2 прилегающие дефектыs, 23.3ms\n",
      "Speed: 3.3ms preprocess, 23.3ms inference, 0.8ms postprocess per image at shape (1, 3, 1024, 576)\n"
     ]
    },
    {
     "name": "stderr",
     "output_type": "stream",
     "text": [
      " 94%|████████████████████████████████████▋  | 1092/1162 [07:15<00:32,  2.18it/s]"
     ]
    },
    {
     "name": "stdout",
     "output_type": "stream",
     "text": [
      "\n",
      "image 1/1 /mnt/SSD/workspace/atomic_hack/Сварные_швы/dataset/4 (2).jpg: 576x1024 3 прилегающие дефектыs, 23.2ms\n",
      "Speed: 3.2ms preprocess, 23.2ms inference, 1.3ms postprocess per image at shape (1, 3, 576, 1024)\n"
     ]
    },
    {
     "name": "stderr",
     "output_type": "stream",
     "text": [
      " 94%|████████████████████████████████████▋  | 1093/1162 [07:15<00:29,  2.37it/s]"
     ]
    },
    {
     "name": "stdout",
     "output_type": "stream",
     "text": [
      "\n",
      "image 1/1 /mnt/SSD/workspace/atomic_hack/Сварные_швы/dataset/11 (55).jpg: 1024x576 2 прилегающие дефектыs, 20.2ms\n",
      "Speed: 3.0ms preprocess, 20.2ms inference, 0.8ms postprocess per image at shape (1, 3, 1024, 576)\n"
     ]
    },
    {
     "name": "stderr",
     "output_type": "stream",
     "text": [
      " 94%|████████████████████████████████████▋  | 1094/1162 [07:16<00:24,  2.78it/s]"
     ]
    },
    {
     "name": "stdout",
     "output_type": "stream",
     "text": [
      "\n",
      "image 1/1 /mnt/SSD/workspace/atomic_hack/Сварные_швы/dataset/9 (71).jpg: 1024x576 1 прилегающие дефекты, 25.7ms\n",
      "Speed: 3.3ms preprocess, 25.7ms inference, 0.8ms postprocess per image at shape (1, 3, 1024, 576)\n"
     ]
    },
    {
     "name": "stderr",
     "output_type": "stream",
     "text": [
      " 94%|████████████████████████████████████▊  | 1095/1162 [07:16<00:20,  3.20it/s]"
     ]
    },
    {
     "name": "stdout",
     "output_type": "stream",
     "text": [
      "\n",
      "image 1/1 /mnt/SSD/workspace/atomic_hack/Сварные_швы/dataset/8 (43).jpg: 1024x576 2 прилегающие дефектыs, 25.6ms\n",
      "Speed: 3.1ms preprocess, 25.6ms inference, 1.0ms postprocess per image at shape (1, 3, 1024, 576)\n"
     ]
    },
    {
     "name": "stderr",
     "output_type": "stream",
     "text": [
      " 94%|████████████████████████████████████▊  | 1096/1162 [07:16<00:18,  3.52it/s]"
     ]
    },
    {
     "name": "stdout",
     "output_type": "stream",
     "text": [
      "\n",
      "image 1/1 /mnt/SSD/workspace/atomic_hack/Сварные_швы/dataset/9 (14).jpg: 1024x576 8 прилегающие дефектыs, 20.3ms\n",
      "Speed: 3.1ms preprocess, 20.3ms inference, 0.8ms postprocess per image at shape (1, 3, 1024, 576)\n"
     ]
    },
    {
     "name": "stderr",
     "output_type": "stream",
     "text": [
      " 94%|████████████████████████████████████▊  | 1097/1162 [07:17<00:26,  2.44it/s]"
     ]
    },
    {
     "name": "stdout",
     "output_type": "stream",
     "text": [
      "\n",
      "image 1/1 /mnt/SSD/workspace/atomic_hack/Сварные_швы/dataset/6 (28).jpg: 1024x576 2 прилегающие дефектыs, 26.2ms\n",
      "Speed: 2.9ms preprocess, 26.2ms inference, 0.8ms postprocess per image at shape (1, 3, 1024, 576)\n"
     ]
    },
    {
     "name": "stderr",
     "output_type": "stream",
     "text": [
      " 94%|████████████████████████████████████▊  | 1098/1162 [07:17<00:23,  2.69it/s]"
     ]
    },
    {
     "name": "stdout",
     "output_type": "stream",
     "text": [
      "\n",
      "image 1/1 /mnt/SSD/workspace/atomic_hack/Сварные_швы/dataset/7 (185).jpg: 1024x576 3 прилегающие дефектыs, 22.0ms\n",
      "Speed: 3.1ms preprocess, 22.0ms inference, 0.8ms postprocess per image at shape (1, 3, 1024, 576)\n"
     ]
    },
    {
     "name": "stderr",
     "output_type": "stream",
     "text": [
      " 95%|████████████████████████████████████▉  | 1099/1162 [07:17<00:21,  2.90it/s]"
     ]
    },
    {
     "name": "stdout",
     "output_type": "stream",
     "text": [
      "\n",
      "image 1/1 /mnt/SSD/workspace/atomic_hack/Сварные_швы/dataset/5 (6).jpg: 576x1024 6 прилегающие дефектыs, 23.2ms\n",
      "Speed: 2.8ms preprocess, 23.2ms inference, 0.8ms postprocess per image at shape (1, 3, 576, 1024)\n"
     ]
    },
    {
     "name": "stderr",
     "output_type": "stream",
     "text": [
      " 95%|████████████████████████████████████▉  | 1100/1162 [07:18<00:24,  2.58it/s]"
     ]
    },
    {
     "name": "stdout",
     "output_type": "stream",
     "text": [
      "\n",
      "image 1/1 /mnt/SSD/workspace/atomic_hack/Сварные_швы/dataset/9 (64).jpg: 1024x576 6 прилегающие дефектыs, 26.2ms\n",
      "Speed: 3.2ms preprocess, 26.2ms inference, 1.4ms postprocess per image at shape (1, 3, 1024, 576)\n"
     ]
    },
    {
     "name": "stderr",
     "output_type": "stream",
     "text": [
      " 95%|████████████████████████████████████▉  | 1101/1162 [07:18<00:27,  2.20it/s]"
     ]
    },
    {
     "name": "stdout",
     "output_type": "stream",
     "text": [
      "\n",
      "image 1/1 /mnt/SSD/workspace/atomic_hack/Сварные_швы/dataset/11 (10).jpg: 1024x576 1 прилегающие дефекты, 24.9ms\n",
      "Speed: 3.6ms preprocess, 24.9ms inference, 1.0ms postprocess per image at shape (1, 3, 1024, 576)\n"
     ]
    },
    {
     "name": "stderr",
     "output_type": "stream",
     "text": [
      " 95%|████████████████████████████████████▉  | 1102/1162 [07:19<00:21,  2.76it/s]"
     ]
    },
    {
     "name": "stdout",
     "output_type": "stream",
     "text": [
      "\n",
      "image 1/1 /mnt/SSD/workspace/atomic_hack/Сварные_швы/dataset/7 (38).jpg: 1024x576 18 прилегающие дефектыs, 19.6ms\n",
      "Speed: 3.3ms preprocess, 19.6ms inference, 0.8ms postprocess per image at shape (1, 3, 1024, 576)\n"
     ]
    },
    {
     "name": "stderr",
     "output_type": "stream",
     "text": [
      " 95%|█████████████████████████████████████  | 1103/1162 [07:20<00:39,  1.49it/s]"
     ]
    },
    {
     "name": "stdout",
     "output_type": "stream",
     "text": [
      "\n",
      "image 1/1 /mnt/SSD/workspace/atomic_hack/Сварные_швы/dataset/7 (52).jpg: 1024x576 2 прилегающие дефектыs, 19.2ms\n",
      "Speed: 3.0ms preprocess, 19.2ms inference, 0.8ms postprocess per image at shape (1, 3, 1024, 576)\n"
     ]
    },
    {
     "name": "stderr",
     "output_type": "stream",
     "text": [
      " 95%|█████████████████████████████████████  | 1104/1162 [07:20<00:30,  1.89it/s]"
     ]
    },
    {
     "name": "stdout",
     "output_type": "stream",
     "text": [
      "\n",
      "image 1/1 /mnt/SSD/workspace/atomic_hack/Сварные_швы/dataset/9 (28).jpg: 1024x576 4 прилегающие дефектыs, 20.5ms\n",
      "Speed: 3.2ms preprocess, 20.5ms inference, 0.8ms postprocess per image at shape (1, 3, 1024, 576)\n"
     ]
    },
    {
     "name": "stderr",
     "output_type": "stream",
     "text": [
      " 95%|█████████████████████████████████████  | 1105/1162 [07:21<00:27,  2.06it/s]"
     ]
    },
    {
     "name": "stdout",
     "output_type": "stream",
     "text": [
      "\n",
      "image 1/1 /mnt/SSD/workspace/atomic_hack/Сварные_швы/dataset/5 (147).jpg: 576x1024 2 прилегающие дефектыs, 69.1ms\n",
      "Speed: 2.9ms preprocess, 69.1ms inference, 1.1ms postprocess per image at shape (1, 3, 576, 1024)\n"
     ]
    },
    {
     "name": "stderr",
     "output_type": "stream",
     "text": [
      " 95%|█████████████████████████████████████  | 1106/1162 [07:21<00:23,  2.42it/s]"
     ]
    },
    {
     "name": "stdout",
     "output_type": "stream",
     "text": [
      "\n",
      "image 1/1 /mnt/SSD/workspace/atomic_hack/Сварные_швы/dataset/6 (99).jpg: 1024x576 3 прилегающие дефектыs, 20.2ms\n",
      "Speed: 3.0ms preprocess, 20.2ms inference, 0.7ms postprocess per image at shape (1, 3, 1024, 576)\n"
     ]
    },
    {
     "name": "stderr",
     "output_type": "stream",
     "text": [
      " 95%|█████████████████████████████████████▏ | 1107/1162 [07:21<00:20,  2.71it/s]"
     ]
    },
    {
     "name": "stdout",
     "output_type": "stream",
     "text": [
      "\n",
      "image 1/1 /mnt/SSD/workspace/atomic_hack/Сварные_швы/dataset/11 (63).jpg: 1024x576 1 прилегающие дефекты, 20.5ms\n",
      "Speed: 3.1ms preprocess, 20.5ms inference, 1.0ms postprocess per image at shape (1, 3, 1024, 576)\n"
     ]
    },
    {
     "name": "stderr",
     "output_type": "stream",
     "text": [
      " 95%|█████████████████████████████████████▏ | 1108/1162 [07:21<00:16,  3.36it/s]"
     ]
    },
    {
     "name": "stdout",
     "output_type": "stream",
     "text": [
      "\n",
      "image 1/1 /mnt/SSD/workspace/atomic_hack/Сварные_швы/dataset/6 (101).jpg: 1024x576 2 прилегающие дефектыs, 23.8ms\n",
      "Speed: 7.0ms preprocess, 23.8ms inference, 0.8ms postprocess per image at shape (1, 3, 1024, 576)\n"
     ]
    },
    {
     "name": "stderr",
     "output_type": "stream",
     "text": [
      " 95%|█████████████████████████████████████▏ | 1109/1162 [07:21<00:14,  3.68it/s]"
     ]
    },
    {
     "name": "stdout",
     "output_type": "stream",
     "text": [
      "\n",
      "image 1/1 /mnt/SSD/workspace/atomic_hack/Сварные_швы/dataset/7 (242).jpg: 1024x576 10 прилегающие дефектыs, 20.1ms\n",
      "Speed: 2.9ms preprocess, 20.1ms inference, 0.7ms postprocess per image at shape (1, 3, 1024, 576)\n"
     ]
    },
    {
     "name": "stderr",
     "output_type": "stream",
     "text": [
      " 96%|█████████████████████████████████████▎ | 1110/1162 [07:22<00:21,  2.45it/s]"
     ]
    },
    {
     "name": "stdout",
     "output_type": "stream",
     "text": [
      "\n",
      "image 1/1 /mnt/SSD/workspace/atomic_hack/Сварные_швы/dataset/6 (82).jpg: 1024x576 2 прилегающие дефектыs, 20.2ms\n",
      "Speed: 3.0ms preprocess, 20.2ms inference, 0.8ms postprocess per image at shape (1, 3, 1024, 576)\n"
     ]
    },
    {
     "name": "stderr",
     "output_type": "stream",
     "text": [
      " 96%|█████████████████████████████████████▎ | 1111/1162 [07:22<00:17,  2.91it/s]"
     ]
    },
    {
     "name": "stdout",
     "output_type": "stream",
     "text": [
      "\n",
      "image 1/1 /mnt/SSD/workspace/atomic_hack/Сварные_швы/dataset/6 (17).jpg: 1024x576 2 прилегающие дефектыs, 20.4ms\n",
      "Speed: 3.0ms preprocess, 20.4ms inference, 0.8ms postprocess per image at shape (1, 3, 1024, 576)\n"
     ]
    },
    {
     "name": "stderr",
     "output_type": "stream",
     "text": [
      " 96%|█████████████████████████████████████▎ | 1112/1162 [07:22<00:14,  3.36it/s]"
     ]
    },
    {
     "name": "stdout",
     "output_type": "stream",
     "text": [
      "\n",
      "image 1/1 /mnt/SSD/workspace/atomic_hack/Сварные_швы/dataset/6 (43).jpg: 1024x576 1 прилегающие дефекты, 19.8ms\n",
      "Speed: 3.0ms preprocess, 19.8ms inference, 1.0ms postprocess per image at shape (1, 3, 1024, 576)\n"
     ]
    },
    {
     "name": "stderr",
     "output_type": "stream",
     "text": [
      " 96%|█████████████████████████████████████▎ | 1113/1162 [07:23<00:12,  3.99it/s]"
     ]
    },
    {
     "name": "stdout",
     "output_type": "stream",
     "text": [
      "\n",
      "image 1/1 /mnt/SSD/workspace/atomic_hack/Сварные_швы/dataset/6 (109).jpg: 1024x576 (no detections), 20.4ms\n",
      "Speed: 2.9ms preprocess, 20.4ms inference, 0.3ms postprocess per image at shape (1, 3, 1024, 576)\n",
      "\n",
      "image 1/1 /mnt/SSD/workspace/atomic_hack/Сварные_швы/dataset/9 (53).jpg: 1024x576 1 прилегающие дефекты, 20.6ms\n",
      "Speed: 3.2ms preprocess, 20.6ms inference, 0.8ms postprocess per image at shape (1, 3, 1024, 576)\n"
     ]
    },
    {
     "name": "stderr",
     "output_type": "stream",
     "text": [
      " 96%|█████████████████████████████████████▍ | 1115/1162 [07:23<00:08,  5.59it/s]"
     ]
    },
    {
     "name": "stdout",
     "output_type": "stream",
     "text": [
      "\n",
      "image 1/1 /mnt/SSD/workspace/atomic_hack/Сварные_швы/dataset/6 (75).jpg: 1024x576 1 прилегающие дефекты, 20.3ms\n",
      "Speed: 2.9ms preprocess, 20.3ms inference, 0.7ms postprocess per image at shape (1, 3, 1024, 576)\n"
     ]
    },
    {
     "name": "stderr",
     "output_type": "stream",
     "text": [
      " 96%|█████████████████████████████████████▍ | 1116/1162 [07:23<00:07,  6.02it/s]"
     ]
    },
    {
     "name": "stdout",
     "output_type": "stream",
     "text": [
      "\n",
      "image 1/1 /mnt/SSD/workspace/atomic_hack/Сварные_швы/dataset/3 (38).jpg: 576x1024 (no detections), 20.6ms\n",
      "Speed: 2.9ms preprocess, 20.6ms inference, 0.3ms postprocess per image at shape (1, 3, 576, 1024)\n",
      "\n",
      "image 1/1 /mnt/SSD/workspace/atomic_hack/Сварные_швы/dataset/8 (68).jpg: 1024x576 2 прилегающие дефектыs, 20.1ms\n",
      "Speed: 2.9ms preprocess, 20.1ms inference, 0.8ms postprocess per image at shape (1, 3, 1024, 576)\n"
     ]
    },
    {
     "name": "stderr",
     "output_type": "stream",
     "text": [
      " 96%|█████████████████████████████████████▌ | 1118/1162 [07:23<00:06,  6.55it/s]"
     ]
    },
    {
     "name": "stdout",
     "output_type": "stream",
     "text": [
      "\n",
      "image 1/1 /mnt/SSD/workspace/atomic_hack/Сварные_швы/dataset/11 (12).jpg: 1024x576 4 прилегающие дефектыs, 20.3ms\n",
      "Speed: 3.1ms preprocess, 20.3ms inference, 0.8ms postprocess per image at shape (1, 3, 1024, 576)\n"
     ]
    },
    {
     "name": "stderr",
     "output_type": "stream",
     "text": [
      " 96%|█████████████████████████████████████▌ | 1119/1162 [07:24<00:08,  5.20it/s]"
     ]
    },
    {
     "name": "stdout",
     "output_type": "stream",
     "text": [
      "\n",
      "image 1/1 /mnt/SSD/workspace/atomic_hack/Сварные_швы/dataset/5 (27).jpg: 576x1024 8 прилегающие дефектыs, 20.3ms\n",
      "Speed: 2.9ms preprocess, 20.3ms inference, 0.7ms postprocess per image at shape (1, 3, 576, 1024)\n"
     ]
    },
    {
     "name": "stderr",
     "output_type": "stream",
     "text": [
      " 96%|█████████████████████████████████████▌ | 1120/1162 [07:24<00:12,  3.46it/s]"
     ]
    },
    {
     "name": "stdout",
     "output_type": "stream",
     "text": [
      "\n",
      "image 1/1 /mnt/SSD/workspace/atomic_hack/Сварные_швы/dataset/12 (29).jpg: 1024x576 2 прилегающие дефектыs, 29.6ms\n",
      "Speed: 3.9ms preprocess, 29.6ms inference, 1.0ms postprocess per image at shape (1, 3, 1024, 576)\n"
     ]
    },
    {
     "name": "stderr",
     "output_type": "stream",
     "text": [
      " 96%|█████████████████████████████████████▌ | 1121/1162 [07:24<00:11,  3.66it/s]"
     ]
    },
    {
     "name": "stdout",
     "output_type": "stream",
     "text": [
      "\n",
      "image 1/1 /mnt/SSD/workspace/atomic_hack/Сварные_швы/dataset/5 (29).jpg: 576x1024 11 прилегающие дефектыs, 21.5ms\n",
      "Speed: 2.9ms preprocess, 21.5ms inference, 0.8ms postprocess per image at shape (1, 3, 576, 1024)\n"
     ]
    },
    {
     "name": "stderr",
     "output_type": "stream",
     "text": [
      " 97%|█████████████████████████████████████▋ | 1122/1162 [07:25<00:16,  2.42it/s]"
     ]
    },
    {
     "name": "stdout",
     "output_type": "stream",
     "text": [
      "\n",
      "image 1/1 /mnt/SSD/workspace/atomic_hack/Сварные_швы/dataset/5 (124).jpg: 576x1024 1 прилегающие дефекты, 27.0ms\n",
      "Speed: 2.8ms preprocess, 27.0ms inference, 0.8ms postprocess per image at shape (1, 3, 576, 1024)\n"
     ]
    },
    {
     "name": "stderr",
     "output_type": "stream",
     "text": [
      " 97%|█████████████████████████████████████▋ | 1123/1162 [07:25<00:13,  2.95it/s]"
     ]
    },
    {
     "name": "stdout",
     "output_type": "stream",
     "text": [
      "\n",
      "image 1/1 /mnt/SSD/workspace/atomic_hack/Сварные_швы/dataset/8 (10).jpg: 1024x576 3 прилегающие дефектыs, 20.5ms\n",
      "Speed: 3.0ms preprocess, 20.5ms inference, 0.8ms postprocess per image at shape (1, 3, 1024, 576)\n"
     ]
    },
    {
     "name": "stderr",
     "output_type": "stream",
     "text": [
      " 97%|█████████████████████████████████████▋ | 1124/1162 [07:26<00:12,  3.16it/s]"
     ]
    },
    {
     "name": "stdout",
     "output_type": "stream",
     "text": [
      "\n",
      "image 1/1 /mnt/SSD/workspace/atomic_hack/Сварные_швы/dataset/8 (101).jpg: 1024x576 3 прилегающие дефектыs, 19.9ms\n",
      "Speed: 3.1ms preprocess, 19.9ms inference, 0.7ms postprocess per image at shape (1, 3, 1024, 576)\n"
     ]
    },
    {
     "name": "stderr",
     "output_type": "stream",
     "text": [
      " 97%|█████████████████████████████████████▊ | 1125/1162 [07:26<00:11,  3.23it/s]"
     ]
    },
    {
     "name": "stdout",
     "output_type": "stream",
     "text": [
      "\n",
      "image 1/1 /mnt/SSD/workspace/atomic_hack/Сварные_швы/dataset/8 (48).jpg: 1024x576 4 прилегающие дефектыs, 20.9ms\n",
      "Speed: 2.9ms preprocess, 20.9ms inference, 0.8ms postprocess per image at shape (1, 3, 1024, 576)\n"
     ]
    },
    {
     "name": "stderr",
     "output_type": "stream",
     "text": [
      " 97%|█████████████████████████████████████▊ | 1126/1162 [07:26<00:11,  3.20it/s]"
     ]
    },
    {
     "name": "stdout",
     "output_type": "stream",
     "text": [
      "\n",
      "image 1/1 /mnt/SSD/workspace/atomic_hack/Сварные_швы/dataset/5 (182).jpg: 576x1024 11 прилегающие дефектыs, 23.3ms\n",
      "Speed: 2.8ms preprocess, 23.3ms inference, 0.8ms postprocess per image at shape (1, 3, 576, 1024)\n"
     ]
    },
    {
     "name": "stderr",
     "output_type": "stream",
     "text": [
      " 97%|█████████████████████████████████████▊ | 1127/1162 [07:27<00:15,  2.25it/s]"
     ]
    },
    {
     "name": "stdout",
     "output_type": "stream",
     "text": [
      "\n",
      "image 1/1 /mnt/SSD/workspace/atomic_hack/Сварные_швы/dataset/5 (68).jpg: 576x1024 2 прилегающие дефектыs, 21.4ms\n",
      "Speed: 2.7ms preprocess, 21.4ms inference, 0.8ms postprocess per image at shape (1, 3, 576, 1024)\n"
     ]
    },
    {
     "name": "stderr",
     "output_type": "stream",
     "text": [
      " 97%|█████████████████████████████████████▊ | 1128/1162 [07:27<00:12,  2.67it/s]"
     ]
    },
    {
     "name": "stdout",
     "output_type": "stream",
     "text": [
      "\n",
      "image 1/1 /mnt/SSD/workspace/atomic_hack/Сварные_швы/dataset/3 (48).jpg: 576x1024 5 прилегающие дефектыs, 20.2ms\n",
      "Speed: 3.3ms preprocess, 20.2ms inference, 0.8ms postprocess per image at shape (1, 3, 576, 1024)\n"
     ]
    },
    {
     "name": "stderr",
     "output_type": "stream",
     "text": [
      " 97%|█████████████████████████████████████▉ | 1129/1162 [07:28<00:12,  2.64it/s]"
     ]
    },
    {
     "name": "stdout",
     "output_type": "stream",
     "text": [
      "\n",
      "image 1/1 /mnt/SSD/workspace/atomic_hack/Сварные_швы/dataset/11 (26).jpg: 1024x576 3 прилегающие дефектыs, 20.3ms\n",
      "Speed: 2.9ms preprocess, 20.3ms inference, 0.8ms postprocess per image at shape (1, 3, 1024, 576)\n"
     ]
    },
    {
     "name": "stderr",
     "output_type": "stream",
     "text": [
      " 97%|█████████████████████████████████████▉ | 1130/1162 [07:28<00:12,  2.65it/s]"
     ]
    },
    {
     "name": "stdout",
     "output_type": "stream",
     "text": [
      "\n",
      "image 1/1 /mnt/SSD/workspace/atomic_hack/Сварные_швы/dataset/5 (214).jpg: 576x1024 8 прилегающие дефектыs, 25.0ms\n",
      "Speed: 2.9ms preprocess, 25.0ms inference, 1.4ms postprocess per image at shape (1, 3, 576, 1024)\n"
     ]
    },
    {
     "name": "stderr",
     "output_type": "stream",
     "text": [
      " 97%|█████████████████████████████████████▉ | 1131/1162 [07:29<00:15,  2.03it/s]"
     ]
    },
    {
     "name": "stdout",
     "output_type": "stream",
     "text": [
      "\n",
      "image 1/1 /mnt/SSD/workspace/atomic_hack/Сварные_швы/dataset/7 (249).jpg: 1024x576 11 прилегающие дефектыs, 29.5ms\n",
      "Speed: 3.1ms preprocess, 29.5ms inference, 0.8ms postprocess per image at shape (1, 3, 1024, 576)\n"
     ]
    },
    {
     "name": "stderr",
     "output_type": "stream",
     "text": [
      " 97%|█████████████████████████████████████▉ | 1132/1162 [07:30<00:19,  1.57it/s]"
     ]
    },
    {
     "name": "stdout",
     "output_type": "stream",
     "text": [
      "\n",
      "image 1/1 /mnt/SSD/workspace/atomic_hack/Сварные_швы/dataset/5 (64).jpg: 576x1024 4 прилегающие дефектыs, 32.2ms\n",
      "Speed: 3.1ms preprocess, 32.2ms inference, 1.1ms postprocess per image at shape (1, 3, 576, 1024)\n"
     ]
    },
    {
     "name": "stderr",
     "output_type": "stream",
     "text": [
      " 98%|██████████████████████████████████████ | 1133/1162 [07:30<00:16,  1.80it/s]"
     ]
    },
    {
     "name": "stdout",
     "output_type": "stream",
     "text": [
      "\n",
      "image 1/1 /mnt/SSD/workspace/atomic_hack/Сварные_швы/dataset/6 (83).jpg: 1024x576 2 прилегающие дефектыs, 19.7ms\n",
      "Speed: 3.0ms preprocess, 19.7ms inference, 0.7ms postprocess per image at shape (1, 3, 1024, 576)\n"
     ]
    },
    {
     "name": "stderr",
     "output_type": "stream",
     "text": [
      " 98%|██████████████████████████████████████ | 1134/1162 [07:30<00:13,  2.14it/s]"
     ]
    },
    {
     "name": "stdout",
     "output_type": "stream",
     "text": [
      "\n",
      "image 1/1 /mnt/SSD/workspace/atomic_hack/Сварные_швы/dataset/9 (41).jpg: 1024x576 3 прилегающие дефектыs, 28.4ms\n",
      "Speed: 3.6ms preprocess, 28.4ms inference, 0.8ms postprocess per image at shape (1, 3, 1024, 576)\n"
     ]
    },
    {
     "name": "stderr",
     "output_type": "stream",
     "text": [
      " 98%|██████████████████████████████████████ | 1135/1162 [07:31<00:11,  2.39it/s]"
     ]
    },
    {
     "name": "stdout",
     "output_type": "stream",
     "text": [
      "\n",
      "image 1/1 /mnt/SSD/workspace/atomic_hack/Сварные_швы/dataset/5 (36).jpg: 576x1024 9 прилегающие дефектыs, 32.8ms\n",
      "Speed: 2.8ms preprocess, 32.8ms inference, 0.8ms postprocess per image at shape (1, 3, 576, 1024)\n"
     ]
    },
    {
     "name": "stderr",
     "output_type": "stream",
     "text": [
      " 98%|██████████████████████████████████████▏| 1136/1162 [07:31<00:14,  1.76it/s]"
     ]
    },
    {
     "name": "stdout",
     "output_type": "stream",
     "text": [
      "\n",
      "image 1/1 /mnt/SSD/workspace/atomic_hack/Сварные_швы/dataset/4 (57).jpg: 576x1024 2 прилегающие дефектыs, 22.1ms\n",
      "Speed: 3.2ms preprocess, 22.1ms inference, 0.8ms postprocess per image at shape (1, 3, 576, 1024)\n"
     ]
    },
    {
     "name": "stderr",
     "output_type": "stream",
     "text": [
      " 98%|██████████████████████████████████████▏| 1137/1162 [07:32<00:11,  2.19it/s]"
     ]
    },
    {
     "name": "stdout",
     "output_type": "stream",
     "text": [
      "\n",
      "image 1/1 /mnt/SSD/workspace/atomic_hack/Сварные_швы/dataset/4 (37).jpg: 576x1024 5 прилегающие дефектыs, 21.7ms\n",
      "Speed: 3.0ms preprocess, 21.7ms inference, 0.8ms postprocess per image at shape (1, 3, 576, 1024)\n"
     ]
    },
    {
     "name": "stderr",
     "output_type": "stream",
     "text": [
      " 98%|██████████████████████████████████████▏| 1138/1162 [07:32<00:10,  2.26it/s]"
     ]
    },
    {
     "name": "stdout",
     "output_type": "stream",
     "text": [
      "\n",
      "image 1/1 /mnt/SSD/workspace/atomic_hack/Сварные_швы/dataset/5 (19).jpg: 576x1024 13 прилегающие дефектыs, 21.5ms\n",
      "Speed: 2.9ms preprocess, 21.5ms inference, 0.8ms postprocess per image at shape (1, 3, 576, 1024)\n"
     ]
    },
    {
     "name": "stderr",
     "output_type": "stream",
     "text": [
      " 98%|██████████████████████████████████████▏| 1139/1162 [07:33<00:13,  1.73it/s]"
     ]
    },
    {
     "name": "stdout",
     "output_type": "stream",
     "text": [
      "\n",
      "image 1/1 /mnt/SSD/workspace/atomic_hack/Сварные_швы/dataset/5 (200).jpg: 576x1024 8 прилегающие дефектыs, 21.6ms\n",
      "Speed: 2.8ms preprocess, 21.6ms inference, 0.8ms postprocess per image at shape (1, 3, 576, 1024)\n"
     ]
    },
    {
     "name": "stderr",
     "output_type": "stream",
     "text": [
      " 98%|██████████████████████████████████████▎| 1140/1162 [07:34<00:12,  1.72it/s]"
     ]
    },
    {
     "name": "stdout",
     "output_type": "stream",
     "text": [
      "\n",
      "image 1/1 /mnt/SSD/workspace/atomic_hack/Сварные_швы/dataset/11 (59).jpg: 1024x576 3 прилегающие дефектыs, 20.3ms\n",
      "Speed: 3.1ms preprocess, 20.3ms inference, 0.7ms postprocess per image at shape (1, 3, 1024, 576)\n"
     ]
    },
    {
     "name": "stderr",
     "output_type": "stream",
     "text": [
      " 98%|██████████████████████████████████████▎| 1141/1162 [07:34<00:10,  2.05it/s]"
     ]
    },
    {
     "name": "stdout",
     "output_type": "stream",
     "text": [
      "\n",
      "image 1/1 /mnt/SSD/workspace/atomic_hack/Сварные_швы/dataset/7 (55).jpg: 1024x576 7 прилегающие дефектыs, 20.2ms\n",
      "Speed: 2.8ms preprocess, 20.2ms inference, 0.7ms postprocess per image at shape (1, 3, 1024, 576)\n"
     ]
    },
    {
     "name": "stderr",
     "output_type": "stream",
     "text": [
      " 98%|██████████████████████████████████████▎| 1142/1162 [07:34<00:09,  2.03it/s]"
     ]
    },
    {
     "name": "stdout",
     "output_type": "stream",
     "text": [
      "\n",
      "image 1/1 /mnt/SSD/workspace/atomic_hack/Сварные_швы/dataset/8 (104).jpg: 1024x576 2 прилегающие дефектыs, 19.4ms\n",
      "Speed: 3.0ms preprocess, 19.4ms inference, 0.8ms postprocess per image at shape (1, 3, 1024, 576)\n"
     ]
    },
    {
     "name": "stderr",
     "output_type": "stream",
     "text": [
      " 98%|██████████████████████████████████████▎| 1143/1162 [07:35<00:07,  2.48it/s]"
     ]
    },
    {
     "name": "stdout",
     "output_type": "stream",
     "text": [
      "\n",
      "image 1/1 /mnt/SSD/workspace/atomic_hack/Сварные_швы/dataset/8 (2).jpg: 1024x576 3 прилегающие дефектыs, 21.3ms\n",
      "Speed: 3.0ms preprocess, 21.3ms inference, 0.7ms postprocess per image at shape (1, 3, 1024, 576)\n"
     ]
    },
    {
     "name": "stderr",
     "output_type": "stream",
     "text": [
      " 98%|██████████████████████████████████████▍| 1144/1162 [07:35<00:06,  2.75it/s]"
     ]
    },
    {
     "name": "stdout",
     "output_type": "stream",
     "text": [
      "\n",
      "image 1/1 /mnt/SSD/workspace/atomic_hack/Сварные_швы/dataset/11 (15).jpg: 1024x576 1 прилегающие дефекты, 19.6ms\n",
      "Speed: 3.1ms preprocess, 19.6ms inference, 0.7ms postprocess per image at shape (1, 3, 1024, 576)\n"
     ]
    },
    {
     "name": "stderr",
     "output_type": "stream",
     "text": [
      " 99%|██████████████████████████████████████▍| 1145/1162 [07:35<00:04,  3.41it/s]"
     ]
    },
    {
     "name": "stdout",
     "output_type": "stream",
     "text": [
      "\n",
      "image 1/1 /mnt/SSD/workspace/atomic_hack/Сварные_швы/dataset/5 (41).jpg: 576x1024 1 прилегающие дефекты, 20.1ms\n",
      "Speed: 2.7ms preprocess, 20.1ms inference, 1.0ms postprocess per image at shape (1, 3, 576, 1024)\n"
     ]
    },
    {
     "name": "stderr",
     "output_type": "stream",
     "text": [
      " 99%|██████████████████████████████████████▍| 1146/1162 [07:35<00:03,  4.03it/s]"
     ]
    },
    {
     "name": "stdout",
     "output_type": "stream",
     "text": [
      "\n",
      "image 1/1 /mnt/SSD/workspace/atomic_hack/Сварные_швы/dataset/8 (83).jpg: 1024x576 6 прилегающие дефектыs, 20.2ms\n",
      "Speed: 3.0ms preprocess, 20.2ms inference, 0.8ms postprocess per image at shape (1, 3, 1024, 576)\n"
     ]
    },
    {
     "name": "stderr",
     "output_type": "stream",
     "text": [
      " 99%|██████████████████████████████████████▍| 1147/1162 [07:36<00:04,  3.24it/s]"
     ]
    },
    {
     "name": "stdout",
     "output_type": "stream",
     "text": [
      "\n",
      "image 1/1 /mnt/SSD/workspace/atomic_hack/Сварные_швы/dataset/9 (65).jpg: 1024x576 3 прилегающие дефектыs, 19.5ms\n",
      "Speed: 3.0ms preprocess, 19.5ms inference, 0.8ms postprocess per image at shape (1, 3, 1024, 576)\n"
     ]
    },
    {
     "name": "stderr",
     "output_type": "stream",
     "text": [
      " 99%|██████████████████████████████████████▌| 1148/1162 [07:36<00:04,  3.41it/s]"
     ]
    },
    {
     "name": "stdout",
     "output_type": "stream",
     "text": [
      "\n",
      "image 1/1 /mnt/SSD/workspace/atomic_hack/Сварные_швы/dataset/11 (66).jpg: 1024x576 2 прилегающие дефектыs, 20.1ms\n",
      "Speed: 3.5ms preprocess, 20.1ms inference, 0.8ms postprocess per image at shape (1, 3, 1024, 576)\n"
     ]
    },
    {
     "name": "stderr",
     "output_type": "stream",
     "text": [
      " 99%|██████████████████████████████████████▌| 1149/1162 [07:36<00:03,  3.79it/s]"
     ]
    },
    {
     "name": "stdout",
     "output_type": "stream",
     "text": [
      "\n",
      "image 1/1 /mnt/SSD/workspace/atomic_hack/Сварные_швы/dataset/7 (12).jpg: 1024x576 16 прилегающие дефектыs, 20.5ms\n",
      "Speed: 3.0ms preprocess, 20.5ms inference, 0.8ms postprocess per image at shape (1, 3, 1024, 576)\n"
     ]
    },
    {
     "name": "stderr",
     "output_type": "stream",
     "text": [
      " 99%|██████████████████████████████████████▌| 1150/1162 [07:37<00:06,  1.98it/s]"
     ]
    },
    {
     "name": "stdout",
     "output_type": "stream",
     "text": [
      "\n",
      "image 1/1 /mnt/SSD/workspace/atomic_hack/Сварные_швы/dataset/9 (17).jpg: 1024x576 6 прилегающие дефектыs, 20.6ms\n",
      "Speed: 3.1ms preprocess, 20.6ms inference, 0.8ms postprocess per image at shape (1, 3, 1024, 576)\n"
     ]
    },
    {
     "name": "stderr",
     "output_type": "stream",
     "text": [
      " 99%|██████████████████████████████████████▋| 1151/1162 [07:38<00:05,  1.99it/s]"
     ]
    },
    {
     "name": "stdout",
     "output_type": "stream",
     "text": [
      "\n",
      "image 1/1 /mnt/SSD/workspace/atomic_hack/Сварные_швы/dataset/8 (24).jpg: 1024x576 1 прилегающие дефекты, 22.4ms\n",
      "Speed: 3.0ms preprocess, 22.4ms inference, 0.8ms postprocess per image at shape (1, 3, 1024, 576)\n"
     ]
    },
    {
     "name": "stderr",
     "output_type": "stream",
     "text": [
      " 99%|██████████████████████████████████████▋| 1152/1162 [07:38<00:03,  2.55it/s]"
     ]
    },
    {
     "name": "stdout",
     "output_type": "stream",
     "text": [
      "\n",
      "image 1/1 /mnt/SSD/workspace/atomic_hack/Сварные_швы/dataset/8 (76).jpg: 1024x576 5 прилегающие дефектыs, 20.3ms\n",
      "Speed: 3.0ms preprocess, 20.3ms inference, 0.8ms postprocess per image at shape (1, 3, 1024, 576)\n"
     ]
    },
    {
     "name": "stderr",
     "output_type": "stream",
     "text": [
      " 99%|██████████████████████████████████████▋| 1153/1162 [07:38<00:03,  2.57it/s]"
     ]
    },
    {
     "name": "stdout",
     "output_type": "stream",
     "text": [
      "\n",
      "image 1/1 /mnt/SSD/workspace/atomic_hack/Сварные_швы/dataset/12 (2).jpg: 1024x576 1 прилегающие дефекты, 21.1ms\n",
      "Speed: 3.0ms preprocess, 21.1ms inference, 0.8ms postprocess per image at shape (1, 3, 1024, 576)\n"
     ]
    },
    {
     "name": "stderr",
     "output_type": "stream",
     "text": [
      " 99%|██████████████████████████████████████▋| 1154/1162 [07:38<00:02,  3.18it/s]"
     ]
    },
    {
     "name": "stdout",
     "output_type": "stream",
     "text": [
      "\n",
      "image 1/1 /mnt/SSD/workspace/atomic_hack/Сварные_швы/dataset/7 (233).jpg: 1024x576 8 прилегающие дефектыs, 20.7ms\n",
      "Speed: 3.0ms preprocess, 20.7ms inference, 0.8ms postprocess per image at shape (1, 3, 1024, 576)\n"
     ]
    },
    {
     "name": "stderr",
     "output_type": "stream",
     "text": [
      " 99%|██████████████████████████████████████▊| 1155/1162 [07:39<00:02,  2.56it/s]"
     ]
    },
    {
     "name": "stdout",
     "output_type": "stream",
     "text": [
      "\n",
      "image 1/1 /mnt/SSD/workspace/atomic_hack/Сварные_швы/dataset/7 (186).jpg: 1024x576 4 прилегающие дефектыs, 20.6ms\n",
      "Speed: 3.2ms preprocess, 20.6ms inference, 0.8ms postprocess per image at shape (1, 3, 1024, 576)\n"
     ]
    },
    {
     "name": "stderr",
     "output_type": "stream",
     "text": [
      " 99%|██████████████████████████████████████▊| 1156/1162 [07:39<00:02,  2.65it/s]"
     ]
    },
    {
     "name": "stdout",
     "output_type": "stream",
     "text": [
      "\n",
      "image 1/1 /mnt/SSD/workspace/atomic_hack/Сварные_швы/dataset/7 (237).jpg: 1024x576 13 прилегающие дефектыs, 19.3ms\n",
      "Speed: 2.9ms preprocess, 19.3ms inference, 0.8ms postprocess per image at shape (1, 3, 1024, 576)\n"
     ]
    },
    {
     "name": "stderr",
     "output_type": "stream",
     "text": [
      "100%|██████████████████████████████████████▊| 1157/1162 [07:40<00:02,  1.90it/s]"
     ]
    },
    {
     "name": "stdout",
     "output_type": "stream",
     "text": [
      "\n",
      "image 1/1 /mnt/SSD/workspace/atomic_hack/Сварные_швы/dataset/5 (217).jpg: 576x1024 7 прилегающие дефектыs, 21.4ms\n",
      "Speed: 2.7ms preprocess, 21.4ms inference, 0.7ms postprocess per image at shape (1, 3, 576, 1024)\n"
     ]
    },
    {
     "name": "stderr",
     "output_type": "stream",
     "text": [
      "100%|██████████████████████████████████████▊| 1158/1162 [07:40<00:02,  1.93it/s]"
     ]
    },
    {
     "name": "stdout",
     "output_type": "stream",
     "text": [
      "\n",
      "image 1/1 /mnt/SSD/workspace/atomic_hack/Сварные_швы/dataset/4 (119).jpg: 576x1024 6 прилегающие дефектыs, 21.8ms\n",
      "Speed: 2.8ms preprocess, 21.8ms inference, 0.8ms postprocess per image at shape (1, 3, 576, 1024)\n"
     ]
    },
    {
     "name": "stderr",
     "output_type": "stream",
     "text": [
      "100%|██████████████████████████████████████▉| 1159/1162 [07:41<00:01,  1.99it/s]"
     ]
    },
    {
     "name": "stdout",
     "output_type": "stream",
     "text": [
      "\n",
      "image 1/1 /mnt/SSD/workspace/atomic_hack/Сварные_швы/dataset/8 (33).jpg: 1024x576 2 прилегающие дефектыs, 21.7ms\n",
      "Speed: 16.9ms preprocess, 21.7ms inference, 0.8ms postprocess per image at shape (1, 3, 1024, 576)\n"
     ]
    },
    {
     "name": "stderr",
     "output_type": "stream",
     "text": [
      "100%|██████████████████████████████████████▉| 1160/1162 [07:41<00:00,  2.36it/s]"
     ]
    },
    {
     "name": "stdout",
     "output_type": "stream",
     "text": [
      "\n",
      "image 1/1 /mnt/SSD/workspace/atomic_hack/Сварные_швы/dataset/3 (4).jpg: 576x1024 6 прилегающие дефектыs, 21.4ms\n",
      "Speed: 2.9ms preprocess, 21.4ms inference, 1.1ms postprocess per image at shape (1, 3, 576, 1024)\n"
     ]
    },
    {
     "name": "stderr",
     "output_type": "stream",
     "text": [
      "100%|██████████████████████████████████████▉| 1161/1162 [07:42<00:00,  2.20it/s]"
     ]
    },
    {
     "name": "stdout",
     "output_type": "stream",
     "text": [
      "\n",
      "image 1/1 /mnt/SSD/workspace/atomic_hack/Сварные_швы/dataset/6 (56).jpg: 1024x576 3 прилегающие дефектыs, 20.2ms\n",
      "Speed: 2.9ms preprocess, 20.2ms inference, 0.8ms postprocess per image at shape (1, 3, 1024, 576)\n"
     ]
    },
    {
     "name": "stderr",
     "output_type": "stream",
     "text": [
      "100%|███████████████████████████████████████| 1162/1162 [07:42<00:00,  2.51it/s]\n"
     ]
    }
   ],
   "source": [
    "dataset_files = glob.glob('/mnt/SSD/workspace/atomic_hack/Сварные_швы/dataset/*jpg')\n",
    "\n",
    "ans = {}\n",
    "idx = 0\n",
    "for fname in tqdm(dataset_files):\n",
    "    pred_bboxes = yolo_model(fname, conf=0.05, iou=0.3, augment=True)\n",
    "    img = pred_bboxes[0].orig_img\n",
    "    img = cv2.cvtColor(img, cv2.COLOR_BGR2RGB)\n",
    "    h, w, _ = img.shape\n",
    "\n",
    "    imgs = []\n",
    "    for bbox in pred_bboxes[0].boxes.xyxy:\n",
    "        x1, y1, x2, y2 = bbox.cpu().tolist()\n",
    "        x1_ = int(x1 // 1.2)\n",
    "        y1_ = int(y1 // 1.2)\n",
    "        x2_ = int(x2 * 1.2)\n",
    "        y2_ = int(y2 * 1.2)       \n",
    "        crop = img[y1_:y2_, x1_:x2_, :]\n",
    "        crop = augs(image=crop)['image']\n",
    "        crop = torch.from_numpy(crop).permute(2, 0, 1)\n",
    "        imgs.append(crop)\n",
    "    if not imgs:\n",
    "        continue\n",
    "    batch = torch.stack(imgs)\n",
    "    \n",
    "    with torch.no_grad():\n",
    "        preds = model(batch.to(device))[0]\n",
    "        preds = preds.cpu().detach().numpy().argmax(1)\n",
    "\n",
    "    for i, bbox in enumerate(pred_bboxes[0].boxes.xywh):\n",
    "        rel_x, rel_y, w_bbox, h_bbox = bbox.cpu().tolist()\n",
    "        ans[idx] = {\n",
    "            'filename': os.path.basename(fname),\n",
    "            'rel_x': rel_x / w,\n",
    "            'rel_y': rel_y / h,\n",
    "            'width': w_bbox / w,\n",
    "            'height': h_bbox / h,\n",
    "            'class_id': preds[i],\n",
    "            \n",
    "        }\n",
    "        idx += 1\n",
    "\n",
    "submission = pd.DataFrame(ans).T"
   ]
  },
  {
   "cell_type": "code",
   "execution_count": 22,
   "id": "dab96b46-c17c-42d8-994a-3f4da26233c7",
   "metadata": {},
   "outputs": [],
   "source": [
    "submission.to_csv('submission.csv', index=False, sep=';')"
   ]
  },
  {
   "cell_type": "code",
   "execution_count": null,
   "id": "d1a5dc1b-878b-48e0-81ad-34b8ee6fcf4c",
   "metadata": {},
   "outputs": [],
   "source": []
  },
  {
   "cell_type": "code",
   "execution_count": 26,
   "id": "f1b7aac9-5ad8-46ba-89c4-17a72caa1a3a",
   "metadata": {},
   "outputs": [
    {
     "data": {
      "text/html": [
       "<div>\n",
       "<style scoped>\n",
       "    .dataframe tbody tr th:only-of-type {\n",
       "        vertical-align: middle;\n",
       "    }\n",
       "\n",
       "    .dataframe tbody tr th {\n",
       "        vertical-align: top;\n",
       "    }\n",
       "\n",
       "    .dataframe thead th {\n",
       "        text-align: right;\n",
       "    }\n",
       "</style>\n",
       "<table border=\"1\" class=\"dataframe\">\n",
       "  <thead>\n",
       "    <tr style=\"text-align: right;\">\n",
       "      <th></th>\n",
       "      <th>filename</th>\n",
       "      <th>rel_x</th>\n",
       "      <th>rel_y</th>\n",
       "      <th>width</th>\n",
       "      <th>height</th>\n",
       "      <th>class_id</th>\n",
       "    </tr>\n",
       "  </thead>\n",
       "  <tbody>\n",
       "    <tr>\n",
       "      <th>0</th>\n",
       "      <td>8 (63).jpg</td>\n",
       "      <td>0.525726</td>\n",
       "      <td>0.086109</td>\n",
       "      <td>0.211131</td>\n",
       "      <td>0.048237</td>\n",
       "      <td>2</td>\n",
       "    </tr>\n",
       "    <tr>\n",
       "      <th>1</th>\n",
       "      <td>8 (63).jpg</td>\n",
       "      <td>0.517117</td>\n",
       "      <td>0.676178</td>\n",
       "      <td>0.228122</td>\n",
       "      <td>0.107311</td>\n",
       "      <td>2</td>\n",
       "    </tr>\n",
       "    <tr>\n",
       "      <th>2</th>\n",
       "      <td>11 (79).jpg</td>\n",
       "      <td>0.463687</td>\n",
       "      <td>0.519255</td>\n",
       "      <td>0.177185</td>\n",
       "      <td>0.10945</td>\n",
       "      <td>2</td>\n",
       "    </tr>\n",
       "    <tr>\n",
       "      <th>3</th>\n",
       "      <td>6 (94).jpg</td>\n",
       "      <td>0.585802</td>\n",
       "      <td>0.227488</td>\n",
       "      <td>0.176822</td>\n",
       "      <td>0.075776</td>\n",
       "      <td>2</td>\n",
       "    </tr>\n",
       "    <tr>\n",
       "      <th>4</th>\n",
       "      <td>6 (94).jpg</td>\n",
       "      <td>0.468838</td>\n",
       "      <td>0.154408</td>\n",
       "      <td>0.113924</td>\n",
       "      <td>0.073892</td>\n",
       "      <td>2</td>\n",
       "    </tr>\n",
       "    <tr>\n",
       "      <th>...</th>\n",
       "      <td>...</td>\n",
       "      <td>...</td>\n",
       "      <td>...</td>\n",
       "      <td>...</td>\n",
       "      <td>...</td>\n",
       "      <td>...</td>\n",
       "    </tr>\n",
       "    <tr>\n",
       "      <th>5528</th>\n",
       "      <td>3 (4).jpg</td>\n",
       "      <td>0.472925</td>\n",
       "      <td>0.309481</td>\n",
       "      <td>0.176745</td>\n",
       "      <td>0.081906</td>\n",
       "      <td>4</td>\n",
       "    </tr>\n",
       "    <tr>\n",
       "      <th>5529</th>\n",
       "      <td>3 (4).jpg</td>\n",
       "      <td>0.993062</td>\n",
       "      <td>0.408936</td>\n",
       "      <td>0.013579</td>\n",
       "      <td>0.014656</td>\n",
       "      <td>3</td>\n",
       "    </tr>\n",
       "    <tr>\n",
       "      <th>5530</th>\n",
       "      <td>6 (56).jpg</td>\n",
       "      <td>0.583741</td>\n",
       "      <td>0.431398</td>\n",
       "      <td>0.189504</td>\n",
       "      <td>0.099235</td>\n",
       "      <td>2</td>\n",
       "    </tr>\n",
       "    <tr>\n",
       "      <th>5531</th>\n",
       "      <td>6 (56).jpg</td>\n",
       "      <td>0.445956</td>\n",
       "      <td>0.311311</td>\n",
       "      <td>0.153881</td>\n",
       "      <td>0.123304</td>\n",
       "      <td>2</td>\n",
       "    </tr>\n",
       "    <tr>\n",
       "      <th>5532</th>\n",
       "      <td>6 (56).jpg</td>\n",
       "      <td>0.57911</td>\n",
       "      <td>0.085341</td>\n",
       "      <td>0.214678</td>\n",
       "      <td>0.11058</td>\n",
       "      <td>2</td>\n",
       "    </tr>\n",
       "  </tbody>\n",
       "</table>\n",
       "<p>5533 rows × 6 columns</p>\n",
       "</div>"
      ],
      "text/plain": [
       "         filename     rel_x     rel_y     width    height class_id\n",
       "0      8 (63).jpg  0.525726  0.086109  0.211131  0.048237        2\n",
       "1      8 (63).jpg  0.517117  0.676178  0.228122  0.107311        2\n",
       "2     11 (79).jpg  0.463687  0.519255  0.177185   0.10945        2\n",
       "3      6 (94).jpg  0.585802  0.227488  0.176822  0.075776        2\n",
       "4      6 (94).jpg  0.468838  0.154408  0.113924  0.073892        2\n",
       "...           ...       ...       ...       ...       ...      ...\n",
       "5528    3 (4).jpg  0.472925  0.309481  0.176745  0.081906        4\n",
       "5529    3 (4).jpg  0.993062  0.408936  0.013579  0.014656        3\n",
       "5530   6 (56).jpg  0.583741  0.431398  0.189504  0.099235        2\n",
       "5531   6 (56).jpg  0.445956  0.311311  0.153881  0.123304        2\n",
       "5532   6 (56).jpg   0.57911  0.085341  0.214678   0.11058        2\n",
       "\n",
       "[5533 rows x 6 columns]"
      ]
     },
     "execution_count": 26,
     "metadata": {},
     "output_type": "execute_result"
    }
   ],
   "source": [
    "submission"
   ]
  },
  {
   "cell_type": "code",
   "execution_count": null,
   "id": "d0456623-9aea-4f7c-8335-818d88175560",
   "metadata": {},
   "outputs": [],
   "source": []
  },
  {
   "cell_type": "code",
   "execution_count": null,
   "id": "2c027fbe-c5de-472e-9e1d-7b2570d1b7c8",
   "metadata": {},
   "outputs": [],
   "source": []
  },
  {
   "cell_type": "code",
   "execution_count": null,
   "id": "de11c557-26dd-4bdd-82b7-d43c79e307b6",
   "metadata": {},
   "outputs": [],
   "source": []
  },
  {
   "cell_type": "code",
   "execution_count": null,
   "id": "6cd1014e-b090-496a-a417-0374af5beccb",
   "metadata": {},
   "outputs": [],
   "source": []
  }
 ],
 "metadata": {
  "kernelspec": {
   "display_name": "Python 3 (ipykernel)",
   "language": "python",
   "name": "python3"
  },
  "language_info": {
   "codemirror_mode": {
    "name": "ipython",
    "version": 3
   },
   "file_extension": ".py",
   "mimetype": "text/x-python",
   "name": "python",
   "nbconvert_exporter": "python",
   "pygments_lexer": "ipython3",
   "version": "3.12.3"
  }
 },
 "nbformat": 4,
 "nbformat_minor": 5
}
